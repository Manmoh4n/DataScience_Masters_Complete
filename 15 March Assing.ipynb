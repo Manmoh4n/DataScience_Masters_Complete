{
 "cells": [
  {
   "cell_type": "markdown",
   "id": "fa70269b-06d3-4ceb-b50b-cf8a840d6c3a",
   "metadata": {},
   "source": [
    "# Q1. Explain the following example :\n",
    "# Artificial Intelligence\n",
    "# Machine Learning\n",
    "# Deep Learning"
   ]
  },
  {
   "cell_type": "markdown",
   "id": "62511283-6178-471b-8199-df81aef56e0a",
   "metadata": {},
   "source": [
    "- Artificial Intelligence\n",
    "\n",
    "It is a branch of computer science by which we can create intelligent machines which can behave like a human, think like humans, and able to make decisions.\" Artificial Intelligence exists when a machine can have human based skills such as learning, reasoning, and solving problems."
   ]
  },
  {
   "cell_type": "markdown",
   "id": "808a8667-53a4-47e6-9aa0-3450b3718f67",
   "metadata": {},
   "source": [
    "- Machine Learning\n",
    "\n",
    "Machine learning is a branch of artificial intelligence (AI) and computer science which focuses on the use of data and algorithms to imitate the way that humans learn, gradually improving its accuracy."
   ]
  },
  {
   "cell_type": "markdown",
   "id": "747f9172-f53c-4d2a-8507-377e17e279b1",
   "metadata": {},
   "source": [
    "- Deep Learning\n",
    "\n",
    "Deep learning is a method in artificial intelligence (AI) that teaches computers to process data in a way that is inspired by the human brain. Deep learning models can recognize complex patterns in pictures, text, sounds, and other data to produce accurate insights and predictions."
   ]
  },
  {
   "cell_type": "markdown",
   "id": "0bc0bdac-749d-4464-875e-64f7e7d45c91",
   "metadata": {},
   "source": [
    "# Q2. what is supervised learning and its example ?"
   ]
  },
  {
   "cell_type": "markdown",
   "id": "37361ae8-34e2-497e-8e2c-4345c9a225c3",
   "metadata": {},
   "source": [
    "- Supervised learning algorithms are trained using labeled data.\n",
    "\n",
    "- Supervised learning model takes direct feedback to check if it is predicting correct output or not.\n",
    "\n",
    "- Supervised learning model predicts the output.\n",
    "\n",
    "- In supervised learning, input data is provided to the model along with the output.\n",
    "\n",
    "- The goal of supervised learning is to train the model so that it can predict the output when it is given new data.\n",
    "\n",
    "- Supervised learning needs supervision to train the model.\n",
    "\n",
    "- Supervised learning can be categorized in Classification and Regression problems.\n",
    "\n",
    "classification algorithm helps to predict a discrete value.\n",
    "\n",
    "Classification problems are : Naive Bayes Classifier, Support Vector Machines, Logistic Regression\n",
    "\n",
    "These problems are used for continuous data.\n",
    "\n",
    " Regression problems are : Linear Regression, Nonlinear Regression, Bayesian Linear Regression\n",
    "\n",
    "- Supervised learning can be used for those cases where we know the input as well as corresponding outputs.\n",
    "\n",
    "- Supervised learning model produces an accurate result.\n",
    "\n",
    "- Supervised learning is not close to true Artificial intelligence as in this, we first train the model for each data, and then only it can predict the correct output.\n",
    "\n",
    "- It includes various algorithms such as Linear Regression, Logistic Regression, Support Vector Machine, Multi-class Classification, Decision tree, Bayesian Logic, etc. "
   ]
  },
  {
   "cell_type": "markdown",
   "id": "55345783-3a7a-4cb2-abb2-f1c0abddee41",
   "metadata": {},
   "source": [
    " # Q3. what is Unsupervised learning and its example"
   ]
  },
  {
   "cell_type": "markdown",
   "id": "abcda1b0-b3c4-4a6a-a6d2-18afaeec3e99",
   "metadata": {},
   "source": [
    "- Unsupervised learning algorithms are trained using unlabeled data.\n",
    "\n",
    "- Unsupervised learning is self-organized learning\n",
    "\n",
    "- Unsupervised learning model does not take any feedback.\n",
    "\n",
    "- Unsupervised learning model finds the hidden patterns in data.\n",
    "\n",
    "- In unsupervised learning, only input data is provided to the model.\n",
    "\n",
    "- The goal of unsupervised learning is to find the hidden patterns and useful insights from the unknown dataset.\n",
    "\n",
    "- Unsupervised learning does not need any supervision to train the model.\n",
    "\n",
    "- Unsupervised Learning can be classified in Clustering and Associations problems.\n",
    "\n",
    "- Unsupervised learning can be used for those cases where we have only input data and no corresponding output data.\n",
    "\n",
    "- Unsupervised learning model may give less accurate result as compared to supervised learning.\n",
    "\n",
    "- Unsupervised learning is more close to the true Artificial Intelligence as it learns similarly as a child learns daily routine things by his experiences.\n",
    "\n",
    "- It includes various algorithms such as Clustering, KNN, and Apriori algorithm , K – Means clustering, Neural Networks ,Principal Component Analysis"
   ]
  },
  {
   "cell_type": "markdown",
   "id": "00b9b2ed-df3d-4802-ae6f-e745034611ce",
   "metadata": {},
   "source": [
    "# Q4 What is the diffrence between AI, ML, DL, and DS?"
   ]
  },
  {
   "cell_type": "markdown",
   "id": "e93e441d-5a9f-4eae-958f-fd72b5e50ce3",
   "metadata": {},
   "source": [
    " AI : Developing machines to mimic human intelligence and behaviour.\n",
    " \n",
    " ML : Algorithms that learn from structured data to predict outputs and discover patterns in that data.\n",
    " \n",
    " DL : Algorithms based on highly complex neural networks that mimic the way a human brain works to detect patterns in large unstructured data sets.\n",
    " \n",
    " \n",
    " \n",
    " \n",
    "Machine Learning is a sub-category of AI, and Deep Learning is a sub-category of ML, meaning they are both forms of AI.\n",
    "\n",
    "Artificial intelligence is the broad idea that machines can intelligently execute tasks by mimicking human behaviours and thought processes.\n",
    "    \n"
   ]
  },
  {
   "cell_type": "markdown",
   "id": "54ca9623-c6b9-432b-bfe9-a71da98c9f8a",
   "metadata": {},
   "source": [
    "# Q5. What are the main diffrence between supervised, unsupervised, and semi-supervised learning ?"
   ]
  },
  {
   "cell_type": "markdown",
   "id": "50377e4d-acbc-4cb6-9a28-bd35cab1d0fb",
   "metadata": {},
   "source": [
    "## Supervised Learning\n",
    "\n",
    "- Supervised learning algorithms are trained using labeled data.\n",
    "\n",
    "- Supervised learning model takes direct feedback to check if it is predicting correct output or not.\n",
    "\n",
    "- Supervised learning model predicts the output.\n",
    "\n",
    "- In supervised learning, input data is provided to the model along with the output.\n",
    "\n",
    "- The goal of supervised learning is to train the model so that it can predict the output when it is given new data.\n",
    "\n",
    "- Supervised learning needs supervision to train the model.\n",
    "\n",
    "- Supervised learning can be categorized in Classification and Regression problems.\n",
    "\n",
    "classification algorithm helps to predict a discrete value.\n",
    "\n",
    "Classification problems are : Naive Bayes Classifier, Support Vector Machines, Logistic Regression\n",
    "\n",
    "These problems are used for continuous data.\n",
    "\n",
    " Regression problems are : Linear Regression, Nonlinear Regression, Bayesian Linear Regression\n",
    "\n",
    "- Supervised learning can be used for those cases where we know the input as well as corresponding outputs.\n",
    "\n",
    "- Supervised learning model produces an accurate result.\n",
    "\n",
    "- Supervised learning is not close to true Artificial intelligence as in this, we first train the model for each data, and then only it can predict the correct output.\n",
    "\n",
    "- It includes various algorithms such as Linear Regression, Logistic Regression, Support Vector Machine, Multi-class Classification, Decision tree, Bayesian Logic, etc. "
   ]
  },
  {
   "cell_type": "markdown",
   "id": "ac288cf9-9c9f-4912-907c-f75ef8e4baee",
   "metadata": {},
   "source": [
    "## Unsupervised Learning\n",
    "\n",
    "- Unsupervised learning algorithms are trained using unlabeled data.\n",
    "\n",
    "- Unsupervised learning is self-organized learning\n",
    "\n",
    "- Unsupervised learning model does not take any feedback.\n",
    "\n",
    "- Unsupervised learning model finds the hidden patterns in data.\n",
    "\n",
    "- In unsupervised learning, only input data is provided to the model.\n",
    "\n",
    "- The goal of unsupervised learning is to find the hidden patterns and useful insights from the unknown dataset.\n",
    "\n",
    "- Unsupervised learning does not need any supervision to train the model.\n",
    "\n",
    "- Unsupervised Learning can be classified in Clustering and Associations problems.\n",
    "\n",
    "- Unsupervised learning can be used for those cases where we have only input data and no corresponding output data.\n",
    "\n",
    "- Unsupervised learning model may give less accurate result as compared to supervised learning.\n",
    "\n",
    "- Unsupervised learning is more close to the true Artificial Intelligence as it learns similarly as a child learns daily routine things by his experiences.\n",
    "\n",
    "- It includes various algorithms such as Clustering, KNN, and Apriori algorithm , K – Means clustering, Neural Networks ,Principal Component Analysis"
   ]
  },
  {
   "cell_type": "markdown",
   "id": "e01961ce-188b-4168-94bf-896212ac03ad",
   "metadata": {},
   "source": [
    "## Semi-Supervised Learning\n",
    "\n",
    "Semi-supervised machine learning is a combination of supervised and unsupervised learning. It uses a small amount of labeled data and a large amount of unlabeled data, which provides the benefits of both unsupervised and supervised learning while avoiding the challenges of finding a large amount of labeled data."
   ]
  },
  {
   "cell_type": "markdown",
   "id": "5c01b4e7-815f-4bed-919d-19f574539ac0",
   "metadata": {},
   "source": [
    "# Q6- What is train, test and validation split? Explain the importance of each  term."
   ]
  },
  {
   "cell_type": "markdown",
   "id": "0c015df2-583c-4fa2-af84-e7403e5b601e",
   "metadata": {},
   "source": [
    "A train test split is when you split your data into a training set and a testing set. The training set is used for training the model, and the testing set is used to test your model. This allows you to train your models on the training set, and then test their accuracy on the unseen testing set.\n",
    "\n",
    "Split Validation is a way to predict the fit of a model to a hypothetical testing set when an explicit testing set is not available. The Split Validation operator also allows training on one data set and testing on another explicit testing data set.\n"
   ]
  },
  {
   "cell_type": "markdown",
   "id": "4751b1a1-0655-465b-b474-1954505f8f08",
   "metadata": {},
   "source": [
    "# Q7- How can unsupervised learning be used in anomaly detection?"
   ]
  },
  {
   "cell_type": "markdown",
   "id": "fe8e40dd-718e-4548-85ca-bb0db012892a",
   "metadata": {},
   "source": [
    "The objective of Unsupervised Anomaly Detection is to detect previously unseen rare objects or events without any prior knowledge about these. The only information available is that the percentage of anomalies in the dataset is small, usually less than 1%."
   ]
  },
  {
   "cell_type": "markdown",
   "id": "43ab9384-3ba5-4f01-982d-3cf320d0ad47",
   "metadata": {},
   "source": [
    "#  Q8- List down some commonly used supervised learning algorithms and unsupervised learning algorithms."
   ]
  },
  {
   "cell_type": "markdown",
   "id": "28473880-56c2-4b30-aa11-2c4189f95754",
   "metadata": {},
   "source": [
    "The most commonly used Supervised Learning algorithms are decision tree, logistic regression, linear regression, support vector machine.\n",
    "\n",
    "The most commonly used Unsupervised Learning algorithms are k-means clustering, hierarchical clustering, and apriori algorithm"
   ]
  }
 ],
 "metadata": {
  "kernelspec": {
   "display_name": "Python 3 (ipykernel)",
   "language": "python",
   "name": "python3"
  },
  "language_info": {
   "codemirror_mode": {
    "name": "ipython",
    "version": 3
   },
   "file_extension": ".py",
   "mimetype": "text/x-python",
   "name": "python",
   "nbconvert_exporter": "python",
   "pygments_lexer": "ipython3",
   "version": "3.10.8"
  }
 },
 "nbformat": 4,
 "nbformat_minor": 5
}
