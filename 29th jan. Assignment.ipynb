{
 "cells": [
  {
   "cell_type": "markdown",
   "id": "6c2045b4-d69b-4a5b-9233-0e8b1f5c8fcd",
   "metadata": {},
   "source": [
    "1. Who developed Python Programming Langauge ?\n",
    "\n",
    ">> Python Programming Langauge developed by Guido van Rossum"
   ]
  },
  {
   "cell_type": "markdown",
   "id": "bdb5e1d3-05c5-4088-be22-3193049c07fd",
   "metadata": {},
   "source": [
    "2. Which type of Programming does Python support ?\n",
    "\n",
    ">> Python support object-oriented, structured, and functional programming."
   ]
  },
  {
   "cell_type": "markdown",
   "id": "7e2a7de8-449d-497d-88ad-caa8875b2ae4",
   "metadata": {},
   "source": [
    "3. Is Python case sensitive when dealing with identifiers ?\n",
    "\n",
    ">> Yes, Python language is case-sensitive. In which Identifiers, keywords, and names of classes must be written in lowercase letters. However, Python allows developers to write in uppercase letters for constants and for built-in functions, and for class and module names, etc."
   ]
  },
  {
   "cell_type": "markdown",
   "id": "d4ead28b-53ec-4c2a-b1af-0e8bfaae7655",
   "metadata": {},
   "source": [
    "4. What is the correct extension of the Python file?\n",
    "\n",
    ">> '.py' is the correct extension of the Python file."
   ]
  },
  {
   "cell_type": "markdown",
   "id": "43d5320c-45af-41ad-bb0e-6c20073cd3e9",
   "metadata": {},
   "source": [
    "5. Is Python code compiled or interpreted ?\n",
    "\n",
    ">> Python is an interpreted programming language."
   ]
  },
  {
   "cell_type": "markdown",
   "id": "14bef498-0db5-481a-a764-8c30dc45c7f6",
   "metadata": {},
   "source": [
    "6. Name a few blocks of code used to define in Python language?\n",
    "\n",
    ">> Indentation is used to define a block of code in python langauge."
   ]
  },
  {
   "cell_type": "markdown",
   "id": "732b51b3-5cfd-4609-913e-e318473b27cf",
   "metadata": {},
   "source": [
    "7. State a character used to give single-line comments in Python?\n",
    "\n",
    ">> The \"#\" tag is used to give single-line comments in Python."
   ]
  },
  {
   "cell_type": "markdown",
   "id": "914bf07e-c994-4630-8962-5e0ddca9fb16",
   "metadata": {},
   "source": [
    "8. Mention functions which can help us to find the version of python that we are currently working on?\n",
    "\n",
    ">> The function sys. version can help us to find the version of python that we are currently working on."
   ]
  },
  {
   "cell_type": "markdown",
   "id": "e18ce38e-fad5-4667-99f7-0354a17e02c0",
   "metadata": {},
   "source": [
    "9. Python supports the creation of anonymous functions at runtime, using a construct called ?\n",
    "\n",
    ">> Python supports the creation of anonymous functions at runtime, using a construct called lambda."
   ]
  },
  {
   "cell_type": "markdown",
   "id": "cc4410e0-a152-4ab8-b065-4bfd544ae2e2",
   "metadata": {},
   "source": [
    "10. What does pip stand for python?\n",
    "\n",
    ">> pip stands for preferred installer program."
   ]
  },
  {
   "cell_type": "markdown",
   "id": "83f69cc7-d8cc-4c0b-bb71-470608adf5fb",
   "metadata": {},
   "source": [
    "11. Mention a few built-in functions in python?\n",
    "\n",
    ">> print(),type(),append(),extend(),pop(),push(),etc."
   ]
  },
  {
   "cell_type": "markdown",
   "id": "96b678be-4b96-4c42-a5e7-21b9c4c1c50a",
   "metadata": {},
   "source": [
    "12. What is the maximum possible length of an identifier in Python?\n",
    "\n",
    ">> 79 Characters is Maximum possible length of identifier in Python."
   ]
  },
  {
   "cell_type": "markdown",
   "id": "576e28e9-a289-4a4e-bfd4-287c03eda3dc",
   "metadata": {},
   "source": [
    "13. What are the benefits of using Python?\n",
    "\n",
    ">> Easy to learn ,Large developer community,Extensive libraries,  Portability and many more."
   ]
  },
  {
   "cell_type": "markdown",
   "id": "4be8a80d-a96c-41a8-a231-87a75ab9859a",
   "metadata": {},
   "source": [
    "14. How is memory managed in Python?\n",
    "\n",
    ">> Memory in Python is managed by Python private heap space. All Python objects and data structures are located in a private heap.Python uses a portion of the memory for internal use and non-object memory."
   ]
  },
  {
   "cell_type": "markdown",
   "id": "6dc15385-cc8e-42b1-8911-3e8482e6ec6f",
   "metadata": {},
   "source": [
    "15. How to install Python on Windows and set path variables?\n",
    "\n",
    ">> There are several ways to install Python: 1.Download directly from Python.org 2.download from MSstore 3.download from cmd Yes indentation is Important in python specially in loop functions."
   ]
  },
  {
   "cell_type": "markdown",
   "id": "bdd6b16d-5572-4e63-b439-d0a5d83dc851",
   "metadata": {},
   "source": [
    "16. Is indentation required in python?\n",
    "\n",
    ">> Yes, The indentation in Python is very important. Python uses indentation to indicate a block of code."
   ]
  }
 ],
 "metadata": {
  "kernelspec": {
   "display_name": "Python 3 (ipykernel)",
   "language": "python",
   "name": "python3"
  },
  "language_info": {
   "codemirror_mode": {
    "name": "ipython",
    "version": 3
   },
   "file_extension": ".py",
   "mimetype": "text/x-python",
   "name": "python",
   "nbconvert_exporter": "python",
   "pygments_lexer": "ipython3",
   "version": "3.10.8"
  }
 },
 "nbformat": 4,
 "nbformat_minor": 5
}
