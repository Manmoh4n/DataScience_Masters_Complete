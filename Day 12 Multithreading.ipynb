{
 "cells": [
  {
   "cell_type": "code",
   "execution_count": 27,
   "id": "8ac4df87-82fb-4529-95ba-827622ef6b9b",
   "metadata": {},
   "outputs": [],
   "source": [
    "import threading"
   ]
  },
  {
   "cell_type": "code",
   "execution_count": 12,
   "id": "47445044-1a62-475c-b7ed-ea8545765f94",
   "metadata": {},
   "outputs": [],
   "source": [
    "def test(id):\n",
    "    print(\"prog start %d\" %id)"
   ]
  },
  {
   "cell_type": "code",
   "execution_count": 13,
   "id": "9a6ffd54-4a28-4d28-8f99-d8270ed942e4",
   "metadata": {},
   "outputs": [
    {
     "name": "stdout",
     "output_type": "stream",
     "text": [
      "prog start 10\n"
     ]
    }
   ],
   "source": [
    "test(10)"
   ]
  },
  {
   "cell_type": "code",
   "execution_count": 14,
   "id": "24ce34f8-d377-4e04-bfbc-0f1f0a5cfcfb",
   "metadata": {},
   "outputs": [],
   "source": [
    "thread=[threading.Thread(target=test , args=(i,))for i in range(10)]"
   ]
  },
  {
   "cell_type": "code",
   "execution_count": 15,
   "id": "b94f6561-1cb7-42de-8511-09421a160da4",
   "metadata": {},
   "outputs": [
    {
     "name": "stdout",
     "output_type": "stream",
     "text": [
      "prog start 0\n",
      "prog start 1\n",
      "prog start 2\n",
      "prog start 3\n",
      "prog start 4\n",
      "prog start 5\n",
      "prog start 6\n",
      "prog start 7\n",
      "prog start 8\n",
      "prog start 9\n"
     ]
    }
   ],
   "source": [
    "for t in thread:\n",
    "    t.start()"
   ]
  },
  {
   "cell_type": "code",
   "execution_count": 16,
   "id": "63fc641b-6650-4541-b619-5ed1c7a60fce",
   "metadata": {},
   "outputs": [
    {
     "data": {
      "text/plain": [
       "[<Thread(Thread-15 (test), stopped 140568625665600)>,\n",
       " <Thread(Thread-16 (test), stopped 140568625665600)>,\n",
       " <Thread(Thread-17 (test), stopped 140568625665600)>,\n",
       " <Thread(Thread-18 (test), stopped 140568625665600)>,\n",
       " <Thread(Thread-19 (test), stopped 140568625665600)>,\n",
       " <Thread(Thread-20 (test), stopped 140568625665600)>,\n",
       " <Thread(Thread-21 (test), stopped 140568625665600)>,\n",
       " <Thread(Thread-22 (test), stopped 140568625665600)>,\n",
       " <Thread(Thread-23 (test), stopped 140568625665600)>,\n",
       " <Thread(Thread-24 (test), stopped 140568625665600)>]"
      ]
     },
     "execution_count": 16,
     "metadata": {},
     "output_type": "execute_result"
    }
   ],
   "source": [
    "thread\n"
   ]
  },
  {
   "cell_type": "code",
   "execution_count": 17,
   "id": "2ea07a87-ba5e-477e-a6cc-13d63fa9efc9",
   "metadata": {},
   "outputs": [
    {
     "data": {
      "text/plain": [
       "140568985610368"
      ]
     },
     "execution_count": 17,
     "metadata": {},
     "output_type": "execute_result"
    }
   ],
   "source": [
    "id(thread)"
   ]
  },
  {
   "cell_type": "code",
   "execution_count": 9,
   "id": "25617d97-5027-4de3-81de-207dd44a7e60",
   "metadata": {},
   "outputs": [],
   "source": [
    "import threading\n",
    "import urllib.request\n",
    "\n",
    "def file_download(url,filename):\n",
    "    urlib.request.urlretrive(url,filename)"
   ]
  },
  {
   "cell_type": "code",
   "execution_count": null,
   "id": "3760cab1-66b8-435f-b0b5-f6f229157acd",
   "metadata": {},
   "outputs": [],
   "source": [
    "file_download(\"https:// link \" , \"text.txt\")"
   ]
  },
  {
   "cell_type": "code",
   "execution_count": null,
   "id": "599842db-5e27-493c-b228-2ba99b600529",
   "metadata": {},
   "outputs": [],
   "source": [
    "url_list = [\"https:// link\",\"https://link\"]"
   ]
  },
  {
   "cell_type": "code",
   "execution_count": null,
   "id": "366c0db1-06d0-4b7d-90b4-1b1353eb2115",
   "metadata": {},
   "outputs": [],
   "source": [
    "url_list"
   ]
  },
  {
   "cell_type": "code",
   "execution_count": null,
   "id": "7fbf822b-cadd-491d-adfe-4afe3818f986",
   "metadata": {},
   "outputs": [],
   "source": [
    "file_name_list=['data1.txt' , 'data2.txt' , 'data3.txt']"
   ]
  },
  {
   "cell_type": "code",
   "execution_count": null,
   "id": "c7bc71ba-740c-44be-b95e-2c899fa8dab5",
   "metadata": {},
   "outputs": [],
   "source": [
    "ther = [threading.Thread(target=file_download, args=(url_list[i],file_name_list[i] ))for i in range(len(url_list))]"
   ]
  },
  {
   "cell_type": "code",
   "execution_count": null,
   "id": "636eb80e-ca5e-4fab-880c-35b3b151cf70",
   "metadata": {},
   "outputs": [],
   "source": [
    "for t in ther:\n",
    "    t.start()"
   ]
  },
  {
   "cell_type": "code",
   "execution_count": null,
   "id": "5342f270-cee1-4397-aa83-1c7539d86b86",
   "metadata": {},
   "outputs": [],
   "source": []
  },
  {
   "cell_type": "code",
   "execution_count": null,
   "id": "5740904b-2e60-40b8-9e22-fd2a98fb0acf",
   "metadata": {},
   "outputs": [],
   "source": []
  },
  {
   "cell_type": "code",
   "execution_count": 43,
   "id": "a0194e1b-42d2-4a1f-a116-79db05f3cc83",
   "metadata": {},
   "outputs": [],
   "source": [
    "import time"
   ]
  },
  {
   "cell_type": "code",
   "execution_count": 58,
   "id": "eec184c5-712e-4d4e-bb25-1a9b9572754d",
   "metadata": {},
   "outputs": [],
   "source": [
    "def test1(id):\n",
    "    for i in range(10):\n",
    "        print(\"test1 %d printing %d %s\" %(id,i,time.ctime()))\n",
    "        time.sleep(1)\n",
    "      "
   ]
  },
  {
   "cell_type": "code",
   "execution_count": 59,
   "id": "e3c0eeaf-9078-4c91-8fd5-9988cc97c1dc",
   "metadata": {},
   "outputs": [
    {
     "name": "stdout",
     "output_type": "stream",
     "text": [
      "test1 1 printing 0 Wed Feb 15 05:27:26 2023\n",
      "test1 1 printing 1 Wed Feb 15 05:27:27 2023\n",
      "test1 1 printing 2 Wed Feb 15 05:27:28 2023\n",
      "test1 1 printing 3 Wed Feb 15 05:27:29 2023\n",
      "test1 1 printing 4 Wed Feb 15 05:27:30 2023\n",
      "test1 1 printing 5 Wed Feb 15 05:27:31 2023\n",
      "test1 1 printing 6 Wed Feb 15 05:27:32 2023\n",
      "test1 1 printing 7 Wed Feb 15 05:27:33 2023\n",
      "test1 1 printing 8 Wed Feb 15 05:27:34 2023\n",
      "test1 1 printing 9 Wed Feb 15 05:27:35 2023\n"
     ]
    }
   ],
   "source": [
    "test1(1)"
   ]
  },
  {
   "cell_type": "code",
   "execution_count": 48,
   "id": "cd501034-1968-494e-9774-eb627e583af3",
   "metadata": {},
   "outputs": [],
   "source": [
    "thread1 = [threading.Thread(target=test1 , args=(i,)) for i in range(3)]"
   ]
  },
  {
   "cell_type": "code",
   "execution_count": 50,
   "id": "f60ff52c-a5af-4750-b152-98839b503491",
   "metadata": {},
   "outputs": [
    {
     "name": "stdout",
     "output_type": "stream",
     "text": [
      "test1 0 printing 0\n",
      "test1 1 printing 0\n",
      "test1 2 printing 0\n",
      "test1 0 printing 1\n",
      "test1 1 printing 1\n",
      "test1 2 printing 1\n",
      "test1 0 printing 2\n",
      "test1 1 printing 2\n",
      "test1 2 printing 2\n",
      "test1 0 printing 3\n",
      "test1 1 printing 3\n",
      "test1 2 printing 3\n",
      "test1 0 printing 4\n",
      "test1 1 printing 4\n",
      "test1 2 printing 4\n",
      "test1 0 printing 5\n",
      "test1 1 printing 5\n",
      "test1 2 printing 5\n",
      "test1 0 printing 6\n",
      "test1 1 printing 6\n",
      "test1 2 printing 6\n",
      "test1 0 printing 7\n",
      "test1 2 printing 7\n",
      "test1 1 printing 7\n",
      "test1 0 printing 8\n",
      "test1 2 printing 8\n",
      "test1 1 printing 8\n",
      "test1 0 printing 9\n",
      "test1 2 printing 9\n",
      "test1 1 printing 9\n"
     ]
    }
   ],
   "source": [
    "for t in thread1 :\n",
    "    t.start()"
   ]
  },
  {
   "cell_type": "code",
   "execution_count": null,
   "id": "1acb949e-7ab1-4db8-9c2d-15330db0ece2",
   "metadata": {},
   "outputs": [],
   "source": []
  },
  {
   "cell_type": "code",
   "execution_count": 72,
   "id": "bab355e2-42df-4cff-9194-a3f395ca3cfc",
   "metadata": {},
   "outputs": [],
   "source": [
    "shared_var=0\n",
    "lock_var=threading.Lock()"
   ]
  },
  {
   "cell_type": "code",
   "execution_count": 73,
   "id": "e9251d31-33e0-449d-8287-8fce357083d3",
   "metadata": {},
   "outputs": [],
   "source": [
    "def test2(id):\n",
    "    global shared_var\n",
    "    with lock_var:\n",
    "        shared_var=shared_var+1\n",
    "        print(\"test2 id is %d has increased by shares var by %d\" %(id,shared_var))"
   ]
  },
  {
   "cell_type": "code",
   "execution_count": 74,
   "id": "dfd574a1-c56d-499e-a0e7-29e8d08ea7da",
   "metadata": {},
   "outputs": [],
   "source": [
    "ther3 = [threading.Thread(target=test2,args=(i,)) for i in range(3)]"
   ]
  },
  {
   "cell_type": "code",
   "execution_count": 75,
   "id": "5c146855-6650-4514-b873-c36de44edbbb",
   "metadata": {},
   "outputs": [
    {
     "data": {
      "text/plain": [
       "[<Thread(Thread-34 (test2), initial)>,\n",
       " <Thread(Thread-35 (test2), initial)>,\n",
       " <Thread(Thread-36 (test2), initial)>]"
      ]
     },
     "execution_count": 75,
     "metadata": {},
     "output_type": "execute_result"
    }
   ],
   "source": [
    "ther3"
   ]
  },
  {
   "cell_type": "code",
   "execution_count": 77,
   "id": "ec4005ea-e7e4-4230-b528-3edad9ed9ae7",
   "metadata": {},
   "outputs": [
    {
     "name": "stdout",
     "output_type": "stream",
     "text": [
      "test2 id is 0 has increased by shares var by 1\n",
      "test2 id is 1 has increased by shares var by 2\n",
      "test2 id is 2 has increased by shares var by 3\n"
     ]
    }
   ],
   "source": [
    "for t in ther3:\n",
    "    t.start()"
   ]
  },
  {
   "cell_type": "code",
   "execution_count": null,
   "id": "2fa20e6c-24a3-4ef9-b6f3-bcb321a6ba4d",
   "metadata": {},
   "outputs": [],
   "source": []
  },
  {
   "cell_type": "code",
   "execution_count": null,
   "id": "60c9dcad-4434-48e5-a89d-a3f6a8747015",
   "metadata": {},
   "outputs": [],
   "source": []
  }
 ],
 "metadata": {
  "kernelspec": {
   "display_name": "Python 3 (ipykernel)",
   "language": "python",
   "name": "python3"
  },
  "language_info": {
   "codemirror_mode": {
    "name": "ipython",
    "version": 3
   },
   "file_extension": ".py",
   "mimetype": "text/x-python",
   "name": "python",
   "nbconvert_exporter": "python",
   "pygments_lexer": "ipython3",
   "version": "3.10.8"
  }
 },
 "nbformat": 4,
 "nbformat_minor": 5
}
