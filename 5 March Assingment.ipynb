{
 "cells": [
  {
   "cell_type": "markdown",
   "id": "3bb6fc89",
   "metadata": {},
   "source": [
    "# Q1. How can you create a Bokeh plot using Python code?"
   ]
  },
  {
   "cell_type": "code",
   "execution_count": 1,
   "id": "84d1dd31",
   "metadata": {},
   "outputs": [],
   "source": [
    "from bokeh.plotting import figure, output_file, show\n",
    "import numpy as np\n",
    "\n",
    "# Prepare the data\n",
    "x = np.linspace(0, 10, 100)\n",
    "y = np.sin(x)\n",
    "\n",
    "# Define the plot\n",
    "plot = figure(title='Sine Wave', x_axis_label='x', y_axis_label='y', plot_width=400, plot_height=400)\n",
    "\n",
    "# Add the line glyph\n",
    "plot.line(x, y, line_width=2)\n",
    "\n",
    "# Save the plot as an HTML file\n",
    "output_file('sine_wave.html')\n",
    "\n",
    "# Show the plot in a web browser\n",
    "show(plot)\n"
   ]
  },
  {
   "cell_type": "markdown",
   "id": "5dcb3378",
   "metadata": {},
   "source": [
    "# Q2. What are glyphs in Bokeh, and how can you add them to a Bokeh plot? Explain with an example."
   ]
  },
  {
   "cell_type": "markdown",
   "id": "5c0862be",
   "metadata": {},
   "source": [
    "A glyph is a vectorized graphical shape or marker that is used to represent your data.\n",
    "To add more line graphs to your plot, all you need to do is call the line() function multiple times."
   ]
  },
  {
   "cell_type": "code",
   "execution_count": null,
   "id": "9f71c5c6",
   "metadata": {},
   "outputs": [],
   "source": [
    "from bokeh.plotting import figure, output_file, show\n",
    "\n",
    "# Prepare the data\n",
    "x = [1, 2, 3, 4, 5]\n",
    "y = [2, 5, 3, 7, 1]\n",
    "\n",
    "# Define the plot\n",
    "plot = figure(title='Glyphs Example', x_axis_label='X', y_axis_label='Y')\n",
    "\n",
    "# Add a circle glyph\n",
    "plot.circle(x, y, size=10, color='navy', alpha=0.5)\n",
    "\n",
    "# Add a line glyph\n",
    "plot.line(x, y, line_width=2, color='red')\n",
    "\n",
    "# Add a square glyph\n",
    "plot.square(x, y, size=10, color='green', alpha=0.5)\n",
    "\n",
    "# Save the plot as an HTML file\n",
    "output_file('glyphs_example.html')\n",
    "\n",
    "# Show the plot in a web browser\n",
    "show(plot)\n"
   ]
  },
  {
   "cell_type": "code",
   "execution_count": null,
   "id": "738600a5",
   "metadata": {},
   "outputs": [],
   "source": []
  },
  {
   "cell_type": "markdown",
   "id": "130d83d4",
   "metadata": {},
   "source": [
    "Bokeh provides many ways to customize the appearance of a plot, including the axes, title, legend, and more. Here are some of the ways to customize a Bokeh plot:"
   ]
  },
  {
   "cell_type": "code",
   "execution_count": 3,
   "id": "0b07d3d0",
   "metadata": {},
   "outputs": [],
   "source": [
    "from bokeh.plotting import figure, output_file, show\n",
    "\n",
    "# Prepare the data\n",
    "x = [1, 2, 3, 4, 5]\n",
    "y1 = [2, 5, 3, 7, 1]\n",
    "y2 = [3, 4, 2, 6, 2]\n",
    "\n",
    "# Define the plot\n",
    "plot = figure(title='My Plot', x_axis_label='X', y_axis_label='Y')\n",
    "\n",
    "# Add glyphs\n",
    "plot.circle(x, y1, size=10, color='red', legend_label='Series 1')\n",
    "plot.line(x, y2, line_width=2, color='blue', legend_label='Series 2')\n",
    "\n",
    "# Customize the appearance\n",
    "plot.xaxis.axis_label_text_font_size = \"14pt\"\n",
    "plot.yaxis.axis_label_text_font_size = \"14pt\"\n",
    "plot.title.text_font_size = \"16pt\"\n",
    "plot.title.text_color = \"navy\"\n",
    "plot.legend.label_text_font_size = \"12pt\"\n",
    "plot.grid.grid_line_color = \"gray\"\n",
    "plot.grid.grid_line_alpha = 0.5\n",
    "\n",
    "# Save the plot as an HTML file\n",
    "output_file('my_plot.html')\n",
    "\n",
    "# Show the plot in a web browser\n",
    "show(plot)\n"
   ]
  },
  {
   "cell_type": "markdown",
   "id": "64819124",
   "metadata": {},
   "source": [
    "# Q4. What is a Bokeh server, and how can you use it to create interactive plots that can be updated in real time?"
   ]
  },
  {
   "cell_type": "markdown",
   "id": "c34f3640",
   "metadata": {},
   "source": [
    "Bokeh server makes it easy to create interactive web applications that connect front-end UI events to running Python code. Bokeh creates high-level Python models, such as plots, ranges, axes, and glyphs, and then converts these objects to JSON to pass them to its client library, BokehJS."
   ]
  },
  {
   "cell_type": "code",
   "execution_count": null,
   "id": "21073771",
   "metadata": {},
   "outputs": [],
   "source": [
    "from bokeh.io import curdoc\n",
    "from bokeh.models import ColumnDataSource\n",
    "from bokeh.plotting import figure\n",
    "from random import randrange\n",
    "\n",
    "# Create a data source with random data\n",
    "source = ColumnDataSource(data=dict(x=[0], y=[0]))\n",
    "\n",
    "# Create a plot with a circle glyph\n",
    "plot = figure(plot_height=300, plot_width=400, tools=\"crosshair,pan,reset,save\")\n",
    "plot.circle(x='x', y='y', size=10, source=source)\n",
    "\n",
    "# Define a callback function that updates the data source\n",
    "def update():\n",
    "    new_data = dict(x=[source.data['x'][-1] + 1], y=[randrange(1, 10)])\n",
    "    source.stream(new_data, rollover=20)\n",
    "\n",
    "# Add the callback to the document\n",
    "curdoc().add_periodic_callback(update, 1000)\n",
    "\n",
    "# Run the server\n",
    "if __name__ == '__main__':\n",
    "    from bokeh.server.server import Server\n",
    "    server = Server({'/': plot})\n",
    "    server.start()\n"
   ]
  },
  {
   "cell_type": "markdown",
   "id": "c2c375c9",
   "metadata": {},
   "source": [
    "# Q5. How can you embed a Bokeh plot into a web page or dashboard using Flask or Django?"
   ]
  },
  {
   "cell_type": "markdown",
   "id": "9650fe9e",
   "metadata": {},
   "source": [
    "Bokeh plots can be easily embedded into a web page or dashboard built with Flask or Django using the components function from the bokeh.embed module."
   ]
  },
  {
   "cell_type": "code",
   "execution_count": null,
   "id": "66209abd",
   "metadata": {},
   "outputs": [],
   "source": [
    "from flask import Flask, render_template\n",
    "from bokeh.embed import components\n",
    "from bokeh.plotting import figure\n",
    "from bokeh.resources import INLINE\n",
    "from bokeh.util.string import encode_utf8\n",
    "\n",
    "app = Flask(__name__)\n",
    "\n",
    "# Define a view function that generates the Bokeh plot and renders the HTML template\n",
    "@app.route('/')\n",
    "def index():\n",
    "    # Create a Bokeh plot\n",
    "    plot = figure()\n",
    "    plot.circle([1, 2, 3], [4, 5, 6])\n",
    "\n",
    "    # Generate the Bokeh components for embedding in the HTML template\n",
    "    script, div = components(plot, INLINE)\n",
    "\n",
    "    # Render the HTML template with the Bokeh components\n",
    "    return render_template('index.html', script=script, div=div)\n",
    "\n",
    "if __name__ == '__main__':\n",
    "    app.run(debug=True)\n"
   ]
  },
  {
   "cell_type": "code",
   "execution_count": null,
   "id": "67a2be9f",
   "metadata": {},
   "outputs": [],
   "source": []
  }
 ],
 "metadata": {
  "kernelspec": {
   "display_name": "Python 3 (ipykernel)",
   "language": "python",
   "name": "python3"
  },
  "language_info": {
   "codemirror_mode": {
    "name": "ipython",
    "version": 3
   },
   "file_extension": ".py",
   "mimetype": "text/x-python",
   "name": "python",
   "nbconvert_exporter": "python",
   "pygments_lexer": "ipython3",
   "version": "3.9.13"
  }
 },
 "nbformat": 4,
 "nbformat_minor": 5
}
