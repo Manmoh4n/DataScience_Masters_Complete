{
 "cells": [
  {
   "cell_type": "markdown",
   "id": "6c195f13-178c-4149-8c6e-d639b8ebf646",
   "metadata": {},
   "source": [
    "# Functions"
   ]
  },
  {
   "cell_type": "code",
   "execution_count": 1,
   "id": "be8ae6ab-fbde-41d5-a59f-9d328b109aad",
   "metadata": {},
   "outputs": [
    {
     "name": "stdout",
     "output_type": "stream",
     "text": [
      "print is a function\n"
     ]
    }
   ],
   "source": [
    "print(\"print is a function\")"
   ]
  },
  {
   "cell_type": "code",
   "execution_count": 2,
   "id": "6f552619-5de3-40f2-8d82-0bb67a5459c5",
   "metadata": {},
   "outputs": [],
   "source": [
    "l=[1,2,3,4]"
   ]
  },
  {
   "cell_type": "code",
   "execution_count": 3,
   "id": "c313671a-1181-442d-825d-183e34c6ea2c",
   "metadata": {},
   "outputs": [
    {
     "data": {
      "text/plain": [
       "[1, 2, 3, 4]"
      ]
     },
     "execution_count": 3,
     "metadata": {},
     "output_type": "execute_result"
    }
   ],
   "source": [
    "l"
   ]
  },
  {
   "cell_type": "code",
   "execution_count": 5,
   "id": "3d2c57e2-da63-4aeb-8367-7e66fe18b38c",
   "metadata": {},
   "outputs": [
    {
     "data": {
      "text/plain": [
       "4"
      ]
     },
     "execution_count": 5,
     "metadata": {},
     "output_type": "execute_result"
    }
   ],
   "source": [
    "len(l)"
   ]
  },
  {
   "cell_type": "code",
   "execution_count": 6,
   "id": "88e1aae2-8511-44b1-94be-c9b78f367357",
   "metadata": {},
   "outputs": [
    {
     "data": {
      "text/plain": [
       "list"
      ]
     },
     "execution_count": 6,
     "metadata": {},
     "output_type": "execute_result"
    }
   ],
   "source": [
    "type(l)"
   ]
  },
  {
   "cell_type": "code",
   "execution_count": 7,
   "id": "f8f453e9-8083-4bfe-a602-b4329b07cf35",
   "metadata": {},
   "outputs": [],
   "source": [
    "def test():\n",
    "    pass"
   ]
  },
  {
   "cell_type": "code",
   "execution_count": 24,
   "id": "c582f0bd-1892-4007-83d9-1ef10e2c32f9",
   "metadata": {},
   "outputs": [
    {
     "name": "stdout",
     "output_type": "stream",
     "text": [
      " print give NoneType value\n"
     ]
    }
   ],
   "source": [
    "def test1():\n",
    "    print(\" print give NoneType value\")\n",
    "test1()        #It call the function"
   ]
  },
  {
   "cell_type": "code",
   "execution_count": 25,
   "id": "a0d42090-4148-47c1-ac87-bff03d5062aa",
   "metadata": {},
   "outputs": [
    {
     "name": "stdout",
     "output_type": "stream",
     "text": [
      " print give NoneType value\n"
     ]
    },
    {
     "ename": "TypeError",
     "evalue": "unsupported operand type(s) for +: 'NoneType' and 'str'",
     "output_type": "error",
     "traceback": [
      "\u001b[0;31m---------------------------------------------------------------------------\u001b[0m",
      "\u001b[0;31mTypeError\u001b[0m                                 Traceback (most recent call last)",
      "Cell \u001b[0;32mIn[25], line 1\u001b[0m\n\u001b[0;32m----> 1\u001b[0m \u001b[43mtest1\u001b[49m\u001b[43m(\u001b[49m\u001b[43m)\u001b[49m\u001b[38;5;241;43m+\u001b[39;49m\u001b[43m \u001b[49m\u001b[38;5;124;43m\"\u001b[39;49m\u001b[38;5;124;43mwelcome\u001b[39;49m\u001b[38;5;124;43m\"\u001b[39;49m\n",
      "\u001b[0;31mTypeError\u001b[0m: unsupported operand type(s) for +: 'NoneType' and 'str'"
     ]
    }
   ],
   "source": [
    "test1()+ \"welcome\""
   ]
  },
  {
   "cell_type": "code",
   "execution_count": 26,
   "id": "002ed95b-24b6-4001-bc15-fb55f836787a",
   "metadata": {},
   "outputs": [],
   "source": [
    "def test2():\n",
    "    return \"it return as a string\""
   ]
  },
  {
   "cell_type": "code",
   "execution_count": 27,
   "id": "f327426a-70b6-4727-9bce-6ebd00e54d98",
   "metadata": {},
   "outputs": [
    {
     "data": {
      "text/plain": [
       "'it return as a string'"
      ]
     },
     "execution_count": 27,
     "metadata": {},
     "output_type": "execute_result"
    }
   ],
   "source": [
    "test2()"
   ]
  },
  {
   "cell_type": "code",
   "execution_count": 28,
   "id": "f87c0fff-74ed-416d-937e-fdbd8adbf830",
   "metadata": {},
   "outputs": [
    {
     "data": {
      "text/plain": [
       "'it return as a string hello'"
      ]
     },
     "execution_count": 28,
     "metadata": {},
     "output_type": "execute_result"
    }
   ],
   "source": [
    "test2() + \" hello\""
   ]
  },
  {
   "cell_type": "code",
   "execution_count": 29,
   "id": "2b7b3acf-4a09-4342-a70f-568e2255a1be",
   "metadata": {},
   "outputs": [],
   "source": [
    "def test3():\n",
    "    return \"manm\",123,22.13,[1,2,3,4]\n",
    "    "
   ]
  },
  {
   "cell_type": "code",
   "execution_count": 30,
   "id": "f6eec0cd-95bd-43b7-8b2a-f28b2605c122",
   "metadata": {},
   "outputs": [
    {
     "data": {
      "text/plain": [
       "('manm', 123, 22.13, [1, 2, 3, 4])"
      ]
     },
     "execution_count": 30,
     "metadata": {},
     "output_type": "execute_result"
    }
   ],
   "source": [
    "test3()"
   ]
  },
  {
   "cell_type": "code",
   "execution_count": 31,
   "id": "280e9ee1-f2ea-40af-b153-0d6401816ef9",
   "metadata": {},
   "outputs": [],
   "source": [
    "a,b,c,d = test3()"
   ]
  },
  {
   "cell_type": "code",
   "execution_count": 32,
   "id": "a2f2d73d-cafc-4392-bd21-d0dc31589925",
   "metadata": {},
   "outputs": [
    {
     "data": {
      "text/plain": [
       "'manm'"
      ]
     },
     "execution_count": 32,
     "metadata": {},
     "output_type": "execute_result"
    }
   ],
   "source": [
    "a"
   ]
  },
  {
   "cell_type": "code",
   "execution_count": 33,
   "id": "45baddfe-9673-40c6-b874-83a080a856bf",
   "metadata": {},
   "outputs": [
    {
     "data": {
      "text/plain": [
       "123"
      ]
     },
     "execution_count": 33,
     "metadata": {},
     "output_type": "execute_result"
    }
   ],
   "source": [
    "b"
   ]
  },
  {
   "cell_type": "code",
   "execution_count": 34,
   "id": "a40b22c3-d551-4811-af3f-e9e6fce85156",
   "metadata": {},
   "outputs": [
    {
     "data": {
      "text/plain": [
       "22.13"
      ]
     },
     "execution_count": 34,
     "metadata": {},
     "output_type": "execute_result"
    }
   ],
   "source": [
    "c"
   ]
  },
  {
   "cell_type": "code",
   "execution_count": 35,
   "id": "7b79acd3-26c6-4b1b-83c9-2cca32e0cd95",
   "metadata": {},
   "outputs": [
    {
     "data": {
      "text/plain": [
       "[1, 2, 3, 4]"
      ]
     },
     "execution_count": 35,
     "metadata": {},
     "output_type": "execute_result"
    }
   ],
   "source": [
    "d"
   ]
  },
  {
   "cell_type": "code",
   "execution_count": 36,
   "id": "910b0863-6f47-4ddf-aa87-605c023ec5d5",
   "metadata": {},
   "outputs": [],
   "source": [
    "def test4():\n",
    "    a=5+6/2\n",
    "    return a"
   ]
  },
  {
   "cell_type": "code",
   "execution_count": 37,
   "id": "83f1f34b-77b2-4385-b456-6562719f1030",
   "metadata": {},
   "outputs": [
    {
     "data": {
      "text/plain": [
       "8.0"
      ]
     },
     "execution_count": 37,
     "metadata": {},
     "output_type": "execute_result"
    }
   ],
   "source": [
    "test4()"
   ]
  },
  {
   "cell_type": "code",
   "execution_count": 38,
   "id": "a01c6545-dfb1-4767-94e9-6895f3a67a15",
   "metadata": {},
   "outputs": [
    {
     "data": {
      "text/plain": [
       "8.0"
      ]
     },
     "execution_count": 38,
     "metadata": {},
     "output_type": "execute_result"
    }
   ],
   "source": [
    "def test5(a,b,c):    #arrgument\n",
    "    d=a+b/c\n",
    "    return d\n",
    "test5(5,6,2)"
   ]
  },
  {
   "cell_type": "code",
   "execution_count": 41,
   "id": "e8add998-3493-45d4-b5e8-82706f6e7adb",
   "metadata": {},
   "outputs": [],
   "source": [
    "def test6(a,b):\n",
    "    return a+b\n"
   ]
  },
  {
   "cell_type": "code",
   "execution_count": 42,
   "id": "a0e70d83-81a4-43fa-a3d7-82e6e3102557",
   "metadata": {},
   "outputs": [
    {
     "data": {
      "text/plain": [
       "5"
      ]
     },
     "execution_count": 42,
     "metadata": {},
     "output_type": "execute_result"
    }
   ],
   "source": [
    "test6(2,3)"
   ]
  },
  {
   "cell_type": "code",
   "execution_count": 43,
   "id": "1e708153-55b4-4644-91fb-2f00dc6fd517",
   "metadata": {},
   "outputs": [
    {
     "data": {
      "text/plain": [
       "'helloworld'"
      ]
     },
     "execution_count": 43,
     "metadata": {},
     "output_type": "execute_result"
    }
   ],
   "source": [
    "test6(\"hello\" , \"world\")"
   ]
  },
  {
   "cell_type": "code",
   "execution_count": 44,
   "id": "0380e944-af1d-46e6-b592-9b4584758b3c",
   "metadata": {},
   "outputs": [
    {
     "data": {
      "text/plain": [
       "[1, 2, 3, 4, 5, 6]"
      ]
     },
     "execution_count": 44,
     "metadata": {},
     "output_type": "execute_result"
    }
   ],
   "source": [
    "test6([1,2,3], [4,5,6])"
   ]
  },
  {
   "cell_type": "code",
   "execution_count": 47,
   "id": "0124bef9-4bc3-41ca-b437-b5db7cd1fd8d",
   "metadata": {},
   "outputs": [],
   "source": [
    "#Find out all Integer from list\n",
    "\n",
    "l=[1,2,3,4, \"man\",\"kr\", [5,6,7,8]]"
   ]
  },
  {
   "cell_type": "code",
   "execution_count": 48,
   "id": "7e7e0828-0914-4c9f-9597-5bccfbb19b2f",
   "metadata": {},
   "outputs": [],
   "source": [
    "l1=[]\n",
    "for i in l:\n",
    "    if type(i)==int or type(i)==float:\n",
    "        l1.append(i)"
   ]
  },
  {
   "cell_type": "code",
   "execution_count": 49,
   "id": "76d3a679-62bd-449a-9df1-4d4abbb0a10e",
   "metadata": {},
   "outputs": [
    {
     "data": {
      "text/plain": [
       "[1, 2, 3, 4]"
      ]
     },
     "execution_count": 49,
     "metadata": {},
     "output_type": "execute_result"
    }
   ],
   "source": [
    "l1"
   ]
  },
  {
   "cell_type": "code",
   "execution_count": 54,
   "id": "de497c76-b4eb-4e16-9e6c-5d207feaf630",
   "metadata": {},
   "outputs": [],
   "source": [
    "def test7(l):\n",
    "    l1=[]\n",
    "    for i in l:\n",
    "        if type(i)==int or type(i)==float:\n",
    "            l1.append(i)\n",
    "    return l1"
   ]
  },
  {
   "cell_type": "code",
   "execution_count": 55,
   "id": "9beaf475-6b6d-4b2a-9d56-731b44a0a9ca",
   "metadata": {},
   "outputs": [
    {
     "data": {
      "text/plain": [
       "[1, 2, 3, 4]"
      ]
     },
     "execution_count": 55,
     "metadata": {},
     "output_type": "execute_result"
    }
   ],
   "source": [
    "test7(l)"
   ]
  },
  {
   "cell_type": "code",
   "execution_count": 56,
   "id": "37845396-8a92-4ec5-8258-f3f874945989",
   "metadata": {},
   "outputs": [
    {
     "data": {
      "text/plain": [
       "[1, 2, 3, 4, 'man', 'kr', [5, 6, 7, 8]]"
      ]
     },
     "execution_count": 56,
     "metadata": {},
     "output_type": "execute_result"
    }
   ],
   "source": [
    "l"
   ]
  },
  {
   "cell_type": "code",
   "execution_count": 76,
   "id": "e6391e99-befe-44ec-a4d6-6e1cd6dcf3b5",
   "metadata": {},
   "outputs": [],
   "source": [
    "def test8(a):\n",
    "    \"\"\"this is docstring \"\"\"\n",
    "    l=[]\n",
    "    for i in a:\n",
    "        if type(i)==list:\n",
    "            for j in i:\n",
    "                l.append(j)\n",
    "        else:\n",
    "            if type(i)==int or type(i)==float:\n",
    "                l.append(i)\n",
    "    return l\n",
    "            "
   ]
  },
  {
   "cell_type": "code",
   "execution_count": 77,
   "id": "6b0d07f9-0d51-48c9-9e85-7c4b7697acfe",
   "metadata": {},
   "outputs": [
    {
     "data": {
      "text/plain": [
       "[1, 2, 3, 4, 5, 6, 7, 8]"
      ]
     },
     "execution_count": 77,
     "metadata": {},
     "output_type": "execute_result"
    }
   ],
   "source": [
    "test8(l)"
   ]
  },
  {
   "cell_type": "code",
   "execution_count": 78,
   "id": "0e083d3a-9f20-4012-8093-697e810d70cc",
   "metadata": {},
   "outputs": [],
   "source": [
    "def test9(*args):      #It means we can pass many number of arguments in function. It always return as tuple\n",
    "    return args"
   ]
  },
  {
   "cell_type": "code",
   "execution_count": 79,
   "id": "f2540a3b-49f4-46a6-8141-63bdb6fa5cbc",
   "metadata": {},
   "outputs": [
    {
     "data": {
      "text/plain": [
       "tuple"
      ]
     },
     "execution_count": 79,
     "metadata": {},
     "output_type": "execute_result"
    }
   ],
   "source": [
    "type(test9())"
   ]
  },
  {
   "cell_type": "code",
   "execution_count": 81,
   "id": "7d6f8d2f-bf49-4ad6-8d08-5530d1d526fe",
   "metadata": {},
   "outputs": [
    {
     "data": {
      "text/plain": [
       "(1, 2, 3, 'manm', 33, [1, 2, 3])"
      ]
     },
     "execution_count": 81,
     "metadata": {},
     "output_type": "execute_result"
    }
   ],
   "source": [
    "test9(1,2,3,\"manm\",33,[1,2,3])"
   ]
  },
  {
   "cell_type": "code",
   "execution_count": 82,
   "id": "b0f2088d-289f-49e4-b3b7-f85d25b75b05",
   "metadata": {},
   "outputs": [],
   "source": [
    "def test11(*ab):\n",
    "    return ab\n",
    "    "
   ]
  },
  {
   "cell_type": "code",
   "execution_count": 83,
   "id": "e3e4128e-465d-407d-b948-88e4572187e9",
   "metadata": {},
   "outputs": [
    {
     "data": {
      "text/plain": [
       "(23, 4, 4, 2, 4)"
      ]
     },
     "execution_count": 83,
     "metadata": {},
     "output_type": "execute_result"
    }
   ],
   "source": [
    "test11(23,4,4,2,4)"
   ]
  },
  {
   "cell_type": "code",
   "execution_count": 84,
   "id": "df8863b2-56fe-4b7a-bb32-61a0bff95639",
   "metadata": {},
   "outputs": [],
   "source": [
    "def test12(*args,a):\n",
    "    return args,a\n"
   ]
  },
  {
   "cell_type": "code",
   "execution_count": 85,
   "id": "89b020ab-560e-47d7-86e5-6c914b17307c",
   "metadata": {},
   "outputs": [
    {
     "data": {
      "text/plain": [
       "((1, 2, 33), 234)"
      ]
     },
     "execution_count": 85,
     "metadata": {},
     "output_type": "execute_result"
    }
   ],
   "source": [
    "test12(1,2,33,  a=234)"
   ]
  },
  {
   "cell_type": "code",
   "execution_count": 87,
   "id": "3cbb5e73-7bd2-44ce-a56a-99732da793f4",
   "metadata": {},
   "outputs": [],
   "source": [
    "def test13(c,d,a=2,b=3):\n",
    "    return a,b,c,d"
   ]
  },
  {
   "cell_type": "code",
   "execution_count": 88,
   "id": "f4166153-1c44-4175-8c7e-2d482f5f798e",
   "metadata": {},
   "outputs": [
    {
     "data": {
      "text/plain": [
       "(2, 3, 22, 33)"
      ]
     },
     "execution_count": 88,
     "metadata": {},
     "output_type": "execute_result"
    }
   ],
   "source": [
    "test13(22,33)   #value of a , b are default"
   ]
  },
  {
   "cell_type": "code",
   "execution_count": 89,
   "id": "9dfd5963-962a-41ff-ab1e-d0fe560f3c6a",
   "metadata": {},
   "outputs": [
    {
     "data": {
      "text/plain": [
       "(2334, 8765, 2, 3)"
      ]
     },
     "execution_count": 89,
     "metadata": {},
     "output_type": "execute_result"
    }
   ],
   "source": [
    "test13(2,3,a=2334,b=8765)   #Value of a and b should be override"
   ]
  },
  {
   "cell_type": "code",
   "execution_count": 90,
   "id": "d08deeca-d61a-41b7-8ec3-1e995ea0888b",
   "metadata": {},
   "outputs": [],
   "source": [
    "def test14(**args):                 # ** use for key value pair\n",
    "    return args"
   ]
  },
  {
   "cell_type": "code",
   "execution_count": 92,
   "id": "36c8e608-5586-411f-a490-be68c0b88f1e",
   "metadata": {},
   "outputs": [
    {
     "data": {
      "text/plain": [
       "{}"
      ]
     },
     "execution_count": 92,
     "metadata": {},
     "output_type": "execute_result"
    }
   ],
   "source": [
    "test14()"
   ]
  },
  {
   "cell_type": "code",
   "execution_count": 94,
   "id": "99a1e944-11f7-4110-ba22-208ead4ef364",
   "metadata": {},
   "outputs": [
    {
     "data": {
      "text/plain": [
       "dict"
      ]
     },
     "execution_count": 94,
     "metadata": {},
     "output_type": "execute_result"
    }
   ],
   "source": [
    "type(test14())"
   ]
  },
  {
   "cell_type": "code",
   "execution_count": 96,
   "id": "425fd6fa-ee99-4433-9184-a8bf4202ba2e",
   "metadata": {},
   "outputs": [
    {
     "data": {
      "text/plain": [
       "{'a': 'man', 'b': [1, 2, 3, 4], 'c': 'war'}"
      ]
     },
     "execution_count": 96,
     "metadata": {},
     "output_type": "execute_result"
    }
   ],
   "source": [
    "test14(a=\"man\", b=[1,2,3,4] ,c=\"war\")          #It gives value in key:value pair"
   ]
  },
  {
   "cell_type": "markdown",
   "id": "4066004e-aa18-40a9-888d-6b2061180e8f",
   "metadata": {},
   "source": [
    "# Generator Function"
   ]
  },
  {
   "cell_type": "markdown",
   "id": "4d2c36d6-d8a5-47f4-9623-76c52b124955",
   "metadata": {},
   "source": [
    "Generator function: In Python, a generator is a function that returns an iterator that produces a sequence of values when iterated over. Generators are useful when we want to produce a large sequence of values, but we don't want to store all of them in memory at once"
   ]
  },
  {
   "cell_type": "code",
   "execution_count": 1,
   "id": "ad52d7c6-6b5d-4990-985e-33f8be3eda53",
   "metadata": {},
   "outputs": [
    {
     "data": {
      "text/plain": [
       "range(0, 10)"
      ]
     },
     "execution_count": 1,
     "metadata": {},
     "output_type": "execute_result"
    }
   ],
   "source": [
    "range(10)"
   ]
  },
  {
   "cell_type": "code",
   "execution_count": 2,
   "id": "2da4d6ef-5e5f-4c17-a4fe-a02fcf94dc32",
   "metadata": {},
   "outputs": [
    {
     "name": "stdout",
     "output_type": "stream",
     "text": [
      "0\n",
      "1\n",
      "2\n",
      "3\n",
      "4\n",
      "5\n",
      "6\n",
      "7\n",
      "8\n",
      "9\n"
     ]
    }
   ],
   "source": [
    "for i in range(10):\n",
    "    print(i)"
   ]
  },
  {
   "cell_type": "code",
   "execution_count": 3,
   "id": "513ba659-b743-4038-901b-daf2842d1010",
   "metadata": {},
   "outputs": [],
   "source": [
    "# fibonacci \n",
    "def test2(n):\n",
    "    a,b=0,1\n",
    "    for i in range(n):\n",
    "        yield a\n",
    "        a,b = b, a+b\n",
    "        \n",
    "    "
   ]
  },
  {
   "cell_type": "code",
   "execution_count": 4,
   "id": "b9bce72c-ff5a-4baf-a546-216f197d829a",
   "metadata": {},
   "outputs": [
    {
     "name": "stdout",
     "output_type": "stream",
     "text": [
      "0\n",
      "1\n",
      "1\n",
      "2\n",
      "3\n",
      "5\n",
      "8\n",
      "13\n",
      "21\n",
      "34\n"
     ]
    }
   ],
   "source": [
    "for i in test2(10):\n",
    "    print(i)"
   ]
  },
  {
   "cell_type": "code",
   "execution_count": 8,
   "id": "d8f66d91-99ea-41ee-8d0c-b0aefcb06eae",
   "metadata": {},
   "outputs": [],
   "source": [
    "# fibonacci \n",
    "def test2():\n",
    "    a,b=0,1\n",
    "    while True:\n",
    "        yield a\n",
    "        a,b = b, a+b\n",
    "        \n",
    "    "
   ]
  },
  {
   "cell_type": "code",
   "execution_count": 9,
   "id": "843dafe0-be68-4a64-a3ff-4d1f71c4ee34",
   "metadata": {},
   "outputs": [],
   "source": [
    "fib = test2()"
   ]
  },
  {
   "cell_type": "code",
   "execution_count": 22,
   "id": "5768289f-a342-4b00-8dfd-d42a2bfa7565",
   "metadata": {},
   "outputs": [
    {
     "data": {
      "text/plain": [
       "generator"
      ]
     },
     "execution_count": 22,
     "metadata": {},
     "output_type": "execute_result"
    }
   ],
   "source": [
    "type(fib)     #Generator function means iterable function"
   ]
  },
  {
   "cell_type": "code",
   "execution_count": 10,
   "id": "84054b4c-b599-4c56-be8f-449f7352eba5",
   "metadata": {},
   "outputs": [
    {
     "name": "stdout",
     "output_type": "stream",
     "text": [
      "0\n",
      "1\n",
      "1\n",
      "2\n",
      "3\n",
      "5\n",
      "8\n",
      "13\n",
      "21\n",
      "34\n"
     ]
    }
   ],
   "source": [
    "for i in range(10):\n",
    "    print(next(fib))"
   ]
  },
  {
   "cell_type": "code",
   "execution_count": 11,
   "id": "9abacf66-7e32-4342-ae1f-af1f4622182e",
   "metadata": {},
   "outputs": [],
   "source": [
    "s=\"manmohan\""
   ]
  },
  {
   "cell_type": "code",
   "execution_count": 12,
   "id": "527121ac-4a55-443d-bc2d-21147fcbd2f3",
   "metadata": {},
   "outputs": [
    {
     "name": "stdout",
     "output_type": "stream",
     "text": [
      "m\n",
      "a\n",
      "n\n",
      "m\n",
      "o\n",
      "h\n",
      "a\n",
      "n\n"
     ]
    }
   ],
   "source": [
    "for i in s:\n",
    "    print(i)"
   ]
  },
  {
   "cell_type": "code",
   "execution_count": 13,
   "id": "3e3e4932-8a57-45ba-a82d-14a6a37704d3",
   "metadata": {},
   "outputs": [
    {
     "data": {
      "text/plain": [
       "'manmohan'"
      ]
     },
     "execution_count": 13,
     "metadata": {},
     "output_type": "execute_result"
    }
   ],
   "source": [
    "s"
   ]
  },
  {
   "cell_type": "code",
   "execution_count": 14,
   "id": "48ee40e6-eeca-4e5a-8587-95a0b7d35e0d",
   "metadata": {},
   "outputs": [],
   "source": [
    "s1 = iter(s)"
   ]
  },
  {
   "cell_type": "code",
   "execution_count": 18,
   "id": "ffd61acb-4243-4a64-9a4b-19f28a9dae12",
   "metadata": {},
   "outputs": [
    {
     "data": {
      "text/plain": [
       "str_iterator"
      ]
     },
     "execution_count": 18,
     "metadata": {},
     "output_type": "execute_result"
    }
   ],
   "source": [
    "type(s1)"
   ]
  },
  {
   "cell_type": "code",
   "execution_count": 15,
   "id": "3edc650d-f4cf-47bf-bf67-5d5d6537777b",
   "metadata": {},
   "outputs": [
    {
     "data": {
      "text/plain": [
       "'m'"
      ]
     },
     "execution_count": 15,
     "metadata": {},
     "output_type": "execute_result"
    }
   ],
   "source": [
    "next(s1)"
   ]
  },
  {
   "cell_type": "code",
   "execution_count": 16,
   "id": "fe012ebe-6267-4fe9-9059-a11dbbf2e986",
   "metadata": {},
   "outputs": [
    {
     "data": {
      "text/plain": [
       "'a'"
      ]
     },
     "execution_count": 16,
     "metadata": {},
     "output_type": "execute_result"
    }
   ],
   "source": [
    "next(s1)"
   ]
  },
  {
   "cell_type": "code",
   "execution_count": 17,
   "id": "b2ff0553-8ab0-4f07-9368-27bde4fd2a34",
   "metadata": {},
   "outputs": [
    {
     "data": {
      "text/plain": [
       "'n'"
      ]
     },
     "execution_count": 17,
     "metadata": {},
     "output_type": "execute_result"
    }
   ],
   "source": [
    "next(s1)"
   ]
  },
  {
   "cell_type": "markdown",
   "id": "59b31b42-b8ef-4148-a9ac-4164558857e3",
   "metadata": {},
   "source": [
    "#Itrable are that data that is converted into iterator\n"
   ]
  },
  {
   "cell_type": "code",
   "execution_count": 19,
   "id": "0c0b190e-9b5f-48ce-8cb5-d0946fb4e412",
   "metadata": {},
   "outputs": [
    {
     "ename": "TypeError",
     "evalue": "'int' object is not an iterator",
     "output_type": "error",
     "traceback": [
      "\u001b[0;31m---------------------------------------------------------------------------\u001b[0m",
      "\u001b[0;31mTypeError\u001b[0m                                 Traceback (most recent call last)",
      "Cell \u001b[0;32mIn[19], line 1\u001b[0m\n\u001b[0;32m----> 1\u001b[0m \u001b[38;5;28;43mnext\u001b[39;49m\u001b[43m(\u001b[49m\u001b[38;5;241;43m45\u001b[39;49m\u001b[43m)\u001b[49m\n",
      "\u001b[0;31mTypeError\u001b[0m: 'int' object is not an iterator"
     ]
    }
   ],
   "source": [
    "next(45)"
   ]
  },
  {
   "cell_type": "code",
   "execution_count": 20,
   "id": "a3e5d30c-82b2-48df-8680-f0eee24180e4",
   "metadata": {},
   "outputs": [
    {
     "ename": "TypeError",
     "evalue": "'int' object is not iterable",
     "output_type": "error",
     "traceback": [
      "\u001b[0;31m---------------------------------------------------------------------------\u001b[0m",
      "\u001b[0;31mTypeError\u001b[0m                                 Traceback (most recent call last)",
      "Cell \u001b[0;32mIn[20], line 1\u001b[0m\n\u001b[0;32m----> 1\u001b[0m \u001b[38;5;28;43miter\u001b[39;49m\u001b[43m(\u001b[49m\u001b[38;5;241;43m45\u001b[39;49m\u001b[43m)\u001b[49m\n",
      "\u001b[0;31mTypeError\u001b[0m: 'int' object is not iterable"
     ]
    }
   ],
   "source": [
    "iter(45)"
   ]
  },
  {
   "cell_type": "markdown",
   "id": "c8025306-1f0c-4cf5-96b1-a9cd2abc6d5a",
   "metadata": {},
   "source": [
    "string is iterable"
   ]
  },
  {
   "cell_type": "markdown",
   "id": "fb5e5183-0c89-49d1-8400-1eb7defbf46e",
   "metadata": {},
   "source": [
    "# Lambda Function"
   ]
  },
  {
   "cell_type": "markdown",
   "id": "e1edfdfc-87f7-4dd2-a426-e895b5a43531",
   "metadata": {},
   "source": [
    "A lambda function is a small anonymous function and it can take any number of arguments, but can only have one expression."
   ]
  },
  {
   "cell_type": "code",
   "execution_count": 25,
   "id": "c20f49e2-fba0-438b-b541-705a26c616b1",
   "metadata": {},
   "outputs": [],
   "source": [
    "def test(n,p):\n",
    "    return n**p\n",
    "\n",
    "    "
   ]
  },
  {
   "cell_type": "code",
   "execution_count": 26,
   "id": "03d35dc4-afed-4835-9bd9-427fe5bb0ae9",
   "metadata": {},
   "outputs": [
    {
     "data": {
      "text/plain": [
       "9"
      ]
     },
     "execution_count": 26,
     "metadata": {},
     "output_type": "execute_result"
    }
   ],
   "source": [
    "test(3,2)"
   ]
  },
  {
   "cell_type": "code",
   "execution_count": 28,
   "id": "53d9be9a-5214-49f5-9398-b73ba8db8b40",
   "metadata": {},
   "outputs": [],
   "source": [
    "a = lambda n,p:n**p\n"
   ]
  },
  {
   "cell_type": "code",
   "execution_count": 29,
   "id": "59d3175a-67b5-4050-be8b-6cfcb1c1b991",
   "metadata": {},
   "outputs": [
    {
     "data": {
      "text/plain": [
       "9"
      ]
     },
     "execution_count": 29,
     "metadata": {},
     "output_type": "execute_result"
    }
   ],
   "source": [
    "a(3,2)"
   ]
  },
  {
   "cell_type": "code",
   "execution_count": 30,
   "id": "b18b2973-a4ea-4b85-bb35-13719545134b",
   "metadata": {},
   "outputs": [],
   "source": [
    "add = lambda x, y: x+y"
   ]
  },
  {
   "cell_type": "code",
   "execution_count": 31,
   "id": "3d5e780a-3b7f-47ec-8552-34d558bf2460",
   "metadata": {},
   "outputs": [
    {
     "data": {
      "text/plain": [
       "10"
      ]
     },
     "execution_count": 31,
     "metadata": {},
     "output_type": "execute_result"
    }
   ],
   "source": [
    "add(5,5)"
   ]
  },
  {
   "cell_type": "code",
   "execution_count": 33,
   "id": "afaf3849-f821-4b5e-99e1-6154ee93f685",
   "metadata": {},
   "outputs": [],
   "source": [
    "#convert celcius to ferignheight\n",
    "\n",
    "c_to_f = lambda c:(9/5)*c+32"
   ]
  },
  {
   "cell_type": "code",
   "execution_count": 34,
   "id": "82d61fc5-3996-4408-bd02-785b35761400",
   "metadata": {},
   "outputs": [
    {
     "data": {
      "text/plain": [
       "89.6"
      ]
     },
     "execution_count": 34,
     "metadata": {},
     "output_type": "execute_result"
    }
   ],
   "source": [
    "c_to_f (32)"
   ]
  },
  {
   "cell_type": "code",
   "execution_count": 35,
   "id": "35db7eb7-5b6d-4785-a804-a278efc6b41c",
   "metadata": {},
   "outputs": [],
   "source": [
    "#finding maximum between two number\n",
    "\n",
    "max = lambda x ,y : x if x>y  else y"
   ]
  },
  {
   "cell_type": "code",
   "execution_count": 36,
   "id": "27e8fa02-0eee-453b-bd92-2ab15fb12c92",
   "metadata": {},
   "outputs": [
    {
     "data": {
      "text/plain": [
       "9"
      ]
     },
     "execution_count": 36,
     "metadata": {},
     "output_type": "execute_result"
    }
   ],
   "source": [
    "max(6,9)"
   ]
  },
  {
   "cell_type": "code",
   "execution_count": 37,
   "id": "edfaf52e-86f0-4b5d-984c-b05cc4bcede3",
   "metadata": {},
   "outputs": [],
   "source": [
    "s = \"manmohan\""
   ]
  },
  {
   "cell_type": "code",
   "execution_count": 38,
   "id": "9a78f526-2383-4b9f-8a7e-9f775ad77db1",
   "metadata": {},
   "outputs": [],
   "source": [
    "find_len = lambda s: len(s)"
   ]
  },
  {
   "cell_type": "code",
   "execution_count": 39,
   "id": "58297c21-41bc-4328-a663-6c0b6fef21a4",
   "metadata": {},
   "outputs": [
    {
     "data": {
      "text/plain": [
       "8"
      ]
     },
     "execution_count": 39,
     "metadata": {},
     "output_type": "execute_result"
    }
   ],
   "source": [
    "find_len(s)"
   ]
  },
  {
   "cell_type": "markdown",
   "id": "3e178c40-e6a0-4470-9980-66a7d6687a2e",
   "metadata": {},
   "source": [
    "# Map Function"
   ]
  },
  {
   "cell_type": "code",
   "execution_count": 40,
   "id": "5196bdc9-2054-4aa7-b7d7-6dd7ba8ee3a2",
   "metadata": {},
   "outputs": [],
   "source": [
    "l=[1,2,3,4]"
   ]
  },
  {
   "cell_type": "code",
   "execution_count": 41,
   "id": "34c95acf-0482-4c23-8699-548b30879de7",
   "metadata": {},
   "outputs": [],
   "source": [
    "def test(l):\n",
    "    l1=[]\n",
    "    for i in l:\n",
    "        l1.append(i**2)\n",
    "    return l1"
   ]
  },
  {
   "cell_type": "code",
   "execution_count": 43,
   "id": "4e24a964-da5a-4015-8c6a-d036d31a640d",
   "metadata": {},
   "outputs": [
    {
     "data": {
      "text/plain": [
       "[1, 4, 9, 16]"
      ]
     },
     "execution_count": 43,
     "metadata": {},
     "output_type": "execute_result"
    }
   ],
   "source": [
    "test(l)"
   ]
  },
  {
   "cell_type": "code",
   "execution_count": 44,
   "id": "0836b3e4-30ae-4cfa-8da7-3d8b9999b3ad",
   "metadata": {},
   "outputs": [],
   "source": [
    "# Square all element which is in the list using map function\n",
    "def sq(x):\n",
    "    return x**2"
   ]
  },
  {
   "cell_type": "code",
   "execution_count": 45,
   "id": "99df0f87-26de-42dc-ac6c-fd3de7fc52ba",
   "metadata": {},
   "outputs": [
    {
     "data": {
      "text/plain": [
       "[1, 4, 9, 16]"
      ]
     },
     "execution_count": 45,
     "metadata": {},
     "output_type": "execute_result"
    }
   ],
   "source": [
    "list(map(sq,l))"
   ]
  },
  {
   "cell_type": "code",
   "execution_count": 46,
   "id": "1f4fd315-adc7-4616-a21a-301cde25202e",
   "metadata": {},
   "outputs": [
    {
     "data": {
      "text/plain": [
       "[1, 4, 9, 16]"
      ]
     },
     "execution_count": 46,
     "metadata": {},
     "output_type": "execute_result"
    }
   ],
   "source": [
    "list(map(lambda x:x**2 , l))"
   ]
  },
  {
   "cell_type": "code",
   "execution_count": 47,
   "id": "36f23da3-391e-47d1-a4c0-7de9094ab696",
   "metadata": {},
   "outputs": [],
   "source": [
    "l1=[1,2,3,4]\n",
    "l2=[5,6,7,8]"
   ]
  },
  {
   "cell_type": "code",
   "execution_count": 48,
   "id": "36d3df87-2b24-480a-b715-fdff425acd64",
   "metadata": {},
   "outputs": [
    {
     "data": {
      "text/plain": [
       "[6, 8, 10, 12]"
      ]
     },
     "execution_count": 48,
     "metadata": {},
     "output_type": "execute_result"
    }
   ],
   "source": [
    "list(map(lambda x , y : x+y , l1, l2))"
   ]
  },
  {
   "cell_type": "code",
   "execution_count": 49,
   "id": "e3a8c6a1-20a9-4d32-b5a7-289ac6f087d6",
   "metadata": {},
   "outputs": [],
   "source": [
    "def add(x,y):\n",
    "    return x+y"
   ]
  },
  {
   "cell_type": "code",
   "execution_count": 50,
   "id": "81906c5d-d802-45ed-ace8-0545c0ffbb37",
   "metadata": {},
   "outputs": [
    {
     "data": {
      "text/plain": [
       "[6, 8, 10, 12]"
      ]
     },
     "execution_count": 50,
     "metadata": {},
     "output_type": "execute_result"
    }
   ],
   "source": [
    "list(map(add , l1 , l2))"
   ]
  },
  {
   "cell_type": "code",
   "execution_count": 54,
   "id": "70f80e2e-41d8-4100-b6f7-4bffa817f99e",
   "metadata": {},
   "outputs": [
    {
     "data": {
      "text/plain": [
       "['M', 'A', 'N', 'M', 'O', 'H', 'A', 'N']"
      ]
     },
     "execution_count": 54,
     "metadata": {},
     "output_type": "execute_result"
    }
   ],
   "source": [
    "s=\"manmohan\"\n",
    "list(map(lambda x:x.upper() , s))"
   ]
  },
  {
   "cell_type": "markdown",
   "id": "1043f6f2-278f-493f-b0f5-775cd45f0023",
   "metadata": {},
   "source": [
    "# Reduce Function"
   ]
  },
  {
   "cell_type": "code",
   "execution_count": 59,
   "id": "00586bac-1d9f-4000-8be4-cf90379137c6",
   "metadata": {},
   "outputs": [],
   "source": [
    "from functools import reduce"
   ]
  },
  {
   "cell_type": "code",
   "execution_count": null,
   "id": "4f4ecf9a-9b44-429c-99f7-d3aec58a46c5",
   "metadata": {},
   "outputs": [],
   "source": [
    "l2=[1,2,3,4,5]"
   ]
  },
  {
   "cell_type": "code",
   "execution_count": 60,
   "id": "c5edd7d5-41bb-4f2b-9cd2-591b37413a13",
   "metadata": {},
   "outputs": [
    {
     "data": {
      "text/plain": [
       "26"
      ]
     },
     "execution_count": 60,
     "metadata": {},
     "output_type": "execute_result"
    }
   ],
   "source": [
    "reduce(lambda x , y : x + y ,l2)"
   ]
  },
  {
   "cell_type": "code",
   "execution_count": 61,
   "id": "919077c9-b813-42e6-8a94-12477a0ea81a",
   "metadata": {},
   "outputs": [
    {
     "ename": "TypeError",
     "evalue": "<lambda>() missing 1 required positional argument: 'z'",
     "output_type": "error",
     "traceback": [
      "\u001b[0;31m---------------------------------------------------------------------------\u001b[0m",
      "\u001b[0;31mTypeError\u001b[0m                                 Traceback (most recent call last)",
      "Cell \u001b[0;32mIn[61], line 1\u001b[0m\n\u001b[0;32m----> 1\u001b[0m \u001b[43mreduce\u001b[49m\u001b[43m(\u001b[49m\u001b[38;5;28;43;01mlambda\u001b[39;49;00m\u001b[43m \u001b[49m\u001b[43mx\u001b[49m\u001b[43m \u001b[49m\u001b[43m,\u001b[49m\u001b[43m \u001b[49m\u001b[43my\u001b[49m\u001b[43m \u001b[49m\u001b[43m,\u001b[49m\u001b[43mz\u001b[49m\u001b[43m \u001b[49m\u001b[43m:\u001b[49m\u001b[43m \u001b[49m\u001b[43mx\u001b[49m\u001b[43m \u001b[49m\u001b[38;5;241;43m+\u001b[39;49m\u001b[43m \u001b[49m\u001b[43my\u001b[49m\u001b[43m \u001b[49m\u001b[38;5;241;43m+\u001b[39;49m\u001b[43mz\u001b[49m\u001b[43m \u001b[49m\u001b[43m,\u001b[49m\u001b[43ml2\u001b[49m\u001b[43m)\u001b[49m\n",
      "\u001b[0;31mTypeError\u001b[0m: <lambda>() missing 1 required positional argument: 'z'"
     ]
    }
   ],
   "source": [
    "reduce(lambda x , y ,z : x + y +z ,l2)"
   ]
  },
  {
   "cell_type": "code",
   "execution_count": 62,
   "id": "f0ec4319-c659-4ced-aaf0-054465cf4eec",
   "metadata": {},
   "outputs": [
    {
     "ename": "TypeError",
     "evalue": "reduce() of empty iterable with no initial value",
     "output_type": "error",
     "traceback": [
      "\u001b[0;31m---------------------------------------------------------------------------\u001b[0m",
      "\u001b[0;31mTypeError\u001b[0m                                 Traceback (most recent call last)",
      "Cell \u001b[0;32mIn[62], line 1\u001b[0m\n\u001b[0;32m----> 1\u001b[0m \u001b[43mreduce\u001b[49m\u001b[43m(\u001b[49m\u001b[38;5;28;43;01mlambda\u001b[39;49;00m\u001b[43m \u001b[49m\u001b[43mx\u001b[49m\u001b[43m \u001b[49m\u001b[43m,\u001b[49m\u001b[43m \u001b[49m\u001b[43my\u001b[49m\u001b[43m \u001b[49m\u001b[43m:\u001b[49m\u001b[43m \u001b[49m\u001b[43mx\u001b[49m\u001b[43m \u001b[49m\u001b[38;5;241;43m+\u001b[39;49m\u001b[43m \u001b[49m\u001b[43my\u001b[49m\u001b[43m \u001b[49m\u001b[43m,\u001b[49m\u001b[43m[\u001b[49m\u001b[43m]\u001b[49m\u001b[43m)\u001b[49m\n",
      "\u001b[0;31mTypeError\u001b[0m: reduce() of empty iterable with no initial value"
     ]
    }
   ],
   "source": [
    "reduce(lambda x , y : x + y ,[])"
   ]
  },
  {
   "cell_type": "code",
   "execution_count": 63,
   "id": "c60139e3-f64b-4866-826e-13bf5031fd82",
   "metadata": {},
   "outputs": [
    {
     "data": {
      "text/plain": [
       "1"
      ]
     },
     "execution_count": 63,
     "metadata": {},
     "output_type": "execute_result"
    }
   ],
   "source": [
    "reduce(lambda x , y : x + y ,[1])"
   ]
  },
  {
   "cell_type": "code",
   "execution_count": 66,
   "id": "767f57db-0bba-4fa1-9f35-f122abf465f5",
   "metadata": {},
   "outputs": [
    {
     "data": {
      "text/plain": [
       "1680"
      ]
     },
     "execution_count": 66,
     "metadata": {},
     "output_type": "execute_result"
    }
   ],
   "source": [
    "reduce(lambda x , y : x * y ,l2)"
   ]
  },
  {
   "cell_type": "code",
   "execution_count": 68,
   "id": "e1772884-f7e1-4ab4-9d8b-3a6077c37f58",
   "metadata": {},
   "outputs": [
    {
     "data": {
      "text/plain": [
       "[1, 2, 3, 4]"
      ]
     },
     "execution_count": 68,
     "metadata": {},
     "output_type": "execute_result"
    }
   ],
   "source": [
    "l"
   ]
  },
  {
   "cell_type": "code",
   "execution_count": 69,
   "id": "2d842967-e1d4-4120-aed1-08f19a025f1d",
   "metadata": {},
   "outputs": [
    {
     "data": {
      "text/plain": [
       "4"
      ]
     },
     "execution_count": 69,
     "metadata": {},
     "output_type": "execute_result"
    }
   ],
   "source": [
    "# find and print Heighest number in list\n",
    "reduce(lambda x , y : x if x>y else y, l)  "
   ]
  },
  {
   "cell_type": "markdown",
   "id": "6ed868bc-17ab-4057-aa90-37c7aaffae64",
   "metadata": {},
   "source": [
    "# Filter Function"
   ]
  },
  {
   "cell_type": "code",
   "execution_count": 70,
   "id": "6f738168-990b-4752-8606-f8fcd2b73b2e",
   "metadata": {},
   "outputs": [
    {
     "data": {
      "text/plain": [
       "[2, 4]"
      ]
     },
     "execution_count": 70,
     "metadata": {},
     "output_type": "execute_result"
    }
   ],
   "source": [
    "# print all even number in list\n",
    "list(filter(lambda x :x%2==0 , l))"
   ]
  },
  {
   "cell_type": "code",
   "execution_count": 71,
   "id": "18299d1f-b1d1-4040-b061-55d2863ed7c5",
   "metadata": {},
   "outputs": [
    {
     "data": {
      "text/plain": [
       "[1, 3]"
      ]
     },
     "execution_count": 71,
     "metadata": {},
     "output_type": "execute_result"
    }
   ],
   "source": [
    "# print all odd number in list\n",
    "list(filter(lambda x :x%2!=0 , l))"
   ]
  },
  {
   "cell_type": "code",
   "execution_count": 72,
   "id": "f78c905e-d2f2-441d-893e-2cb966300439",
   "metadata": {},
   "outputs": [],
   "source": [
    "l8=[2,3,-1,9,-7]"
   ]
  },
  {
   "cell_type": "code",
   "execution_count": 74,
   "id": "bba57d5f-9918-4859-830d-d66b8fc88f76",
   "metadata": {},
   "outputs": [
    {
     "data": {
      "text/plain": [
       "[-1, -7]"
      ]
     },
     "execution_count": 74,
     "metadata": {},
     "output_type": "execute_result"
    }
   ],
   "source": [
    "list(filter(lambda x : x<0 , l8))"
   ]
  },
  {
   "cell_type": "code",
   "execution_count": 75,
   "id": "a1c2bb10-52c8-41f8-9d71-fdcf04f3ba95",
   "metadata": {},
   "outputs": [],
   "source": [
    "l4=[\"manmohan\" , \"mohan\", \"kr\"]"
   ]
  },
  {
   "cell_type": "code",
   "execution_count": 79,
   "id": "81e7068a-1c28-4ebf-80b6-ef072b2d593a",
   "metadata": {},
   "outputs": [
    {
     "data": {
      "text/plain": [
       "['mohan', 'kr']"
      ]
     },
     "execution_count": 79,
     "metadata": {},
     "output_type": "execute_result"
    }
   ],
   "source": [
    "list(filter(lambda x: len(x)<6 ,l4))"
   ]
  },
  {
   "cell_type": "code",
   "execution_count": null,
   "id": "14d3cd01-02d2-4bae-868f-94b0851e81e1",
   "metadata": {},
   "outputs": [],
   "source": []
  }
 ],
 "metadata": {
  "kernelspec": {
   "display_name": "Python 3 (ipykernel)",
   "language": "python",
   "name": "python3"
  },
  "language_info": {
   "codemirror_mode": {
    "name": "ipython",
    "version": 3
   },
   "file_extension": ".py",
   "mimetype": "text/x-python",
   "name": "python",
   "nbconvert_exporter": "python",
   "pygments_lexer": "ipython3",
   "version": "3.10.8"
  }
 },
 "nbformat": 4,
 "nbformat_minor": 5
}
