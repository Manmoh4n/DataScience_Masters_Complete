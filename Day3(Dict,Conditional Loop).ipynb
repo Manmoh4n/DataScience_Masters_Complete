{
 "cells": [
  {
   "cell_type": "code",
   "execution_count": 1,
   "id": "936c847a-b163-472e-b456-33cddc571b98",
   "metadata": {},
   "outputs": [],
   "source": [
    "#Dictonary :It is form of key value pair and key should be unque"
   ]
  },
  {
   "cell_type": "code",
   "execution_count": 2,
   "id": "304d8b8e-f8fd-4342-b82e-a6e1747d6430",
   "metadata": {},
   "outputs": [],
   "source": [
    "d={}"
   ]
  },
  {
   "cell_type": "code",
   "execution_count": 3,
   "id": "d14cd624-8bcf-4fa4-8caf-3358fd300230",
   "metadata": {},
   "outputs": [
    {
     "data": {
      "text/plain": [
       "dict"
      ]
     },
     "execution_count": 3,
     "metadata": {},
     "output_type": "execute_result"
    }
   ],
   "source": [
    "type(d)"
   ]
  },
  {
   "cell_type": "code",
   "execution_count": 6,
   "id": "f96b12b2-89a6-46c7-a3eb-3e8fa6e08376",
   "metadata": {},
   "outputs": [],
   "source": [
    "d1={'key':\"value\"}"
   ]
  },
  {
   "cell_type": "code",
   "execution_count": 7,
   "id": "4bf911a9-9db1-4158-883f-af78818ea24a",
   "metadata": {},
   "outputs": [
    {
     "data": {
      "text/plain": [
       "{'key': 'value'}"
      ]
     },
     "execution_count": 7,
     "metadata": {},
     "output_type": "execute_result"
    }
   ],
   "source": [
    "d1"
   ]
  },
  {
   "cell_type": "code",
   "execution_count": 8,
   "id": "3d49f176-4ac9-45f1-877f-e507492cae0d",
   "metadata": {},
   "outputs": [],
   "source": [
    "d2={'name':\"manmohan\" , 'email': \"manmohankumar945@gmai\", 'number':34567}"
   ]
  },
  {
   "cell_type": "code",
   "execution_count": 9,
   "id": "504d3361-e5f5-4ccb-8c3c-03c6291993e9",
   "metadata": {},
   "outputs": [
    {
     "data": {
      "text/plain": [
       "{'name': 'manmohan', 'email': 'manmohankumar945@gmai', 'number': 34567}"
      ]
     },
     "execution_count": 9,
     "metadata": {},
     "output_type": "execute_result"
    }
   ],
   "source": [
    "d2"
   ]
  },
  {
   "cell_type": "code",
   "execution_count": 12,
   "id": "9f02aab3-7b48-46fc-a1f9-329f974a7267",
   "metadata": {},
   "outputs": [],
   "source": [
    "d3={234:\"sudh\", '_war':'man', True:345}"
   ]
  },
  {
   "cell_type": "code",
   "execution_count": 13,
   "id": "6195b642-ecc4-43d4-8b1f-f404d1ae5ee0",
   "metadata": {},
   "outputs": [
    {
     "data": {
      "text/plain": [
       "{234: 'sudh', '_war': 'man', True: 345}"
      ]
     },
     "execution_count": 13,
     "metadata": {},
     "output_type": "execute_result"
    }
   ],
   "source": [
    "d3"
   ]
  },
  {
   "cell_type": "code",
   "execution_count": 14,
   "id": "482bdfe2-7fe9-4c43-940d-29d8f9524a7e",
   "metadata": {},
   "outputs": [
    {
     "data": {
      "text/plain": [
       "'sudh'"
      ]
     },
     "execution_count": 14,
     "metadata": {},
     "output_type": "execute_result"
    }
   ],
   "source": [
    "d3[234]"
   ]
  },
  {
   "cell_type": "code",
   "execution_count": 15,
   "id": "e8747d8d-b3cb-4103-bdda-491006811565",
   "metadata": {},
   "outputs": [
    {
     "data": {
      "text/plain": [
       "345"
      ]
     },
     "execution_count": 15,
     "metadata": {},
     "output_type": "execute_result"
    }
   ],
   "source": [
    "d3[1]  #It print 345 because value of True store 1"
   ]
  },
  {
   "cell_type": "code",
   "execution_count": 18,
   "id": "05566b9c-77ff-483b-96a8-6d65d503e711",
   "metadata": {},
   "outputs": [],
   "source": [
    "d4={'name':\"man\" ,\"mail_id\":\"msmsm@gmail\",\"name\":\"manmohan\"}  #If dulplicate key found then it print last duplicate value"
   ]
  },
  {
   "cell_type": "code",
   "execution_count": 19,
   "id": "6479a6ab-6876-4ac9-8544-692b67890a0e",
   "metadata": {},
   "outputs": [
    {
     "data": {
      "text/plain": [
       "'manmohan'"
      ]
     },
     "execution_count": 19,
     "metadata": {},
     "output_type": "execute_result"
    }
   ],
   "source": [
    "d4[\"name\"]"
   ]
  },
  {
   "cell_type": "code",
   "execution_count": 20,
   "id": "a78c640c-9377-4a46-b975-49e44e76cf85",
   "metadata": {},
   "outputs": [],
   "source": [
    "d5={\"company\":\"pwskills\",\"course\":[\"man\",\"aee\",\"ghj\",\"dfv\"]}"
   ]
  },
  {
   "cell_type": "code",
   "execution_count": 21,
   "id": "69ebb264-4e59-47e6-ac57-8400ec4319a9",
   "metadata": {},
   "outputs": [
    {
     "data": {
      "text/plain": [
       "{'company': 'pwskills', 'course': ['man', 'aee', 'ghj', 'dfv']}"
      ]
     },
     "execution_count": 21,
     "metadata": {},
     "output_type": "execute_result"
    }
   ],
   "source": [
    "d5"
   ]
  },
  {
   "cell_type": "code",
   "execution_count": 22,
   "id": "c1a7ae7c-b0bd-46fc-b835-1d8d055dbce0",
   "metadata": {},
   "outputs": [
    {
     "data": {
      "text/plain": [
       "['man', 'aee', 'ghj', 'dfv']"
      ]
     },
     "execution_count": 22,
     "metadata": {},
     "output_type": "execute_result"
    }
   ],
   "source": [
    "d5[\"course\"]"
   ]
  },
  {
   "cell_type": "code",
   "execution_count": 23,
   "id": "ef61072b-bed1-4237-baae-e196dc92f4a2",
   "metadata": {},
   "outputs": [
    {
     "data": {
      "text/plain": [
       "'dfv'"
      ]
     },
     "execution_count": 23,
     "metadata": {},
     "output_type": "execute_result"
    }
   ],
   "source": [
    "d5[\"course\"][3]"
   ]
  },
  {
   "cell_type": "code",
   "execution_count": 2,
   "id": "20ce0a4b-bf30-4563-88ef-0b1250b4f57d",
   "metadata": {},
   "outputs": [],
   "source": [
    "d6={\"number\":[2,3,4,5,66],\"assing\":(2,3,4,5,6),\"date\":{3,3,5,6},\"time\":{\"man\":34,\"dsa\":\"dfg\"}}"
   ]
  },
  {
   "cell_type": "code",
   "execution_count": 3,
   "id": "4fc151ee-45ea-4d2d-b7cc-86f5ccc4e9e8",
   "metadata": {},
   "outputs": [
    {
     "data": {
      "text/plain": [
       "{'number': [2, 3, 4, 5, 66],\n",
       " 'assing': (2, 3, 4, 5, 6),\n",
       " 'date': {3, 5, 6},\n",
       " 'time': {'man': 34, 'dsa': 'dfg'}}"
      ]
     },
     "execution_count": 3,
     "metadata": {},
     "output_type": "execute_result"
    }
   ],
   "source": [
    "d6"
   ]
  },
  {
   "cell_type": "code",
   "execution_count": 4,
   "id": "c058de53-9327-47c8-a1a5-a738ce13f9b0",
   "metadata": {},
   "outputs": [
    {
     "data": {
      "text/plain": [
       "34"
      ]
     },
     "execution_count": 4,
     "metadata": {},
     "output_type": "execute_result"
    }
   ],
   "source": [
    "d6[\"time\"][\"man\"]"
   ]
  },
  {
   "cell_type": "code",
   "execution_count": 5,
   "id": "55a550b4-5329-4e2e-8a03-7af27b71c494",
   "metadata": {},
   "outputs": [],
   "source": [
    "d6[\"mentor\"]=[\"dede\",\"edede\",\"dfef\"]"
   ]
  },
  {
   "cell_type": "code",
   "execution_count": 6,
   "id": "6fdfa405-8d39-45f6-b2eb-597b084f8d02",
   "metadata": {},
   "outputs": [
    {
     "data": {
      "text/plain": [
       "{'number': [2, 3, 4, 5, 66],\n",
       " 'assing': (2, 3, 4, 5, 6),\n",
       " 'date': {3, 5, 6},\n",
       " 'time': {'man': 34, 'dsa': 'dfg'},\n",
       " 'mentor': ['dede', 'edede', 'dfef']}"
      ]
     },
     "execution_count": 6,
     "metadata": {},
     "output_type": "execute_result"
    }
   ],
   "source": [
    "d6"
   ]
  },
  {
   "cell_type": "code",
   "execution_count": 7,
   "id": "1f1b839d-3e4e-42b0-8e1e-5bbdb72dd93b",
   "metadata": {},
   "outputs": [],
   "source": [
    "d6[\"date\"]=[\"dede\",\"edede\",\"dfef\"]"
   ]
  },
  {
   "cell_type": "code",
   "execution_count": 8,
   "id": "7ef65559-95ab-4941-a75c-b817da44d54a",
   "metadata": {},
   "outputs": [
    {
     "data": {
      "text/plain": [
       "{'number': [2, 3, 4, 5, 66],\n",
       " 'assing': (2, 3, 4, 5, 6),\n",
       " 'date': ['dede', 'edede', 'dfef'],\n",
       " 'time': {'man': 34, 'dsa': 'dfg'},\n",
       " 'mentor': ['dede', 'edede', 'dfef']}"
      ]
     },
     "execution_count": 8,
     "metadata": {},
     "output_type": "execute_result"
    }
   ],
   "source": [
    "d6"
   ]
  },
  {
   "cell_type": "code",
   "execution_count": 9,
   "id": "0355873d-6eff-49ff-8aa0-06c532f9e02f",
   "metadata": {},
   "outputs": [],
   "source": [
    "del d6[\"number\"]"
   ]
  },
  {
   "cell_type": "code",
   "execution_count": 10,
   "id": "c19718be-0633-49fe-b8a3-eeab2b709580",
   "metadata": {},
   "outputs": [
    {
     "data": {
      "text/plain": [
       "{'assing': (2, 3, 4, 5, 6),\n",
       " 'date': ['dede', 'edede', 'dfef'],\n",
       " 'time': {'man': 34, 'dsa': 'dfg'},\n",
       " 'mentor': ['dede', 'edede', 'dfef']}"
      ]
     },
     "execution_count": 10,
     "metadata": {},
     "output_type": "execute_result"
    }
   ],
   "source": [
    "d6"
   ]
  },
  {
   "cell_type": "code",
   "execution_count": 11,
   "id": "cf70fc46-5e07-4285-aa87-877247ac3c20",
   "metadata": {},
   "outputs": [
    {
     "data": {
      "text/plain": [
       "dict_keys(['assing', 'date', 'time', 'mentor'])"
      ]
     },
     "execution_count": 11,
     "metadata": {},
     "output_type": "execute_result"
    }
   ],
   "source": [
    "d6.keys()"
   ]
  },
  {
   "cell_type": "code",
   "execution_count": 12,
   "id": "03635305-42f2-4dc8-ad95-a99fa51e8d09",
   "metadata": {},
   "outputs": [
    {
     "data": {
      "text/plain": [
       "['assing', 'date', 'time', 'mentor']"
      ]
     },
     "execution_count": 12,
     "metadata": {},
     "output_type": "execute_result"
    }
   ],
   "source": [
    "list(d6.keys())"
   ]
  },
  {
   "cell_type": "code",
   "execution_count": 13,
   "id": "33c72c0f-0a3c-440f-87a4-15db3b4f98a3",
   "metadata": {},
   "outputs": [
    {
     "data": {
      "text/plain": [
       "dict_values([(2, 3, 4, 5, 6), ['dede', 'edede', 'dfef'], {'man': 34, 'dsa': 'dfg'}, ['dede', 'edede', 'dfef']])"
      ]
     },
     "execution_count": 13,
     "metadata": {},
     "output_type": "execute_result"
    }
   ],
   "source": [
    "d6.values()"
   ]
  },
  {
   "cell_type": "code",
   "execution_count": 15,
   "id": "ebff7e7a-1fbb-40ac-a97d-d64884297b83",
   "metadata": {},
   "outputs": [
    {
     "data": {
      "text/plain": [
       "[('assing', (2, 3, 4, 5, 6)),\n",
       " ('date', ['dede', 'edede', 'dfef']),\n",
       " ('time', {'man': 34, 'dsa': 'dfg'}),\n",
       " ('mentor', ['dede', 'edede', 'dfef'])]"
      ]
     },
     "execution_count": 15,
     "metadata": {},
     "output_type": "execute_result"
    }
   ],
   "source": [
    "list(d6.items())   #It give both key and value"
   ]
  },
  {
   "cell_type": "code",
   "execution_count": 17,
   "id": "8d3d944a-48cd-4dcc-976e-978ff49e9db7",
   "metadata": {},
   "outputs": [
    {
     "data": {
      "text/plain": [
       "['dede', 'edede', 'dfef']"
      ]
     },
     "execution_count": 17,
     "metadata": {},
     "output_type": "execute_result"
    }
   ],
   "source": [
    "d6.pop(\"date\")"
   ]
  },
  {
   "cell_type": "code",
   "execution_count": null,
   "id": "a2091c53-0653-4423-a94a-6dba7795f5e2",
   "metadata": {},
   "outputs": [],
   "source": [
    "#Condition Statement"
   ]
  },
  {
   "cell_type": "code",
   "execution_count": 20,
   "id": "1e89b2d0-1cc4-4299-9e04-ff4dbcd77b19",
   "metadata": {},
   "outputs": [
    {
     "name": "stdin",
     "output_type": "stream",
     "text": [
      "Enter your marks :  3\n"
     ]
    },
    {
     "name": "stdout",
     "output_type": "stream",
     "text": [
      "You do nothing in your life \n"
     ]
    }
   ],
   "source": [
    "marks=int(input(\"Enter your marks : \"))\n",
    "if marks >=80:\n",
    "    print(\"You are great\")\n",
    "elif marks>=60 and marks<80:\n",
    "    print(\"you are hero\")\n",
    "else:\n",
    "    print(\"You do nothing in your life \")"
   ]
  },
  {
   "cell_type": "code",
   "execution_count": null,
   "id": "b1a81bee-8bdb-4e10-a1c1-b76567f9e4e9",
   "metadata": {},
   "outputs": [],
   "source": [
    "price = int(input(\"Enter price : \"))\n",
    "if price>500:\n",
    "    print(\"wow\")\n",
    "    if price>900:\n",
    "        print(\"nice\")\n",
    "    elif price>10000:\n",
    "        print(\"hard\")\n",
    "    else:\n",
    "        print(\"sorry\")\n",
    "else:\n",
    "    print(\"yo\")"
   ]
  },
  {
   "cell_type": "code",
   "execution_count": 25,
   "id": "0ee33495-f504-4fa9-a08c-eeae056f25f2",
   "metadata": {},
   "outputs": [],
   "source": [
    "l=[1,2,3,3,4,5,6,7,8]"
   ]
  },
  {
   "cell_type": "code",
   "execution_count": 26,
   "id": "2bf83e8b-afa5-4a53-abb4-d021dbb7fe5f",
   "metadata": {},
   "outputs": [
    {
     "data": {
      "text/plain": [
       "[1, 2, 3, 3, 4, 5, 6, 7, 8]"
      ]
     },
     "execution_count": 26,
     "metadata": {},
     "output_type": "execute_result"
    }
   ],
   "source": [
    "l"
   ]
  },
  {
   "cell_type": "code",
   "execution_count": 28,
   "id": "01dcede8-1d83-4789-8882-368665e7dbdd",
   "metadata": {},
   "outputs": [
    {
     "data": {
      "text/plain": [
       "2"
      ]
     },
     "execution_count": 28,
     "metadata": {},
     "output_type": "execute_result"
    }
   ],
   "source": [
    "l[0]+1"
   ]
  },
  {
   "cell_type": "code",
   "execution_count": 36,
   "id": "f2a0fa11-78c8-4c9e-92a6-025c93e415d5",
   "metadata": {},
   "outputs": [],
   "source": [
    "l1=[]"
   ]
  },
  {
   "cell_type": "code",
   "execution_count": 37,
   "id": "4101af7a-ac6f-4711-aeaf-9cfdee7e06e5",
   "metadata": {},
   "outputs": [],
   "source": [
    "l1.append(l[0]+1)"
   ]
  },
  {
   "cell_type": "code",
   "execution_count": 38,
   "id": "94ce74cf-fe36-4c1b-b9a4-1cf8b51e7d4a",
   "metadata": {},
   "outputs": [
    {
     "data": {
      "text/plain": [
       "[2]"
      ]
     },
     "execution_count": 38,
     "metadata": {},
     "output_type": "execute_result"
    }
   ],
   "source": [
    "l1"
   ]
  },
  {
   "cell_type": "code",
   "execution_count": 39,
   "id": "4548e800-0b9b-471e-b255-24aa1142c20a",
   "metadata": {},
   "outputs": [
    {
     "data": {
      "text/plain": [
       "[1, 2, 3, 3, 4, 5, 6, 7, 8]"
      ]
     },
     "execution_count": 39,
     "metadata": {},
     "output_type": "execute_result"
    }
   ],
   "source": [
    "l"
   ]
  },
  {
   "cell_type": "code",
   "execution_count": 44,
   "id": "5c1c5329-544b-43b6-8e83-c2d79b148e14",
   "metadata": {},
   "outputs": [
    {
     "name": "stdout",
     "output_type": "stream",
     "text": [
      "1 2 3 3 4 5 6 7 8 "
     ]
    }
   ],
   "source": [
    "for i in l:\n",
    "    print(i ,end=\" \")"
   ]
  },
  {
   "cell_type": "code",
   "execution_count": 45,
   "id": "e5e41f90-fdb7-447c-81f4-85e4f8b028ac",
   "metadata": {},
   "outputs": [
    {
     "name": "stdout",
     "output_type": "stream",
     "text": [
      "2 3 4 4 5 6 7 8 9 "
     ]
    }
   ],
   "source": [
    "for i in l:\n",
    "    print(i+1,end=\" \")    #Add 1 in all element"
   ]
  },
  {
   "cell_type": "code",
   "execution_count": 51,
   "id": "d2a52a2f-8e53-49a9-b9f1-79e30874355f",
   "metadata": {},
   "outputs": [
    {
     "name": "stdout",
     "output_type": "stream",
     "text": [
      "2\n",
      "3\n",
      "4\n",
      "4\n",
      "5\n",
      "6\n",
      "7\n",
      "8\n",
      "9\n"
     ]
    },
    {
     "data": {
      "text/plain": [
       "[2, 3, 4, 4, 5, 6, 7, 8, 9]"
      ]
     },
     "execution_count": 51,
     "metadata": {},
     "output_type": "execute_result"
    }
   ],
   "source": [
    "l1=[]\n",
    "for i in l:\n",
    "    print(i+1)\n",
    "    l1.append(i+1)\n",
    "l1"
   ]
  },
  {
   "cell_type": "code",
   "execution_count": 54,
   "id": "9d66ae3a-524e-4616-b657-d3e378756c04",
   "metadata": {},
   "outputs": [],
   "source": [
    "l=[\"sudh\",\"kumar\",\"hello\",\"hiii\"]"
   ]
  },
  {
   "cell_type": "code",
   "execution_count": 61,
   "id": "96947ce7-a12e-410a-9475-50b8f6e1b689",
   "metadata": {},
   "outputs": [
    {
     "name": "stdout",
     "output_type": "stream",
     "text": [
      "sudh\n",
      "kumar\n",
      "hello\n",
      "hiii\n"
     ]
    }
   ],
   "source": [
    "l1=[]\n",
    "for i in l:\n",
    "    print(i)\n",
    "    l1.append(i.upper())\n",
    "\n"
   ]
  },
  {
   "cell_type": "code",
   "execution_count": 62,
   "id": "7a5f2d55-2a94-40dd-be38-7b955f121894",
   "metadata": {},
   "outputs": [
    {
     "data": {
      "text/plain": [
       "['SUDH', 'KUMAR', 'HELLO', 'HIII']"
      ]
     },
     "execution_count": 62,
     "metadata": {},
     "output_type": "execute_result"
    }
   ],
   "source": [
    "l1"
   ]
  },
  {
   "cell_type": "code",
   "execution_count": 63,
   "id": "d781d3ca-d76a-44e3-b783-100f09395354",
   "metadata": {},
   "outputs": [],
   "source": [
    "l=[1,2,3,4,5,\"subh\",\"kumar\",6,7,8]"
   ]
  },
  {
   "cell_type": "code",
   "execution_count": 64,
   "id": "6c107232-7c0e-4162-9077-24bdbe69a63a",
   "metadata": {},
   "outputs": [
    {
     "data": {
      "text/plain": [
       "[1, 2, 3, 4, 5, 'subh', 'kumar', 6, 7, 8]"
      ]
     },
     "execution_count": 64,
     "metadata": {},
     "output_type": "execute_result"
    }
   ],
   "source": [
    "l"
   ]
  },
  {
   "cell_type": "code",
   "execution_count": 70,
   "id": "d7c3bb74-21ec-4d0c-915f-f37ea8e140bc",
   "metadata": {},
   "outputs": [],
   "source": [
    "l1_num=[]\n",
    "l2_str=[]\n",
    "for i in l:\n",
    "    if type(i) == int or type(i)==float:\n",
    "        l1_num.append(i)\n",
    "    else:\n",
    "        l2_str.append(i)"
   ]
  },
  {
   "cell_type": "code",
   "execution_count": 71,
   "id": "9e16fe96-8679-426f-b14c-50f7591c5144",
   "metadata": {},
   "outputs": [
    {
     "data": {
      "text/plain": [
       "[1, 2, 3, 4, 5, 6, 7, 8]"
      ]
     },
     "execution_count": 71,
     "metadata": {},
     "output_type": "execute_result"
    }
   ],
   "source": [
    "l1_num"
   ]
  },
  {
   "cell_type": "code",
   "execution_count": 72,
   "id": "1c6bdff4-e250-465a-a2ec-b34b238f4cca",
   "metadata": {},
   "outputs": [
    {
     "data": {
      "text/plain": [
       "['subh', 'kumar']"
      ]
     },
     "execution_count": 72,
     "metadata": {},
     "output_type": "execute_result"
    }
   ],
   "source": [
    "l2_str"
   ]
  },
  {
   "cell_type": "code",
   "execution_count": null,
   "id": "d9d80e82-f234-4443-986c-d6725b22c6a7",
   "metadata": {},
   "outputs": [],
   "source": []
  }
 ],
 "metadata": {
  "kernelspec": {
   "display_name": "Python 3 (ipykernel)",
   "language": "python",
   "name": "python3"
  },
  "language_info": {
   "codemirror_mode": {
    "name": "ipython",
    "version": 3
   },
   "file_extension": ".py",
   "mimetype": "text/x-python",
   "name": "python",
   "nbconvert_exporter": "python",
   "pygments_lexer": "ipython3",
   "version": "3.10.8"
  }
 },
 "nbformat": 4,
 "nbformat_minor": 5
}
