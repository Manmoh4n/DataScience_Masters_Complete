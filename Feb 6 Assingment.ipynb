{
 "cells": [
  {
   "cell_type": "markdown",
   "id": "91f8abfd-28a7-4cf0-8982-7e2ad64b791e",
   "metadata": {},
   "source": [
    "Q1. Create a function which will take a list as an argument and return the product of all the numbers\n",
    "after creating a flat list.\n",
    "Use the below-given list as an argument for your function.\n",
    "list1 = [1,2,3,4, [44,55,66, True], False, (34,56,78,89,34), {1,2,3,3,2,1}, {1:34, \"key2\": [55, 67, 78, 89], 4: (45,\n",
    "22, 61, 34)}, [56, 'data science'], 'Machine Learning']"
   ]
  },
  {
   "cell_type": "code",
   "execution_count": 3,
   "id": "c8f50fcc-28cd-4647-9190-ea0d1d62c9dd",
   "metadata": {},
   "outputs": [],
   "source": [
    "list1 = [1,2,3,4, [44,55,66, True], False, (34,56,78,89,34), {1,2,3,3,2,1}, {1:34, \"key2\": [55, 67, 78, 89], 4: (45, 22, 61, 34)}, [56, 'data science'],'Machine Learning']"
   ]
  },
  {
   "cell_type": "code",
   "execution_count": 7,
   "id": "aca74a73-da55-48a6-9762-e57f525fa439",
   "metadata": {},
   "outputs": [],
   "source": [
    "l2 = []\n",
    "def ext():\n",
    "    for i in list1:\n",
    "        if type(i)==int or type(i)==str:\n",
    "            l2.append(i)\n",
    "        else:\n",
    "            print(\"Here is call\")"
   ]
  },
  {
   "cell_type": "code",
   "execution_count": 8,
   "id": "26cca7ac-45f7-4d68-99ea-5cb4531deeaa",
   "metadata": {},
   "outputs": [
    {
     "name": "stdout",
     "output_type": "stream",
     "text": [
      "Here is call\n",
      "Here is call\n",
      "Here is call\n",
      "Here is call\n",
      "Here is call\n",
      "Here is call\n"
     ]
    }
   ],
   "source": [
    "ext()"
   ]
  },
  {
   "cell_type": "code",
   "execution_count": null,
   "id": "8df5f516-5ec3-467d-8096-1b37e888c0e5",
   "metadata": {},
   "outputs": [],
   "source": []
  }
 ],
 "metadata": {
  "kernelspec": {
   "display_name": "Python 3 (ipykernel)",
   "language": "python",
   "name": "python3"
  },
  "language_info": {
   "codemirror_mode": {
    "name": "ipython",
    "version": 3
   },
   "file_extension": ".py",
   "mimetype": "text/x-python",
   "name": "python",
   "nbconvert_exporter": "python",
   "pygments_lexer": "ipython3",
   "version": "3.10.8"
  }
 },
 "nbformat": 4,
 "nbformat_minor": 5
}
