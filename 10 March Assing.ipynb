{
 "cells": [
  {
   "cell_type": "markdown",
   "id": "54fe1095-98f6-407e-81c6-e9f0e606c434",
   "metadata": {},
   "source": [
    "# Q1: What is Estimation Statistics? Explain point estimate and interval estimate."
   ]
  },
  {
   "cell_type": "markdown",
   "id": "d2daf71b-9ac2-4ba3-a9eb-43b8a1d01231",
   "metadata": {},
   "source": [
    "Estimation in statistics is the process of using sample data to draw conclusions or make inferences about a population. It involves calculating point estimates or interval estimates of population parameters such as the mean, variance, or proportion based on sample data.\n",
    "\n",
    "A point estimate is a single value that is the best guess of the population parameter based on sample data. \n",
    "\n",
    "An interval estimate, on the other hand, provides a range of values within which the true value of the population parameter is likely to fall with a certain level of confidence."
   ]
  },
  {
   "cell_type": "markdown",
   "id": "ef2b1a97-3af3-44a0-bdcb-953cc881eb1d",
   "metadata": {},
   "source": [
    "#  Q2. Write a Python function to estimate the population mean using a sample mean and standard deviation."
   ]
  },
  {
   "cell_type": "code",
   "execution_count": 1,
   "id": "58f0c05f-1771-45a0-81d9-f4628d7fb455",
   "metadata": {},
   "outputs": [
    {
     "name": "stdout",
     "output_type": "stream",
     "text": [
      "Estimated population mean:  (10.0884, 10.5, 10.9116)\n"
     ]
    }
   ],
   "source": [
    "def estimate_population_mean(sample_mean, sample_std_dev, sample_size):\n",
    "    \"\"\"\n",
    "    Function to estimate the population mean using a sample mean and standard deviation.\n",
    "\n",
    "    Args:\n",
    "        sample_mean (float): The sample mean.\n",
    "        sample_std_dev (float): The sample standard deviation.\n",
    "        sample_size (int): The sample size.\n",
    "\n",
    "    Returns:\n",
    "        float: The estimated population mean.\n",
    "    \"\"\"\n",
    "    import math\n",
    "\n",
    "    # Calculate the standard error of the mean\n",
    "    std_error = sample_std_dev / math.sqrt(sample_size)\n",
    "\n",
    "    # Calculate the margin of error (using a 95% confidence interval)\n",
    "    margin_error = 1.96 * std_error\n",
    "\n",
    "    # Calculate the lower and upper bounds of the confidence interval\n",
    "    lower_bound = sample_mean - margin_error\n",
    "    upper_bound = sample_mean + margin_error\n",
    "\n",
    "    # Return the estimated population mean\n",
    "    return lower_bound, sample_mean, upper_bound\n",
    "\n",
    "    # Example usage\n",
    "sample_mean = 10.5\n",
    "sample_std_dev = 2.1\n",
    "sample_size = 100\n",
    "\n",
    "population_mean = estimate_population_mean(sample_mean, sample_std_dev, sample_size)\n",
    "\n",
    "print(\"Estimated population mean: \", population_mean)\n",
    "\n"
   ]
  },
  {
   "cell_type": "markdown",
   "id": "e659dde4-f913-42b0-ab81-09aceefa16b1",
   "metadata": {},
   "source": [
    "# Q3: What is Hypothesis testing? Why is it used? State the importance of Hypothesis testing."
   ]
  },
  {
   "cell_type": "markdown",
   "id": "4fa99867-5baf-423e-862e-fe73b4cfc398",
   "metadata": {},
   "source": [
    "Hypothesis testing is a statistical method used to make decisions about a population based on sample data. It involves formulating a null hypothesis and an alternative hypothesis about a population parameter, collecting sample data, and using statistical methods to determine the likelihood of observing the sample data if the null hypothesis were true. If the sample data is unlikely to occur if the null hypothesis were true, we reject the null hypothesis in favor of the alternative hypothesis.\n",
    "\n",
    "\n",
    "Hypothesis testing is used in many fields, including science, engineering, business, and social sciences, to draw conclusions about populations based on sample data. It is an important tool because it allows us to make evidence-based decisions and draw valid conclusions based on data. By testing hypotheses, we can determine whether observed differences or relationships between variables are statistically significant, or whether they could have occurred by chance.\n",
    "\n",
    "The importance of hypothesis testing lies in its ability to provide a rigorous and objective method for making decisions based on data. It helps to ensure that our conclusions are based on sound statistical principles and not on intuition or subjective opinions. Hypothesis testing also allows us to quantify the level of uncertainty or risk associated with our conclusions, by calculating p-values and confidence intervals. This helps us to communicate our findings effectively and to make informed decisions based on the available evidence."
   ]
  },
  {
   "cell_type": "markdown",
   "id": "c1492819-f223-41a5-891f-25caf7ea3adc",
   "metadata": {},
   "source": [
    "# Q4. Create a hypothesis that states whether the average weight of male college students is greater than the average weight of female college students."
   ]
  },
  {
   "cell_type": "markdown",
   "id": "bc5e6b7e-4455-42be-990c-c03fa3602ac9",
   "metadata": {},
   "source": [
    "Null Hypothesis: The average weight of male college students is not greater than the average weight of female college students.\n",
    "\n",
    "Alternative Hypothesis: The average weight of male college students is greater than the average weight of female college students.\n",
    "\n",
    "Symbolically, we can represent the hypotheses as:\n",
    "\n",
    "H0: μf ≥ μm\n",
    "\n",
    "Ha: μf < μm\n",
    "\n",
    "Where,\n",
    "\n",
    "H0 = Null hypothesis\n",
    "Ha = Alternative hypothesis\n",
    "μf = Population mean weight of female college students\n",
    "μm = Population mean weight of male college students\n",
    "\n",
    "Note that we have used a one-tailed test, since the alternative hypothesis specifies a direction (greater than). We could also use a two-tailed test if we were interested in whether the weights are simply different, without specifying a direction."
   ]
  },
  {
   "cell_type": "markdown",
   "id": "588edb70-1c64-44d3-8512-c3d4c88ddea9",
   "metadata": {},
   "source": [
    "# Q5. Write a Python script to conduct a hypothesis test on the difference between two population means, given a sample from each population."
   ]
  },
  {
   "cell_type": "code",
   "execution_count": 2,
   "id": "f5e79a53-a0f7-4a04-85eb-625ec6f651ec",
   "metadata": {},
   "outputs": [
    {
     "name": "stdout",
     "output_type": "stream",
     "text": [
      "Sample 1 mean:  3.0\n",
      "Sample 2 mean:  8.0\n",
      "Sample 1 std deviation:  1.5811388300841898\n",
      "Sample 2 std deviation:  1.5811388300841898\n",
      "Test statistic:  -5.0\n",
      "P-value:  0.001052825793366539\n"
     ]
    }
   ],
   "source": [
    "import numpy as np\n",
    "from scipy.stats import ttest_ind\n",
    "\n",
    "# define two samples\n",
    "sample1 = np.array([1, 2, 3, 4, 5])\n",
    "sample2 = np.array([6, 7, 8, 9, 10])\n",
    "\n",
    "# calculate sample means and standard deviations\n",
    "mean1 = np.mean(sample1)\n",
    "mean2 = np.mean(sample2)\n",
    "std1 = np.std(sample1, ddof=1)\n",
    "std2 = np.std(sample2, ddof=1)\n",
    "\n",
    "# calculate the test statistic and p-value using a two-sample t-test\n",
    "test_stat, p_val = ttest_ind(sample1, sample2)\n",
    "\n",
    "# print the results\n",
    "print(\"Sample 1 mean: \", mean1)\n",
    "print(\"Sample 2 mean: \", mean2)\n",
    "print(\"Sample 1 std deviation: \", std1)\n",
    "print(\"Sample 2 std deviation: \", std2)\n",
    "print(\"Test statistic: \", test_stat)\n",
    "print(\"P-value: \", p_val)\n"
   ]
  },
  {
   "cell_type": "markdown",
   "id": "18d6470d-0299-4044-8377-c2a68f30df5f",
   "metadata": {},
   "source": [
    "# Q6: What is a null and alternative hypothesis? Give some examples."
   ]
  },
  {
   "cell_type": "markdown",
   "id": "ad62f46c-f420-473d-9ddc-caa565561021",
   "metadata": {},
   "source": [
    "In hypothesis testing, the null hypothesis (denoted as H0) is a statement or assumption that there is no significant difference between two populations or no significant effect of a treatment or intervention. The alternative hypothesis (denoted as Ha or H1) is the opposite of the null hypothesis, stating that there is a significant difference or effect."
   ]
  },
  {
   "cell_type": "markdown",
   "id": "22d62666-57f7-4f51-b736-01ea77db6d9f",
   "metadata": {},
   "source": [
    "# Q7: Write down the steps involved in hypothesis testing."
   ]
  },
  {
   "cell_type": "markdown",
   "id": "94621c07-b5dd-4386-9513-c612b2ffde82",
   "metadata": {},
   "source": [
    "The general steps involved in hypothesis testing are:\n",
    "\n",
    "- State the null and alternative hypotheses: The first step in hypothesis testing is to clearly state the null and alternative hypotheses. The null hypothesis is typically the hypothesis of no effect or no difference, while the alternative hypothesis is the hypothesis that proposes a specific effect or difference.\n",
    "\n",
    "- Determine the level of significance: The level of significance (alpha level) is the probability of rejecting the null hypothesis when it is actually true. It is typically set to 0.05 or 0.01, but can be adjusted based on the context and the consequences of making a type I error (rejecting a true null hypothesis).\n",
    "\n",
    "- Determine the appropriate statistical test: The appropriate statistical test depends on the research question and the type of data being analyzed. For example, if comparing two means, a t-test may be used, while if comparing proportions, a chi-square test may be used.\n",
    "\n",
    "- Collect and analyze the data: Data must be collected and analyzed to determine whether the null hypothesis can be rejected. The sample size and sampling method should also be considered when analyzing the data.\n",
    "\n",
    "- Calculate the test statistic and p-value: The test statistic is a measure of the difference between the sample statistic and the hypothesized population parameter under the null hypothesis. The p-value is the probability of obtaining a test statistic as extreme as or more extreme than the observed test statistic, assuming the null hypothesis is true.\n",
    "\n",
    "- Make a decision and interpret the results: The decision to reject or fail to reject the null hypothesis is based on comparing the calculated p-value to the level of significance. If the p-value is less than or equal to the level of significance, the null hypothesis is rejected in favor of the alternative hypothesis. If the p-value is greater than the level of significance, the null hypothesis cannot be rejected.\n",
    "\n",
    "- Draw conclusions and make recommendations: Based on the results of the hypothesis test, conclusions should be drawn and recommendations made for future research or decision-making. It is important to consider the limitations of the study and the implications of the results in the larger context."
   ]
  },
  {
   "cell_type": "markdown",
   "id": "973d4fba-d5a4-46cf-8166-a6be48ac5346",
   "metadata": {},
   "source": [
    "# Q8. Define p-value and explain its significance in hypothesis testing."
   ]
  },
  {
   "cell_type": "markdown",
   "id": "4b4da268-25be-4bc5-bf3d-c02044d25a6b",
   "metadata": {},
   "source": [
    "The p-value is significant in hypothesis testing because it provides a way to determine whether the observed data is consistent with the null hypothesis. If the p-value is less than or equal to the level of significance (alpha), then the null hypothesis is rejected in favor of the alternative hypothesis. This means that the observed data is unlikely to have occurred by chance alone if the null hypothesis is true. On the other hand, if the p-value is greater than the level of significance, then the null hypothesis cannot be rejected.\n",
    "\n"
   ]
  },
  {
   "cell_type": "markdown",
   "id": "4c4b2410-4f2e-42b1-a34f-41e6eb361a71",
   "metadata": {},
   "source": [
    "# Q9. Generate a Student's t-distribution plot using Python's matplotlib library, with the degrees of freedom parameter set to 10."
   ]
  },
  {
   "cell_type": "code",
   "execution_count": 4,
   "id": "f740a15e-7892-4bde-b891-6e89d00a6496",
   "metadata": {},
   "outputs": [
    {
     "data": {
      "image/png": "[encoded data removed]",
      "text/plain": [
       "<Figure size 640x480 with 1 Axes>"
      ]
     },
     "metadata": {},
     "output_type": "display_data"
    }
   ],
   "source": [
    "import numpy as np\n",
    "import matplotlib.pyplot as plt\n",
    "from scipy.stats import t\n",
    "\n",
    "# Generate a range of x-values from -3 to 3 with 1000 intervals\n",
    "x = np.linspace(-3, 3, 1000)\n",
    "\n",
    "# Compute the Student's t-distribution with 10 degrees of freedom\n",
    "t_dist = t.pdf(x, df=10)\n",
    "\n",
    "# Plot the distribution\n",
    "plt.plot(x, t_dist, label='t-distribution with 10 degrees of freedom')\n",
    "\n",
    "# Set plot title and axis labels\n",
    "plt.title(\"Student's t-distribution with 10 degrees of freedom\")\n",
    "plt.xlabel('x')\n",
    "plt.ylabel('Density')\n",
    "\n",
    "# Show the plot\n",
    "plt.show()\n"
   ]
  },
  {
   "cell_type": "markdown",
   "id": "a3924112-ea1b-4daa-9bef-d92f325afec8",
   "metadata": {},
   "source": [
    "# Q10. Write a Python program to calculate the two-sample t-test for independent samples, given two random samples of equal size and a null hypothesis that the population means are equal."
   ]
  },
  {
   "cell_type": "code",
   "execution_count": 5,
   "id": "c783648d-8a8c-4f64-a77f-19bf80e1cc52",
   "metadata": {},
   "outputs": [
    {
     "name": "stdout",
     "output_type": "stream",
     "text": [
      "Sample 1 mean: -0.3114709977907267\n",
      "Sample 2 mean: 0.5418030035775969\n",
      "t-statistic: -2.145755979922828\n",
      "p-value: 0.03834310183291686\n"
     ]
    }
   ],
   "source": [
    "import numpy as np\n",
    "from scipy.stats import ttest_ind\n",
    "\n",
    "# Generate two random samples of size n\n",
    "n = 20\n",
    "sample1 = np.random.normal(0, 1, n)\n",
    "sample2 = np.random.normal(0.5, 1, n)\n",
    "\n",
    "# Calculate the t-test for independent samples\n",
    "t_stat, p_value = ttest_ind(sample1, sample2)\n",
    "\n",
    "# Print the results\n",
    "print(\"Sample 1 mean:\", np.mean(sample1))\n",
    "print(\"Sample 2 mean:\", np.mean(sample2))\n",
    "print(\"t-statistic:\", t_stat)\n",
    "print(\"p-value:\", p_value)\n"
   ]
  },
  {
   "cell_type": "markdown",
   "id": "fcdcebee-2c7e-4c80-ba88-3ede2201e825",
   "metadata": {},
   "source": [
    "# Q11: What is Student’s t distribution? When to use the t-Distribution."
   ]
  },
  {
   "cell_type": "markdown",
   "id": "1762b111-8e54-4123-bc82-a1fb901127c5",
   "metadata": {},
   "source": [
    "Student's t-distribution, also known as the t-distribution, is a probability distribution that is used in hypothesis testing when the sample size is small or the population standard deviation is unknown. The t-distribution is similar to the normal distribution in shape but has heavier tails, which means it has more probability in the tails and less in the center compared to the normal distribution.\n",
    "\n",
    "The t-distribution is used in situations where the sample size is small, typically less than 30, and the population standard deviation is unknown. It is often used to estimate the mean of a population or to compare the means of two populations when the sample sizes are small."
   ]
  },
  {
   "cell_type": "markdown",
   "id": "795b3321-05c1-452a-9068-53582e60102e",
   "metadata": {},
   "source": [
    "# Q12: What is t-statistic? State the formula for t-statistic."
   ]
  },
  {
   "cell_type": "markdown",
   "id": "4f761bba-507a-4e7d-a04b-16119182dbb6",
   "metadata": {},
   "source": [
    "In statistics, the t-statistic is a measure used to test the null hypothesis in a hypothesis test when the population standard deviation is unknown and the sample size is small (typically less than 30). It is used to determine whether the difference between the sample mean and the hypothesized population mean is statistically significant.\n",
    "\n",
    "The formula for calculating the t-statistic is as follows:\n",
    "\n",
    "t = (x̄ - μ) / (s / sqrt(n))\n",
    "\n",
    "where:\n",
    "\n",
    "x̄ is the sample mean\n",
    "μ is the hypothesized population mean\n",
    "s is the sample standard deviation\n",
    "n is the sample size\n",
    "The t-statistic measures how many standard errors the sample mean is away from the hypothesized population mean. The larger the t-value, the greater the difference between the sample mean and the hypothesized population mean, and the stronger the evidence against the null hypothesis."
   ]
  },
  {
   "cell_type": "markdown",
   "id": "aaa1d930-4bc0-4e5c-bd74-b393d20cce5a",
   "metadata": {},
   "source": [
    "# Q14. A researcher hypothesizes that a new drug will decrease blood pressure by 10 mmHg. They conduct a clinical trial with 100 patients and find that the sample mean decrease in blood pressure is 8 mmHg with a standard deviation of 3 mmHg. Test the hypothesis with a significance level of 0.05."
   ]
  },
  {
   "cell_type": "markdown",
   "id": "c86b935d-6638-4f0a-a091-ad9aad474dfe",
   "metadata": {},
   "source": [
    "To test the hypothesis, we need to perform a one-sample t-test with the null hypothesis that the mean decrease in blood pressure is equal to 10 mmHg, and the alternative hypothesis that the mean decrease in blood pressure is less than 10 mmHg.\n",
    "\n",
    "The test statistic can be calculated as:\n",
    "\n",
    "t = (8 - 10) / (3 / sqrt(100)) = -4.47\n",
    "\n",
    "Using a t-distribution table with 99 degrees of freedom (since we have 100 patients - 1 degree of freedom), and a significance level of 0.05, we find that the critical t-value is -1.660.\n",
    "\n",
    "Since our calculated t-value (-4.47) is less than the critical t-value (-1.660), we reject the null hypothesis and conclude that there is sufficient evidence to support the alternative hypothesis that the mean decrease in blood pressure is less than 10 mmHg.\n",
    "\n",
    "Therefore, we can conclude that the new drug does decrease blood pressure, but by a lesser amount than hypothesized."
   ]
  },
  {
   "cell_type": "markdown",
   "id": "a39958f2-6852-4b56-adf8-4a7608084b97",
   "metadata": {},
   "source": [
    "# Q15. An electronics company produces a certain type of product with a mean weight of 5 pounds and a standard deviation of 0.5 pounds. A random sample of 25 products is taken, and the sample mean weight is found to be 4.8 pounds. Test the hypothesis that the true mean weight of the products is less than 5 pounds with a significance level of 0.01."
   ]
  },
  {
   "cell_type": "markdown",
   "id": "293e4df0-0a1e-4cd4-9f22-dba27889d38b",
   "metadata": {},
   "source": [
    "Null hypothesis: The true mean weight of the products is equal to 5 pounds.\n",
    "\n",
    "Alternative hypothesis: The true mean weight of the products is less than 5 pounds.\n",
    "\n",
    "Significance level: α = 0.01\n",
    "\n",
    "Given that the population standard deviation is known and the sample size is greater than 30, we can use the z-test. The test statistic can be calculated as:\n",
    "\n",
    "z = (x̄ - μ) / (σ / √n)\n",
    "\n",
    "where x̄ is the sample mean, μ is the population mean, σ is the population standard deviation, and n is the sample size.\n",
    "\n",
    "In this case,\n",
    "\n",
    "x̄ = 4.8 pounds\n",
    "μ = 5 pounds\n",
    "σ = 0.5 pounds\n",
    "n = 25\n",
    "\n",
    "The test statistic can be calculated as:\n",
    "\n",
    "z = (4.8 - 5) / (0.5 / √25) = -2\n",
    "\n",
    "Using a standard normal distribution table, we can find the critical value for a one-tailed test with α = 0.01, which is -2.33.\n",
    "\n",
    "Since the calculated z-value of -2 is less than the critical value of -2.33, we reject the null hypothesis. Therefore, we can conclude that the true mean weight of the products is less than 5 pounds with a significance level of 0.01."
   ]
  },
  {
   "cell_type": "markdown",
   "id": "bdbd0a53-a541-423d-bbe1-b64c85a5e3e4",
   "metadata": {},
   "source": [
    "# Q16. Two groups of students are given different study materials to prepare for a test. The first group (n1 = 30) has a mean score of 80 with a standard deviation of 10, and the second group (n2 = 40) has a mean score of 75 with a standard deviation of 8. Test the hypothesis that the population means for the two groups are equal with a significance level of 0.01."
   ]
  },
  {
   "cell_type": "code",
   "execution_count": 6,
   "id": "d18a3eb3-6c33-4e2a-8197-90406a01375d",
   "metadata": {},
   "outputs": [
    {
     "name": "stdout",
     "output_type": "stream",
     "text": [
      "Test statistic: 2.3239677296992913\n",
      "P-value: 0.023123013413726044\n"
     ]
    }
   ],
   "source": [
    "import numpy as np\n",
    "from scipy.stats import t\n",
    "\n",
    "# Sample statistics\n",
    "n1 = 30\n",
    "x1 = 80\n",
    "s1 = 10\n",
    "n2 = 40\n",
    "x2 = 75\n",
    "s2 = 8\n",
    "\n",
    "# Degrees of freedom\n",
    "df = n1 + n2 - 2\n",
    "\n",
    "# Pooled standard deviation\n",
    "sp = np.sqrt(((n1 - 1) * s1 ** 2 + (n2 - 1) * s2 ** 2) / df)\n",
    "\n",
    "# Standard error of the difference between means\n",
    "se = sp * np.sqrt(1 / n1 + 1 / n2)\n",
    "\n",
    "# Test statistic\n",
    "t_stat = (x1 - x2) / se\n",
    "\n",
    "# Two-tailed p-value\n",
    "p_value = 2 * t.cdf(-np.abs(t_stat), df)\n",
    "\n",
    "print('Test statistic:', t_stat)\n",
    "print('P-value:', p_value)\n"
   ]
  },
  {
   "cell_type": "markdown",
   "id": "7452f020-9d2a-40be-b41f-efe55f9c6b4c",
   "metadata": {},
   "source": [
    "# Q17. A marketing company wants to estimate the average number of ads watched by viewers during a TV program. They take a random sample of 50 viewers and find that the sample mean is 4 with a standard deviation of 1.5. Estimate the population mean with a 99% confidence interval."
   ]
  },
  {
   "cell_type": "markdown",
   "id": "dbf41c5e-b218-4bb7-919c-5745deec6467",
   "metadata": {},
   "source": [
    "To estimate the population mean with a 99% confidence interval, we can use the following formula:\n",
    "\n",
    "Confidence interval = sample mean ± (t-value)*(standard error)\n",
    "\n",
    "where t-value is the critical value from the t-distribution with (n-1) degrees of freedom and alpha/2 = 0.005 for a 99% confidence level, and standard error is the standard deviation of the sampling distribution of the mean, which is calculated as:\n",
    "\n",
    "standard error = standard deviation / sqrt(n)\n",
    "\n",
    "where n is the sample size.\n",
    "\n",
    "Substituting the given values, we get:\n",
    "\n",
    "Confidence interval = 4 ± (2.680)*(1.5 / sqrt(50))\n",
    "\n",
    "Confidence interval = 4 ± 0.64\n",
    "\n",
    "Therefore, the 99% confidence interval for the population mean is (3.36, 4.64). We can interpret this interval as follows: we are 99% confident that the true population mean of ads watched by viewers during a TV program lies between 3.36 and 4.64."
   ]
  }
 ],
 "metadata": {
  "kernelspec": {
   "display_name": "Python 3 (ipykernel)",
   "language": "python",
   "name": "python3"
  },
  "language_info": {
   "codemirror_mode": {
    "name": "ipython",
    "version": 3
   },
   "file_extension": ".py",
   "mimetype": "text/x-python",
   "name": "python",
   "nbconvert_exporter": "python",
   "pygments_lexer": "ipython3",
   "version": "3.10.8"
  }
 },
 "nbformat": 4,
 "nbformat_minor": 5
}
