{
 "cells": [
  {
   "cell_type": "markdown",
   "id": "4ae8defa-e101-4d90-97f5-b629df3c010e",
   "metadata": {},
   "source": [
    "# Q1: What are the Probability Mass Function (PMF) and Probability Density Function (PDF)? Explain with an example."
   ]
  },
  {
   "cell_type": "markdown",
   "id": "fdf86745-d7de-4f7f-9120-fc1a2d63394a",
   "metadata": {},
   "source": [
    "Probability mass function plays an important role in statistics. It defines the probabilities for the given discrete random variable.For example, let's consider a fair six-sided die. \n",
    "\n",
    "PDF is used for continuous random variables and gives the probability density of an outcome. It represents the relative likelihood of observing a value of the random variable within a certain range of values. \n",
    "For example, let's consider the height of adult humans."
   ]
  },
  {
   "cell_type": "markdown",
   "id": "1fa1eb6d-e6df-4da2-a089-a91176d6e6b3",
   "metadata": {},
   "source": [
    "# Q2: What is Cumulative Density Function (CDF)? Explain with an example. Why CDF is used?"
   ]
  },
  {
   "cell_type": "markdown",
   "id": "971ee0d9-399c-403a-a1d6-8826b4d8dec5",
   "metadata": {},
   "source": [
    "The Cumulative Distribution Function (CDF) is a mathematical function that describes the cumulative probability distribution of a random variable X. It gives the probability that the random variable X takes on a value less than or equal to a given value x.\n",
    "\n",
    "Formally, the CDF of X is defined as:\n",
    "\n",
    "F(x) = P(X <= x)\n",
    "\n",
    "For example, let's consider a random variable X that represents the outcome of a single flip of a fair coin. The possible values of X are \"heads\" and \"tails\", each with a probability of 1/2. "
   ]
  },
  {
   "cell_type": "markdown",
   "id": "2da26a97-1683-42fc-87bf-c245c20a9bbb",
   "metadata": {},
   "source": [
    "# Q3: What are some examples of situations where the normal distribution might be used as a model?\n",
    "# Explain how the parameters of the normal distribution relate to the shape of the distribution."
   ]
  },
  {
   "cell_type": "markdown",
   "id": "9ea63e34-17df-465f-8e12-a7b861111e4a",
   "metadata": {},
   "source": [
    "The normal distribution, also known as the Gaussian distribution, is a common probability distribution used in many fields of science, engineering, and finance. Some examples of situations where the normal distribution might be used as a model include:\n",
    "\n",
    "- Height: The heights of adult humans tend to follow a normal distribution with a mean of around 5'7\" and a standard deviation of around 3 inches.\n",
    "\n",
    "- IQ scores: IQ scores tend to follow a normal distribution with a mean of 100 and a standard deviation of 15."
   ]
  },
  {
   "cell_type": "markdown",
   "id": "f05757ba-d309-4890-aaac-3b187c76f2e0",
   "metadata": {},
   "source": [
    "The normal distribution, also known as the Gaussian distribution, is characterized by two parameters: the mean (μ) and the standard deviation (σ). These parameters have a direct impact on the shape of the distribution."
   ]
  },
  {
   "cell_type": "markdown",
   "id": "e9426c2e-bd13-474e-bb5f-edef1d21a78e",
   "metadata": {},
   "source": [
    "# Q4: Explain the importance of Normal Distribution. Give a few real-life examples of Normal Distribution."
   ]
  },
  {
   "cell_type": "markdown",
   "id": "d8974115-e016-45f3-83f1-d561b2eb767e",
   "metadata": {},
   "source": [
    "Normal distribution, also known as Gaussian distribution, is one of the most important and widely used probability distributions in statistics and data analysis. \n",
    "some real life ex:\n",
    "\n",
    "- Heights of adult humans: The distribution of adult human heights tends to follow a normal distribution, with the mean around 5 feet 7 inches and the standard deviation around 2.5 inches.\n",
    "\n",
    "- Blood pressure: Blood pressure measurements in a population tend to follow a normal distribution, with a mean around 120/80 and a standard deviation of 10-15 mmHg."
   ]
  },
  {
   "cell_type": "markdown",
   "id": "bfd72188-771c-4615-acd2-e51c4d7712af",
   "metadata": {},
   "source": [
    "# Q5: What is Bernaulli Distribution? Give an Example. What is the difference between Bernoulli Distribution and Binomial Distribution?"
   ]
  },
  {
   "cell_type": "markdown",
   "id": "0bbc4377-1218-4325-99ca-6cfe27838240",
   "metadata": {},
   "source": [
    "Bernoulli distribution is a discrete probability distribution that models the probability of a binary outcome, such as success or failure, yes or no, or 0 or 1. The Bernoulli distribution is a special case of the binomial distribution where a single trial is conducted\n",
    "\n",
    "For example, consider flipping a coin. The Bernoulli distribution can be used to model the probability of getting heads, which is a binary outcome. If we define getting heads as a success, then the parameter p would be 0.5, since the probability of getting heads is 0.5.\n",
    "\n",
    "The difference between Bernoulli distribution and binomial distribution is that Bernoulli distribution models the probability of a single binary outcome, while binomial distribution models the probability of a certain number of successes in a fixed number of independent trials. Binomial distribution is an extension of the Bernoulli distribution, and it is characterized by two parameters: the probability of success (p) and the number of trials (n)."
   ]
  },
  {
   "cell_type": "markdown",
   "id": "ec9af287-1ae3-469d-a154-b1a586566dbf",
   "metadata": {},
   "source": [
    "# Q6. Consider a dataset with a mean of 50 and a standard deviation of 10. If we assume that the dataset\n",
    "# is normally distributed, what is the probability that a randomly selected observation will be greater\n",
    "# than 60? Use the appropriate formula and show your calculations."
   ]
  },
  {
   "cell_type": "markdown",
   "id": "76b6bfe1-4783-4a81-b9c2-44753bf43ae1",
   "metadata": {},
   "source": [
    "We can use the Z-score formula to find the probability that a randomly selected observation will be greater than 60:\n",
    "\n",
    "Z = (X - μ) / σ\n",
    "\n",
    "where X is the value we are interested in (in this case, X = 60), μ is the mean (μ = 50), and σ is the standard deviation (σ = 10).\n",
    "\n",
    "So, we can calculate the Z-score as follows:\n",
    "\n",
    "Z = (60 - 50) / 10 = 1\n",
    "\n",
    "Next, we need to find the area under the standard normal distribution curve to the right of Z = 1. We can use a standard normal distribution table or calculator to find this area, which is approximately 0.1587.\n",
    "\n",
    "Therefore, the probability that a randomly selected observation from this dataset will be greater than 60 is approximately 0.1587 or 15.87%."
   ]
  },
  {
   "cell_type": "markdown",
   "id": "a6819692-ccb5-4a85-9b63-c868baeee399",
   "metadata": {},
   "source": [
    "# Q7: Explain uniform Distribution with an example."
   ]
  },
  {
   "cell_type": "markdown",
   "id": "75dab119-ae7f-470f-963a-64f359d2cfa1",
   "metadata": {},
   "source": [
    " uniform distribution refers to a type of probability distribution in which all outcomes are equally likely. A deck of cards has within it uniform distributions because the likelihood of drawing a heart, a club, a diamond, or a spade is equally likely.\n",
    " \n",
    " A common example of uniform distribution is rolling a fair die. Assuming the die has 6 sides, each outcome (1, 2, 3, 4, 5, or 6) has an equal probability of occurring. Therefore, the probability density function for rolling a fair die is constant between 1 and 6 and zero outside that range."
   ]
  },
  {
   "cell_type": "markdown",
   "id": "c942896d-9047-491d-b397-83757107a128",
   "metadata": {},
   "source": [
    "# Q8: What is the z score? State the importance of the z score."
   ]
  },
  {
   "cell_type": "markdown",
   "id": "4d9f4483-86c9-4c08-ae20-c5698192607e",
   "metadata": {},
   "source": [
    "A z-score is important because it tells where your data lies in the data distribution. For example, if a z-score is 1.5, it is 1.5 standard deviations away from the mean."
   ]
  },
  {
   "cell_type": "markdown",
   "id": "17eb6a5a-318d-4f44-846b-887c3ed86929",
   "metadata": {},
   "source": [
    "# Q9: What is Central Limit Theorem? State the significance of the Central Limit Theorem."
   ]
  },
  {
   "cell_type": "markdown",
   "id": "7cc64968-ef37-424e-87fa-7e18ca3ac076",
   "metadata": {},
   "source": [
    "CLT is a statistical theory that states that - if you take a sufficiently large sample size from a population with a finite level of variance, the mean of all samples from that population will be roughly equal to the population mean."
   ]
  },
  {
   "cell_type": "markdown",
   "id": "696cd8cc-1f44-46c5-ad32-32fc7f85603f",
   "metadata": {},
   "source": [
    "# Q10: State the assumptions of the Central Limit Theorem."
   ]
  },
  {
   "cell_type": "markdown",
   "id": "6ca70b6f-6754-4341-8d2b-0cf460e459ad",
   "metadata": {},
   "source": [
    "The Central Limit Theorem makes the following assumptions:\n",
    "\n",
    "- The sample size is sufficiently large (typically, n ≥ 30).\n",
    "- The sample is drawn from a population with a finite mean and variance.\n",
    "- The observations in the sample are independent of each other.\n",
    "- The sampling is done randomly or the sample is a representative sample of the population."
   ]
  },
  {
   "cell_type": "markdown",
   "id": "92becd83-f1cd-494a-a28b-97e036ba47b6",
   "metadata": {},
   "source": [
    "These assumptions are important because they allow us to make inferences about a population based on a sample. Without these assumptions, the Central Limit Theorem may not hold, and the conclusions drawn from the sample may not be accurate or reliable."
   ]
  }
 ],
 "metadata": {
  "kernelspec": {
   "display_name": "Python 3 (ipykernel)",
   "language": "python",
   "name": "python3"
  },
  "language_info": {
   "codemirror_mode": {
    "name": "ipython",
    "version": 3
   },
   "file_extension": ".py",
   "mimetype": "text/x-python",
   "name": "python",
   "nbconvert_exporter": "python",
   "pygments_lexer": "ipython3",
   "version": "3.10.8"
  }
 },
 "nbformat": 4,
 "nbformat_minor": 5
}
