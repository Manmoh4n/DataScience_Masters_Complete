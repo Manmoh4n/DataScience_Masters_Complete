{
 "cells": [
  {
   "cell_type": "code",
   "execution_count": 1,
   "id": "6b03831c-02cf-47e3-b449-0ecb693ed69c",
   "metadata": {},
   "outputs": [],
   "source": [
    "l=[1,2,3,4,5]"
   ]
  },
  {
   "cell_type": "code",
   "execution_count": 2,
   "id": "b4d21801-e7d1-4952-acfe-bfb4ad224c4c",
   "metadata": {},
   "outputs": [
    {
     "name": "stdout",
     "output_type": "stream",
     "text": [
      "1 <class 'int'>\n",
      "2 <class 'int'>\n",
      "3 <class 'int'>\n",
      "4 <class 'int'>\n",
      "5 <class 'int'>\n"
     ]
    }
   ],
   "source": [
    "for i in l:\n",
    "    print(i,type(i))"
   ]
  },
  {
   "cell_type": "code",
   "execution_count": 3,
   "id": "e3663e55-3d0c-4191-9b0a-554e72f21e02",
   "metadata": {},
   "outputs": [],
   "source": [
    "l1=[\"man\",\"hello\",\"Python\",\"world\"]"
   ]
  },
  {
   "cell_type": "code",
   "execution_count": 4,
   "id": "bee54f57-e077-4f87-b2f3-a49976ca38b8",
   "metadata": {},
   "outputs": [
    {
     "name": "stdout",
     "output_type": "stream",
     "text": [
      "man\n",
      "hello\n",
      "Python\n",
      "world\n"
     ]
    }
   ],
   "source": [
    "for i in l1:\n",
    "    print(i)"
   ]
  },
  {
   "cell_type": "code",
   "execution_count": 5,
   "id": "db1b5ee1-9bfa-4227-9171-c8ca0a40aac3",
   "metadata": {},
   "outputs": [
    {
     "name": "stdout",
     "output_type": "stream",
     "text": [
      "man\n",
      "hello\n",
      "Python\n",
      "world\n",
      "Its completed\n"
     ]
    }
   ],
   "source": [
    "for i in l1:\n",
    "    print(i)\n",
    "else:\n",
    "    print(\"Its completed\")"
   ]
  },
  {
   "cell_type": "code",
   "execution_count": 9,
   "id": "86ccabe2-bd99-4246-bc8d-0c37329dcb53",
   "metadata": {},
   "outputs": [
    {
     "name": "stdout",
     "output_type": "stream",
     "text": [
      "man\n",
      "hello\n"
     ]
    }
   ],
   "source": [
    "for i in l1:\n",
    "    if i ==\"Python\":\n",
    "        break\n",
    "    print(i)\n",
    "else:\n",
    "    print(\"it is not print because break is applied\")\n",
    "    "
   ]
  },
  {
   "cell_type": "code",
   "execution_count": 10,
   "id": "aa5e7275-a247-4072-a570-3577e2652f5a",
   "metadata": {},
   "outputs": [
    {
     "name": "stdout",
     "output_type": "stream",
     "text": [
      "man\n",
      "hello\n",
      "world\n",
      "it is excuted\n"
     ]
    }
   ],
   "source": [
    "for i in l1:\n",
    "    if i ==\"Python\":\n",
    "        continue\n",
    "    print(i)\n",
    "else:\n",
    "    print(\"it is excuted\")\n",
    "    "
   ]
  },
  {
   "cell_type": "code",
   "execution_count": 11,
   "id": "c4641c26-ec9a-4b95-a1ad-2dae937cb825",
   "metadata": {},
   "outputs": [
    {
     "data": {
      "text/plain": [
       "range(0, 5)"
      ]
     },
     "execution_count": 11,
     "metadata": {},
     "output_type": "execute_result"
    }
   ],
   "source": [
    "range(5)"
   ]
  },
  {
   "cell_type": "code",
   "execution_count": 12,
   "id": "51d0e58d-3f6f-4193-975a-6fa546a9b521",
   "metadata": {},
   "outputs": [
    {
     "data": {
      "text/plain": [
       "[0, 1, 2, 3, 4]"
      ]
     },
     "execution_count": 12,
     "metadata": {},
     "output_type": "execute_result"
    }
   ],
   "source": [
    "list(range(5))"
   ]
  },
  {
   "cell_type": "code",
   "execution_count": 13,
   "id": "639ff426-6252-4ad6-beb5-d265997c57fc",
   "metadata": {},
   "outputs": [
    {
     "data": {
      "text/plain": [
       "[0, 1, 2, 3, 4]"
      ]
     },
     "execution_count": 13,
     "metadata": {},
     "output_type": "execute_result"
    }
   ],
   "source": [
    "list(range(0,5,1))"
   ]
  },
  {
   "cell_type": "code",
   "execution_count": 14,
   "id": "bbed05cc-e1f0-4cc8-834d-1190da8eb5a0",
   "metadata": {},
   "outputs": [
    {
     "data": {
      "text/plain": [
       "[0, 2, 4, 6, 8, 10, 12, 14, 16, 18]"
      ]
     },
     "execution_count": 14,
     "metadata": {},
     "output_type": "execute_result"
    }
   ],
   "source": [
    "list(range(0,20,2))"
   ]
  },
  {
   "cell_type": "code",
   "execution_count": 15,
   "id": "5e12884e-3607-4b07-8394-84ec19786954",
   "metadata": {},
   "outputs": [
    {
     "data": {
      "text/plain": [
       "[-10, -9, -8, -7, -6, -5, -4, -3, -2, -1]"
      ]
     },
     "execution_count": 15,
     "metadata": {},
     "output_type": "execute_result"
    }
   ],
   "source": [
    "list(range(-10,0))"
   ]
  },
  {
   "cell_type": "code",
   "execution_count": 16,
   "id": "dfe93c0e-98f1-49c3-a0f7-877cbf53236a",
   "metadata": {},
   "outputs": [
    {
     "data": {
      "text/plain": [
       "['man', 'hello', 'Python', 'world']"
      ]
     },
     "execution_count": 16,
     "metadata": {},
     "output_type": "execute_result"
    }
   ],
   "source": [
    "l1"
   ]
  },
  {
   "cell_type": "code",
   "execution_count": 17,
   "id": "942764e1-1275-4f43-ac20-54e924d87006",
   "metadata": {},
   "outputs": [
    {
     "data": {
      "text/plain": [
       "4"
      ]
     },
     "execution_count": 17,
     "metadata": {},
     "output_type": "execute_result"
    }
   ],
   "source": [
    "len(l1)"
   ]
  },
  {
   "cell_type": "code",
   "execution_count": 19,
   "id": "3c492435-b890-4070-b799-211266605481",
   "metadata": {},
   "outputs": [
    {
     "data": {
      "text/plain": [
       "[0, 1, 2, 3]"
      ]
     },
     "execution_count": 19,
     "metadata": {},
     "output_type": "execute_result"
    }
   ],
   "source": [
    "list(range(len(l1)))"
   ]
  },
  {
   "cell_type": "code",
   "execution_count": 20,
   "id": "978a50d5-ee27-475c-959d-f9c441158d56",
   "metadata": {},
   "outputs": [
    {
     "name": "stdout",
     "output_type": "stream",
     "text": [
      "man\n",
      "hello\n",
      "Python\n",
      "world\n"
     ]
    }
   ],
   "source": [
    "for i in range(len(l1)):\n",
    "    print(l1[i])\n",
    "    "
   ]
  },
  {
   "cell_type": "code",
   "execution_count": 21,
   "id": "5f95f191-d58f-444c-a2fa-a3b56406b36b",
   "metadata": {},
   "outputs": [
    {
     "data": {
      "text/plain": [
       "4"
      ]
     },
     "execution_count": 21,
     "metadata": {},
     "output_type": "execute_result"
    }
   ],
   "source": [
    "\n",
    "len(l1)"
   ]
  },
  {
   "cell_type": "code",
   "execution_count": 23,
   "id": "0ace1863-7d2f-4c6f-947c-abc5b9516cbc",
   "metadata": {},
   "outputs": [
    {
     "data": {
      "text/plain": [
       "[3, 2, 1, 0]"
      ]
     },
     "execution_count": 23,
     "metadata": {},
     "output_type": "execute_result"
    }
   ],
   "source": [
    "list(range(len(l1)-1,-1,-1))"
   ]
  },
  {
   "cell_type": "code",
   "execution_count": 30,
   "id": "dcd6f7d4-ab29-4bcd-b08b-b0c909272f19",
   "metadata": {},
   "outputs": [
    {
     "name": "stdout",
     "output_type": "stream",
     "text": [
      "world\n",
      "Python\n",
      "hello\n",
      "man\n"
     ]
    }
   ],
   "source": [
    "#print reverse of all elelment of l1\n",
    "for i in range(len(l1)-1,-1,-1):\n",
    "    print(l1[i])"
   ]
  },
  {
   "cell_type": "code",
   "execution_count": 31,
   "id": "b0bcc3aa-8aff-433d-9484-b5b527ca8113",
   "metadata": {},
   "outputs": [],
   "source": [
    "l2=[1,2,3,4,5,6,7,8,9,10]"
   ]
  },
  {
   "cell_type": "code",
   "execution_count": 32,
   "id": "3d1ca832-fa9a-41a3-afca-5062c166fc25",
   "metadata": {},
   "outputs": [
    {
     "data": {
      "text/plain": [
       "[1, 2, 3, 4, 5, 6, 7, 8, 9, 10]"
      ]
     },
     "execution_count": 32,
     "metadata": {},
     "output_type": "execute_result"
    }
   ],
   "source": [
    "l2"
   ]
  },
  {
   "cell_type": "code",
   "execution_count": 33,
   "id": "6dd98080-da44-404f-a44a-c04e5e9c4ab8",
   "metadata": {},
   "outputs": [
    {
     "data": {
      "text/plain": [
       "[0, 2, 4, 6, 8]"
      ]
     },
     "execution_count": 33,
     "metadata": {},
     "output_type": "execute_result"
    }
   ],
   "source": [
    "list(range(0,len(l2),2)) "
   ]
  },
  {
   "cell_type": "code",
   "execution_count": 36,
   "id": "570695f0-2cf1-4024-b5be-8f635c13612c",
   "metadata": {},
   "outputs": [
    {
     "name": "stdout",
     "output_type": "stream",
     "text": [
      "1\n",
      "3\n",
      "5\n",
      "7\n",
      "9\n"
     ]
    }
   ],
   "source": [
    "#Print all element which is at even place\n",
    "for i in range(0,len(l2),2):\n",
    "    print(l2[i])\n"
   ]
  },
  {
   "cell_type": "code",
   "execution_count": 37,
   "id": "8f49633e-67d7-49d4-95b4-bb19a4071a60",
   "metadata": {},
   "outputs": [],
   "source": [
    "#For List\n",
    "l=[1,2,3,4,5,6,99,444]\n"
   ]
  },
  {
   "cell_type": "code",
   "execution_count": 38,
   "id": "c2c91821-a7a7-469c-a78a-58665bb4e817",
   "metadata": {},
   "outputs": [
    {
     "data": {
      "text/plain": [
       "564"
      ]
     },
     "execution_count": 38,
     "metadata": {},
     "output_type": "execute_result"
    }
   ],
   "source": [
    "#print sum of all value of l\n",
    "result=0\n",
    "for i in l:\n",
    "    result=result+i\n",
    "result"
   ]
  },
  {
   "cell_type": "code",
   "execution_count": 39,
   "id": "129e8a15-cd3f-4ac9-a780-d788c554f8b6",
   "metadata": {},
   "outputs": [
    {
     "data": {
      "text/plain": [
       "564"
      ]
     },
     "execution_count": 39,
     "metadata": {},
     "output_type": "execute_result"
    }
   ],
   "source": [
    "sum(l)"
   ]
  },
  {
   "cell_type": "code",
   "execution_count": 40,
   "id": "be35ffa8-ae90-4d4b-8ed5-0f89302015a4",
   "metadata": {},
   "outputs": [],
   "source": [
    "#For Tuple\n",
    "t=(1,2,3,4,567)"
   ]
  },
  {
   "cell_type": "code",
   "execution_count": 41,
   "id": "380911f1-616a-4b38-8ce5-1f72e1f9fc11",
   "metadata": {},
   "outputs": [
    {
     "data": {
      "text/plain": [
       "(1, 2, 3, 4, 567)"
      ]
     },
     "execution_count": 41,
     "metadata": {},
     "output_type": "execute_result"
    }
   ],
   "source": [
    "t"
   ]
  },
  {
   "cell_type": "code",
   "execution_count": 42,
   "id": "5164b495-0c89-4462-a95a-c30e6870c460",
   "metadata": {},
   "outputs": [
    {
     "name": "stdout",
     "output_type": "stream",
     "text": [
      "1\n",
      "2\n",
      "3\n",
      "4\n",
      "567\n"
     ]
    }
   ],
   "source": [
    "for i in t:\n",
    "    print(i)"
   ]
  },
  {
   "cell_type": "code",
   "execution_count": 43,
   "id": "7f2edc77-bb23-401f-8df3-2481a48dd58f",
   "metadata": {},
   "outputs": [
    {
     "data": {
      "text/plain": [
       "577"
      ]
     },
     "execution_count": 43,
     "metadata": {},
     "output_type": "execute_result"
    }
   ],
   "source": [
    "result=0\n",
    "for i in t:\n",
    "    result=result+i\n",
    "result"
   ]
  },
  {
   "cell_type": "code",
   "execution_count": 46,
   "id": "ee3185f5-9c0d-45d3-8f91-74ee7a305d9e",
   "metadata": {},
   "outputs": [],
   "source": [
    "#For set\n",
    "s={1,2,3,67,567}"
   ]
  },
  {
   "cell_type": "code",
   "execution_count": 47,
   "id": "c5a5637f-1379-474a-822c-da9dd23d82aa",
   "metadata": {},
   "outputs": [
    {
     "data": {
      "text/plain": [
       "640"
      ]
     },
     "execution_count": 47,
     "metadata": {},
     "output_type": "execute_result"
    }
   ],
   "source": [
    "result=0\n",
    "for i in s:\n",
    "    result=result+i\n",
    "result"
   ]
  },
  {
   "cell_type": "code",
   "execution_count": 48,
   "id": "0498c39f-de5c-4835-819e-a4968baa8a12",
   "metadata": {},
   "outputs": [],
   "source": [
    "s1=\"pwskills\""
   ]
  },
  {
   "cell_type": "code",
   "execution_count": 49,
   "id": "3403b7cc-f237-4b6b-850e-b4c8e34f986a",
   "metadata": {},
   "outputs": [
    {
     "name": "stdout",
     "output_type": "stream",
     "text": [
      "p\n",
      "w\n",
      "s\n",
      "k\n",
      "i\n",
      "l\n",
      "l\n",
      "s\n"
     ]
    }
   ],
   "source": [
    "#For string\n",
    "for i in s1:\n",
    "    print(i)"
   ]
  },
  {
   "cell_type": "code",
   "execution_count": 50,
   "id": "bbc4902d-8976-446f-b82b-adaa84b10592",
   "metadata": {},
   "outputs": [],
   "source": [
    "d={\"name\":\"man\", \"class\": \"DSA\", \"topic\":[\"hello\",\"py\",\"c\"]}"
   ]
  },
  {
   "cell_type": "code",
   "execution_count": 51,
   "id": "1204c26b-6c01-4119-824b-a082b6f83b2c",
   "metadata": {},
   "outputs": [
    {
     "data": {
      "text/plain": [
       "{'name': 'man', 'class': 'DSA', 'topic': ['hello', 'py', 'c']}"
      ]
     },
     "execution_count": 51,
     "metadata": {},
     "output_type": "execute_result"
    }
   ],
   "source": [
    "d"
   ]
  },
  {
   "cell_type": "code",
   "execution_count": 52,
   "id": "c9bb52e9-2ee6-40d3-b3d1-a8eb9fb851bc",
   "metadata": {},
   "outputs": [
    {
     "data": {
      "text/plain": [
       "'man'"
      ]
     },
     "execution_count": 52,
     "metadata": {},
     "output_type": "execute_result"
    }
   ],
   "source": [
    "d[\"name\"]"
   ]
  },
  {
   "cell_type": "code",
   "execution_count": 53,
   "id": "2990aa11-8f1e-4e58-ae06-0918f070814b",
   "metadata": {},
   "outputs": [
    {
     "data": {
      "text/plain": [
       "dict_keys(['name', 'class', 'topic'])"
      ]
     },
     "execution_count": 53,
     "metadata": {},
     "output_type": "execute_result"
    }
   ],
   "source": [
    "d.keys()"
   ]
  },
  {
   "cell_type": "code",
   "execution_count": 59,
   "id": "59c0566b-1d86-457c-bebb-c3f336dfba21",
   "metadata": {},
   "outputs": [
    {
     "name": "stdout",
     "output_type": "stream",
     "text": [
      "man\n",
      "DSA\n",
      "['hello', 'py', 'c']\n"
     ]
    }
   ],
   "source": [
    "for i in d.keys():\n",
    "    print(d[i])"
   ]
  },
  {
   "cell_type": "code",
   "execution_count": 55,
   "id": "33da35ad-c46f-46aa-a99b-96e93b62eb2c",
   "metadata": {},
   "outputs": [
    {
     "data": {
      "text/plain": [
       "dict_values(['man', 'DSA', ['hello', 'py', 'c']])"
      ]
     },
     "execution_count": 55,
     "metadata": {},
     "output_type": "execute_result"
    }
   ],
   "source": [
    "d.values()"
   ]
  },
  {
   "cell_type": "code",
   "execution_count": 57,
   "id": "5c8f6c64-4b71-404f-bc58-10919d438e56",
   "metadata": {},
   "outputs": [
    {
     "name": "stdout",
     "output_type": "stream",
     "text": [
      "man\n",
      "DSA\n",
      "['hello', 'py', 'c']\n"
     ]
    }
   ],
   "source": [
    "for i in d.values():\n",
    "    print(i)"
   ]
  },
  {
   "cell_type": "code",
   "execution_count": 61,
   "id": "14e57ac4-b6de-4c32-bbf2-95b7677796d2",
   "metadata": {},
   "outputs": [
    {
     "data": {
      "text/plain": [
       "dict_items([('name', 'man'), ('class', 'DSA'), ('topic', ['hello', 'py', 'c'])])"
      ]
     },
     "execution_count": 61,
     "metadata": {},
     "output_type": "execute_result"
    }
   ],
   "source": [
    "d.items()"
   ]
  },
  {
   "cell_type": "code",
   "execution_count": 62,
   "id": "46b037bf-08f9-4494-965a-f033fc6576f0",
   "metadata": {},
   "outputs": [
    {
     "name": "stdout",
     "output_type": "stream",
     "text": [
      "('name', 'man')\n",
      "('class', 'DSA')\n",
      "('topic', ['hello', 'py', 'c'])\n"
     ]
    }
   ],
   "source": [
    "for i in d.items():\n",
    "    print(i)"
   ]
  }
 ],
 "metadata": {
  "kernelspec": {
   "display_name": "Python 3 (ipykernel)",
   "language": "python",
   "name": "python3"
  },
  "language_info": {
   "codemirror_mode": {
    "name": "ipython",
    "version": 3
   },
   "file_extension": ".py",
   "mimetype": "text/x-python",
   "name": "python",
   "nbconvert_exporter": "python",
   "pygments_lexer": "ipython3",
   "version": "3.10.8"
  }
 },
 "nbformat": 4,
 "nbformat_minor": 5
}
