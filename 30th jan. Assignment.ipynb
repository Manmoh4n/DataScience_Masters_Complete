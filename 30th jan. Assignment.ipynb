{
 "cells": [
  {
   "cell_type": "markdown",
   "id": "b16c5a6d-ab7c-4b74-bbe8-e16df697c467",
   "metadata": {},
   "source": [
    "1. Write a program to accept percentage from the user and display the grade according to the following\n",
    "\n",
    "                  Marks                       Grade\n",
    "\n",
    "                    >90                          A\n",
    "\n",
    "\n",
    "                >80 and <=90                     B\n",
    "\n",
    "\n",
    "\n",
    "                >=60 and <=80                     C\n",
    "                \n",
    "\n",
    "                below 60                          D"
   ]
  },
  {
   "cell_type": "code",
   "execution_count": 1,
   "id": "a0fb5d4b-8e57-4f08-9605-79dc55bf4ea3",
   "metadata": {},
   "outputs": [
    {
     "name": "stdin",
     "output_type": "stream",
     "text": [
      "Enter your Marks :  80\n"
     ]
    },
    {
     "name": "stdout",
     "output_type": "stream",
     "text": [
      "Grade C\n"
     ]
    }
   ],
   "source": [
    "marks = int(input(\"Enter your Marks : \"))\n",
    "if marks > 90:\n",
    "    print(\" Grade A\")\n",
    "elif marks > 80 and marks <=90:\n",
    "    print(\"Grade B\")\n",
    "elif marks >=60 and marks <=80:\n",
    "    print(\"Grade C\")\n",
    "else:\n",
    "    print(\"Grade D\")"
   ]
  },
  {
   "cell_type": "markdown",
   "id": "9845f594-7184-4e44-9570-b1e58721c182",
   "metadata": {},
   "source": [
    "2. Write a program to accept the cost price of a bike and display the road tax to be paid according to the criteria.\n",
    "\n",
    "                        Tax                          Cost Price(in Rs)\n",
    "        \n",
    "                        15%                          >100000\n",
    "                        \n",
    "                        10%                          >50000 and <=100000\n",
    "                        \n",
    "                        5%                            <=50000"
   ]
  },
  {
   "cell_type": "code",
   "execution_count": 12,
   "id": "5e7d92fd-a3e9-4ade-8334-23793fc9ec33",
   "metadata": {},
   "outputs": [
    {
     "name": "stdin",
     "output_type": "stream",
     "text": [
      "Enter the  cost Price of Bike 1000000\n"
     ]
    },
    {
     "name": "stdout",
     "output_type": "stream",
     "text": [
      "You pay  the Tax : 15%\n"
     ]
    }
   ],
   "source": [
    "price = int(input(\"Enter the  cost Price of Bike\"))\n",
    "if price > 100000:\n",
    "    print(\"You pay  the Tax : 15%\")\n",
    "elif price >50000 and  price <=100000:\n",
    "    print(\"You pay  the Tax :10%\")\n",
    "elif price<=50000:\n",
    "    print(\"You pay  the Tax :5%\")\n",
    "else:\n",
    "    print(\"Welcome\")"
   ]
  },
  {
   "cell_type": "markdown",
   "id": "4a34f800-ec38-4089-81a3-6189add11bf9",
   "metadata": {},
   "source": [
    "3. Accept any city from the user and display monuments of that city.\n",
    "\n",
    "                city                   Monument\n",
    "                \n",
    "                Delhi                  Red Fort\n",
    "                \n",
    "                Agra                   Taj Mahal\n",
    "                \n",
    "                Jaipur                 Jai Mahal"
   ]
  },
  {
   "cell_type": "code",
   "execution_count": 21,
   "id": "9ec79af9-7ad9-44ad-8612-f2914d085a93",
   "metadata": {},
   "outputs": [
    {
     "name": "stdin",
     "output_type": "stream",
     "text": [
      "Enter the Place you want to Visit: Delhi\n"
     ]
    },
    {
     "name": "stdout",
     "output_type": "stream",
     "text": [
      "Please Visit : RedFort\n"
     ]
    }
   ],
   "source": [
    "Monuments = input(\"Enter the Place you want to Visit:\" )\n",
    "if  Monuments == \"Delhi\" or Monuments ==\"delhi\":\n",
    "    print(\"Please Visit : RedFort\")\n",
    "elif Monuments ==\"Agra\" or Monuments ==\"agra\":\n",
    "    print(\"Please Visit : Tajmahal\")\n",
    "elif Monuments == \"Jaipur\" or Monuments== \"jaipur\":\n",
    "    print(\"Please Visit : Jal mahal\")\n",
    "else:\n",
    "    print(\"Thank you\")"
   ]
  },
  {
   "cell_type": "markdown",
   "id": "eac03d56-788b-4868-96bb-24525ecb63de",
   "metadata": {},
   "source": [
    " 4. Why and When to Use while Loop in Python give a detailed description with example\n",
    "    \n",
    ">> Python while loop is used to run a block code until a certain condition is met. Here, A while loop evaluates the condition. If the condition evaluates to True , the code inside the while loop is executed."
   ]
  },
  {
   "cell_type": "markdown",
   "id": "db3af1e8-3bf6-4e72-97f7-190fef801d36",
   "metadata": {},
   "source": [
    "5. Use nested while loop to print 3 different pattern.\n"
   ]
  },
  {
   "cell_type": "code",
   "execution_count": 6,
   "id": "0258fe42-52ba-41ba-811f-def2e9b4022f",
   "metadata": {},
   "outputs": [
    {
     "name": "stdout",
     "output_type": "stream",
     "text": [
      "* \n",
      "\n",
      "* * \n",
      "\n",
      "* * * \n",
      "\n",
      "* * * * \n",
      "\n",
      "* * * * * \n",
      "\n",
      "* * * * * * \n",
      "\n",
      "* * * * * * * \n",
      "\n"
     ]
    }
   ],
   "source": [
    "for i in range(1,8):\n",
    "    for j in range(1,i+1):\n",
    "        print(\"*\", end=\" \")\n",
    "    print(\"\\n\")"
   ]
  },
  {
   "cell_type": "code",
   "execution_count": 7,
   "id": "7230aa87-e4b4-46f4-8b20-8e08ce4fab13",
   "metadata": {},
   "outputs": [
    {
     "name": "stdout",
     "output_type": "stream",
     "text": [
      "* * * * * * * * \n",
      "\n",
      "* * * * * * * \n",
      "\n",
      "* * * * * * \n",
      "\n",
      "* * * * * \n",
      "\n",
      "* * * * \n",
      "\n",
      "* * * \n",
      "\n",
      "* * \n",
      "\n",
      "* \n",
      "\n"
     ]
    }
   ],
   "source": [
    "for i in range(8,0,-1):\n",
    "    for j in range(1,i+1):\n",
    "        print(\"*\", end=\" \")\n",
    "    print(\"\\n\")"
   ]
  },
  {
   "cell_type": "code",
   "execution_count": 10,
   "id": "ef8cc47a-48d7-40d0-8c5d-4c3781ffe8c7",
   "metadata": {},
   "outputs": [
    {
     "name": "stdout",
     "output_type": "stream",
     "text": [
      "      * \n",
      "\n",
      "     * * \n",
      "\n",
      "    * * * \n",
      "\n",
      "   * * * * \n",
      "\n",
      "  * * * * * \n",
      "\n",
      " * * * * * * \n",
      "\n",
      "* * * * * * * \n",
      "\n"
     ]
    }
   ],
   "source": [
    "for i in range(1,8):\n",
    "    for k in range(1,8-i):\n",
    "        print(\" \",end=\"\")\n",
    "    for j in range(1,i+1):\n",
    "        print(\"*\" , end=\" \")\n",
    "    print(\"\\n\")"
   ]
  },
  {
   "cell_type": "markdown",
   "id": "a345292d-d518-4834-ae3e-246e64469b4f",
   "metadata": {},
   "source": [
    "8. Reverse a while loop to display numbers from 10 to 1 ."
   ]
  },
  {
   "cell_type": "code",
   "execution_count": 7,
   "id": "3c747852-c271-4421-a5b9-f5d258c8200c",
   "metadata": {},
   "outputs": [
    {
     "name": "stdout",
     "output_type": "stream",
     "text": [
      "10\n",
      "9\n",
      "8\n",
      "7\n",
      "6\n",
      "5\n",
      "4\n",
      "3\n",
      "2\n",
      "1\n"
     ]
    }
   ],
   "source": [
    "i = 10\n",
    "while(i>0):\n",
    "    print(i)\n",
    "    i = i-1\n",
    "    "
   ]
  },
  {
   "cell_type": "markdown",
   "id": "b6ecbd79-a7f9-41cb-a0bd-3d57090512e6",
   "metadata": {},
   "source": [
    "9. while loop to display numbers from 1 to 10 ."
   ]
  },
  {
   "cell_type": "code",
   "execution_count": 9,
   "id": "23f53602-cb7e-47ff-b113-978283e0aff0",
   "metadata": {},
   "outputs": [
    {
     "name": "stdout",
     "output_type": "stream",
     "text": [
      "1\n",
      "2\n",
      "3\n",
      "4\n",
      "5\n",
      "6\n",
      "7\n",
      "8\n",
      "9\n",
      "10\n"
     ]
    }
   ],
   "source": [
    "a = 1\n",
    "while a<=10:\n",
    "    print(a)\n",
    "    a = a+1"
   ]
  },
  {
   "cell_type": "code",
   "execution_count": null,
   "id": "759b0ecf-1dcb-49d1-9ed1-5ca826c0cf48",
   "metadata": {},
   "outputs": [],
   "source": []
  }
 ],
 "metadata": {
  "kernelspec": {
   "display_name": "Python 3 (ipykernel)",
   "language": "python",
   "name": "python3"
  },
  "language_info": {
   "codemirror_mode": {
    "name": "ipython",
    "version": 3
   },
   "file_extension": ".py",
   "mimetype": "text/x-python",
   "name": "python",
   "nbconvert_exporter": "python",
   "pygments_lexer": "ipython3",
   "version": "3.10.8"
  }
 },
 "nbformat": 4,
 "nbformat_minor": 5
}
