{
 "cells": [
  {
   "cell_type": "code",
   "execution_count": null,
   "id": "a8d80a11-710e-4c7b-a436-3533572bb658",
   "metadata": {},
   "outputs": [],
   "source": [
    "import multiprocessing"
   ]
  },
  {
   "cell_type": "code",
   "execution_count": 4,
   "id": "ba02b3c8-22ed-4a2c-840f-65337b64a2f7",
   "metadata": {},
   "outputs": [],
   "source": [
    "def test():\n",
    "    print(\"this is start\")"
   ]
  },
  {
   "cell_type": "code",
   "execution_count": 5,
   "id": "3c12df2e-138c-4ea0-ad18-ea6f1edf1a29",
   "metadata": {},
   "outputs": [
    {
     "name": "stdout",
     "output_type": "stream",
     "text": [
      "this is start\n"
     ]
    }
   ],
   "source": [
    "test()"
   ]
  },
  {
   "cell_type": "code",
   "execution_count": 8,
   "id": "33ab434b-2150-448f-8a7b-f963c5aa215e",
   "metadata": {},
   "outputs": [
    {
     "name": "stdout",
     "output_type": "stream",
     "text": [
      "It is main function\n",
      "it is child function\n"
     ]
    }
   ],
   "source": [
    "import multiprocessing\n",
    "def test1():\n",
    "    print(\"it is child function\")\n",
    "if __name__ == '__main__':\n",
    "    m=multiprocessing.Process(target=test1)\n",
    "    print(\"It is main function\")\n",
    "    m.start()\n",
    "    m.join()\n",
    "    "
   ]
  },
  {
   "cell_type": "code",
   "execution_count": 9,
   "id": "dfec823c-a272-4250-a49f-51afa2fd77a4",
   "metadata": {},
   "outputs": [
    {
     "name": "stdout",
     "output_type": "stream",
     "text": [
      "it is child function\n"
     ]
    }
   ],
   "source": [
    "test1()"
   ]
  },
  {
   "cell_type": "code",
   "execution_count": 13,
   "id": "ea64ea21-6512-4b6c-9009-584707ec1eda",
   "metadata": {},
   "outputs": [
    {
     "name": "stdout",
     "output_type": "stream",
     "text": [
      "[1, 4, 9, 16, 25, 36]\n"
     ]
    }
   ],
   "source": [
    "import multiprocessing\n",
    "def square(n):\n",
    "    return n**2\n",
    "\n",
    "if __name__ == '__main__':\n",
    "    with multiprocessing.Pool(processes=10) as pool: #pool is use when bulk of data is present.\n",
    "        out=pool.map(square,[1,2,3,4,5,6])\n",
    "        print(out)"
   ]
  },
  {
   "cell_type": "code",
   "execution_count": null,
   "id": "e70714c1-3d49-4d15-b087-802a9cf46298",
   "metadata": {},
   "outputs": [
    {
     "name": "stdout",
     "output_type": "stream",
     "text": [
      "0\n",
      "1\n",
      "2\n",
      "3\n",
      "4\n",
      "5\n",
      "6\n",
      "7\n",
      "8\n",
      "9\n",
      "anything can be added by put function \n"
     ]
    }
   ],
   "source": [
    "import multiprocessing\n",
    "def producer(q):\n",
    "    for i in range(10):\n",
    "        q.put(i)\n",
    "def consume(q):\n",
    "    while True :\n",
    "        item = q.get()\n",
    "        if item is None :\n",
    "            break\n",
    "        print(item)\n",
    "\n",
    "if __name__ == '__main__':\n",
    "    queue = multiprocessing.Queue()\n",
    "    m1=multiprocessing.Process(target=producer, args=(queue,))\n",
    "    \n",
    "    m2=multiprocessing.Process(target=consume, args=(queue,))\n",
    "    \n",
    "    m1.start()\n",
    "    m2.start()\n",
    "    \n",
    "    queue.put(\"anything can be added by put function \")\n",
    "    \n",
    "    m1.join()\n",
    "    m2.join()\n",
    "    \n",
    "        "
   ]
  },
  {
   "cell_type": "code",
   "execution_count": 1,
   "id": "3bb68391-7a1e-40f2-99ad-88ca24747f75",
   "metadata": {},
   "outputs": [
    {
     "name": "stdout",
     "output_type": "stream",
     "text": [
      "[4, 9, 16, 25, 36, 49, 64]\n"
     ]
    }
   ],
   "source": [
    "import multiprocessing\n",
    "def square(index,value):\n",
    "    value[index] = value[index]**2\n",
    "    \n",
    "if __name__ == '__main__' :\n",
    "    arr = multiprocessing.Array('i' , [2,3,4,5,6,7,8])\n",
    "    process=[]\n",
    "    for i in range(7):\n",
    "        m=multiprocessing.Process(target=square , args=(i,arr))\n",
    "        process.append(m)\n",
    "        m.start()\n",
    "    for m in process:\n",
    "        m.join()\n",
    "    print(list(arr))\n",
    "    "
   ]
  },
  {
   "cell_type": "code",
   "execution_count": null,
   "id": "7ef707b9-672c-455b-b505-2171b1819c34",
   "metadata": {},
   "outputs": [
    {
     "name": "stdout",
     "output_type": "stream",
     "text": [
      "i am first msg\n",
      "i am second msg\n",
      "i am third msg\n"
     ]
    }
   ],
   "source": [
    "import multiprocessing\n",
    "def sender(conn , msg):\n",
    "    for i in msg:\n",
    "        conn.send(i)\n",
    "    conn.close()\n",
    "    \n",
    "def reciver(conn):\n",
    "    while True :\n",
    "        try:\n",
    "            msg=conn.recv()\n",
    "        except Exception as e:\n",
    "            print(e)\n",
    "            break\n",
    "        print(msg)\n",
    "if __name__ == '__main__':\n",
    "    msg = [\"i am first msg\" , \"i am second msg\",\"i am third msg\"]\n",
    "    parent_con , child_con = multiprocessing.Pipe()\n",
    "    m1=multiprocessing.Process(target=sender , args=(child_con,msg))\n",
    "    m2 = multiprocessing.Process(target=reciver , args=(parent_con,))\n",
    "    m1.start()\n",
    "    m2.start()\n",
    "    m1.join()\n",
    "    child_con.close()\n",
    "    m2.join()\n",
    "    parent_con.close()"
   ]
  },
  {
   "cell_type": "code",
   "execution_count": null,
   "id": "12e878fa-002f-4009-bed7-ae9b185b98e3",
   "metadata": {},
   "outputs": [],
   "source": []
  }
 ],
 "metadata": {
  "kernelspec": {
   "display_name": "Python 3 (ipykernel)",
   "language": "python",
   "name": "python3"
  },
  "language_info": {
   "codemirror_mode": {
    "name": "ipython",
    "version": 3
   },
   "file_extension": ".py",
   "mimetype": "text/x-python",
   "name": "python",
   "nbconvert_exporter": "python",
   "pygments_lexer": "ipython3",
   "version": "3.10.8"
  }
 },
 "nbformat": 4,
 "nbformat_minor": 5
}
