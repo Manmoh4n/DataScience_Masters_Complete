{
 "cells": [
  {
   "cell_type": "markdown",
   "id": "068509f3-c26b-4899-930a-46c179aea5b8",
   "metadata": {},
   "source": [
    "# Q1: What is the difference between a t-test and a z-test? Provide an example scenario where you would use each type of test."
   ]
  },
  {
   "cell_type": "markdown",
   "id": "5b0672be-dfcc-40c4-9172-112c7a2de16d",
   "metadata": {},
   "source": [
    "The main difference between a t-test and a z-test is the way they handle the standard deviation. A t-test is used when the population standard deviation is unknown and must be estimated from the sample data, while a z-test is used when the population standard deviation is known.\n",
    "\n",
    "A t-test is typically used for smaller sample sizes (less than 30) and when the population standard deviation is unknown. For example, suppose a researcher wants to test whether the average weight of a sample of 20 male rats is different from the average weight of a sample of 20 female rats. Since the standard deviation of rat weights in the population is unknown, the researcher would use a two-sample t-test to compare the means of the two groups.\n",
    "\n",
    "On the other hand, a z-test is used for larger sample sizes (greater than 30) and when the population standard deviation is known. For example, suppose a researcher wants to test whether a new drug is more effective than an existing drug for treating a particular disease. The researcher has a sample of 100 patients who have been randomly assigned to one of the two groups. Since the standard deviation of patient response in the population is known, the researcher would use a two-sample z-test to compare the means of the two groups."
   ]
  },
  {
   "cell_type": "markdown",
   "id": "721683c3-99f2-4e07-8e04-b57c5f822f76",
   "metadata": {},
   "source": [
    "# Q2: Differentiate between one-tailed and two-tailed tests."
   ]
  },
  {
   "cell_type": "markdown",
   "id": "62c16ecf-1321-4d99-b121-b0ae31248878",
   "metadata": {},
   "source": [
    "In hypothesis testing, a one-tailed test is a statistical test in which the null hypothesis is rejected if the sample statistic is significantly greater than or less than the hypothesized population parameter in only one direction. The alternative hypothesis is defined in terms of this direction only. In other words, a one-tailed test tests for a directional effect.\n",
    "\n",
    "On the other hand, a two-tailed test is a statistical test in which the null hypothesis is rejected if the sample statistic is significantly different from the hypothesized population parameter in either direction. The alternative hypothesis is defined in terms of a difference, not a specific direction. In other words, a two-tailed test tests for a non-directional effect.\n",
    "\n",
    "For example, suppose a researcher is interested in testing whether the mean height of a sample of students is significantly different from the population mean height. If the researcher uses a two-tailed test, the null hypothesis would be that the sample mean is equal to the population mean, and the alternative hypothesis would be that the sample mean is not equal to the population mean. If the researcher uses a one-tailed test, the null hypothesis would be that the sample mean is equal to the population mean, and the alternative hypothesis would be that the sample mean is either greater than or less than the population mean."
   ]
  },
  {
   "cell_type": "markdown",
   "id": "9235052d-d24b-4cf1-a259-e908b63ff3b4",
   "metadata": {},
   "source": [
    "# Q3: Explain the concept of Type 1 and Type 2 errors in hypothesis testing. Provide an example scenario for each type of error."
   ]
  },
  {
   "cell_type": "markdown",
   "id": "fbe96189-94d4-4339-820e-306f06326f70",
   "metadata": {},
   "source": [
    "- Type 1 and Type 2 errors are two types of errors that can occur in hypothesis testing.\n",
    "\n",
    "Type 1 error occurs when a null hypothesis is rejected even though it is actually true. In other words, it is the error of concluding that there is a statistically significant effect or difference when one does not truly exist. The probability of making a Type 1 error is denoted by the symbol alpha (α) and is also called the level of significance. The level of significance is typically set at 0.05 or 0.01, which means that there is a 5% or 1% chance of making a Type 1 error, respectively.\n",
    "\n",
    "Example scenario for Type 1 error:\n",
    "Suppose a researcher is testing a new drug and wants to see if it is effective in reducing pain. They set the level of significance at 0.05 and find that the drug has a significant effect on pain reduction. However, it turns out that the drug does not actually work, and the significant result is due to random chance. This is a Type 1 error.\n",
    "\n",
    "Type 2 error occurs when a null hypothesis is not rejected even though it is actually false. In other words, it is the error of failing to detect a real effect or difference. The probability of making a Type 2 error is denoted by the symbol beta (β) and depends on factors such as sample size, effect size, and level of significance.\n",
    "\n",
    "Example scenario for Type 2 error:\n",
    "Suppose a researcher is testing a new drug and wants to see if it is effective in reducing pain. They set the level of significance at 0.05 and find that the drug does not have a significant effect on pain reduction. However, it turns out that the drug does actually work, but the sample size was too small to detect the effect. This is a Type 2 error."
   ]
  },
  {
   "cell_type": "markdown",
   "id": "5f10fc86-d3d5-4ac7-aca1-c1c2e5d56e61",
   "metadata": {},
   "source": [
    "# Q4: Explain Bayes's theorem with an example."
   ]
  },
  {
   "cell_type": "markdown",
   "id": "86944f33-42a6-40ef-a22b-056af98943fc",
   "metadata": {},
   "source": [
    "Bayes's theorem is a fundamental concept in probability theory that describes the relationship between conditional probabilities. It provides a way to update our beliefs about the likelihood of an event occurring based on new evidence or information.\n",
    "\n",
    "Bayes's theorem can be stated as follows:\n",
    "\n",
    "P(A|B) = P(B|A) * P(A) / P(B)\n",
    "\n",
    "where:\n",
    "\n",
    "P(A|B) is the probability of event A occurring given that event B has occurred\n",
    "P(B|A) is the probability of event B occurring given that event A has occurred\n",
    "P(A) is the prior probability of event A occurring\n",
    "P(B) is the prior probability of event B occurring"
   ]
  },
  {
   "cell_type": "markdown",
   "id": "8501f795-ba3d-4cfc-84e3-a5cfcd117af2",
   "metadata": {},
   "source": [
    "# Q5: What is a confidence interval? How to calculate the confidence interval, explain with an example."
   ]
  },
  {
   "cell_type": "markdown",
   "id": "a5f04646-9c5f-4292-be27-feeb700c4451",
   "metadata": {},
   "source": [
    "A confidence interval is a range of values that is likely to contain the true value of a population parameter with a certain level of confidence. It is a measure of the precision or uncertainty of an estimate, such as a sample mean or proportion. The confidence level is typically expressed as a percentage, such as 95%, and represents the proportion of intervals that would contain the true population parameter if the sampling process were repeated many times.\n",
    "\n",
    "To calculate a confidence interval, we need to know the sample statistics, such as the sample mean, sample size, and sample standard deviation. The formula for calculating the confidence interval varies depending on the type of parameter being estimated and the assumptions about the population distribution.\n",
    "\n",
    "Here's an example of calculating a confidence interval for a population mean using the t-distribution:\n",
    "\n",
    "Suppose we want to estimate the average height of all male students in a certain university using a random sample of 50 male students. We measure their heights and obtain a sample mean of 175 cm and a sample standard deviation of 5 cm. We want to calculate a 95% confidence interval for the population mean height.\n",
    "\n",
    "First, we need to determine the t-score for a 95% confidence interval with 49 degrees of freedom (50 - 1). We can look up this value in a t-distribution table or use a calculator to find that the t-score is 2.009.\n",
    "\n",
    "Next, we can use the formula for a confidence interval for the population mean:\n",
    "\n",
    "CI = x̄ ± t*(s/√n)\n",
    "\n",
    "where x̄ is the sample mean, s is the sample standard deviation, n is the sample size, and t is the t-score.\n",
    "\n",
    "Plugging in the values, we get:\n",
    "\n",
    "CI = 175 ± 2.009*(5/√50)\n",
    "\n",
    "CI = 175 ± 1.42\n",
    "\n",
    "CI = (173.58, 176.42)\n",
    "\n",
    "This means that we can be 95% confident that the true population mean height of male students in this university falls between 173.58 cm and 176.42 cm. If we repeated the sampling process many times, approximately 95% of the calculated confidence intervals would contain the true population mean height."
   ]
  },
  {
   "cell_type": "markdown",
   "id": "063d2823-1c92-42a9-99b1-1e80bb9cb0c4",
   "metadata": {},
   "source": [
    "# Q6. Use Bayes' Theorem to calculate the probability of an event occurring given prior knowledge of the event's probability and new evidence. Provide a sample problem and solution."
   ]
  },
  {
   "cell_type": "markdown",
   "id": "5befc539-f95c-49b0-9415-5d909b8ec549",
   "metadata": {},
   "source": [
    "A clinic performs a test for a certain disease. The test is 95% accurate, meaning that it correctly identifies positive cases 95% of the time and correctly identifies negative cases 95% of the time. The disease occurs in 1% of the population. If a patient tests positive for the disease, what is the probability that they actually have the disease?\n",
    "\n",
    "Solution:\n",
    "\n",
    "Let's use the following notation for the problem:\n",
    "\n",
    "D: the event that the patient has the disease\n",
    "D': the event that the patient does not have the disease\n",
    "+: the event that the patient tests positive for the disease\n",
    "-: the event that the patient tests negative for the disease\n",
    "We are asked to find P(D | +), the probability that the patient has the disease given that they test positive.\n",
    "\n",
    "We can start by using Bayes' Theorem:\n",
    "\n",
    "P(D | +) = P(+ | D) P(D) / P(+)\n",
    "\n",
    "where P(+ | D) is the probability of testing positive given that the patient has the disease (i.e., the test sensitivity), P(D) is the prior probability of the patient having the disease (i.e., 1% in this case), and P(+) is the probability of testing positive, which can be calculated using the law of total probability:\n",
    "\n",
    "P(+) = P(+ | D) P(D) + P(+ | D') P(D')\n",
    "\n",
    "where P(+ | D') is the probability of testing positive given that the patient does not have the disease (i.e., the test specificity), and P(D') is the complement of P(D), which is 1% in this case.\n",
    "\n",
    "We are given that the test sensitivity and specificity are both 95%, so we have:\n",
    "\n",
    "P(+ | D) = 0.95\n",
    "P(+ | D') = 1 - 0.95 = 0.05\n",
    "\n",
    "Plugging in these values, we get:\n",
    "\n",
    "P(+) = 0.95 * 0.01 + 0.05 * 0.99 = 0.0595\n",
    "\n",
    "Now we can calculate the desired probability:\n",
    "\n",
    "P(D | +) = P(+ | D) P(D) / P(+) = 0.95 * 0.01 / 0.0595 = 0.159\n",
    "\n",
    "So the probability that a patient actually has the disease given a positive test result is about 16%."
   ]
  },
  {
   "cell_type": "markdown",
   "id": "a0ecacaa-9276-432d-8760-b490db2d33e2",
   "metadata": {},
   "source": [
    "# Q7. Calculate the 95% confidence interval for a sample of data with a mean of 50 and a standard deviation of 5. Interpret the results."
   ]
  },
  {
   "cell_type": "markdown",
   "id": "02cb1834-ebf9-47c2-967c-cf3e18512981",
   "metadata": {},
   "source": [
    "To calculate the 95% confidence interval, we need to use the formula:\n",
    "\n",
    "CI = x̄ ± z*(σ/√n)\n",
    "\n",
    "where:\n",
    "\n",
    "CI = confidence interval\n",
    "x̄ = sample mean (50)\n",
    "z = z-score for the desired confidence level (1.96 for 95% confidence)\n",
    "σ = population standard deviation (5)\n",
    "n = sample size\n",
    "\n",
    "Plugging in the values, we get:\n",
    "\n",
    "CI = 50 ± 1.96*(5/√n)\n",
    "\n",
    "Since we don't have information on the sample size (n), we can't calculate the exact confidence interval. However, we can interpret the results if we assume a sample size of 100:\n",
    "\n",
    "CI = 50 ± 1.96*(5/√100) = 50 ± 0.98\n",
    "\n",
    "This means that we can be 95% confident that the true population mean falls within the range of 49.02 to 50.98. In other words, if we were to take multiple samples from the same population and calculate their 95% confidence intervals, we would expect 95% of those intervals to contain the true population mean.\n",
    "\n",
    "\n",
    "\n",
    "\n"
   ]
  },
  {
   "cell_type": "markdown",
   "id": "e9d74025-8fde-4b03-a2fc-94843763b769",
   "metadata": {},
   "source": [
    "# Q8. What is the margin of error in a confidence interval? How does sample size affect the margin of error? Provide an example of a scenario where a larger sample size would result in a smaller margin of error."
   ]
  },
  {
   "cell_type": "markdown",
   "id": "4d93a788-f515-41c9-aac9-b248bb414c6e",
   "metadata": {},
   "source": [
    "The margin of error is the amount of error that is allowed for when making a prediction or estimation about a population based on a sample. It represents the range of values within which the true population parameter is likely to fall with a certain level of confidence.\n",
    "\n",
    "Sample size affects the margin of error in a confidence interval in that larger sample sizes generally result in smaller margins of error. This is because larger sample sizes provide more information about the population, and therefore the estimate of the population parameter is more precise.\n",
    "\n",
    "For example, suppose a pollster wants to estimate the percentage of voters in a city who support a particular candidate. If the pollster takes a sample of 100 voters and finds that 60% support the candidate, the margin of error for a 95% confidence interval would be around +/- 9.8%. However, if the pollster takes a sample of 1000 voters and finds that 60% support the candidate, the margin of error for a 95% confidence interval would be around +/- 3.1%. This means that the larger sample size has resulted in a smaller margin of error.\n",
    "\n",
    "In general, a larger sample size results in a smaller margin of error because it reduces the effect of random sampling variation on the estimate of the population parameter.\n",
    "\n",
    "\n",
    "\n"
   ]
  },
  {
   "cell_type": "markdown",
   "id": "6bac002e-e430-41db-8e37-f6e299690f92",
   "metadata": {},
   "source": [
    "# Q9. Calculate the z-score for a data point with a value of 75, a population mean of 70, and a population standard deviation of 5. Interpret the results."
   ]
  },
  {
   "cell_type": "markdown",
   "id": "13388043-f341-4012-9b01-b4146e82848d",
   "metadata": {},
   "source": [
    "The z-score can be calculated using the formula:\n",
    "\n",
    "z = (x - μ) / σ\n",
    "\n",
    "where x is the data point, μ is the population mean, and σ is the population standard deviation.\n",
    "\n",
    "Plugging in the values given in the problem, we get:\n",
    "\n",
    "z = (75 - 70) / 5\n",
    "\n",
    "z = 1\n",
    "\n",
    "The z-score for this data point is 1.\n",
    "\n",
    "Interpreting the results, we can say that the data point of 75 is one standard deviation above the population mean of 70. This information can be used to compare the data point to other data points in the distribution that have been standardized using the same population mean and standard deviation.\n",
    "\n",
    "\n",
    "\n",
    "\n",
    "\n"
   ]
  },
  {
   "cell_type": "markdown",
   "id": "c6f15174-34a0-4b6d-a90f-93ebddc15be4",
   "metadata": {},
   "source": [
    "# Q10. In a study of the effectiveness of a new weight loss drug, a sample of 50 participants lost an average of 6 pounds with a standard deviation of 2.5 pounds. Conduct a hypothesis test to determine if the drug is significantly effective at a 95% confidence level using a t-test."
   ]
  },
  {
   "cell_type": "markdown",
   "id": "4c255a96-7eb3-4033-9e6d-f8c4dde72e55",
   "metadata": {},
   "source": [
    "To conduct a hypothesis test using a t-test, we need to set up the null and alternative hypotheses:\n",
    "\n",
    "Null hypothesis: The weight loss drug is not significantly effective.\n",
    "Alternative hypothesis: The weight loss drug is significantly effective.\n",
    "\n",
    "We will use a two-tailed test since we are interested in determining if the drug is significantly effective, whether it leads to weight loss or weight gain.\n",
    "\n",
    "The significance level, alpha, is 0.05 (95% confidence level).\n",
    "\n",
    "We have a sample size of 50, sample mean (x̄) of 6 pounds, and sample standard deviation (s) of 2.5 pounds.\n",
    "\n",
    "First, we need to calculate the t-statistic:\n",
    "\n",
    "t = (x̄ - μ) / (s / sqrt(n))\n",
    "\n",
    "where x̄ is the sample mean, μ is the population mean (null hypothesis value), s is the sample standard deviation, and n is the sample size.\n",
    "\n",
    "t = (6 - 0) / (2.5 / sqrt(50))\n",
    "t = 16.97\n",
    "\n",
    "Next, we need to find the critical t-value for a two-tailed test with 49 degrees of freedom (n-1) and alpha = 0.05. Using a t-table or calculator, the critical t-value is approximately ±2.009.\n",
    "\n",
    "Since our calculated t-value (16.97) is greater than the critical t-value (±2.009), we reject the null hypothesis and conclude that the weight loss drug is significantly effective at the 95% confidence level."
   ]
  },
  {
   "cell_type": "markdown",
   "id": "8a8b938b-78af-4a74-babe-48e673518021",
   "metadata": {},
   "source": [
    "# Q11. In a survey of 500 people, 65% reported being satisfied with their current job. Calculate the 95% confidence interval for the true proportion of people who are satisfied with their job."
   ]
  },
  {
   "cell_type": "markdown",
   "id": "1e5cba03-5033-4136-82e7-c80e101fc609",
   "metadata": {},
   "source": [
    "To calculate the 95% confidence interval for the true proportion of people who are satisfied with their job, we can use the following formula:\n",
    "\n",
    "CI = p ± z√(p(1-p)/n)\n",
    "\n",
    "where:\n",
    "p = sample proportion (0.65)\n",
    "z = z-score for 95% confidence level (1.96)\n",
    "n = sample size (500)\n",
    "\n",
    "Plugging in the values, we get:\n",
    "\n",
    "CI = 0.65 ± 1.96√(0.65(1-0.65)/500)\n",
    "CI = 0.65 ± 0.047\n",
    "CI = (0.603, 0.697)\n",
    "\n",
    "Therefore, we can be 95% confident that the true proportion of people who are satisfied with their job is between 60.3% and 69.7%."
   ]
  },
  {
   "cell_type": "markdown",
   "id": "894fd942-7cf3-49cb-ad2e-a0a8a679ec5b",
   "metadata": {},
   "source": [
    "# Q12. A researcher is testing the effectiveness of two different teaching methods on student performance. Sample A has a mean score of 85 with a standard deviation of 6, while sample B has a mean score of 82 with a standard deviation of 5. Conduct a hypothesis test to determine if the two teaching methods have a significant difference in student performance using a t-test with a significance level of 0.01."
   ]
  },
  {
   "cell_type": "markdown",
   "id": "69744323-53e2-4966-a793-aa2fefc6f7ea",
   "metadata": {},
   "source": [
    "To determine if there is a significant difference in student performance between the two teaching methods, we can conduct a two-sample t-test. The null hypothesis is that there is no significant difference in means between the two samples, while the alternative hypothesis is that there is a significant difference in means between the two samples.\n",
    "\n",
    "The t-test formula is given by:\n",
    "\n",
    "t = (x1 - x2) / [s^2pooled * (1/n1 + 1/n2)]^0.5\n",
    "\n",
    "where:\n",
    "x1 = sample mean of sample A\n",
    "x2 = sample mean of sample B\n",
    "s1 = standard deviation of sample A\n",
    "s2 = standard deviation of sample B\n",
    "n1 = sample size of sample A\n",
    "n2 = sample size of sample B\n",
    "spooled = pooled standard deviation, calculated as:\n",
    "spooled = [(n1-1)*s1^2 + (n2-1)*s2^2] / (n1+n2-2)\n",
    "\n",
    "We will use a significance level of 0.01, which corresponds to a 99% confidence level.\n",
    "\n",
    "First, we need to calculate the pooled standard deviation:\n",
    "\n",
    "spooled = [(15-1)*6^2 + (12-1)*5^2] / (15+12-2) = 5.459\n",
    "\n",
    "Then, we can calculate the t-statistic:\n",
    "\n",
    "t = (85 - 82) / [5.459 * (1/15 + 1/12)]^0.5 = 2.397\n",
    "\n",
    "Using a t-table or calculator with 25 degrees of freedom (n1 + n2 - 2), we can find the critical t-value for a two-tailed test at a significance level of 0.01 to be 2.796.\n",
    "\n",
    "Since our calculated t-statistic of 2.397 is less than the critical t-value of 2.796, we fail to reject the null hypothesis. We can conclude that there is not enough evidence to suggest that there is a significant difference in student performance between the two teaching methods.\n",
    "\n",
    "Therefore, we cannot conclude that one teaching method is better than the other based on this study."
   ]
  },
  {
   "cell_type": "markdown",
   "id": "7a93f0e9-0a38-44a9-ab48-5e686e1cb8d0",
   "metadata": {},
   "source": [
    "# Q13. A population has a mean of 60 and a standard deviation of 8. A sample of 50 observations has a mean of 65. Calculate the 90% confidence interval for the true population mean."
   ]
  },
  {
   "cell_type": "markdown",
   "id": "1fb17a7b-5b47-4844-ac90-164ea88cbd53",
   "metadata": {},
   "source": [
    "To calculate the 90% confidence interval for the true population mean, we can use the following formula:\n",
    "\n",
    "Confidence Interval = sample mean ± (Z-value x Standard Error)\n",
    "\n",
    "Where Z-value is the critical value from the standard normal distribution for the desired confidence level, and Standard Error is the standard deviation of the sample mean.\n",
    "\n",
    "First, we need to find the Z-value for a 90% confidence level, which can be found using a Z-table or calculator. For a 90% confidence level, the Z-value is 1.645.\n",
    "\n",
    "Next, we can calculate the Standard Error using the following formula:\n",
    "\n",
    "Standard Error = population standard deviation / square root of sample size\n",
    "\n",
    "Standard Error = 8 / √50\n",
    "Standard Error = 1.131\n",
    "\n",
    "Now, we can plug in the values into the formula for the confidence interval:\n",
    "\n",
    "Confidence Interval = 65 ± (1.645 x 1.131)\n",
    "Confidence Interval = 65 ± 1.860\n",
    "Confidence Interval = (63.14, 66.86)\n",
    "\n",
    "Therefore, we can say with 90% confidence that the true population mean falls between 63.14 and 66.86.\n",
    "\n",
    "\n",
    "\n",
    "\n"
   ]
  },
  {
   "cell_type": "markdown",
   "id": "3a6443ca-b77a-43bb-a448-75d580e8cfcc",
   "metadata": {},
   "source": [
    "# Q14. In a study of the effects of caffeine on reaction time, a sample of 30 participants had an average reaction time of 0.25 seconds with a standard deviation of 0.05 seconds. Conduct a hypothesis test to determine if the caffeine has a significant effect on reaction time at a 90% confidence level using a t-test."
   ]
  },
  {
   "cell_type": "markdown",
   "id": "c322bbf4-4706-454b-89ad-cb9f60881e30",
   "metadata": {},
   "source": [
    "To conduct a hypothesis test to determine if caffeine has a significant effect on reaction time, we can use a one-sample t-test with the following null and alternative hypotheses:\n",
    "\n",
    "Null hypothesis: The mean reaction time for the population is equal to 0.25 seconds.\n",
    "Alternative hypothesis: The mean reaction time for the population is not equal to 0.25 seconds.\n",
    "\n",
    "We will use a significance level of 0.10 for the test.\n",
    "\n",
    "First, we calculate the t-value:\n",
    "\n",
    "t = (sample mean - hypothesized population mean) / (sample standard deviation / sqrt(sample size))\n",
    "t = (0.25 - 0) / (0.05 / sqrt(30))\n",
    "t = 8.66025\n",
    "\n",
    "Next, we find the degrees of freedom:\n",
    "\n",
    "df = sample size - 1\n",
    "df = 30 - 1\n",
    "df = 29\n",
    "\n",
    "Using a t-table or calculator, we find the critical t-value for a two-tailed test with 29 degrees of freedom and a significance level of 0.10 to be approximately ±1.699.\n",
    "\n",
    "Since our calculated t-value of 8.66025 is greater than the critical t-value of ±1.699, we reject the null hypothesis and conclude that caffeine has a significant effect on reaction time at a 90% confidence level.\n",
    "\n",
    "\n",
    "\n",
    "\n"
   ]
  }
 ],
 "metadata": {
  "kernelspec": {
   "display_name": "Python 3 (ipykernel)",
   "language": "python",
   "name": "python3"
  },
  "language_info": {
   "codemirror_mode": {
    "name": "ipython",
    "version": 3
   },
   "file_extension": ".py",
   "mimetype": "text/x-python",
   "name": "python",
   "nbconvert_exporter": "python",
   "pygments_lexer": "ipython3",
   "version": "3.10.8"
  }
 },
 "nbformat": 4,
 "nbformat_minor": 5
}
