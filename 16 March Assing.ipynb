{
 "cells": [
  {
   "cell_type": "markdown",
   "id": "9638c0db-6135-44c0-8a58-31ddeebf1a3c",
   "metadata": {},
   "source": [
    "# Q1: Define overfitting and underfitting in machine learning. What are the consequences of each, and how can they be mitigated?"
   ]
  },
  {
   "cell_type": "markdown",
   "id": "18b66109-dac3-4bd8-a57b-0c9e0be456b6",
   "metadata": {},
   "source": [
    "Overfitting is an undesirable machine learning behavior that occurs when the machine learning model gives accurate predictions for training data but not for new data.\n",
    "\n",
    "Underfitting is an undesirable machine learning behavior that occurs when the machine learning model gives poor predictions for training data and also poor for new data.\n",
    "\n",
    "Underfitting occurs when our machine learning model is not able to capture the underlying trend of the data. To avoid the overfitting in the model, the fed of training data can be stopped at an early stage, due to which the model may not learn enough from the training data."
   ]
  },
  {
   "cell_type": "markdown",
   "id": "d816627b-3c2f-42ac-934e-38306563ac7b",
   "metadata": {},
   "source": [
    "# Q2: How can we reduce overfitting? Explain in brief."
   ]
  },
  {
   "cell_type": "markdown",
   "id": "2a81357a-7689-45fd-8b31-e5bf8f7affd5",
   "metadata": {},
   "source": [
    "Overfitting makes the model relevant to its data set only, and irrelevant to any other data sets. Some of the methods used to prevent overfitting include ensembling, data augmentation, data simplification, and cross-validation"
   ]
  },
  {
   "cell_type": "markdown",
   "id": "4ca7ef5c-13d6-48d2-a9c3-eadd76d0559d",
   "metadata": {},
   "source": [
    "# Q3: Explain underfitting. List scenarios where underfitting can occur in ML."
   ]
  },
  {
   "cell_type": "markdown",
   "id": "0539c030-7f18-4ca2-b0b0-99decd57e932",
   "metadata": {},
   "source": [
    "Underfitting occurs when a model is too simple — informed by too few features or regularized too much — which makes it inflexible in learning from the dataset. Simple learners tend to have less variance in their predictions but more bias towards wrong outcomes\n",
    "High varience and High Bias"
   ]
  },
  {
   "cell_type": "markdown",
   "id": "bfa52ba3-9040-41fa-ab0a-c98b793aef43",
   "metadata": {},
   "source": [
    "# Q4: Explain the bias-variance tradeoff in machine learning. What is the relationship between bias and variance, and how do they affect model performance?"
   ]
  },
  {
   "cell_type": "markdown",
   "id": "417f864f-d1f8-44b8-a1f2-5a33e375bd79",
   "metadata": {},
   "source": [
    "A model with a high bias error underfits data and makes very simplistic assumptions on it. A model with a high variance error overfits the data and learns too much from it. A good model is where both Bias and Variance errors are balanced.\n",
    "\n",
    "The bias–variance tradeoff is the property of a model that the variance of the parameter estimated across samples can be reduced by increasing the bias in the estimated parameters"
   ]
  },
  {
   "cell_type": "markdown",
   "id": "97cd91c0-53d0-4b6d-82f5-bad0a92edb59",
   "metadata": {},
   "source": [
    "# Q5: Discuss some common methods for detecting overfitting and underfitting in machine learning models. How can you determine whether your model is overfitting or underfitting?"
   ]
  },
  {
   "cell_type": "markdown",
   "id": "6dafdc61-fbd4-4290-9f71-313fdc4cc70d",
   "metadata": {},
   "source": [
    "It can also occur if the model is trained for too long. A plot of learning curves shows overfitting if: The plot of training loss continues to decrease with experience. The plot of validation loss decreases to a point and begins increasing again"
   ]
  },
  {
   "cell_type": "markdown",
   "id": "49a5afd8-60be-4482-bd44-669ad6aabab5",
   "metadata": {},
   "source": [
    "# Q6: Compare and contrast bias and variance in machine learning. What are some examples of high bias and high variance models, and how do they differ in terms of their performance?"
   ]
  },
  {
   "cell_type": "markdown",
   "id": "0f06ace4-92c8-48bc-a45a-527f6ea5cbda",
   "metadata": {},
   "source": [
    "A model with high variance may represent the data set accurately but could lead to overfitting to noisy or otherwise unrepresentative training data. In comparison, a model with high bias may underfit the training data due to a simpler model that overlooks regularities in the data."
   ]
  },
  {
   "cell_type": "markdown",
   "id": "b643cc5b-ebc9-4979-85b1-43223a35cf6b",
   "metadata": {},
   "source": [
    " # Q7: What is regularization in machine learning, and how can it be used to prevent overfitting? Describe some common regularization techniques and how they work."
   ]
  },
  {
   "cell_type": "markdown",
   "id": "bf8984e4-dc80-49b3-ada5-14d53f2a74f4",
   "metadata": {},
   "source": [
    "Regularization refers to techniques that are used to calibrate machine learning models in order to minimize the adjusted loss function and prevent overfitting or underfitting.\n",
    "\n",
    "\n",
    "Regularization is one of the most important concepts of machine learning. It is a technique to prevent the model from overfitting by adding extra information to it.\n",
    "\n",
    "Sometimes the machine learning model performs well with the training data but does not perform well with the test data. It means the model is not able to predict the output when deals with unseen data by introducing noise in the output, and hence the model is called overfitted. This problem can be deal with the help of a regularization technique.\n",
    "\n",
    "This technique can be used in such a way that it will allow to maintain all variables or features in the model by reducing the magnitude of the variables. Hence, it maintains accuracy as well as a generalization of the model.\n",
    "\n",
    "It mainly regularizes or reduces the coefficient of features toward zero. In simple words, \"In regularization technique, we reduce the magnitude of the features by keeping the same number of features.\""
   ]
  },
  {
   "cell_type": "code",
   "execution_count": null,
   "id": "d1605536-204b-4933-91ca-aafe1bcef0b6",
   "metadata": {},
   "outputs": [],
   "source": []
  }
 ],
 "metadata": {
  "kernelspec": {
   "display_name": "Python 3 (ipykernel)",
   "language": "python",
   "name": "python3"
  },
  "language_info": {
   "codemirror_mode": {
    "name": "ipython",
    "version": 3
   },
   "file_extension": ".py",
   "mimetype": "text/x-python",
   "name": "python",
   "nbconvert_exporter": "python",
   "pygments_lexer": "ipython3",
   "version": "3.10.8"
  }
 },
 "nbformat": 4,
 "nbformat_minor": 5
}
