{
 "cells": [
  {
   "cell_type": "markdown",
   "id": "9bb5d2dd-dd31-45ea-a152-a1805b8533c2",
   "metadata": {},
   "source": [
    "#List Comprehension\n"
   ]
  },
  {
   "cell_type": "code",
   "execution_count": 2,
   "id": "8b72f4cc-29d2-489a-bf70-c5c11cad5625",
   "metadata": {},
   "outputs": [],
   "source": [
    "l=[1,2,3,4,5]\n",
    "l1=[]\n",
    "for i in l:\n",
    "    l1.append(i**2)"
   ]
  },
  {
   "cell_type": "code",
   "execution_count": 4,
   "id": "60a40655-4760-438a-8dea-dada1f8fd8ae",
   "metadata": {},
   "outputs": [
    {
     "data": {
      "text/plain": [
       "[1, 4, 9, 16, 25]"
      ]
     },
     "execution_count": 4,
     "metadata": {},
     "output_type": "execute_result"
    }
   ],
   "source": [
    "l1"
   ]
  },
  {
   "cell_type": "code",
   "execution_count": 5,
   "id": "2df7d257-4f08-4612-952d-74cb5a34a4d0",
   "metadata": {},
   "outputs": [
    {
     "data": {
      "text/plain": [
       "[1, 4, 9, 16, 25]"
      ]
     },
     "execution_count": 5,
     "metadata": {},
     "output_type": "execute_result"
    }
   ],
   "source": [
    "[i**2 for i in l]"
   ]
  },
  {
   "cell_type": "code",
   "execution_count": 8,
   "id": "153296ec-b1e9-4597-b5a1-bd17448a8902",
   "metadata": {},
   "outputs": [
    {
     "data": {
      "text/plain": [
       "[2, 4]"
      ]
     },
     "execution_count": 8,
     "metadata": {},
     "output_type": "execute_result"
    }
   ],
   "source": [
    "#print all even number which is  present in list\n",
    "\n",
    "[i for i in l if i%2==0]          #[return value  ,  loop ,  condition]"
   ]
  },
  {
   "cell_type": "code",
   "execution_count": 9,
   "id": "c49b870c-2b72-4cf9-a7d0-daa8b0652819",
   "metadata": {},
   "outputs": [],
   "source": [
    "l1=[\"man\",\"sam\",\"list\",\"hello\"]"
   ]
  },
  {
   "cell_type": "code",
   "execution_count": 10,
   "id": "038bc812-7244-43d0-b498-96cff729c7f7",
   "metadata": {},
   "outputs": [
    {
     "data": {
      "text/plain": [
       "['MAN', 'SAM', 'LIST', 'HELLO']"
      ]
     },
     "execution_count": 10,
     "metadata": {},
     "output_type": "execute_result"
    }
   ],
   "source": [
    "#Convert all in upper case\n",
    "\n",
    "[i.upper() for i in l1]"
   ]
  },
  {
   "cell_type": "markdown",
   "id": "b7b0b50e-5889-4b7b-adb3-292f7659c97d",
   "metadata": {},
   "source": [
    "#Tuple comprehension"
   ]
  },
  {
   "cell_type": "code",
   "execution_count": 12,
   "id": "0960c805-7167-43e3-95b9-48e7da71ab68",
   "metadata": {},
   "outputs": [
    {
     "data": {
      "text/plain": [
       "[1, 2, 3, 4, 5]"
      ]
     },
     "execution_count": 12,
     "metadata": {},
     "output_type": "execute_result"
    }
   ],
   "source": [
    "l"
   ]
  },
  {
   "cell_type": "code",
   "execution_count": 14,
   "id": "72bed61f-5a8d-4282-af89-fed972acb2c5",
   "metadata": {},
   "outputs": [
    {
     "data": {
      "text/plain": [
       "[1, 4, 9, 16, 25]"
      ]
     },
     "execution_count": 14,
     "metadata": {},
     "output_type": "execute_result"
    }
   ],
   "source": [
    "list(i**2 for i in l)  #tuple"
   ]
  },
  {
   "cell_type": "markdown",
   "id": "f27cb414-d0e6-4192-a1b5-f819809d46db",
   "metadata": {},
   "source": [
    "#Dictonary Comprehension"
   ]
  },
  {
   "cell_type": "code",
   "execution_count": 15,
   "id": "b3076507-8edb-4e61-9572-e2c55bdada1f",
   "metadata": {},
   "outputs": [],
   "source": [
    "d ={\"key1\":1,\"key2\":2,\"key3\":3}"
   ]
  },
  {
   "cell_type": "code",
   "execution_count": 16,
   "id": "5d1ed1b0-db47-4cdc-9b89-8e8c2cf44fe6",
   "metadata": {},
   "outputs": [
    {
     "data": {
      "text/plain": [
       "{'key1': 1, 'key2': 4, 'key3': 9}"
      ]
     },
     "execution_count": 16,
     "metadata": {},
     "output_type": "execute_result"
    }
   ],
   "source": [
    "{k:v**2 for k , v in d.items()}"
   ]
  },
  {
   "cell_type": "code",
   "execution_count": 17,
   "id": "be4be77d-33ea-4cec-8a47-b1635d92a061",
   "metadata": {},
   "outputs": [
    {
     "data": {
      "text/plain": [
       "dict_items([('key1', 1), ('key2', 2), ('key3', 3)])"
      ]
     },
     "execution_count": 17,
     "metadata": {},
     "output_type": "execute_result"
    }
   ],
   "source": [
    "d.items()"
   ]
  },
  {
   "cell_type": "code",
   "execution_count": 18,
   "id": "f7cc747a-06f1-411f-bd54-ff5b3ee5971a",
   "metadata": {},
   "outputs": [
    {
     "data": {
      "text/plain": [
       "{'key2': 2, 'key3': 3}"
      ]
     },
     "execution_count": 18,
     "metadata": {},
     "output_type": "execute_result"
    }
   ],
   "source": [
    "{k: v for k,v in d.items() if v>1}"
   ]
  },
  {
   "cell_type": "code",
   "execution_count": null,
   "id": "bb770950-a187-49b0-acbe-6deab54dfc9f",
   "metadata": {},
   "outputs": [],
   "source": []
  }
 ],
 "metadata": {
  "kernelspec": {
   "display_name": "Python 3 (ipykernel)",
   "language": "python",
   "name": "python3"
  },
  "language_info": {
   "codemirror_mode": {
    "name": "ipython",
    "version": 3
   },
   "file_extension": ".py",
   "mimetype": "text/x-python",
   "name": "python",
   "nbconvert_exporter": "python",
   "pygments_lexer": "ipython3",
   "version": "3.10.8"
  }
 },
 "nbformat": 4,
 "nbformat_minor": 5
}
