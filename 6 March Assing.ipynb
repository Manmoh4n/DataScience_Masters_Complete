{
 "cells": [
  {
   "cell_type": "markdown",
   "id": "109b3ad7-e7af-4e82-84ef-de46046b40d7",
   "metadata": {},
   "source": [
    "# Q1. What is Statistics?"
   ]
  },
  {
   "cell_type": "markdown",
   "id": "4c7dddd8-69b6-4c04-b3ca-a878a85542d5",
   "metadata": {},
   "source": [
    "-  Statistics refers to a discipline of applied mathematics that deals with gathering, describing, analyzing, and drawing conclusions from numerical data.\n",
    "\n",
    "- It is based on mathematical theories such as differential and integral calculus and linear algebra.\n",
    "\n",
    "- Statistics is about using small sample size groups, and observing their behavior to derive accurate conclusions about larger groups and general occurrences."
   ]
  },
  {
   "cell_type": "markdown",
   "id": "f66912fc-e60b-439f-9fcd-422860d5b52a",
   "metadata": {},
   "source": [
    "# Q2. Define the different types of statistics and give an example of when each type might be used."
   ]
  },
  {
   "cell_type": "markdown",
   "id": "370fbbac-ab14-470f-a4d1-d78d89149152",
   "metadata": {},
   "source": [
    "- The two types of statistics are: Descriptive and inferential.\n",
    "\n",
    "- Descriptive Statistics :\n",
    "\n",
    "Descriptive statistics explains already known data related to a particular sample or population of a small size. In which results are in Charts, Graphs and Tables form. It consists of organised and summerised data.In which perform (Mean , Median , Mode etc)\n",
    "\n",
    "- inferential Statistics :\n",
    "\n",
    "Inferential statistics, however, aims to draw inferences or conclusions about a whole population. In which results are in Probability. It consist of using data you have measured to form conclusion.In which perform (Z-test, T-test , etc)"
   ]
  },
  {
   "cell_type": "markdown",
   "id": "5e7d468f-87c7-4980-ad7d-051475a1b5ee",
   "metadata": {},
   "source": [
    "# Q3. What are the different types of data and how do they differ from each other? Provide an example of each type of data."
   ]
  },
  {
   "cell_type": "markdown",
   "id": "61ad0cb8-7bb5-4e5f-9ba3-4f239bcbf123",
   "metadata": {},
   "source": [
    "There are two general types of data – quantitative and qualitative and both are equally important. You use both types to demonstrate effectiveness, importance or value.\n",
    "\n",
    "Qualitative or Categorical Data : It has two types Nominal and Ordinal Data.\n",
    "\n",
    "\n",
    "Nominal Data : It is the simplest form of a scale of measure. Unlike ordinal data, nominal data cannot be ordered and cannot be measured.  Examples are Gender , Blood Group , Pin Code \n",
    "\n",
    "Ordianl Data :Ordinal data is a categorical, statistical data type where the variables have natural, ordered categories and the distances between the categories are not known. Examples are Good , Bad , Better \n",
    "\n",
    "Quantitative or Numerical Data : It has two types Discrete Data and Continuous Data.\n",
    "\n",
    "Discrete Data : Data that can |only take on certain values are discrete data. These values do not have to be complete numbers, but they are values that are fixed. It only contains finite values, the subdivision of which is not possible. Examples are No.of students , No.of children\n",
    "\n",
    "Continuous Data : Data that can be measured. This data has values that are not fixed and have an infinite number of possible values. Examples are Height , Weight , Temp. , Speed"
   ]
  },
  {
   "cell_type": "markdown",
   "id": "229073e8-875d-4bf8-80a0-ebb4c51d0483",
   "metadata": {},
   "source": [
    "# Q4. Categorise the following datasets with respect to quantitative and qualitative data types:\n",
    "# (i) Grading in exam: A+, A, B+, B, C+, C, D, E\n",
    "# (ii) Colour of mangoes: yellow, green, orange, red\n",
    "# (iii) Height data of a class: [178.9, 179, 179.5, 176, 177.2, 178.3, 175.8,...]\n",
    "# (iv) Number of mangoes exported by a farm: [500, 600, 478, 672, ...]"
   ]
  },
  {
   "cell_type": "markdown",
   "id": "99fe050a-49a3-42d0-85ac-eb527d55f9a3",
   "metadata": {},
   "source": [
    "(i)The dataset can be categorized as qualitative data, specifically ordinal data, as the grades represent categories that have a natural ordering to them, with A+ being the highest grade and E being the lowest grade.\n",
    "\n",
    "(ii)The dataset can be categorized as qualitative data, specifically nominal data, as the colors represent categories that do not have a natural order to them. Each color is simply a distinct category, and there is no inherent ordering or hierarchy among them.\n",
    "\n",
    "(iii)The dataset can be categorized as quantitative data, specifically continuous data, as the heights are measured on a continuous scale and can take on any value within a certain range.\n",
    "\n",
    "(iv)The dataset can be categorized as quantitative data, specifically discrete data, as the number of mangoes exported is measured in whole numbers and cannot take on fractional values."
   ]
  },
  {
   "cell_type": "markdown",
   "id": "4814a61d-8c30-49bc-af59-31397d170835",
   "metadata": {},
   "source": [
    "# Q5. Explain the concept of levels of measurement and give an example of a variable for each level."
   ]
  },
  {
   "cell_type": "markdown",
   "id": "8d549395-a872-42ac-a016-57fbd9756a36",
   "metadata": {},
   "source": [
    "Levels of measurement refer to the different ways in which variables can be measured or classified in terms of the properties of the data they generate. The four levels of measurement are nominal, ordinal, interval, and ratio.\n",
    "\n",
    "- Nominal level of measurement: variables that can be categorized into distinct, non-ordered groups or classes. Examples are Gender , color\n",
    "\n",
    "- Ordinal level of measurement: variables that can be categorized into ordered groups or classes. Examples include grades in school \n",
    "\n",
    "- Interval level of measurement: variables that have a fixed unit of measurement and can be measured along a continuous scale, but do not have a true zero point. Examples include temperature measured in degrees Celsius or Fahrenheit\n",
    "\n",
    "- Ratio level of measurement: variables that have a fixed unit of measurement and can be measured along a continuous scale, and have a true zero point. Examples include weight, height, and distance."
   ]
  },
  {
   "cell_type": "markdown",
   "id": "73d05064-934a-4849-9c9c-0f6db8dc8ded",
   "metadata": {},
   "source": [
    "# Q6. Why is it important to understand the level of measurement when analyzing data? Provide an example to illustrate your answer."
   ]
  },
  {
   "cell_type": "markdown",
   "id": "b909f614-6626-4cc8-a571-828cfacecab3",
   "metadata": {},
   "source": [
    "It is important to understand the level of measurement of a variable when analyzing data because it affects the types of statistical analyses that can be performed on the data. Different statistical methods are appropriate for different levels of measurement, and using an inappropriate statistical method can lead to incorrect conclusions and erroneous interpretations.\n",
    "\n",
    "For example, consider a study that examines the relationship between temperature and productivity in a workplace. If temperature is measured on an interval scale, then it would be appropriate to use statistical techniques such as correlation analysis or regression analysis to examine the relationship between temperature and productivity."
   ]
  },
  {
   "cell_type": "markdown",
   "id": "31898ed3-50f5-4acb-985d-9266ae57ca0d",
   "metadata": {},
   "source": [
    "# Q7. How nominal data type is different from ordinal data type."
   ]
  },
  {
   "cell_type": "markdown",
   "id": "81e6c707-8339-4a21-85b3-c853a2bb25ae",
   "metadata": {},
   "source": [
    "Nominal data are categorical data that can be divided into discrete categories or groups, but there is no intrinsic ordering or hierarchy among the categories. For example, eye color \n",
    "\n",
    "Ordinal data, on the other hand, represent a ranking or ordering of data categories based on some underlying property or characteristic. For example, grades (A, B, C, D, F) and survey \n",
    "\n",
    "Difference between nominal and ordinal data is that nominal data do not have any intrinsic ordering or hierarchy among the categories, whereas ordinal data have a defined order or ranking among the categories based on some underlying characteristic or property."
   ]
  },
  {
   "cell_type": "markdown",
   "id": "79bde901-08d0-41b0-ab70-8a38dd113f4b",
   "metadata": {},
   "source": [
    "# Q8. Which type of plot can be used to display data in terms of range"
   ]
  },
  {
   "cell_type": "markdown",
   "id": "5db41ddf-4bb9-4dce-8353-3d2027f47af8",
   "metadata": {},
   "source": [
    "Boxplot can be used to display data in terms of range."
   ]
  },
  {
   "cell_type": "markdown",
   "id": "1d0faf89-47f7-4a2f-9b98-07f5698b5d4d",
   "metadata": {},
   "source": [
    "# Q9. Describe the difference between descriptive and inferential statistics. Give an example of each type of statistics and explain how they are used."
   ]
  },
  {
   "cell_type": "markdown",
   "id": "bfa54ff5-19b9-463f-bff4-9e55bfe0dc8d",
   "metadata": {},
   "source": [
    "Descriptive statistics are used to summarize and describe the main features of a dataset. These statistics provide a clear and concise picture of the data, allowing researchers to easily understand and communicate its key characteristics.\n",
    "\n",
    "\n",
    "Inferential statistics, on the other hand, are used to draw conclusions about a larger population based on a sample of data. Inferential statistics involve testing hypotheses, estimating parameters, and making predictions about a population based on the observed data.\n",
    "\n"
   ]
  },
  {
   "cell_type": "markdown",
   "id": "368be257-8b09-49af-962c-4efb6b48be9d",
   "metadata": {},
   "source": [
    "# Q10. What are some common measures of central tendency and variability used in statistics? Explain how each measure can be used to describe a dataset."
   ]
  },
  {
   "cell_type": "markdown",
   "id": "eedb780a-8638-4ad3-afe7-1305d4c4582e",
   "metadata": {},
   "source": [
    "Measures of central tendency and variability are commonly used in statistics to describe the main features of a dataset. The most common measures of central tendency are the mean, median, and mode, while measures of variability include range, variance, and standard deviation.\n",
    "\n",
    "- Mean: The mean is the arithmetic average of a dataset. It is calculated by adding up all the values in the dataset and dividing by the number of values.\n",
    "\n",
    "- Median: The median is the middle value in a dataset when the values are arranged in numerical order.\n",
    "\n",
    "- Mode: The mode is the value that appears most frequently in a dataset. It is a useful measure of central tendency when the dataset contains categorical or discrete variables.\n",
    "\n",
    "- Range: The range is the difference between the highest and lowest values in a dataset. It is a measure of variability that provides information about the spread of the data.\n",
    "\n",
    "- Variance: The variance is a measure of the spread of the data around the mean. It is calculated by taking the average of the squared deviations from the mean. The variance can provide insights into the degree of variability in the data.\n",
    "\n",
    "- Standard deviation: The standard deviation is the square root of the variance. It is a measure of the spread of the data that is commonly used because it has the same units as the original data."
   ]
  }
 ],
 "metadata": {
  "kernelspec": {
   "display_name": "Python 3 (ipykernel)",
   "language": "python",
   "name": "python3"
  },
  "language_info": {
   "codemirror_mode": {
    "name": "ipython",
    "version": 3
   },
   "file_extension": ".py",
   "mimetype": "text/x-python",
   "name": "python",
   "nbconvert_exporter": "python",
   "pygments_lexer": "ipython3",
   "version": "3.10.8"
  }
 },
 "nbformat": 4,
 "nbformat_minor": 5
}
