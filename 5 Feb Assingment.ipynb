{
 "cells": [
  {
   "cell_type": "markdown",
   "id": "225cb2ef",
   "metadata": {},
   "source": [
    "# 1. Explain Class and Object with respect to Object-Oriented Programming. Give a suitable example."
   ]
  },
  {
   "cell_type": "markdown",
   "id": "56ffcd9c",
   "metadata": {},
   "source": [
    ">> A Class in object oriented programming is a blueprint or prototype that defines the variables and the methods (functions) common to all Java Objects of a certain kind.\n",
    "\n",
    ">> An object in OOPS is a specimen of a class.Software objects are often used to model real-world objects you find in everyday life\n",
    "\n",
    ">> Ex:We can think of the class as a sketch (prototype) of a house. It contains all the details about the floors, doors, windows, etc. Based on these descriptions we build the house. House is the object."
   ]
  },
  {
   "cell_type": "markdown",
   "id": "3929fb97",
   "metadata": {},
   "source": [
    "# 2. Name the four pillars of OOPs."
   ]
  },
  {
   "cell_type": "markdown",
   "id": "d3c54839",
   "metadata": {},
   "source": [
    ">> Inheritance,Polymorphism,Encapsulation,Abstraction"
   ]
  },
  {
   "cell_type": "markdown",
   "id": "26ccdfb0",
   "metadata": {},
   "source": [
    "# 3. Explain why the __init__() function is used. Give a suitable example."
   ]
  },
  {
   "cell_type": "markdown",
   "id": "e4c9589e",
   "metadata": {},
   "source": [
    ">> A constructor of a class in Python is defined using the init method. The python init is a reserved method in Python that behaves like any other member function of the class, except the statements written under its definition are used to initialize the data members of a class in Python.\n",
    "\n",
    ">>It is declared as init()"
   ]
  },
  {
   "cell_type": "code",
   "execution_count": 2,
   "id": "2adb81d7",
   "metadata": {},
   "outputs": [],
   "source": [
    "#example \n",
    "class Manmohan():\n",
    "    def __init__(self,state,country):\n",
    "        self.state=state\n",
    "        self.country=countery\n",
    "    "
   ]
  },
  {
   "cell_type": "markdown",
   "id": "24b89b2a",
   "metadata": {},
   "source": [
    "# 4. Why self is used in OOPs?"
   ]
  },
  {
   "cell_type": "markdown",
   "id": "abd8455d",
   "metadata": {},
   "source": [
    ">> self represents the instance of the class. By using the “self” we can access the attributes and methods of the class in python. It binds the attributes with the given arguments. The reason you need to use self."
   ]
  },
  {
   "cell_type": "markdown",
   "id": "16a3f514",
   "metadata": {},
   "source": [
    "# 5. What is inheritance? Give an example for each type of inheritance."
   ]
  },
  {
   "cell_type": "markdown",
   "id": "9e19a296",
   "metadata": {},
   "source": [
    ">> Inheritance is a mechanism of acquiring the features and behaviors of a class by another class. The class whose members are inherited is called the base class, and the class that inherits those members is called the derived class. Inheritance implements the IS-A relationship."
   ]
  },
  {
   "cell_type": "markdown",
   "id": "72204b73",
   "metadata": {},
   "source": [
    "There are basically two Types of class in Inheritance:\n",
    "\n",
    "1.Parent Class\n",
    "\n",
    "2.Child Class\n",
    "\n",
    "ParentClass: Parent Class are also known as BaseClass The class being inherited from\n",
    "\n",
    "Child Class: Child class is the class that inherits from another class, also called derived class"
   ]
  },
  {
   "cell_type": "code",
   "execution_count": 3,
   "id": "b9f7067b",
   "metadata": {},
   "outputs": [],
   "source": [
    "#example of Parent Class:\n",
    "class Student():\n",
    "    def __init__(self,name,rollno):\n",
    "        self.name = name\n",
    "        self.rollno = rollno\n",
    "    def display(self):\n",
    "        return (self.name,self.rollno)\n",
    "#child Class\n",
    "class stud():\n",
    "    def cclass(self):\n",
    "        std = stud(\"Manmoham\",100)"
   ]
  },
  {
   "cell_type": "code",
   "execution_count": 4,
   "id": "027a4d88",
   "metadata": {},
   "outputs": [],
   "source": [
    "mk = Student(\"Manmohan\",8888888)"
   ]
  },
  {
   "cell_type": "code",
   "execution_count": 5,
   "id": "0987bba5",
   "metadata": {},
   "outputs": [
    {
     "data": {
      "text/plain": [
       "('Manmohan', 8888888)"
      ]
     },
     "execution_count": 5,
     "metadata": {},
     "output_type": "execute_result"
    }
   ],
   "source": [
    "mk.display()"
   ]
  },
  {
   "cell_type": "code",
   "execution_count": 7,
   "id": "d7c30888",
   "metadata": {},
   "outputs": [
    {
     "data": {
      "text/plain": [
       "'Manmohan'"
      ]
     },
     "execution_count": 7,
     "metadata": {},
     "output_type": "execute_result"
    }
   ],
   "source": [
    "mk.name"
   ]
  },
  {
   "cell_type": "code",
   "execution_count": null,
   "id": "5a980761",
   "metadata": {},
   "outputs": [],
   "source": []
  }
 ],
 "metadata": {
  "kernelspec": {
   "display_name": "Python 3 (ipykernel)",
   "language": "python",
   "name": "python3"
  },
  "language_info": {
   "codemirror_mode": {
    "name": "ipython",
    "version": 3
   },
   "file_extension": ".py",
   "mimetype": "text/x-python",
   "name": "python",
   "nbconvert_exporter": "python",
   "pygments_lexer": "ipython3",
   "version": "3.9.13"
  }
 },
 "nbformat": 4,
 "nbformat_minor": 5
}
