{
 "cells": [
  {
   "cell_type": "markdown",
   "id": "6edd2d5a-94cd-41eb-8286-2681e9598cb1",
   "metadata": {},
   "source": [
    "# Working With File"
   ]
  },
  {
   "cell_type": "code",
   "execution_count": 55,
   "id": "ef29a93b-30e0-4b36-a568-da170ad47f64",
   "metadata": {},
   "outputs": [],
   "source": [
    "f = open(\"test.txt\" , 'w')"
   ]
  },
  {
   "cell_type": "code",
   "execution_count": 56,
   "id": "bf9cb536-5876-499a-b665-03714c0a8b29",
   "metadata": {},
   "outputs": [
    {
     "data": {
      "text/plain": [
       "'/home/jovyan/work'"
      ]
     },
     "execution_count": 56,
     "metadata": {},
     "output_type": "execute_result"
    }
   ],
   "source": [
    "pwd"
   ]
  },
  {
   "cell_type": "code",
   "execution_count": 57,
   "id": "a827a2c1-7f9c-4155-a2ea-e1beefd6f2bc",
   "metadata": {},
   "outputs": [
    {
     "name": "stdout",
     "output_type": "stream",
     "text": [
      "'29th jan. Assignment.ipynb'         'Day5 While Loop.ipynb'\n",
      "'29th Jan. Assignment.ipynb'         'Day6 Comprehension.ipynb'\n",
      "'2 Feb Assingment.ipynb'             'Day 7 Function.ipynb'\n",
      "'30th jan. Assignment.ipynb'         'Day 8 OOPS  .ipynb'\n",
      "'3 Feb Assingment.ipynb'             'Day 9 Working with File.ipynb'\n",
      "'Day1(Basic Python).ipynb'            README.md\n",
      "'Day2(List,Tuple,Set).ipynb'          sample-code.i\n",
      "'Day3(Dict,Conditional Loop).ipynb'   test.txt\n",
      "'Day4(For Loop practice).ipynb'\n"
     ]
    }
   ],
   "source": [
    "ls\n"
   ]
  },
  {
   "cell_type": "code",
   "execution_count": 58,
   "id": "ed6070c0-5d48-47b1-b3f4-a40ebead917c",
   "metadata": {},
   "outputs": [
    {
     "data": {
      "text/plain": [
       "31"
      ]
     },
     "execution_count": 58,
     "metadata": {},
     "output_type": "execute_result"
    }
   ],
   "source": [
    "f.write(\"This is my first file to write \")"
   ]
  },
  {
   "cell_type": "code",
   "execution_count": 59,
   "id": "b5469a14-1481-49c9-9174-ce3a2800af20",
   "metadata": {},
   "outputs": [],
   "source": [
    "f.close()"
   ]
  },
  {
   "cell_type": "code",
   "execution_count": 60,
   "id": "2e92ab45-29be-4cbe-bc31-9d0e117ff629",
   "metadata": {},
   "outputs": [],
   "source": [
    "f=open(\"test.txt\",'w')"
   ]
  },
  {
   "cell_type": "code",
   "execution_count": 61,
   "id": "98d5938c-597e-4ea3-a774-552a6e658a93",
   "metadata": {},
   "outputs": [
    {
     "data": {
      "text/plain": [
       "65"
      ]
     },
     "execution_count": 61,
     "metadata": {},
     "output_type": "execute_result"
    }
   ],
   "source": [
    "f.write(\"if second time user write then data which is in memory are flused\")"
   ]
  },
  {
   "cell_type": "code",
   "execution_count": 62,
   "id": "acd87aa3-a7bb-4cbf-90e4-3413d7c32565",
   "metadata": {},
   "outputs": [],
   "source": [
    "f.close()"
   ]
  },
  {
   "cell_type": "code",
   "execution_count": 66,
   "id": "ff45231c-0445-4628-b02a-4787c4a28d6a",
   "metadata": {},
   "outputs": [],
   "source": [
    "f= open(\"test.txt\",'a')"
   ]
  },
  {
   "cell_type": "code",
   "execution_count": 67,
   "id": "983a9f2d-9390-446e-a511-312ec5c3e2ba",
   "metadata": {},
   "outputs": [
    {
     "data": {
      "text/plain": [
       "30"
      ]
     },
     "execution_count": 67,
     "metadata": {},
     "output_type": "execute_result"
    }
   ],
   "source": [
    "f.write(\"it append end the text in file\")"
   ]
  },
  {
   "cell_type": "code",
   "execution_count": 68,
   "id": "f379971b-a52b-4524-9357-5be99566f136",
   "metadata": {},
   "outputs": [],
   "source": [
    "f.close()"
   ]
  },
  {
   "cell_type": "code",
   "execution_count": 69,
   "id": "039d884e-aa14-4716-a54c-f9b5f85aacc1",
   "metadata": {},
   "outputs": [],
   "source": [
    "f=open(\"test.txt\",'r')"
   ]
  },
  {
   "cell_type": "code",
   "execution_count": 70,
   "id": "3f003a07-458e-468c-8059-50e5a630963d",
   "metadata": {},
   "outputs": [
    {
     "data": {
      "text/plain": [
       "'if second time user write then data which is in memory are flusedit append end the text in fileit append end the text in file'"
      ]
     },
     "execution_count": 70,
     "metadata": {},
     "output_type": "execute_result"
    }
   ],
   "source": [
    "f.read()"
   ]
  },
  {
   "cell_type": "code",
   "execution_count": 71,
   "id": "22f3e098-2a25-4911-a642-e0382617cbde",
   "metadata": {},
   "outputs": [
    {
     "data": {
      "text/plain": [
       "0"
      ]
     },
     "execution_count": 71,
     "metadata": {},
     "output_type": "execute_result"
    }
   ],
   "source": [
    "f.seek(0)        #It is use to point the reading index"
   ]
  },
  {
   "cell_type": "code",
   "execution_count": 72,
   "id": "1e995635-d442-42e2-a858-1fa7f86e9a85",
   "metadata": {},
   "outputs": [
    {
     "data": {
      "text/plain": [
       "'if second time user write then data which is in memory are flusedit append end the text in fileit append end the text in file'"
      ]
     },
     "execution_count": 72,
     "metadata": {},
     "output_type": "execute_result"
    }
   ],
   "source": [
    "f.readline()          #It is use read line by line"
   ]
  },
  {
   "cell_type": "code",
   "execution_count": 73,
   "id": "7b578587-1bf4-4bff-a012-6ccbe3e86459",
   "metadata": {},
   "outputs": [],
   "source": [
    "data1 = open(\"test.txt\",'r')"
   ]
  },
  {
   "cell_type": "code",
   "execution_count": 75,
   "id": "62f3d8f0-027a-4406-a4ab-7599afc29870",
   "metadata": {},
   "outputs": [
    {
     "name": "stdout",
     "output_type": "stream",
     "text": [
      "if second time user write then data which is in memory are flusedit append end the text in fileit append end the text in file\n"
     ]
    }
   ],
   "source": [
    "for i in data1:                   #It is use read line by line\n",
    "    print(i)              "
   ]
  },
  {
   "cell_type": "code",
   "execution_count": 76,
   "id": "7b5c7ffa-473c-4604-af7e-6856a934b2a8",
   "metadata": {},
   "outputs": [],
   "source": [
    "import os"
   ]
  },
  {
   "cell_type": "code",
   "execution_count": 77,
   "id": "d5b62966-f8a6-4277-bc6b-0add5e4716f3",
   "metadata": {},
   "outputs": [
    {
     "data": {
      "text/plain": [
       "125"
      ]
     },
     "execution_count": 77,
     "metadata": {},
     "output_type": "execute_result"
    }
   ],
   "source": [
    "os.path.getsize(\"test.txt\")     #It is use to measure the size of file"
   ]
  },
  {
   "cell_type": "code",
   "execution_count": 78,
   "id": "4f81936a-ed16-461f-9467-94830efc4114",
   "metadata": {},
   "outputs": [],
   "source": [
    "os.remove(\"test.txt\")        # It is use to delete the txt file"
   ]
  },
  {
   "cell_type": "code",
   "execution_count": null,
   "id": "76b91c5a-124f-49c6-a1dc-c39c4114d24b",
   "metadata": {},
   "outputs": [],
   "source": []
  },
  {
   "cell_type": "code",
   "execution_count": null,
   "id": "7276f15c-9609-4366-bedc-e42da21c39de",
   "metadata": {},
   "outputs": [],
   "source": []
  },
  {
   "cell_type": "code",
   "execution_count": 79,
   "id": "60966722-ff52-49e6-9df0-5d90e4bb4fd1",
   "metadata": {},
   "outputs": [],
   "source": [
    "f = open(\"test1.txt\",'w') "
   ]
  },
  {
   "cell_type": "code",
   "execution_count": 80,
   "id": "dd4c99a0-cf66-48a3-a7e4-50b43b60c1cd",
   "metadata": {},
   "outputs": [
    {
     "data": {
      "text/plain": [
       "302"
      ]
     },
     "execution_count": 80,
     "metadata": {},
     "output_type": "execute_result"
    }
   ],
   "source": [
    "f.write(\"A file is some information or data which stays in the computer storage devices. You already know about different kinds of file , like your music files, video files, text files. Python gives you easy ways to manipulate these files. Generally we divide files in two categories, text file and binary file.\")"
   ]
  },
  {
   "cell_type": "code",
   "execution_count": 81,
   "id": "a1f67892-3100-4369-85d1-5a371009e7b9",
   "metadata": {},
   "outputs": [],
   "source": [
    "f.close()"
   ]
  },
  {
   "cell_type": "code",
   "execution_count": 82,
   "id": "c5bed2c3-efe5-48fc-89b3-9af1e74b4f5a",
   "metadata": {},
   "outputs": [],
   "source": [
    "os.rename(\"test1.txt\",\"new.txt\")     #It is use to rename the file"
   ]
  },
  {
   "cell_type": "code",
   "execution_count": 83,
   "id": "9de46107-64e6-48cc-998b-b66e99504c2d",
   "metadata": {},
   "outputs": [],
   "source": [
    "import shutil"
   ]
  },
  {
   "cell_type": "code",
   "execution_count": 84,
   "id": "33a5a6c8-eca6-44b8-82cf-fa73250e2dad",
   "metadata": {},
   "outputs": [
    {
     "data": {
      "text/plain": [
       "'copy_new.txt'"
      ]
     },
     "execution_count": 84,
     "metadata": {},
     "output_type": "execute_result"
    }
   ],
   "source": [
    " shutil.copy(\"new.txt\",\"copy_new.txt\")    #Copy of exixting file"
   ]
  },
  {
   "cell_type": "code",
   "execution_count": 85,
   "id": "ab6a748a-73c0-46af-8376-115b46256b26",
   "metadata": {},
   "outputs": [
    {
     "name": "stdout",
     "output_type": "stream",
     "text": [
      "A file is some information or data which stays in the computer storage devices. You already know about different kinds of file , like your music files, video files, text files. Python gives you easy ways to manipulate these files. Generally we divide files in two categories, text file and binary file.\n"
     ]
    }
   ],
   "source": [
    "with open(\"new.txt\",'r') as f:         #It is another method to read file\n",
    "    print(f.read())"
   ]
  },
  {
   "cell_type": "markdown",
   "id": "3ac67e90-a884-45f2-b160-44bc6bafde07",
   "metadata": {},
   "source": [
    "# Reading And Writing Files"
   ]
  },
  {
   "cell_type": "code",
   "execution_count": 87,
   "id": "efbe0b6a-e1be-41a6-8e64-fa6d6d1d783b",
   "metadata": {},
   "outputs": [],
   "source": [
    "data={\n",
    "\"name\":\"manmohan\",\n",
    "    \"email\": \"manmohan@gmail\",\n",
    "    \"phone no \": 76543,\n",
    "    \"subject\" :[\"math\", \"phy\", \"che\"]\n",
    "}"
   ]
  },
  {
   "cell_type": "code",
   "execution_count": 88,
   "id": "b3bb93f9-b7e1-46b2-86a4-eb7157c74a31",
   "metadata": {},
   "outputs": [],
   "source": [
    "import json"
   ]
  },
  {
   "cell_type": "code",
   "execution_count": 89,
   "id": "bc6a42a5-e936-4321-a059-7e4f4a4983bb",
   "metadata": {},
   "outputs": [],
   "source": [
    "with open(\"data.json\",'w') as f:\n",
    "    json.dump(data , f)            #It is use to write a json file"
   ]
  },
  {
   "cell_type": "code",
   "execution_count": 92,
   "id": "bff8203b-dad0-43ab-ad3c-33bf2b5127ee",
   "metadata": {},
   "outputs": [],
   "source": [
    "with open(\"data.json\" , 'r') as f:\n",
    "   data1 = json.load(f)           #It is use to read a json file"
   ]
  },
  {
   "cell_type": "code",
   "execution_count": 93,
   "id": "2a2e4d02-da59-4ebd-b32c-6071dd506235",
   "metadata": {},
   "outputs": [
    {
     "data": {
      "text/plain": [
       "{'name': 'manmohan',\n",
       " 'email': 'manmohan@gmail',\n",
       " 'phone no ': 76543,\n",
       " 'subject': ['math', 'phy', 'che']}"
      ]
     },
     "execution_count": 93,
     "metadata": {},
     "output_type": "execute_result"
    }
   ],
   "source": [
    "data1"
   ]
  },
  {
   "cell_type": "code",
   "execution_count": 95,
   "id": "427133d1-25fc-4434-a6ef-9cc7c80dada2",
   "metadata": {},
   "outputs": [
    {
     "data": {
      "text/plain": [
       "'phy'"
      ]
     },
     "execution_count": 95,
     "metadata": {},
     "output_type": "execute_result"
    }
   ],
   "source": [
    "data1['subject'][1]"
   ]
  },
  {
   "cell_type": "code",
   "execution_count": 96,
   "id": "38e98107-365e-43dc-bc67-e43d2a6b1fb5",
   "metadata": {},
   "outputs": [],
   "source": [
    "data= [[\"name\", \"email\" , \"phone No\"],\n",
    "       [\"manmo\" , \"man@gmail.com\", 76547654],\n",
    "       [\"sudh\" , \"sudh@gmail.com\" , 8765434]\n",
    "      \n",
    "      ]"
   ]
  },
  {
   "cell_type": "code",
   "execution_count": 99,
   "id": "0f31f7d4-b54b-4864-9935-9d44549d7dff",
   "metadata": {},
   "outputs": [],
   "source": [
    "import csv"
   ]
  },
  {
   "cell_type": "code",
   "execution_count": 100,
   "id": "c12859c7-562b-4fd7-be9f-11ce457020d0",
   "metadata": {},
   "outputs": [],
   "source": [
    "with open (\"data.csv\" , 'w') as f:\n",
    "    writer = csv.writer(f)                     #for writing in csv file\n",
    "    \n",
    "    for i in data:\n",
    "        writer.writerow(i)"
   ]
  },
  {
   "cell_type": "code",
   "execution_count": null,
   "id": "c83af52b-e3c1-4845-abbf-95004341ef6a",
   "metadata": {},
   "outputs": [],
   "source": []
  },
  {
   "cell_type": "code",
   "execution_count": null,
   "id": "2b238fa7-3ce9-4982-8d1f-a88cd73fe405",
   "metadata": {},
   "outputs": [],
   "source": []
  },
  {
   "cell_type": "code",
   "execution_count": 101,
   "id": "ae040983-ad9f-4c15-ba24-140ff5f9b5f8",
   "metadata": {},
   "outputs": [
    {
     "name": "stdout",
     "output_type": "stream",
     "text": [
      "['name', 'email', 'phone No']\n",
      "['manmo', 'man@gmail.com', '76547654']\n",
      "['sudh', 'sudh@gmail.com', '8765434']\n"
     ]
    }
   ],
   "source": [
    "with open(\"data.csv\" , 'r') as f:\n",
    "    read_data = csv.reader(f)             # for reading in csv file\n",
    "    \n",
    "    for i in read_data:\n",
    "        print(i)"
   ]
  },
  {
   "cell_type": "code",
   "execution_count": 102,
   "id": "76b7bdfe-c874-44ae-aaa8-1e414af30b12",
   "metadata": {},
   "outputs": [],
   "source": [
    "#It is use for writing a binary file\n",
    "\n",
    "with open(\"test2.bin\", \"wb\") as f :\n",
    "    f.write(b\"\\x01\\x02\\x03459876\")"
   ]
  },
  {
   "cell_type": "code",
   "execution_count": 5,
   "id": "44c76e30-abca-4cfc-bce9-1a9c94dd3dab",
   "metadata": {},
   "outputs": [
    {
     "name": "stdout",
     "output_type": "stream",
     "text": [
      "b'\\x01\\x02\\x03459876'\n"
     ]
    }
   ],
   "source": [
    "#It is use for reading  a binary file\n",
    "\n",
    "with open(\"test2.bin\" , 'rb') as f :\n",
    "    print(f.read())"
   ]
  },
  {
   "cell_type": "code",
   "execution_count": null,
   "id": "1e8d34b8-c20a-407f-9a58-0705ebfd4096",
   "metadata": {},
   "outputs": [],
   "source": []
  },
  {
   "cell_type": "markdown",
   "id": "2d8b094c-e4af-4c55-95e0-fddc0acab9be",
   "metadata": {},
   "source": [
    "# Buffered Read And Write and other File Method"
   ]
  },
  {
   "cell_type": "code",
   "execution_count": 1,
   "id": "d987e018-8505-49a9-a8b3-5d08b587addf",
   "metadata": {},
   "outputs": [],
   "source": [
    "import io "
   ]
  },
  {
   "cell_type": "code",
   "execution_count": 4,
   "id": "8226c39f-c376-4d55-b2dc-dae19a911fe0",
   "metadata": {},
   "outputs": [],
   "source": [
    "# It is use to write  byte file with Buffered method\n",
    "\n",
    "with open (\"test2.txt\",'wb') as f:\n",
    "    file = io.BufferedWriter(f)\n",
    "    file.write(b\"Buffer structures are useful as a way to expose the binary data from another object to the Python programmer.\")\n",
    "    file.flush()"
   ]
  },
  {
   "cell_type": "code",
   "execution_count": 5,
   "id": "5098c1b4-9f9f-4f9b-becd-4025a87d3604",
   "metadata": {},
   "outputs": [
    {
     "name": "stdout",
     "output_type": "stream",
     "text": [
      "b'Buffer structures are useful as a way to expose the binary data from another object to the Python programmer.'\n"
     ]
    }
   ],
   "source": [
    "# It is use to read byte file with Buffered method\n",
    "\n",
    "with open (\"test2.txt\",\"rb\") as f:   \n",
    "    file = io.BufferedReader(f)\n",
    "    data = file.read()\n",
    "    print(data)"
   ]
  },
  {
   "cell_type": "code",
   "execution_count": null,
   "id": "7a388714-cf13-46d1-a8be-e9d13b495a98",
   "metadata": {},
   "outputs": [],
   "source": []
  },
  {
   "cell_type": "markdown",
   "id": "dc421858-f5cd-40c3-a1e0-d8f26e9ccd45",
   "metadata": {},
   "source": [
    "# Logging And Debugger Model"
   ]
  },
  {
   "cell_type": "code",
   "execution_count": 6,
   "id": "f6b123c4-9092-4eb0-ab68-d10ae2227b8f",
   "metadata": {},
   "outputs": [],
   "source": [
    "# we don't use print because it store the data at Main memory insted of that we use loggin it store the data in your file"
   ]
  },
  {
   "cell_type": "code",
   "execution_count": 1,
   "id": "19e711ea-dcd3-443b-b45a-41e9ec062fdb",
   "metadata": {},
   "outputs": [
    {
     "name": "stdout",
     "output_type": "stream",
     "text": [
      "it strore data in MM\n"
     ]
    }
   ],
   "source": [
    "print(\"it strore data in MM\")"
   ]
  },
  {
   "cell_type": "code",
   "execution_count": 13,
   "id": "7451f0e1-0800-4b3e-9592-899fa3d1f32c",
   "metadata": {},
   "outputs": [],
   "source": [
    "import logging"
   ]
  },
  {
   "cell_type": "code",
   "execution_count": 3,
   "id": "1c3feeef-091c-4a4d-a511-c72cab234784",
   "metadata": {},
   "outputs": [],
   "source": [
    "logging.basicConfig(filename = \"test1.log\", level = logging.INFO)"
   ]
  },
  {
   "cell_type": "code",
   "execution_count": 10,
   "id": "63b70b2b-4ac1-44f6-904a-f95fcd2e5de7",
   "metadata": {},
   "outputs": [],
   "source": [
    "logging.info(\"its data store in your created file\")"
   ]
  },
  {
   "cell_type": "code",
   "execution_count": 11,
   "id": "11d48239-636e-471f-8e9a-4eb86418209f",
   "metadata": {},
   "outputs": [],
   "source": [
    "logging.info(\"its data store in your created file 1\")"
   ]
  },
  {
   "cell_type": "code",
   "execution_count": 7,
   "id": "5625e171-b738-4b05-be40-e09ce0358910",
   "metadata": {},
   "outputs": [],
   "source": [
    "logging.warning(\"This is warining\")"
   ]
  },
  {
   "cell_type": "code",
   "execution_count": 8,
   "id": "bbf1ac0c-9591-466b-940a-68a9b6ec3533",
   "metadata": {},
   "outputs": [],
   "source": [
    "logging.error(\"this is error\")\n"
   ]
  },
  {
   "cell_type": "code",
   "execution_count": 9,
   "id": "381a1810-d609-4e35-ab50-62af84de9d3f",
   "metadata": {},
   "outputs": [],
   "source": [
    "logging.critical(\"this is critical\")"
   ]
  },
  {
   "cell_type": "code",
   "execution_count": 17,
   "id": "5352c351-a74a-4736-aab7-84b9c2d137d4",
   "metadata": {},
   "outputs": [],
   "source": [
    "logging.shutdown()"
   ]
  },
  {
   "cell_type": "code",
   "execution_count": null,
   "id": "1d51f179-719f-4f64-ab92-cdd9deded3a8",
   "metadata": {},
   "outputs": [],
   "source": [
    "NOTSET  #we don't use NOTSET and DEBUG when set  level =logging.INFO\n",
    "DEBUG\n",
    "INFO\n",
    "WARNING   #we use all WARNNING ERROR CRITICAL when level set INFO\n",
    "ERROR\n",
    "CRITICAL"
   ]
  },
  {
   "cell_type": "code",
   "execution_count": 8,
   "id": "6dc5dd16-7d3f-44a1-9d56-7fb0fd81b562",
   "metadata": {},
   "outputs": [],
   "source": [
    "logging.shutdown()"
   ]
  },
  {
   "cell_type": "code",
   "execution_count": 1,
   "id": "efce862d-9b76-4228-a856-8a29c60c1461",
   "metadata": {},
   "outputs": [],
   "source": [
    "import logging"
   ]
  },
  {
   "cell_type": "code",
   "execution_count": 2,
   "id": "92283d5d-e3f1-4850-b138-452c40456e87",
   "metadata": {},
   "outputs": [],
   "source": [
    "logging.basicConfig(filename = \"test3.log\" , level=logging.DEBUG , format='%(asctime)s %(message)s')"
   ]
  },
  {
   "cell_type": "code",
   "execution_count": 3,
   "id": "b52b5f67-e216-4e63-a205-dcb7cdef6d5c",
   "metadata": {},
   "outputs": [],
   "source": [
    "logging.info(\"this is my message\")\n",
    "logging.error(\"sorry error\")\n",
    "logging.critical(\"This is critical\")"
   ]
  },
  {
   "cell_type": "code",
   "execution_count": 4,
   "id": "d8339e47-4baf-4c94-affe-8bea5fa45564",
   "metadata": {},
   "outputs": [],
   "source": [
    "logging.shutdown()"
   ]
  },
  {
   "cell_type": "code",
   "execution_count": 18,
   "id": "197094db-0e05-464c-8a69-9b769dd3344c",
   "metadata": {},
   "outputs": [],
   "source": [
    "import logging"
   ]
  },
  {
   "cell_type": "code",
   "execution_count": 19,
   "id": "1de3a2f3-ce63-4187-b2bc-f567d42443b2",
   "metadata": {},
   "outputs": [],
   "source": [
    "logging.basicConfig(filename=\"test4.log\" , level =logging.DEBUG, format = '%(acstime)s %(levelname)s %(message)s')"
   ]
  },
  {
   "cell_type": "code",
   "execution_count": 8,
   "id": "b11fd4c1-f479-4519-9d6b-31d533f0ecb1",
   "metadata": {},
   "outputs": [],
   "source": [
    "logging.info(\"this is my message pass\")\n",
    "logging.error(\"sorry error  is passing \")\n",
    "logging.critical(\"This is critical pass\")"
   ]
  },
  {
   "cell_type": "code",
   "execution_count": 2,
   "id": "bf7ab0ed-f17c-4736-9d39-8587e136bbbc",
   "metadata": {},
   "outputs": [],
   "source": [
    "l=[1,2,34,5,[6,7,8,9] , \"man\" , \"sam\"]"
   ]
  },
  {
   "cell_type": "code",
   "execution_count": 5,
   "id": "e30022a1-abae-4793-ad79-99e3dfa0bcad",
   "metadata": {},
   "outputs": [],
   "source": [
    "l1_int = []\n",
    "l2_str=[]\n",
    "for i in l:\n",
    "    if type(i) == list:\n",
    "        for j in i:\n",
    "            if type(j) == int:\n",
    "                l1_int.append(j)\n",
    "    elif type(i) == int:\n",
    "        l1_int.append(i)\n",
    "    else:\n",
    "        if type(i) == str:\n",
    "            l2_str.append(i)\n",
    "            \n",
    "            "
   ]
  },
  {
   "cell_type": "code",
   "execution_count": 6,
   "id": "b82e4f26-5256-4508-870e-5106cc94a6a7",
   "metadata": {},
   "outputs": [
    {
     "data": {
      "text/plain": [
       "[1, 2, 34, 5, 6, 7, 8, 9]"
      ]
     },
     "execution_count": 6,
     "metadata": {},
     "output_type": "execute_result"
    }
   ],
   "source": [
    "l1_int"
   ]
  },
  {
   "cell_type": "code",
   "execution_count": 7,
   "id": "56b7bb53-0898-45e7-a096-a6d214d0f1af",
   "metadata": {},
   "outputs": [
    {
     "data": {
      "text/plain": [
       "['man', 'sam']"
      ]
     },
     "execution_count": 7,
     "metadata": {},
     "output_type": "execute_result"
    }
   ],
   "source": [
    "l2_str"
   ]
  },
  {
   "cell_type": "code",
   "execution_count": 4,
   "id": "1d1af67a-07b9-4bc7-b464-d589a232f18f",
   "metadata": {},
   "outputs": [],
   "source": [
    "import logging"
   ]
  },
  {
   "cell_type": "code",
   "execution_count": 11,
   "id": "6b10c3a0-bbd3-4214-95d1-582f5c7c3e07",
   "metadata": {},
   "outputs": [],
   "source": [
    "l1_int = []\n",
    "l2_str=[]\n",
    "for i in l:\n",
    "    logging.info(\"we are iterating through our list and our local var is i\")\n",
    "    if type(i) == list:\n",
    "        logging.info(\"i am inside if statement and i am trying to check list type\")\n",
    "        for j in i:\n",
    "            logging.info(\"i am another for loop list inside element \")\n",
    "            if type(j) == int:\n",
    "                logging.info(\"i am inside if statement\")\n",
    "                l1_int.append(j)\n",
    "    elif type(i) == int:\n",
    "        l1_int.append(i)\n",
    "    else:\n",
    "        if type(i) == str:\n",
    "            l2_str.append(i)\n",
    "            \n",
    "            "
   ]
  },
  {
   "cell_type": "code",
   "execution_count": 12,
   "id": "38bcd1fe-9faf-46ad-a256-55c9222193a5",
   "metadata": {},
   "outputs": [
    {
     "data": {
      "text/plain": [
       "[1, 2, 34, 5, 6, 7, 8, 9]"
      ]
     },
     "execution_count": 12,
     "metadata": {},
     "output_type": "execute_result"
    }
   ],
   "source": [
    "l1_int"
   ]
  },
  {
   "cell_type": "code",
   "execution_count": 14,
   "id": "0c128f1c-276a-4c9c-89e1-c97af23115f8",
   "metadata": {},
   "outputs": [
    {
     "data": {
      "text/plain": [
       "['man', 'sam']"
      ]
     },
     "execution_count": 14,
     "metadata": {},
     "output_type": "execute_result"
    }
   ],
   "source": [
    "l2_str"
   ]
  },
  {
   "cell_type": "code",
   "execution_count": 5,
   "id": "a29d8c8b-1276-4679-8886-45d489a99e50",
   "metadata": {},
   "outputs": [],
   "source": [
    "l1_int = []\n",
    "l2_str=[]\n",
    "for i in l:\n",
    "    logging.info(\"we are iterating through our list and our local var is i\" + str(l))\n",
    "    if type(i) == list:\n",
    "        logging.info(\"i am inside if statement and i am trying to check list type\" + str(i))\n",
    "        for j in i:\n",
    "            logging.info(\"i am another for loop list inside element \" + str(j))\n",
    "            if type(j) == int:\n",
    "                logging.info(\"i am inside if statement\")\n",
    "                l1_int.append(j)\n",
    "    elif type(i) == int:\n",
    "        l1_int.append(i)\n",
    "    else:\n",
    "        if type(i) == str:\n",
    "            l2_str.append(i)\n",
    "            \n",
    "            "
   ]
  },
  {
   "cell_type": "code",
   "execution_count": 6,
   "id": "ad6e5955-28f6-4259-a13e-9d9dcd017502",
   "metadata": {},
   "outputs": [],
   "source": [
    "l1_int = []\n",
    "l2_str=[]\n",
    "for i in l:\n",
    "    logging.info(\"we are iterating through our list and our local var is {} \" .format(l))\n",
    "    if type(i) == list:\n",
    "        logging.info(\"i am inside if statement and i am trying to check list type\" + str(i))\n",
    "        for j in i:\n",
    "            logging.info(\"i am another for loop list inside element \" + str(j))\n",
    "            if type(j) == int:\n",
    "                logging.info(\"i am inside if statement\")\n",
    "                l1_int.append(j)\n",
    "    elif type(i) == int:\n",
    "        l1_int.append(i)\n",
    "    else:\n",
    "        if type(i) == str:\n",
    "            l2_str.append(i)\n",
    "            \n",
    "    logging.info(\"my final result for int is {l1} and str is  {l2}\".format(l1 = l1_int , l2 = l2_str))\n",
    "            \n",
    "            "
   ]
  },
  {
   "cell_type": "code",
   "execution_count": null,
   "id": "2ab4c591-dfa4-4192-8e2d-bd497a70ee01",
   "metadata": {},
   "outputs": [],
   "source": []
  }
 ],
 "metadata": {
  "kernelspec": {
   "display_name": "Python 3 (ipykernel)",
   "language": "python",
   "name": "python3"
  },
  "language_info": {
   "codemirror_mode": {
    "name": "ipython",
    "version": 3
   },
   "file_extension": ".py",
   "mimetype": "text/x-python",
   "name": "python",
   "nbconvert_exporter": "python",
   "pygments_lexer": "ipython3",
   "version": "3.10.8"
  }
 },
 "nbformat": 4,
 "nbformat_minor": 5
}
