{
 "cells": [
  {
   "cell_type": "markdown",
   "id": "4110480c-c45a-4052-89e4-b3c64270aa3c",
   "metadata": {},
   "source": [
    "#1. Which keyword is used to create a function? Create a function to return a list of odd numbers in the\n",
    "range of 1 to 25."
   ]
  },
  {
   "cell_type": "code",
   "execution_count": null,
   "id": "3bab1fbe-e83e-4514-bba9-580f7fe4b08a",
   "metadata": {},
   "outputs": [],
   "source": [
    "\"def\" Keyword is used to create a function."
   ]
  },
  {
   "cell_type": "code",
   "execution_count": 4,
   "id": "8ef77b95-30fa-4947-b1b3-54ea0f7847a9",
   "metadata": {},
   "outputs": [],
   "source": [
    "def odd():\n",
    "    l1 = []\n",
    "    for i in range(1,25):\n",
    "        if i%2 !=0:\n",
    "            l1.append(i)\n",
    "    return(l1)\n",
    "    "
   ]
  },
  {
   "cell_type": "code",
   "execution_count": 5,
   "id": "5b504b1b-17f0-48af-8570-b0b866c2d413",
   "metadata": {},
   "outputs": [
    {
     "data": {
      "text/plain": [
       "[1, 3, 5, 7, 9, 11, 13, 15, 17, 19, 21, 23]"
      ]
     },
     "execution_count": 5,
     "metadata": {},
     "output_type": "execute_result"
    }
   ],
   "source": [
    "odd()"
   ]
  },
  {
   "cell_type": "markdown",
   "id": "26c4971a-f246-40ca-9c94-a840a9991772",
   "metadata": {},
   "source": [
    "2. Why *args and **kwargs is used in some functions? Create a function each for *args and **kwargs\n",
    "to demonstrate their use."
   ]
  },
  {
   "cell_type": "code",
   "execution_count": null,
   "id": "f4cf958a-1b2a-47aa-b791-bcb1316b94ec",
   "metadata": {},
   "outputs": [],
   "source": [
    ">>(*args):args is used to takes data dynamically in a function which means you did not need to set the parameter to takes data\n",
    "\n",
    ">>(**kwargs): kwargs is used to takes data dynamically in key value pair in \"dict\" structure"
   ]
  },
  {
   "cell_type": "code",
   "execution_count": 12,
   "id": "57dfbe24-2f56-4239-9cdf-01b6173a2a0a",
   "metadata": {},
   "outputs": [],
   "source": [
    "def man(*args):\n",
    "    return args\n"
   ]
  },
  {
   "cell_type": "code",
   "execution_count": 13,
   "id": "5a199c6b-f0f3-4835-95bf-45045379f6fd",
   "metadata": {},
   "outputs": [
    {
     "data": {
      "text/plain": [
       "('manmohan', 'NIET', 'BIHAR')"
      ]
     },
     "execution_count": 13,
     "metadata": {},
     "output_type": "execute_result"
    }
   ],
   "source": [
    "man(\"manmohan\",\"NIET\",\"BIHAR\")"
   ]
  },
  {
   "cell_type": "code",
   "execution_count": 17,
   "id": "d2a49f8e-1e9e-4c9d-9f22-38778a26f611",
   "metadata": {},
   "outputs": [],
   "source": [
    "def man(**kwargs):\n",
    "    return kwargs"
   ]
  },
  {
   "cell_type": "code",
   "execution_count": 18,
   "id": "0a80818d-6425-46af-8c6c-40bed5a4f56c",
   "metadata": {},
   "outputs": [
    {
     "data": {
      "text/plain": [
       "{'name': 'manmohan', 'roll': 3}"
      ]
     },
     "execution_count": 18,
     "metadata": {},
     "output_type": "execute_result"
    }
   ],
   "source": [
    "man(name=\"manmohan\",roll=3)"
   ]
  },
  {
   "cell_type": "markdown",
   "id": "9e78e73b-0f56-423e-98bb-dcebb95bb0b8",
   "metadata": {},
   "source": [
    "3. What is an iterator in python? Name the method used to initialise the iterator object and the method\n",
    "used for iteration. Use these methods to print the first five elements of the given list [2, 4, 6, 8, 10, 12, 14,\n",
    "16, 18, 20]."
   ]
  },
  {
   "cell_type": "code",
   "execution_count": null,
   "id": "5781f339-8540-442f-9df6-e76cccd1dc55",
   "metadata": {},
   "outputs": [],
   "source": [
    "An iterator is an object that contains a countable number of values. An iterator is an object that can be iterated upon, meaning that you can traverse through all the values\n",
    "\n",
    "Method to intilize the Iterator: iter() And next().\n"
   ]
  },
  {
   "cell_type": "code",
   "execution_count": 22,
   "id": "b009650d-8489-4c9a-b993-44ae754fac67",
   "metadata": {},
   "outputs": [],
   "source": [
    "l1 = [2, 4, 6, 8, 10, 12, 14, 16, 18, 20]"
   ]
  },
  {
   "cell_type": "code",
   "execution_count": 23,
   "id": "a1f6b008-b031-4599-9cf5-5ee0d7e9e3d6",
   "metadata": {},
   "outputs": [
    {
     "name": "stdout",
     "output_type": "stream",
     "text": [
      "2\n",
      "4\n",
      "6\n",
      "8\n",
      "10\n"
     ]
    }
   ],
   "source": [
    "count = 0\n",
    "for i in l1:\n",
    "    if count < 5:\n",
    "        print(i)\n",
    "    count+=1"
   ]
  },
  {
   "cell_type": "markdown",
   "id": "bd85a70b-ce4f-493a-baf4-5ee14f42f5dd",
   "metadata": {},
   "source": [
    "4. What is a generator function in python? Why yield keyword is used? Give an example of a generator\n",
    "function."
   ]
  },
  {
   "cell_type": "code",
   "execution_count": null,
   "id": "a85f5746-1c88-4eaa-8a00-3e634131db42",
   "metadata": {},
   "outputs": [],
   "source": [
    ">>Genrator function: A Genrator function in Python return the value when iterate over from that value only.which means it does not first stores the value in array and then display it.It just genrate and immedeatly display it. Genrator Function is Basically used for Large amount of list for faster results"
   ]
  },
  {
   "cell_type": "code",
   "execution_count": 24,
   "id": "1d0b4af3-f875-497b-b576-2a811893741f",
   "metadata": {},
   "outputs": [
    {
     "name": "stdout",
     "output_type": "stream",
     "text": [
      "0\n",
      "1\n",
      "2\n",
      "4\n",
      "8\n",
      "16\n",
      "32\n",
      "64\n",
      "128\n",
      "256\n"
     ]
    }
   ],
   "source": [
    "def fib(n):\n",
    "    a = 0\n",
    "    b = 1\n",
    "    for i in range(n):\n",
    "        yield a\n",
    "        a = b\n",
    "        b = a+b\n",
    "for i in fib(10):\n",
    "    print(i)"
   ]
  },
  {
   "cell_type": "markdown",
   "id": "170a426d-58d8-4884-acd7-c0f422a62171",
   "metadata": {},
   "source": [
    "5. Create a generator function for prime numbers less than 1000. Use the next() method to print the\n",
    "first 20 prime numbers."
   ]
  },
  {
   "cell_type": "code",
   "execution_count": 1,
   "id": "c25d9c60-ff45-450c-8176-061336b50279",
   "metadata": {},
   "outputs": [
    {
     "name": "stdout",
     "output_type": "stream",
     "text": [
      "2\n",
      "3\n",
      "5\n",
      "7\n",
      "11\n",
      "13\n",
      "17\n",
      "19\n",
      "23\n",
      "29\n",
      "31\n",
      "37\n",
      "41\n",
      "43\n",
      "47\n",
      "53\n",
      "59\n",
      "61\n",
      "67\n",
      "71\n"
     ]
    }
   ],
   "source": [
    "def primes():\n",
    "    \"\"\"Create a generator function for prime numbers less than 1000.\"\"\"\n",
    "    yield 2\n",
    "    primes_list = [2]\n",
    "    for i in range(3, 1000):\n",
    "        is_prime = True\n",
    "        for prime in primes_list:\n",
    "            if i % prime == 0:\n",
    "                is_prime = False\n",
    "                break\n",
    "        if is_prime:\n",
    "            primes_list.append(i)\n",
    "            yield i\n",
    "\n",
    "prime_gen = primes()\n",
    "# the next() method to print the first 20 prime numbers.\n",
    "for i in range(20):\n",
    "    print(next(prime_gen))"
   ]
  },
  {
   "cell_type": "markdown",
   "id": "d7b3381a-37af-4031-91a6-5b421348c055",
   "metadata": {},
   "source": [
    "6. Write a python program to print the first 10 Fibonacci numbers using a while loop."
   ]
  },
  {
   "cell_type": "code",
   "execution_count": 2,
   "id": "8fc3d2f4-bfc3-4fa1-a5f4-7b8890c9ec74",
   "metadata": {},
   "outputs": [
    {
     "name": "stdout",
     "output_type": "stream",
     "text": [
      "0\n",
      "1\n",
      "2\n",
      "4\n",
      "8\n",
      "16\n",
      "32\n",
      "64\n",
      "128\n",
      "256\n"
     ]
    }
   ],
   "source": [
    "def fibonacci(n):\n",
    "    a = 0\n",
    "    b = 1\n",
    "    count = 0\n",
    "    while count < n:\n",
    "        print(a)\n",
    "        a = b\n",
    "        b = a + b\n",
    "        count += 1\n",
    "\n",
    "fibonacci(10)    \n",
    "        "
   ]
  },
  {
   "cell_type": "markdown",
   "id": "9c4bdef2-91de-4529-8b2a-aaa4e456c574",
   "metadata": {},
   "source": [
    "7. Write a List Comprehension to iterate through the given string: ‘pwskills’.\n",
    "Expected output: ['p', 'w', 's', 'k', 'i', 'l', 'l', 's']"
   ]
  },
  {
   "cell_type": "code",
   "execution_count": 3,
   "id": "6571c30d-7ff0-4636-9059-610b67842fd3",
   "metadata": {},
   "outputs": [],
   "source": [
    "s=\"pwstring\"\n"
   ]
  },
  {
   "cell_type": "code",
   "execution_count": 4,
   "id": "e3b9042b-95ce-4503-99f3-fef4780dddda",
   "metadata": {},
   "outputs": [
    {
     "data": {
      "text/plain": [
       "['p', 'w', 's', 't', 'r', 'i', 'n', 'g']"
      ]
     },
     "execution_count": 4,
     "metadata": {},
     "output_type": "execute_result"
    }
   ],
   "source": [
    "[i for i in s]"
   ]
  },
  {
   "cell_type": "markdown",
   "id": "8586c2f3-632f-4fd9-a8e7-076d088ce841",
   "metadata": {},
   "source": [
    "8. Write a python program to check whether a given number is Palindrome or not using a while loop."
   ]
  },
  {
   "cell_type": "code",
   "execution_count": 6,
   "id": "c0c69fd8-0531-49ba-b9ce-ada6c190da7b",
   "metadata": {},
   "outputs": [
    {
     "name": "stdin",
     "output_type": "stream",
     "text": [
      "Enter any Word:  apa\n"
     ]
    },
    {
     "name": "stdout",
     "output_type": "stream",
     "text": [
      "Yes! palindrom Exist\n"
     ]
    }
   ],
   "source": [
    "word = input(\"Enter Word: \")\n",
    "if word == word[::-1]:\n",
    "    print(\"Yes! this word is a palindrom  word\")\n",
    "else:\n",
    "    print(\"this word is not a Plindrome word .\")"
   ]
  },
  {
   "cell_type": "code",
   "execution_count": 7,
   "id": "fe0b0bd1-1332-4bf9-8e5d-bfdba85bc7ff",
   "metadata": {},
   "outputs": [
    {
     "name": "stdin",
     "output_type": "stream",
     "text": [
      "Enter a number: 121\n"
     ]
    },
    {
     "name": "stdout",
     "output_type": "stream",
     "text": [
      "The number is palindrome!\n"
     ]
    }
   ],
   "source": [
    "num=int(input(\"Enter a number:\"))\n",
    "temp=num\n",
    "rev=0\n",
    "while(num>0):\n",
    "    dig=num%10\n",
    "    rev=rev*10+dig\n",
    "    num=num//10\n",
    "if(temp==rev):\n",
    "    print(\"The number is palindrome!\")\n",
    "else:\n",
    "    print(\"Not a palindrome!\")"
   ]
  },
  {
   "cell_type": "markdown",
   "id": "c294ca37-3048-40e8-b7cc-a554948d09f8",
   "metadata": {},
   "source": [
    "9. Write a code to print odd numbers from 1 to 100 using list comprehension."
   ]
  },
  {
   "cell_type": "code",
   "execution_count": 11,
   "id": "a37367cf-0e3e-48f7-82ec-00bb828135e4",
   "metadata": {},
   "outputs": [],
   "source": [
    "a=list(range(1,101))"
   ]
  },
  {
   "cell_type": "code",
   "execution_count": 12,
   "id": "ba4103e2-9fe3-4765-95bb-99785d604bcd",
   "metadata": {},
   "outputs": [
    {
     "data": {
      "text/plain": [
       "[1,\n",
       " 3,\n",
       " 5,\n",
       " 7,\n",
       " 9,\n",
       " 11,\n",
       " 13,\n",
       " 15,\n",
       " 17,\n",
       " 19,\n",
       " 21,\n",
       " 23,\n",
       " 25,\n",
       " 27,\n",
       " 29,\n",
       " 31,\n",
       " 33,\n",
       " 35,\n",
       " 37,\n",
       " 39,\n",
       " 41,\n",
       " 43,\n",
       " 45,\n",
       " 47,\n",
       " 49,\n",
       " 51,\n",
       " 53,\n",
       " 55,\n",
       " 57,\n",
       " 59,\n",
       " 61,\n",
       " 63,\n",
       " 65,\n",
       " 67,\n",
       " 69,\n",
       " 71,\n",
       " 73,\n",
       " 75,\n",
       " 77,\n",
       " 79,\n",
       " 81,\n",
       " 83,\n",
       " 85,\n",
       " 87,\n",
       " 89,\n",
       " 91,\n",
       " 93,\n",
       " 95,\n",
       " 97,\n",
       " 99]"
      ]
     },
     "execution_count": 12,
     "metadata": {},
     "output_type": "execute_result"
    }
   ],
   "source": [
    "[i for i in a if i%2!=0]"
   ]
  },
  {
   "cell_type": "code",
   "execution_count": null,
   "id": "79af185d-0088-4abe-9104-b7ebf5cc07e0",
   "metadata": {},
   "outputs": [],
   "source": []
  }
 ],
 "metadata": {
  "kernelspec": {
   "display_name": "Python 3 (ipykernel)",
   "language": "python",
   "name": "python3"
  },
  "language_info": {
   "codemirror_mode": {
    "name": "ipython",
    "version": 3
   },
   "file_extension": ".py",
   "mimetype": "text/x-python",
   "name": "python",
   "nbconvert_exporter": "python",
   "pygments_lexer": "ipython3",
   "version": "3.10.8"
  }
 },
 "nbformat": 4,
 "nbformat_minor": 5
}
