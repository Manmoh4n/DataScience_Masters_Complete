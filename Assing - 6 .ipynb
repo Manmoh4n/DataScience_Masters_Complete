{
 "cells": [
  {
   "cell_type": "markdown",
   "id": "50229317-6aaf-4887-9542-fb1e66e5377c",
   "metadata": {},
   "source": [
    "# A permutation perm of n + 1 integers of all the integers in the range [0, n] can be represented as a string s of length n where:\n",
    "\n",
    "# s[i] == 'I' if perm[i] < perm[i + 1], and\n",
    "# s[i] == 'D' if perm[i] > perm[i + 1].\n",
    "\n",
    "# Given a string s, reconstruct the permutation perm and return it. If there are multiple valid permutations perm, return **any of them**.\n",
    "\n",
    "# Example 1:**\n",
    "\n",
    "# Input:** s = \"IDID\"\n",
    "\n",
    "# Output:**\n",
    "\n",
    "# [0,4,1,3,2]"
   ]
  },
  {
   "cell_type": "code",
   "execution_count": 1,
   "id": "af2ad73c-ba27-4b55-8c08-069afe3ff2ea",
   "metadata": {},
   "outputs": [
    {
     "name": "stdout",
     "output_type": "stream",
     "text": [
      "[0, 1, 0, 1, 0]\n"
     ]
    }
   ],
   "source": [
    "def reconstruct_permutation(s):\n",
    "    n = len(s)\n",
    "    perm = []\n",
    "    current = 0\n",
    "    decreasing = False\n",
    "\n",
    "    for c in s:\n",
    "        if c == 'I':\n",
    "            perm.append(current)\n",
    "            current += 1\n",
    "        elif c == 'D':\n",
    "            perm.append(current)\n",
    "            current -= 1\n",
    "\n",
    "        if decreasing:\n",
    "            decreasing = False\n",
    "        else:\n",
    "            decreasing = True\n",
    "\n",
    "    perm.append(current)\n",
    "    return perm\n",
    "s = \"IDID\"\n",
    "result = reconstruct_permutation(s)\n",
    "print(result)\n"
   ]
  },
  {
   "cell_type": "markdown",
   "id": "6d9ac551-5007-43ec-9528-834d5b014664",
   "metadata": {},
   "source": [
    "# You are given an m x n integer matrix matrix with the following two properties:\n",
    "\n",
    "# Each row is sorted in non-decreasing order.\n",
    "# The first integer of each row is greater than the last integer of the previous row.\n",
    "\n",
    "# Given an integer target, return true *if* target *is in* matrix *or* false *otherwise*.\n",
    "\n",
    "# You must write a solution in O(log(m * n)) time complexity.\n",
    "\n",
    "# Input:** matrix = [[1,3,5,7],[10,11,16,20],[23,30,34,60]], target = 3\n",
    "\n",
    "# Output:** true"
   ]
  },
  {
   "cell_type": "code",
   "execution_count": 2,
   "id": "c1d144ff-b92f-4f8b-b070-f7c0aeb93cf5",
   "metadata": {},
   "outputs": [
    {
     "name": "stdout",
     "output_type": "stream",
     "text": [
      "True\n"
     ]
    }
   ],
   "source": [
    "def searchMatrix(matrix, target):\n",
    "    m = len(matrix)\n",
    "    n = len(matrix[0])\n",
    "    left = 0\n",
    "    right = m * n - 1\n",
    "\n",
    "    while left <= right:\n",
    "        mid = (left + right) // 2\n",
    "        row = mid // n\n",
    "        col = mid % n\n",
    "        if matrix[row][col] == target:\n",
    "            return True\n",
    "        elif matrix[row][col] > target:\n",
    "            right = mid - 1\n",
    "        else:\n",
    "            left = mid + 1\n",
    "\n",
    "    return False\n",
    "matrix = [[1, 3, 5, 7], [10, 11, 16, 20], [23, 30, 34, 60]]\n",
    "target = 3\n",
    "result = searchMatrix(matrix, target)\n",
    "print(result)\n"
   ]
  },
  {
   "cell_type": "markdown",
   "id": "c5848f99-2f43-4c69-81fa-86564603fb52",
   "metadata": {},
   "source": [
    "# Given an array of integers arr, return *true if and only if it is a valid mountain array*.\n",
    "\n",
    "# Recall that arr is a mountain array if and only if:\n",
    "\n",
    "# arr.length >= 3\n",
    "# There exists some i with 0 < i < arr.length - 1 such that:\n",
    "#  arr[0] < arr[1] < ... < arr[i - 1] < arr[i]\n",
    "# arr[i] > arr[i + 1] > ... > arr[arr.length - 1]\n",
    "    \n",
    "# Example 1:**\n",
    "\n",
    "# Input:** arr = [2,1]\n",
    "\n",
    "# Output:**\n",
    "\n",
    "# false"
   ]
  },
  {
   "cell_type": "code",
   "execution_count": 3,
   "id": "48d4217b-49ba-4afa-9c9d-1097ee7f3b51",
   "metadata": {},
   "outputs": [
    {
     "name": "stdout",
     "output_type": "stream",
     "text": [
      "False\n"
     ]
    }
   ],
   "source": [
    "def validMountainArray(arr):\n",
    "    n = len(arr)\n",
    "    if n < 3:\n",
    "        return False\n",
    "\n",
    "    i = 0\n",
    "    while i + 1 < n and arr[i] < arr[i + 1]:\n",
    "        i += 1\n",
    "\n",
    "    if i == 0 or i == n - 1:\n",
    "        return False\n",
    "\n",
    "    while i + 1 < n and arr[i] > arr[i + 1]:\n",
    "        i += 1\n",
    "\n",
    "    return i == n - 1\n",
    "arr = [2, 1]\n",
    "result = validMountainArray(arr)\n",
    "print(result)\n"
   ]
  },
  {
   "cell_type": "markdown",
   "id": "c703a6a3-423d-4c09-87e7-95f278bf6821",
   "metadata": {},
   "source": [
    "# Given a binary array nums, return *the maximum length of a contiguous subarray with an equal number of* 0 and  1.\n",
    "\n",
    "# Example 1:\n",
    "\n",
    "# Input:** nums = [0,1]\n",
    "\n",
    "# Output:** 2\n",
    "\n",
    "# Explanation:**\n",
    "\n",
    "# [0, 1] is the longest contiguous subarray with an equal number of 0 and 1."
   ]
  },
  {
   "cell_type": "code",
   "execution_count": 4,
   "id": "8652dad1-e369-4bf9-885a-75bf1ea32adf",
   "metadata": {},
   "outputs": [
    {
     "name": "stdout",
     "output_type": "stream",
     "text": [
      "2\n"
     ]
    }
   ],
   "source": [
    "def findMaxLength(nums):\n",
    "    max_length = 0\n",
    "    count = 0\n",
    "    count_map = {0: -1}\n",
    "\n",
    "    for i, num in enumerate(nums):\n",
    "        if num == 0:\n",
    "            count -= 1\n",
    "        else:\n",
    "            count += 1\n",
    "\n",
    "        if count in count_map:\n",
    "            max_length = max(max_length, i - count_map[count])\n",
    "        else:\n",
    "            count_map[count] = i\n",
    "\n",
    "    return max_length\n",
    "nums = [0, 1]\n",
    "result = findMaxLength(nums)\n",
    "print(result)\n"
   ]
  },
  {
   "cell_type": "markdown",
   "id": "a2d62e57-c57e-46f1-b734-9ab2bf0124f6",
   "metadata": {},
   "source": [
    "# The **product sum** of two equal-length arrays a and b is equal to the sum of a[i] * b[i] for all 0 <= i < a.length (**0-indexed**).\n",
    "\n",
    "# For example, if a = [1,2,3,4] and b = [5,2,3,1], the **product sum** would be 1*5 + 2*2 + 3*3 + 4*1 = 22.\n",
    "\n",
    "# Given two arrays nums1 and nums2 of length n, return *the **minimum product sum** if you are allowed to rearrange** the **order** of the elements in* nums1.\n",
    "\n",
    "# Example 1:**\n",
    "\n",
    "# Input:** nums1 = [5,3,4,2], nums2 = [4,2,2,5]\n",
    "\n",
    "# Output:** 40\n",
    "\n",
    "# Explanation:**\n",
    "\n",
    "# We can rearrange nums1 to become [3,5,4,2]. The product sum of [3,5,4,2] and [4,2,2,5] is 3*4 + 5*2 + 4*2 + 2*5 = 40."
   ]
  },
  {
   "cell_type": "code",
   "execution_count": 5,
   "id": "861a9ea8-78bf-4418-b94b-2da4fd14dd77",
   "metadata": {},
   "outputs": [
    {
     "name": "stdout",
     "output_type": "stream",
     "text": [
      "40\n"
     ]
    }
   ],
   "source": [
    "def minProductSum(nums1, nums2):\n",
    "    nums1.sort()\n",
    "    nums2.sort()\n",
    "    n = len(nums1)\n",
    "    min_product_sum = 0\n",
    "\n",
    "    for i in range(n):\n",
    "        min_product_sum += nums1[i] * nums2[n - 1 - i]\n",
    "\n",
    "    return min_product_sum\n",
    "nums1 = [5, 3, 4, 2]\n",
    "nums2 = [4, 2, 2, 5]\n",
    "result = minProductSum(nums1, nums2)\n",
    "print(result)\n"
   ]
  },
  {
   "cell_type": "markdown",
   "id": "e6fb3772-5730-41c9-b01f-96b92a3db155",
   "metadata": {},
   "source": [
    "# An integer array original is transformed into a **doubled** array changed by appending **twice the value** of every element in original, and then randomly **shuffling** the resulting array.\n",
    "\n",
    "# Given an array changed, return original *if* changed *is a **doubled** array. If* changed *is not a doubled** array, return an empty array. The elements in* original *may be returned in **any** order*.\n",
    "\n",
    "# Example 1:\n",
    "\n",
    "# Input:** changed = [1,3,4,2,6,8]\n",
    "\n",
    "# Output:** [1,3,4]\n",
    "\n",
    "# Explanation:** One possible original array could be [1,3,4]:\n",
    "\n",
    "# Twice the value of 1 is 1 * 2 = 2.\n",
    "# Twice the value of 3 is 3 * 2 = 6.\n",
    "# Twice the value of 4 is 4 * 2 = 8.\n",
    "\n",
    "# Other original arrays could be [4,3,1] or [3,1,4]."
   ]
  },
  {
   "cell_type": "code",
   "execution_count": 6,
   "id": "f688a8f2-eee4-4f45-926c-f7f55419328e",
   "metadata": {},
   "outputs": [
    {
     "name": "stdout",
     "output_type": "stream",
     "text": [
      "[]\n"
     ]
    }
   ],
   "source": [
    "def findOriginalArray(changed):\n",
    "    changed.sort()\n",
    "    original = []\n",
    "\n",
    "    for num in changed:\n",
    "        if num % 2 == 0 and num // 2 in original:\n",
    "            original.remove(num // 2)\n",
    "        else:\n",
    "            return []\n",
    "\n",
    "        original.append(num)\n",
    "\n",
    "    return original\n",
    "changed = [1, 3, 4, 2, 6, 8]\n",
    "result = findOriginalArray(changed)\n",
    "print(result)\n"
   ]
  },
  {
   "cell_type": "markdown",
   "id": "a778600f-c626-4036-9dbb-6f1eee6575df",
   "metadata": {},
   "source": [
    "# Given a positive integer n, generate an n x n matrix filled with elements from 1 to n2 in spiral order.\n",
    "# Input:** n = 3\n",
    "\n",
    "# Output:** [[1,2,3],[8,9,4],[7,6,5]]"
   ]
  },
  {
   "cell_type": "code",
   "execution_count": 7,
   "id": "2b3eecb7-5308-403d-afba-afeeb8e6c418",
   "metadata": {},
   "outputs": [
    {
     "name": "stdout",
     "output_type": "stream",
     "text": [
      "[[1, 2, 3], [8, 9, 4], [7, 6, 5]]\n"
     ]
    }
   ],
   "source": [
    "def generateMatrix(n):\n",
    "    result = [[0] * n for _ in range(n)]\n",
    "    row_start, row_end = 0, n - 1\n",
    "    col_start, col_end = 0, n - 1\n",
    "    num = 1\n",
    "\n",
    "    while num <= n * n:\n",
    "        # Traverse top row\n",
    "        for j in range(col_start, col_end + 1):\n",
    "            result[row_start][j] = num\n",
    "            num += 1\n",
    "        row_start += 1\n",
    "\n",
    "        # Traverse right column\n",
    "        for i in range(row_start, row_end + 1):\n",
    "            result[i][col_end] = num\n",
    "            num += 1\n",
    "        col_end -= 1\n",
    "\n",
    "        # Traverse bottom row\n",
    "        for j in range(col_end, col_start - 1, -1):\n",
    "            result[row_end][j] = num\n",
    "            num += 1\n",
    "        row_end -= 1\n",
    "\n",
    "        # Traverse left column\n",
    "        for i in range(row_end, row_start - 1, -1):\n",
    "            result[i][col_start] = num\n",
    "            num += 1\n",
    "        col_start += 1\n",
    "\n",
    "    return result\n",
    "n = 3\n",
    "result = generateMatrix(n)\n",
    "print(result)\n"
   ]
  },
  {
   "cell_type": "markdown",
   "id": "e78ad4cc-9da2-434a-9c95-32b43ccb60f0",
   "metadata": {},
   "source": [
    "# Given two sparse matrices mat1 of size m x k and mat2 of size k x n, return the result of mat1 x mat2. You may assume that multiplication is always possible.\n",
    "\n",
    "# Input:** mat1 = [[1,0,0],[-1,0,3]], mat2 = [[7,0,0],[0,0,0],[0,0,1]]\n",
    "\n",
    "# Output:**\n",
    "\n",
    "# [[7,0,0],[-7,0,3]]"
   ]
  },
  {
   "cell_type": "code",
   "execution_count": 8,
   "id": "139a0d0b-604b-4312-b29c-56f8a2a2743a",
   "metadata": {},
   "outputs": [
    {
     "name": "stdout",
     "output_type": "stream",
     "text": [
      "[[7, 0, 0], [-7, 0, 3]]\n"
     ]
    }
   ],
   "source": [
    "def multiply(mat1, mat2):\n",
    "    m = len(mat1)\n",
    "    k = len(mat1[0])\n",
    "    n = len(mat2[0])\n",
    "\n",
    "    result = [[0] * n for _ in range(m)]\n",
    "\n",
    "    for i in range(m):\n",
    "        for j in range(n):\n",
    "            temp = 0\n",
    "            for l in range(k):\n",
    "                temp += mat1[i][l] * mat2[l][j]\n",
    "            result[i][j] = temp\n",
    "\n",
    "    return result\n",
    "mat1 = [[1, 0, 0], [-1, 0, 3]]\n",
    "mat2 = [[7, 0, 0], [0, 0, 0], [0, 0, 1]]\n",
    "result = multiply(mat1, mat2)\n",
    "print(result)\n"
   ]
  }
 ],
 "metadata": {
  "kernelspec": {
   "display_name": "Python 3 (ipykernel)",
   "language": "python",
   "name": "python3"
  },
  "language_info": {
   "codemirror_mode": {
    "name": "ipython",
    "version": 3
   },
   "file_extension": ".py",
   "mimetype": "text/x-python",
   "name": "python",
   "nbconvert_exporter": "python",
   "pygments_lexer": "ipython3",
   "version": "3.10.8"
  }
 },
 "nbformat": 4,
 "nbformat_minor": 5
}
