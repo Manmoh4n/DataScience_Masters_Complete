{
 "cells": [
  {
   "cell_type": "markdown",
   "id": "91384315-4834-4f12-a0b6-1ab88d34c61b",
   "metadata": {},
   "source": [
    "# 1. Explain with an example each when to use a for loop and a while loop.\n",
    ".\n",
    ">> While Loop : While Loop is used to execute a block of statements repeatedly until a given condition is satisfied and when the condition becomes false, the line immediately after the loop in the program is executed.\n",
    "\n",
    ">> For Loop : A for loop is a control flow statement that executes code for a predefined number of iterations. The keyword used in this control flow statement is “for”. When the number of iterations is already known, the for loop is used.\n"
   ]
  },
  {
   "cell_type": "code",
   "execution_count": 3,
   "id": "919f9e9c-fe6e-4f85-bef9-5ae4629c1048",
   "metadata": {},
   "outputs": [
    {
     "name": "stdout",
     "output_type": "stream",
     "text": [
      "apple\n",
      "banana\n",
      "cherry\n"
     ]
    }
   ],
   "source": [
    "# Example of  For Loop.\n",
    "\n",
    "a = [\"apple\", \"banana\", \"cherry\"]\n",
    "for i in a:\n",
    "  print(i) \n"
   ]
  },
  {
   "cell_type": "code",
   "execution_count": 11,
   "id": "f51d3167-7b97-4283-9352-b01e783e937d",
   "metadata": {},
   "outputs": [
    {
     "name": "stdout",
     "output_type": "stream",
     "text": [
      "Hello Pw\n",
      "Hello Pw\n",
      "Hello Pw\n"
     ]
    }
   ],
   "source": [
    "#Example of While Loop.\n",
    "count=0\n",
    "while (count < 3):\n",
    "\tcount = count + 1\n",
    "\tprint(\"Hello Pw\")\n"
   ]
  },
  {
   "cell_type": "code",
   "execution_count": null,
   "id": "716d2541-4efd-4d9d-a092-7ddf2cd732d7",
   "metadata": {},
   "outputs": [],
   "source": [
    "2. Write a python program to print the sum and product of the first 10 natural numbers using for\n",
    "and while loop."
   ]
  },
  {
   "cell_type": "code",
   "execution_count": 20,
   "id": "74089858-d5bf-48bd-919a-a9b2ad19d015",
   "metadata": {},
   "outputs": [
    {
     "name": "stdout",
     "output_type": "stream",
     "text": [
      "sum of first 10 Natural number is:  55\n"
     ]
    }
   ],
   "source": [
    "sum=0\n",
    "for i in range(1,11):\n",
    "    sum= sum+i\n",
    "print(\"sum of first 10 Natural number is: \", sum)"
   ]
  },
  {
   "cell_type": "code",
   "execution_count": 23,
   "id": "9961a1ab-1eb5-4b73-b713-ef885b0ea281",
   "metadata": {},
   "outputs": [
    {
     "name": "stdout",
     "output_type": "stream",
     "text": [
      "multiple of first 10 Natural number is:  3628800\n"
     ]
    }
   ],
   "source": [
    "mul=1\n",
    "for i in range(1,11):\n",
    "    mul = mul*i\n",
    "print(\"multiple of first 10 Natural number is: \",mul)"
   ]
  },
  {
   "cell_type": "code",
   "execution_count": 29,
   "id": "8fa09426-3baf-4b19-9b1a-12e2c897a40a",
   "metadata": {},
   "outputs": [
    {
     "name": "stdout",
     "output_type": "stream",
     "text": [
      "sum of first 10 Natural number is:  55\n"
     ]
    }
   ],
   "source": [
    "sum=0\n",
    "i=1\n",
    "while i<=10:\n",
    "    sum=sum+i\n",
    "    i=i+1\n",
    "print(\"sum of first 10 Natural number is: \", sum)"
   ]
  },
  {
   "cell_type": "code",
   "execution_count": 30,
   "id": "8f3be8b1-74e3-46e8-bedd-9d3e68abcce6",
   "metadata": {},
   "outputs": [
    {
     "name": "stdout",
     "output_type": "stream",
     "text": [
      "The product of the first 10 natural numbers is: 3628800\n"
     ]
    }
   ],
   "source": [
    "product = 1\n",
    "i = 1\n",
    "while i <= 10:\n",
    "    product *= i\n",
    "    i += 1\n",
    "print(\"The product of the first 10 natural numbers is:\", product)"
   ]
  },
  {
   "cell_type": "markdown",
   "id": "ab0c1802-9c99-4f3b-a2fd-bf30d633e9a1",
   "metadata": {},
   "source": [
    "#3. Create a python program to compute the electricity bill for a household.\n",
    "The per-unit charges in rupees are as follows: For the first 100 units,\n",
    "the user will be charged Rs. 4.5 per unit, for the next 100 units,\n",
    "the user will be charged Rs. 6 per unit, and for the next 100 units,\n",
    "the user will be charged Rs. 10 per unit, After 300 units and above the user will be charged Rs. 20 per unit."
   ]
  },
  {
   "cell_type": "code",
   "execution_count": 36,
   "id": "da518c10-3404-4380-9f20-22b596209c5a",
   "metadata": {},
   "outputs": [
    {
     "name": "stdin",
     "output_type": "stream",
     "text": [
      "Enter your electric unit :  310\n"
     ]
    },
    {
     "name": "stdout",
     "output_type": "stream",
     "text": [
      "2250.0\n"
     ]
    }
   ],
   "source": [
    "unit =  int(input(\"Enter your electric unit : \"))\n",
    "if unit <=100:\n",
    "    rs1=unit*4.5\n",
    "    print(\"your bill is Rs : \", rs1)\n",
    "elif unit >100 and unit<=200:\n",
    "    rs2 = (100*4.5) + (unit - 100) * 6\n",
    "    print(\"your bill is Rs : \",rs2)\n",
    "elif unit > 200 and unit<=300:\n",
    "    rs3 = (100*4.5)+ (200-100)*6+(unit - 200)*10\n",
    "    print(\"your bill is Rs : \",rs3)\n",
    "elif unit>300:\n",
    "    rs4 = (100*4.5)+ (200-100)*6+(300 - 200)*10 + (unit - 300)*20\n",
    "    print(\"your bill is Rs : \",rs4)\n",
    "else:\n",
    "    print(\"please enter valid number\")"
   ]
  },
  {
   "cell_type": "markdown",
   "id": "d04d5981-fcb0-41d7-8431-9fffba24e3cd",
   "metadata": {},
   "source": [
    "Q4. Create a list of numbers from 1 to 100. Use for loop and while loop to calculate the cube of each\n",
    "number and if the cube of that number is divisible by 4 or 5 then append that number in a list and print\n",
    "that list."
   ]
  },
  {
   "cell_type": "code",
   "execution_count": 39,
   "id": "44318cb3-b8b1-4e40-a477-6e0dfd8a30fe",
   "metadata": {},
   "outputs": [
    {
     "name": "stdout",
     "output_type": "stream",
     "text": [
      "[1, 2, 3, 4, 5, 6, 7, 8, 9, 10, 11, 12, 13, 14, 15, 16, 17, 18, 19, 20, 21, 22, 23, 24, 25, 26, 27, 28, 29, 30, 31, 32, 33, 34, 35, 36, 37, 38, 39, 40, 41, 42, 43, 44, 45, 46, 47, 48, 49, 50, 51, 52, 53, 54, 55, 56, 57, 58, 59, 60, 61, 62, 63, 64, 65, 66, 67, 68, 69, 70, 71, 72, 73, 74, 75, 76, 77, 78, 79, 80, 81, 82, 83, 84, 85, 86, 87, 88, 89, 90, 91, 92, 93, 94, 95, 96, 97, 98, 99, 100] "
     ]
    }
   ],
   "source": [
    "l1 = list(range(1,101))\n",
    "print(l1,end= \" \")"
   ]
  },
  {
   "cell_type": "code",
   "execution_count": 41,
   "id": "ca7ad5d7-2ecd-4ccf-83f2-8360234e61cb",
   "metadata": {},
   "outputs": [
    {
     "name": "stdout",
     "output_type": "stream",
     "text": [
      "The Actual List is:  [1, 2, 3, 4, 5, 6, 7, 8, 9, 10, 11, 12, 13, 14, 15, 16, 17, 18, 19, 20, 21, 22, 23, 24, 25, 26, 27, 28, 29, 30, 31, 32, 33, 34, 35, 36, 37, 38, 39, 40, 41, 42, 43, 44, 45, 46, 47, 48, 49, 50, 51, 52, 53, 54, 55, 56, 57, 58, 59, 60, 61, 62, 63, 64, 65, 66, 67, 68, 69, 70, 71, 72, 73, 74, 75, 76, 77, 78, 79, 80, 81, 82, 83, 84, 85, 86, 87, 88, 89, 90, 91, 92, 93, 94, 95, 96, 97, 98, 99, 100]\n",
      "The list of cubes that are divisible by 4 or 5: [8, 64, 125, 216, 512, 1000, 1728, 2744, 3375, 4096, 5832, 8000, 10648, 13824, 15625, 17576, 21952, 27000, 32768, 39304, 42875, 46656, 54872, 64000, 74088, 85184, 91125, 97336, 110592, 125000, 140608, 157464, 166375, 175616, 195112, 216000, 238328, 262144, 274625, 287496, 314432, 343000, 373248, 405224, 421875, 438976, 474552, 512000, 551368, 592704, 614125, 636056, 681472, 729000, 778688, 830584, 857375, 884736, 941192, 1000000]\n"
     ]
    }
   ],
   "source": [
    "l1 = []\n",
    "Cube_l2 = []\n",
    "\n",
    "for i in range(1, 101):\n",
    "    l1.append(i)\n",
    "    cube = i ** 3\n",
    "    if cube % 4 == 0 or cube % 5 == 0:\n",
    "        Cube_l2.append(cube)\n",
    "print(\"The Actual List is: \",l1)\n",
    "print('''The list of cubes that are divisible by 4 or 5:''', Cube_l2)"
   ]
  },
  {
   "cell_type": "markdown",
   "id": "d7887c32-2be1-4023-89a1-6768da85395a",
   "metadata": {},
   "source": [
    "Q5. Write a program to filter count vowels in the below-given string.\n",
    "string = \"I want to become a data scientist\""
   ]
  },
  {
   "cell_type": "code",
   "execution_count": 3,
   "id": "3f3008ec-d471-419f-9012-3cf3b45a1264",
   "metadata": {},
   "outputs": [
    {
     "name": "stdout",
     "output_type": "stream",
     "text": [
      "The number of vowels in the string is: 12\n"
     ]
    }
   ],
   "source": [
    "string = \"I want to become a data scientist\"\n",
    "vowels = \"aeiouAEIOU\"\n",
    "count = 0\n",
    "\n",
    "for char in string:\n",
    "    if char in vowels:\n",
    "        count += 1\n",
    "\n",
    "print(\"The number of vowels in the string is:\", count)"
   ]
  },
  {
   "cell_type": "code",
   "execution_count": null,
   "id": "3f0f61b5-5ed7-43a7-a536-8798d68b210c",
   "metadata": {},
   "outputs": [],
   "source": []
  }
 ],
 "metadata": {
  "kernelspec": {
   "display_name": "Python 3 (ipykernel)",
   "language": "python",
   "name": "python3"
  },
  "language_info": {
   "codemirror_mode": {
    "name": "ipython",
    "version": 3
   },
   "file_extension": ".py",
   "mimetype": "text/x-python",
   "name": "python",
   "nbconvert_exporter": "python",
   "pygments_lexer": "ipython3",
   "version": "3.10.8"
  }
 },
 "nbformat": 4,
 "nbformat_minor": 5
}
