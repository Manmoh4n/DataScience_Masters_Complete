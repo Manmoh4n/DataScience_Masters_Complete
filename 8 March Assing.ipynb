{
 "cells": [
  {
   "cell_type": "markdown",
   "id": "fd6556d2-c0bb-4917-a430-00f6ef719a1c",
   "metadata": {},
   "source": [
    "# Q1. What is the Probability density function?"
   ]
  },
  {
   "cell_type": "markdown",
   "id": "bebfee97-25f0-4222-87f3-91fa6675dad9",
   "metadata": {},
   "source": [
    "The probability density function (PDF) is a function that describes the probability distribution of a continuous random variable. It gives the probability of the variable taking on a certain value within a specific range of values."
   ]
  },
  {
   "cell_type": "markdown",
   "id": "13a446ac-6ec7-4ba7-9b6a-035a3a29469f",
   "metadata": {},
   "source": [
    "# Q2. What are the types of Probability distribution?"
   ]
  },
  {
   "cell_type": "markdown",
   "id": "8abea784-c63e-4482-9045-8e575828dea5",
   "metadata": {},
   "source": [
    "- Discrete probability distributions are used to model random variables that can only take on a finite or countably infinite number of values. Examples of discrete probability distributions include the binomial distribution, the Poisson distribution, and the geometric distribution.\n",
    "\n",
    "- Continuous probability distributions are used to model random variables that can take on any value within a certain range. Examples of continuous probability distributions include the normal distribution, the exponential distribution, and the uniform distribution."
   ]
  },
  {
   "cell_type": "markdown",
   "id": "1b69156f-9797-427d-9128-5561bea34967",
   "metadata": {},
   "source": [
    "# Q3. Write a Python function to calculate the probability density function of a normal distribution with given mean and standard deviation at a given point."
   ]
  },
  {
   "cell_type": "code",
   "execution_count": 2,
   "id": "b8c23ec2-b9fe-4276-8184-b743fbbb88d2",
   "metadata": {},
   "outputs": [],
   "source": [
    "import math\n",
    "\n",
    "def normal_pdf(x, mean, sd):\n",
    "    \"\"\"\n",
    "    Returns the value of the PDF of a normal distribution at a given point x\n",
    "    with the given mean and standard deviation.\n",
    "    \"\"\"\n",
    "    var = float(sd)**2\n",
    "    denom = (2*math.pi*var)**0.5\n",
    "    num = math.exp(-(float(x)-float(mean))**2/(2*var))\n",
    "    return num/denom\n"
   ]
  },
  {
   "cell_type": "markdown",
   "id": "0a0d10cf-6374-4c83-be87-63580ff30e3a",
   "metadata": {},
   "source": [
    "# Q4. What are the properties of Binomial distribution? Give two examples of events where binomial distribution can be applied. "
   ]
  },
  {
   "cell_type": "markdown",
   "id": "06776e3d-62bf-45eb-bd01-18ee025de5f4",
   "metadata": {},
   "source": [
    "The binomial distribution is a probability distribution that describes the number of successes in a fixed number of independent Bernoulli trials (i.e., trials with only two possible outcomes). The properties of the binomial distribution are:\n",
    "\n",
    "The number of trials, n, is fixed.\n",
    "Each trial is independent.\n",
    "There are only two possible outcomes for each trial, which are typically labeled as success and failure.\n",
    "The probability of success, p, is constant for each trial.\n",
    "The probability mass function of a binomial distribution is given by:\n",
    "\n",
    "P(X=k) = (n choose k) * p^k * (1-p)^(n-k)\n",
    "\n",
    "where X is the random variable representing the number of successes, k is the number of successes, n is the total number of trials, p is the probability of success on each trial, and (n choose k) is the binomial coefficient, which represents the number of ways to choose k successes out of n trials.\n",
    "\n",
    "Two examples of events where the binomial distribution can be applied are:\n",
    "\n",
    "Flipping a coin: Suppose we flip a fair coin 10 times and we want to know the probability of getting exactly 5 heads. This is an example of a binomial distribution where n=10 and p=0.5 (assuming the coin is fair).\n",
    "Manufacturing defects: Suppose a company produces a batch of 1000 electronic components and the probability of a component being defective is 0.02. We want to know the probability that exactly 20 components are defective. This is also an example of a binomial distribution where n=1000 and p=0.02."
   ]
  },
  {
   "cell_type": "markdown",
   "id": "db569d9a-4216-4a5a-abdd-70ec61c1868b",
   "metadata": {},
   "source": [
    "# Q5. Generate a random sample of size 1000 from a binomial distribution with probability of success 0.4 and plot a histogram of the results using matplotlib."
   ]
  },
  {
   "cell_type": "code",
   "execution_count": 4,
   "id": "2f77a6b8-4d51-4153-b288-e1699d929d5b",
   "metadata": {},
   "outputs": [
    {
     "data": {
      "image/png": "[encoded data removed]",
      "text/plain": [
       "<Figure size 640x480 with 1 Axes>"
      ]
     },
     "metadata": {},
     "output_type": "display_data"
    }
   ],
   "source": [
    "import numpy as np\n",
    "import matplotlib.pyplot as plt\n",
    "\n",
    "# Generate random sample\n",
    "n = 1000\n",
    "p = 0.4\n",
    "sample = np.random.binomial(n, p, size=n)\n",
    "\n",
    "# Plot histogram\n",
    "plt.hist(sample, bins=60, alpha=0.5, color='blue')\n",
    "plt.xlabel('Number of successes')\n",
    "plt.ylabel('Frequency')\n",
    "plt.title('Binomial Distribution')\n",
    "plt.show()\n"
   ]
  },
  {
   "cell_type": "markdown",
   "id": "7b96b2b1-43f0-4b9a-8b3d-45232a9aa981",
   "metadata": {},
   "source": [
    "# Q6. Write a Python function to calculate the cumulative distribution function of a Poisson distribution with given mean at a given point."
   ]
  },
  {
   "cell_type": "code",
   "execution_count": 5,
   "id": "5b6019b2-7ea8-4050-b5cc-dce5231ad5d1",
   "metadata": {},
   "outputs": [],
   "source": [
    "import math\n",
    "\n",
    "def poisson_cdf(mu, k):\n",
    "    cdf = 0.0\n",
    "    for i in range(k+1):\n",
    "        cdf += math.exp(-mu) * (mu**i) / math.factorial(i)\n",
    "    return cdf\n"
   ]
  },
  {
   "cell_type": "markdown",
   "id": "2dcc79e6-40e2-44f7-817b-35c7eb9b96b1",
   "metadata": {},
   "source": [
    "# Q7. How Binomial distribution different from Poisson distribution?"
   ]
  },
  {
   "cell_type": "markdown",
   "id": "9005b0ea-ad25-4084-a030-030d35366bb7",
   "metadata": {},
   "source": [
    "Binomial distribution describes the distribution of binary data from a finite sample. Thus it gives the probability of getting r events out of n trials. Poisson distribution describes the distribution of binary data from an infinite sample. Thus it gives the probability of getting r events in a population."
   ]
  },
  {
   "cell_type": "markdown",
   "id": "284510f3-9402-49a8-81e5-fd7a501c885f",
   "metadata": {},
   "source": [
    "# Q8. Generate a random sample of size 1000 from a Poisson distribution with mean 5 and calculate the sample mean and variance."
   ]
  },
  {
   "cell_type": "code",
   "execution_count": 6,
   "id": "eef3b61f-9f43-4478-808c-03206651a279",
   "metadata": {},
   "outputs": [
    {
     "name": "stdout",
     "output_type": "stream",
     "text": [
      "Sample mean: 4.974\n",
      "Sample variance: 5.167324\n"
     ]
    }
   ],
   "source": [
    "import numpy as np\n",
    "\n",
    "# Set parameters\n",
    "mu = 5\n",
    "n = 1000\n",
    "\n",
    "# Generate random sample\n",
    "sample = np.random.poisson(mu, size=n)\n",
    "\n",
    "# Calculate sample mean and variance\n",
    "sample_mean = np.mean(sample)\n",
    "sample_var = np.var(sample)\n",
    "\n",
    "# Print results\n",
    "print(\"Sample mean:\", sample_mean)\n",
    "print(\"Sample variance:\", sample_var)\n"
   ]
  },
  {
   "cell_type": "markdown",
   "id": "eb7dfd07-0022-4082-9877-485e1c49648f",
   "metadata": {},
   "source": [
    "# Q9. How mean and variance are related in Binomial distribution and Poisson distribution?"
   ]
  },
  {
   "cell_type": "markdown",
   "id": "2fb53ad8-d610-4d24-8e0d-0865ff7fc505",
   "metadata": {},
   "source": [
    "- For the binomial distribution, if X is a random variable that follows a binomial distribution with parameters n and p, then the mean and variance of X are:\n",
    "\n",
    "Mean = np\n",
    "\n",
    "Variance = np(1-p)\n",
    "\n",
    "- For the Poisson distribution, if X is a random variable that follows a Poisson distribution with mean λ, then the mean and variance of X are both equal to λ.\n",
    "\n",
    "So, the variance of a Poisson distribution is directly proportional to its mean. As the mean increases, so does the variance. When λ=0, the variance is also 0."
   ]
  },
  {
   "cell_type": "markdown",
   "id": "1af63ade-4e93-438c-9f2a-8ff712359464",
   "metadata": {},
   "source": [
    "# Q10. In normal distribution with respect to mean position, where does the least frequent data appear?"
   ]
  },
  {
   "cell_type": "markdown",
   "id": "3df9f673-19eb-452d-97cf-f53e56d79c4d",
   "metadata": {},
   "source": [
    "In a normal distribution, the least frequent data points are located at the tails of the distribution, which are farthest from the mean. Specifically, the data points that are more than 2 or 3 standard deviations away from the mean are considered to be outliers or extreme values, and are typically the least frequent.\n",
    "\n",
    "For example, in a normal distribution with mean = 50 and standard deviation = 10, the data points that are more than 2 or 3 standard deviations away from the mean (i.e., less than 30 or greater than 70) are the least frequent data points. This is because the normal distribution is symmetric around the mean, and the tails of the distribution contain fewer data points than the central region."
   ]
  }
 ],
 "metadata": {
  "kernelspec": {
   "display_name": "Python 3 (ipykernel)",
   "language": "python",
   "name": "python3"
  },
  "language_info": {
   "codemirror_mode": {
    "name": "ipython",
    "version": 3
   },
   "file_extension": ".py",
   "mimetype": "text/x-python",
   "name": "python",
   "nbconvert_exporter": "python",
   "pygments_lexer": "ipython3",
   "version": "3.10.8"
  }
 },
 "nbformat": 4,
 "nbformat_minor": 5
}
