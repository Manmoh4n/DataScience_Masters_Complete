{
 "cells": [
  {
   "cell_type": "markdown",
   "id": "cbaa8e61-9d47-4b0d-9bfa-7fbec36bc44c",
   "metadata": {},
   "source": [
    "# Q1. What are the three measures of central tendency?"
   ]
  },
  {
   "cell_type": "markdown",
   "id": "6c611cb4-46c4-4d42-878d-af14d64424b2",
   "metadata": {},
   "source": [
    "The three measures of central tendency are:\n",
    "\n",
    "- Mean: It is the most commonly used measure of central tendency. It is the sum of all the values in a dataset divided by the number of observations. The mean is sensitive to outliers in the dataset.\n",
    "\n",
    "- Median: The median is the middle value in a dataset when it is arranged in ascending or descending order. It is the value below which half the observations fall and above which the other half fall. The median is less sensitive to outliers than the mean.\n",
    "\n",
    "- Mode: The mode is the value that occurs most frequently in a dataset. A dataset may have multiple modes or no mode at all. The mode is often used to describe categorical data."
   ]
  },
  {
   "cell_type": "markdown",
   "id": "8bbbd396-1139-42d3-a31a-df5b5191cbd8",
   "metadata": {},
   "source": [
    "# Q2. What is the difference between the mean, median, and mode? How are they used to measure the central tendency of a dataset?"
   ]
  },
  {
   "cell_type": "markdown",
   "id": "efd7c82b-aecd-47fe-88c4-9386dc5e9f49",
   "metadata": {},
   "source": [
    "- The mean is calculated by summing up all the values in a dataset and dividing by the total number of values. It represents the \"average\" value of the dataset. The mean is sensitive to outliers and can be skewed by extreme values in the dataset.\n",
    "\n",
    "- The median is the value that separates the dataset into two equal halves. It is the middle value when the dataset is arranged in order from smallest to largest or vice versa. The median is less sensitive to outliers than the mean, making it a better measure of central tendency for skewed datasets.\n",
    "\n",
    "- The mode is the value that occurs most frequently in the dataset. It is useful for describing categorical data and can be used for continuous data as well. The mode is not affected by extreme values in the dataset, but it may not exist or may not be unique in some datasets."
   ]
  },
  {
   "cell_type": "markdown",
   "id": "3cd3b216-9850-411b-88ce-0cd939e33c06",
   "metadata": {},
   "source": [
    "# Q3. Measure the three measures of central tendency for the given height data:\n",
    "[178,177,176,177,178.2,178,175,179,180,175,178.9,176.2,177,172.5,178,176.5]"
   ]
  },
  {
   "cell_type": "markdown",
   "id": "ee6267be-b6b1-45e9-ae70-2e01688fc94f",
   "metadata": {},
   "source": [
    "Mean = (172.5 + 175 + 175 + 176 + 176.2 + 176.5 + 177 + 177 + 178 + 178 + 178 + 178.2 + 178.9 + 179 + 180) / 15\n",
    "\n",
    "Mean = 176.93\n",
    "\n",
    "Median = (176.5 + 177) / 2\n",
    "\n",
    "Median = 176.75\n",
    "\n",
    "Mode = 178 "
   ]
  },
  {
   "cell_type": "markdown",
   "id": "43e1d607-9650-448b-94b4-33f06ed38eba",
   "metadata": {},
   "source": [
    "# Q4. Find the standard deviation for the given data:\n",
    "# [178,177,176,177,178.2,178,175,179,180,175,178.9,176.2,177,172.5,178,176.5]"
   ]
  },
  {
   "cell_type": "markdown",
   "id": "0aef44b0-567e-42fb-8e77-72596158677f",
   "metadata": {},
   "source": [
    "To find the standard deviation for the given data, we can use the following formula:\n",
    "\n",
    "s = sqrt((sum of (x - x̄)^2) / (n - 1))\n",
    "\n",
    "where x is each value in the dataset, x̄ is the mean of the dataset, and n is the number of values in the dataset.\n",
    "\n",
    "First, we need to calculate the mean of the dataset:\n",
    "\n",
    "mean = (178 + 177 + 176 + 177 + 178.2 + 178 + 175 + 179 + 180 + 175 + 178.9 + 176.2 + 177 + 172.5 + 178 + 176.5) / 16\n",
    "mean = 176.93\n",
    "\n",
    "Next, we can calculate the sum of (x - x̄)^2 for each value in the dataset:\n",
    "\n",
    "(178 - 176.93)^2 = 1.1261\n",
    "(177 - 176.93)^2 = 0.0025\n",
    "(176 - 176.93)^2 = 0.8649\n",
    "(177 - 176.93)^2 = 0.0025\n",
    "(178.2 - 176.93)^2 = 1.6056\n",
    "(178 - 176.93)^2 = 0.9921\n",
    "(175 - 176.93)^2 = 3.7276\n",
    "(179 - 176.93)^2 = 4.1316\n",
    "(180 - 176.93)^2 = 10.2161\n",
    "(175 - 176.93)^2 = 3.7276\n",
    "(178.9 - 176.93)^2 = 3.8741\n",
    "(176.2 - 176.93)^2 = 0.5339\n",
    "(177 - 176.93)^2 = 0.0025\n",
    "(172.5 - 176.93)^2 = 19.3921\n",
    "(178 - 176.93)^2 = 0.9921\n",
    "(176.5 - 176.93)^2 = 0.1822\n",
    "\n",
    "Then, we can sum up all of these values:\n",
    "\n",
    "sum of (x - x̄)^2 = 50.2013\n",
    "\n",
    "Finally, we can plug this into the formula for standard deviation:\n",
    "\n",
    "s = sqrt((sum of (x - x̄)^2) / (n - 1))\n",
    "s = sqrt(50.2013 / 15)\n",
    "s = 1.675\n",
    "\n",
    "Therefore, the standard deviation for the given data is approximately 1.675."
   ]
  },
  {
   "cell_type": "markdown",
   "id": "4b027e06-895d-4c87-bfe6-312204026e5e",
   "metadata": {},
   "source": [
    "# Q5. How are measures of dispersion such as range, variance, and standard deviation used to describe\n",
    "# the spread of a dataset? Provide an example."
   ]
  },
  {
   "cell_type": "markdown",
   "id": "4a9b5def-2769-4230-8453-ebc88552d16e",
   "metadata": {},
   "source": [
    "Measures of dispersion such as range, variance, and standard deviation are used to describe the spread of a dataset by indicating how much the individual data points deviate from the central tendency of the data.\n",
    "\n",
    "The range is the difference between the maximum and minimum values in the dataset and provides a simple measure of the spread of the data. However, it only takes into account the two extreme values and may not accurately reflect the spread of the rest of the data.\n",
    "\n",
    "The variance and standard deviation measure how far the individual data points are from the mean of the dataset. They are more informative than the range since they take into account all the values in the dataset, not just the two extremes. A higher variance or standard deviation indicates a wider spread of the data, while a lower variance or standard deviation indicates a more narrow spread of the data.\n",
    "\n",
    "For example, consider two datasets of test scores for two different classes of students:\n",
    "\n",
    "Class A: 75, 80, 85, 90, 95\n",
    "Class B: 60, 70, 80, 90, 100\n",
    "\n",
    "Both classes have the same mean of 85, but the range and standard deviation for each class are different.\n",
    "\n",
    "The range for Class A is 20 (95-75) while for Class B is 40 (100-60), indicating that the spread of Class B scores is wider than that of Class A.\n",
    "\n",
    "The variance for Class A is 50 and the standard deviation is approximately 7.07, while for Class B, the variance is 200 and the standard deviation is approximately 14.14. These values also indicate that the spread of Class B scores is wider than that of Class A.\n",
    "\n",
    "Therefore, measures of dispersion help to provide a more complete picture of the spread of data and how much the data points deviate from the central tendency of the dataset."
   ]
  },
  {
   "cell_type": "markdown",
   "id": "c2b53ed5-18e0-45c2-9885-817b025f0677",
   "metadata": {},
   "source": [
    "# Q6. What is a Venn diagram?"
   ]
  },
  {
   "cell_type": "markdown",
   "id": "41188d30-18b2-466c-a743-e72d702ede42",
   "metadata": {},
   "source": [
    "A Venn diagram is a graphical representation of the relationships between different sets or groups of objects or concepts. It consists of one or more circles, each representing a set, and the overlap or intersection of these circles shows the relationship between the sets.\n",
    "\n",
    "Venn diagrams are often used in mathematics, logic, statistics, and other fields to illustrate concepts such as set theory, probability, and logical relationships between different groups of objects or ideas. They can also be used to visualize data and compare different groups or categories."
   ]
  },
  {
   "cell_type": "markdown",
   "id": "14e6b38c-96d0-4d69-aa23-7094fc436675",
   "metadata": {},
   "source": [
    "# Q7. For the two given sets A = (2,3,4,5,6,7) & B = (0,2,6,8,10). Find:\n",
    "# (i) A B\n",
    "# (ii) A ⋃ B"
   ]
  },
  {
   "cell_type": "markdown",
   "id": "4645c553-cabe-4f28-8794-b4baf98a68e2",
   "metadata": {},
   "source": [
    "(i) The common elements between sets A and B are 2 and 6, so:\n",
    "\n",
    "A intersect B = {2, 6}\n",
    "\n",
    "(ii) A union B = {0, 2, 3, 4, 5, 6, 7, 8, 10}"
   ]
  },
  {
   "cell_type": "markdown",
   "id": "c7533e8d-e2cf-466c-a42f-ee85579b5222",
   "metadata": {},
   "source": [
    "# Q8. What do you understand about skewness in data?"
   ]
  },
  {
   "cell_type": "markdown",
   "id": "ae8d28d5-fb96-44d0-a3f2-a2970c4f35ba",
   "metadata": {},
   "source": [
    "Skewness is a measurement of the distortion of symmetrical distribution or asymmetry in a data set. Skewness is demonstrated on a bell curve when data points are not distributed symmetrically to the left and right sides of the median on a bell curve.\n",
    "\n",
    "There are two main types of skewness:\n",
    "\n",
    "- Positive Skewness: A dataset is said to be positively skewed if the tail of the distribution extends towards the right side of the central tendency, meaning that there are more data points on the left side of the distribution and fewer on the right side. In a positively skewed distribution, the mean is typically greater than the median.\n",
    "\n",
    "- Negative Skewness: A dataset is said to be negatively skewed if the tail of the distribution extends towards the left side of the central tendency, meaning that there are more data points on the right side of the distribution and fewer on the left side. In a negatively skewed distribution, the mean is typically less than the median."
   ]
  },
  {
   "cell_type": "markdown",
   "id": "75ee7cbc-8658-4cf1-bee2-cbea9f6d4441",
   "metadata": {},
   "source": [
    "# Q9. If a data is right skewed then what will be the position of median with respect to mean?"
   ]
  },
  {
   "cell_type": "markdown",
   "id": "455072f3-4248-447a-82e6-0fc967eb5631",
   "metadata": {},
   "source": [
    "- If a dataset is right skewed, it means that the tail of the distribution is longer on the right side. This also means that there are some large values in the dataset that pull the mean towards the right side of the distribution.\n",
    "\n",
    "- In such cases, the median will be closer to the left side of the distribution (where the majority of the data is located) and to the mode (the most frequent value), and it will be smaller than the mean. The reason for this is that the median is not affected by extreme values, unlike the mean which is sensitive to outliers."
   ]
  },
  {
   "cell_type": "markdown",
   "id": "361f8f26-c2fa-4e77-be06-97d2ec9d148d",
   "metadata": {},
   "source": [
    "# Q10. Explain the difference between covariance and correlation. How are these measures used in statistical analysis?"
   ]
  },
  {
   "cell_type": "markdown",
   "id": "90cd6b9a-d4e9-4f2a-ad4d-b1bd7bf75f82",
   "metadata": {},
   "source": [
    "Covariance\n",
    "\n",
    "- Covariance is a measure of the relationship between two random variables and to what extent, they change together. Or we can say, in other words, it defines the changes between the two variables, such that change in one variable is equal to change in another variable.\n",
    "\n",
    "- The value of covariance lies between -∞ and +∞.\n",
    "\n",
    "- It is a measure to show the extent to which given two random variables change with respect to each other.\n",
    "\n",
    "\n",
    "Correlation\n",
    "\n",
    "- It is a measure used to describe how strongly the given two random variables are related to each other.\n",
    "\n",
    "- The value of correlation lies between -1 and +1.\n",
    "\n",
    "- It measures the direction and strength of the linear relationship between the given two variables."
   ]
  },
  {
   "cell_type": "markdown",
   "id": "226d8d26-f56a-4598-ad13-e208a097c3d6",
   "metadata": {},
   "source": [
    "# Q11. What is the formula for calculating the sample mean? Provide an example calculation for a dataset."
   ]
  },
  {
   "cell_type": "markdown",
   "id": "7baa3135-f34d-4bbb-9e4c-bff98e97fb17",
   "metadata": {},
   "source": [
    "The sample mean is a measure of central tendency that represents the average value of a set of observations or data. It is calculated by adding up all the values in the sample and dividing the sum by the total number of observations.\n",
    "\n"
   ]
  },
  {
   "cell_type": "markdown",
   "id": "df4e12af-5fe2-4862-8f67-b7f7e289424a",
   "metadata": {},
   "source": [
    "For example, let's say we have a sample of 5 test scores: 70, 80, 85, 90, and 95. To calculate the sample mean, we would first add up all the scores:\n",
    "\n",
    "x̄ = Σ xi / n\n",
    "\n",
    "Σ xi = 70 + 80 + 85 + 90 + 95 = 420\n",
    "\n",
    "x̄ = 420 / 5 = 84"
   ]
  },
  {
   "cell_type": "markdown",
   "id": "66f165bc-ef2b-4858-ab49-74df9fff5c99",
   "metadata": {},
   "source": [
    "# Q12. For a normal distribution data what is the relationship between its measure of central tendency?"
   ]
  },
  {
   "cell_type": "markdown",
   "id": "bb94a1ae-c48d-433e-8d8c-f20e06211f9d",
   "metadata": {},
   "source": [
    "For normally distributed data, all three measures of central tendency will give you the same answer so they can all be used. In skewed distributions, the median is the best measure because it is unaffected by extreme outliers or non-symmetric distributions of scores. The mean and mode can vary in skewed distributions."
   ]
  },
  {
   "cell_type": "markdown",
   "id": "87dfb6fc-7c42-4368-8522-f87aa750c59c",
   "metadata": {},
   "source": [
    "# Q13. How is covariance different from correlation?"
   ]
  },
  {
   "cell_type": "markdown",
   "id": "00f05316-6886-4e21-80e2-b3b23f0337f8",
   "metadata": {},
   "source": [
    "Covariance and correlation are two terms that are opposed and are both used in statistics and regression analysis. Covariance shows you how the two variables differ, whereas correlation shows you how the two variables are related."
   ]
  },
  {
   "cell_type": "markdown",
   "id": "84ba92ee-2791-4377-93e5-42d3825813e4",
   "metadata": {},
   "source": [
    "# Q14. How do outliers affect measures of central tendency and dispersion? Provide an example."
   ]
  },
  {
   "cell_type": "markdown",
   "id": "6ad60d2e-969b-4af8-839c-e9af7e3fa031",
   "metadata": {},
   "source": [
    "Outliers Measures of central tendency and dispersion can give misleading impressions of a data set if the set contains one or more outliers. An outlier is a value that is much greater than or much less than most of the other values in a data set. 11. Consider the data set: 11, 15, 10,37, 17, 14,9, 15 a."
   ]
  },
  {
   "cell_type": "code",
   "execution_count": null,
   "id": "9653e15d-2708-411f-9bed-3a25e3638953",
   "metadata": {},
   "outputs": [],
   "source": []
  }
 ],
 "metadata": {
  "kernelspec": {
   "display_name": "Python 3 (ipykernel)",
   "language": "python",
   "name": "python3"
  },
  "language_info": {
   "codemirror_mode": {
    "name": "ipython",
    "version": 3
   },
   "file_extension": ".py",
   "mimetype": "text/x-python",
   "name": "python",
   "nbconvert_exporter": "python",
   "pygments_lexer": "ipython3",
   "version": "3.10.8"
  }
 },
 "nbformat": 4,
 "nbformat_minor": 5
}
