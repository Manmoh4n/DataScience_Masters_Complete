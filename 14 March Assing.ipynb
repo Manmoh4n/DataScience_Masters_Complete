{
 "cells": [
  {
   "cell_type": "markdown",
   "id": "253601c1",
   "metadata": {},
   "source": [
    "# Q1. Write a Python function that takes in two arrays of data and calculates the F-value for a variance ratio test. The function should return the F-value and the corresponding p-value for the test."
   ]
  },
  {
   "cell_type": "code",
   "execution_count": 3,
   "id": "af26cd64",
   "metadata": {},
   "outputs": [
    {
     "name": "stdout",
     "output_type": "stream",
     "text": [
      "F-value: 0.25\n",
      "p-value: 0.896\n"
     ]
    }
   ],
   "source": [
    "x = [1, 2, 3, 4, 5]\n",
    "y = [2, 4, 6, 8, 10]\n",
    "F, p_value = variance_ratio_test(x, y)\n",
    "print(\"F-value:\", F)\n",
    "print(\"p-value:\", p_value)\n"
   ]
  },
  {
   "cell_type": "markdown",
   "id": "27bf63c5",
   "metadata": {},
   "source": [
    "#  Q2. Given a significance level of 0.05 and the degrees of freedom for the numerator and denominator of an F-distribution, write a Python function that returns the critical F-value for a two-tailed test."
   ]
  },
  {
   "cell_type": "code",
   "execution_count": 4,
   "id": "cda04b03",
   "metadata": {},
   "outputs": [
    {
     "name": "stdout",
     "output_type": "stream",
     "text": [
      "Critical F-value: 4.07682306196248\n"
     ]
    }
   ],
   "source": [
    "from scipy import stats\n",
    "\n",
    "def critical_f_value(dfn, dfd, alpha=0.05):\n",
    "    return stats.f.ppf(1 - alpha / 2, dfn, dfd)\n",
    "dfn = 3\n",
    "dfd = 16\n",
    "alpha = 0.05\n",
    "F_critical = critical_f_value(dfn, dfd, alpha)\n",
    "print(\"Critical F-value:\", F_critical)\n"
   ]
  },
  {
   "cell_type": "markdown",
   "id": "71f7cccf",
   "metadata": {},
   "source": [
    "# Q3. Write a Python program that generates random samples from two normal distributions with known variances and uses an F-test to determine if the variances are equal. The program should output the F- value, degrees of freedom, and p-value for the test."
   ]
  },
  {
   "cell_type": "markdown",
   "id": "507af40e",
   "metadata": {},
   "source": [
    "# Q4.The variances of two populations are known to be 10 and 15. A sample of 12 observations is taken from each population. Conduct an F-test at the 5% significance level to determine if the variances are significantly different."
   ]
  },
  {
   "cell_type": "markdown",
   "id": "344c6d94",
   "metadata": {},
   "source": [
    "Sure, here's how to conduct the F-test to determine if the variances of two populations with known variances are significantly different:\n",
    "\n",
    "First, we set up the null and alternative hypotheses:\n",
    "\n",
    "Null hypothesis: The variances of the two populations are equal (i.e., σ1^2 = σ2^2).\n",
    "Alternative hypothesis: The variances of the two populations are not equal (i.e., σ1^2 ≠ σ2^2).\n",
    "Next, we calculate the F-statistic using the formula:\n",
    "\n",
    "F = s1^2 / s2^2\n",
    "\n",
    "where s1^2 and s2^2 are the sample variances of the two populations. In this case, we know the population variances, so we can use them directly:\n",
    "\n",
    "F = 10 / 15 = 0.67\n",
    "\n",
    "We also calculate the degrees of freedom for the F-distribution:\n",
    "\n",
    "dfn = n1 - 1 = 12 - 1 = 11\n",
    "dfd = n2 - 1 = 12 - 1 = 11\n",
    "\n",
    "where n1 and n2 are the sample sizes for the two populations.\n",
    "\n",
    "We can now use an F-distribution table or calculator to find the p-value associated with the F-statistic. At a 5% significance level and 11 degrees of freedom for both numerator and denominator, the critical F-value is approximately 3.11.\n",
    "\n",
    "Since our F-statistic (0.67) is less than the critical F-value (3.11), we fail to reject the null hypothesis. Therefore, we conclude that there is not enough evidence to suggest that the variances of the two populations are significantly different at the 5% significance level.\n",
    "\n",
    "\n",
    "\n"
   ]
  },
  {
   "cell_type": "markdown",
   "id": "fa91902c",
   "metadata": {},
   "source": [
    "# Q5. A manufacturer claims that the variance of the diameter of a certain product is 0.005. A sample of 25 products is taken, and the sample variance is found to be 0.006. Conduct an F-test at the 1% significance level to determine if the claim is justified."
   ]
  },
  {
   "cell_type": "markdown",
   "id": "e8e98242",
   "metadata": {},
   "source": [
    "Sure, here's how to conduct the F-test to determine if the claim of the manufacturer about the variance of the diameter of a certain product is justified:\n",
    "\n",
    "First, we set up the null and alternative hypotheses:\n",
    "\n",
    "Null hypothesis: The population variance of the diameter of the product is equal to the claimed value (i.e., σ^2 = 0.005).\n",
    "Alternative hypothesis: The population variance of the diameter of the product is greater than the claimed value (i.e., σ^2 > 0.005).\n",
    "Next, we calculate the F-statistic using the formula:\n",
    "\n",
    "F = s^2 / σ^2\n",
    "\n",
    "where s^2 is the sample variance and σ^2 is the claimed population variance. In this case, we have:\n",
    "\n",
    "F = 0.006 / 0.005 = 1.2\n",
    "\n",
    "We also calculate the degrees of freedom for the F-distribution:\n",
    "\n",
    "dfn = n - 1 = 25 - 1 = 24\n",
    "dfd = ∞\n",
    "\n",
    "where n is the sample size.\n",
    "\n",
    "We can now use an F-distribution table or calculator to find the p-value associated with the F-statistic. At a 1% significance level and 24 degrees of freedom for the numerator and infinity for the denominator, the critical F-value is approximately 4.13.\n",
    "\n",
    "Since our F-statistic (1.2) is less than the critical F-value (4.13), we fail to reject the null hypothesis. Therefore, we conclude that there is not enough evidence to suggest that the population variance of the diameter of the product is greater than the claimed value at the 1% significance level. In other words, the claim of the manufacturer about the variance of the diameter of the product is justified based on the given sample data."
   ]
  },
  {
   "cell_type": "markdown",
   "id": "7f7e3c7b",
   "metadata": {},
   "source": [
    "# Q6. Write a Python function that takes in the degrees of freedom for the numerator and denominator of an F-distribution and calculates the mean and variance of the distribution. The function should return the mean and variance as a tuple."
   ]
  },
  {
   "cell_type": "code",
   "execution_count": 16,
   "id": "605cf200",
   "metadata": {},
   "outputs": [
    {
     "name": "stdout",
     "output_type": "stream",
     "text": [
      "Mean: 1.6666666666666667\n",
      "Variance: 11.11111111111111\n"
     ]
    }
   ],
   "source": [
    "from scipy.stats import f\n",
    "\n",
    "def f_distribution_mean_var(dfn, dfd):\n",
    "    \"\"\"\n",
    "    Calculates the mean and variance of an F-distribution given the degrees of freedom\n",
    "    for the numerator (dfn) and denominator (dfd).\n",
    "    \n",
    "    Returns a tuple containing the mean and variance.\n",
    "    \"\"\"\n",
    "    mean = f.mean(dfn, dfd)\n",
    "    var = f.var(dfn, dfd)\n",
    "    return mean, var\n",
    "mean, var = f_distribution_mean_var(3, 5)\n",
    "print(\"Mean:\", mean)\n",
    "print(\"Variance:\", var)\n"
   ]
  },
  {
   "cell_type": "markdown",
   "id": "140ba015",
   "metadata": {},
   "source": [
    "# Q7. A random sample of 10 measurements is taken from a normal population with unknown variance. The sample variance is found to be 25. Another random sample of 15 measurements is taken from another normal population with unknown variance, and the sample variance is found to be 20. Conduct an F-test at the 10% significance level to determine if the variances are significantly different."
   ]
  },
  {
   "cell_type": "markdown",
   "id": "6ba8f341",
   "metadata": {},
   "source": [
    "To conduct an F-test to determine if the variances are significantly different, we need to use the F-distribution. The null hypothesis is that the variances are equal, while the alternative hypothesis is that they are not equal.\n",
    "\n",
    "Let's define the following variables:\n",
    "\n",
    "Sample variance of the first population: s1^2 = 25\n",
    "Sample size of the first population: n1 = 10\n",
    "Sample variance of the second population: s2^2 = 20\n",
    "Sample size of the second population: n2 = 15\n",
    "The test statistic for the F-test is calculated as:\n",
    "\n",
    "F = s1^2 / s2^2\n",
    "\n",
    "Under the null hypothesis, the F-statistic follows an F-distribution with degrees of freedom (df1, df2), where:\n",
    "\n",
    "df1 = n1 - 1 = 9\n",
    "df2 = n2 - 1 = 14\n",
    "\n",
    "At the 10% significance level, the critical values of the F-distribution are:\n",
    "\n",
    "F(lower) = 0.345\n",
    "F(upper) = 3.417\n",
    "\n",
    "If the calculated F-statistic falls outside this range, we reject the null hypothesis and conclude that the variances are significantly different.\n",
    "\n",
    "Substituting the given values, we get:\n",
    "\n",
    "F = 25/20 = 1.25\n",
    "\n",
    "Since 0.345 < 1.25 < 3.417, we fail to reject the null hypothesis. Therefore, we can conclude that there is not enough evidence to suggest that the variances of the two populations are significantly different at the 10% significance level.\n",
    "\n",
    "\n",
    "\n",
    "\n"
   ]
  },
  {
   "cell_type": "markdown",
   "id": "740380c2",
   "metadata": {},
   "source": [
    "# Q8. The following data represent the waiting times in minutes at two different restaurants on a Saturday night: Restaurant A: 24, 25, 28, 23, 22, 20, 27; Restaurant B: 31, 33, 35, 30, 32, 36. Conduct an F-test at the 5% significance level to determine if the variances are significantly different."
   ]
  },
  {
   "cell_type": "markdown",
   "id": "b8e9209f",
   "metadata": {},
   "source": [
    "To conduct an F-test for comparing the variances of the waiting times at Restaurant A and Restaurant B, we need to follow the following steps:\n",
    "\n",
    "Step 1: Define the null and alternative hypotheses.\n",
    "\n",
    "The null hypothesis (H0) is that the variances of the waiting times at both restaurants are equal. The alternative hypothesis (Ha) is that the variances are not equal.\n",
    "\n",
    "H0: σ1^2 = σ2^2\n",
    "Ha: σ1^2 ≠ σ2^2\n",
    "\n",
    "where σ1^2 is the variance of waiting times at Restaurant A and σ2^2 is the variance of waiting times at Restaurant B.\n",
    "\n",
    "Step 2: Calculate the sample variances.\n",
    "\n",
    "We need to calculate the sample variances for waiting times at both restaurants. Let's denote the sample variance for Restaurant A as s1^2 and for Restaurant B as s2^2.\n",
    "\n",
    "The sample variance for Restaurant A is:\n",
    "\n",
    "s1^2 = [(24-24.43)^2 + (25-24.43)^2 + (28-24.43)^2 + (23-24.43)^2 + (22-24.43)^2 + (20-24.43)^2 + (27-24.43)^2]/(7-1) = 7.81\n",
    "\n",
    "The sample variance for Restaurant B is:\n",
    "\n",
    "s2^2 = [(31-32.83)^2 + (33-32.83)^2 + (35-32.83)^2 + (30-32.83)^2 + (32-32.83)^2 + (36-32.83)^2]/(6-1) = 6.55\n",
    "\n",
    "Step 3: Calculate the F-statistic.\n",
    "\n",
    "The F-statistic is calculated as the ratio of the sample variances:\n",
    "\n",
    "F = s1^2/s2^2 = 7.81/6.55 = 1.19\n",
    "\n",
    "Step 4: Determine the p-value.\n",
    "\n",
    "To determine the p-value, we need to compare the F-statistic to the F-distribution with degrees of freedom (df1 = n1 - 1) and (df2 = n2 - 1), where n1 and n2 are the sample sizes for Restaurant A and Restaurant B, respectively.\n",
    "\n",
    "Using a significance level of α = 0.05, and df1 = 6-1 = 5 and df2 = 7-1 = 6, we find that the critical values of the F-distribution are F0.05(5,6) = 4.03 and F0.95(5,6) = 1/F0.05(6,5) = 1/4.03 = 0.25.\n",
    "\n",
    "Since our calculated F-statistic (1.19) falls within the acceptance region of the F-distribution (0.25 < 1.19 < 4.03), we cannot reject the null hypothesis.\n",
    "\n",
    "Step 5: Interpret the results.\n",
    "\n",
    "Since we cannot reject the null hypothesis, we can conclude that there is not enough evidence to suggest that the variances of the waiting times at Restaurant A and Restaurant B are significantly different at the 5% significance level."
   ]
  },
  {
   "cell_type": "markdown",
   "id": "d2886161",
   "metadata": {},
   "source": [
    "# Q9. The following data represent the test scores of two groups of students: Group A: 80, 85, 90, 92, 87, 83; Group B: 75, 78, 82, 79, 81, 84. Conduct an F-test at the 1% significance level to determine if the variances are significantly different."
   ]
  },
  {
   "cell_type": "markdown",
   "id": "694917ae",
   "metadata": {},
   "source": [
    "To conduct an F-test to determine if the variances of two groups are significantly different, we need to calculate the F-statistic by dividing the larger sample variance by the smaller sample variance.\n",
    "\n",
    "Let's first calculate the sample variances:\n",
    "\n",
    "Sample variance of Group A = (80-86.17)² + (85-86.17)² + (90-86.17)² + (92-86.17)² + (87-86.17)² + (83-86.17)² / 5 = 20.97\n",
    "Sample variance of Group B = (75-80)² + (78-80)² + (82-80)² + (79-80)² + (81-80)² + (84-80)² / 5 = 8.8\n",
    "\n",
    "The larger sample variance is 20.97, and the smaller sample variance is 8.8.\n",
    "\n",
    "Now, we can calculate the F-statistic as follows:\n",
    "\n",
    "F = larger sample variance / smaller sample variance = 20.97 / 8.8 = 2.383\n",
    "\n",
    "To determine if this F-statistic is statistically significant at the 1% level, we need to compare it to the critical F-value from the F-distribution with degrees of freedom (df) equal to n1-1 = 5-1 = 4 and n2-1 = 5-1 = 4, where n1 and n2 are the sample sizes of Group A and Group B, respectively.\n",
    "\n",
    "From the F-distribution table, the critical F-value for a 1% significance level and df1 = 4, df2 = 4 is 7.71.\n",
    "\n",
    "Since our calculated F-statistic (2.383) is less than the critical F-value (7.71), we can conclude that the variances of Group A and Group B are not significantly different at the 1% level."
   ]
  },
  {
   "cell_type": "code",
   "execution_count": null,
   "id": "ee990b19",
   "metadata": {},
   "outputs": [],
   "source": []
  }
 ],
 "metadata": {
  "kernelspec": {
   "display_name": "Python 3 (ipykernel)",
   "language": "python",
   "name": "python3"
  },
  "language_info": {
   "codemirror_mode": {
    "name": "ipython",
    "version": 3
   },
   "file_extension": ".py",
   "mimetype": "text/x-python",
   "name": "python",
   "nbconvert_exporter": "python",
   "pygments_lexer": "ipython3",
   "version": "3.9.13"
  }
 },
 "nbformat": 4,
 "nbformat_minor": 5
}
