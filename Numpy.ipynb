{
 "cells": [
  {
   "cell_type": "markdown",
   "id": "96e282a0-f6c3-43d2-803a-be15285f7c50",
   "metadata": {},
   "source": [
    "# Numpy Part - 1"
   ]
  },
  {
   "cell_type": "markdown",
   "id": "1036d73c-69b6-448b-9cc3-6662907e1b85",
   "metadata": {},
   "source": [
    "NumPy is a Python package. It stands for 'Numerical Python'. It is a library consisting of multidimensional array objects and a collection of routines for processing of array."
   ]
  },
  {
   "cell_type": "code",
   "execution_count": 2,
   "id": "1e09dd90-59cd-48a8-90e8-b90b06fd2295",
   "metadata": {},
   "outputs": [],
   "source": [
    "import numpy as np"
   ]
  },
  {
   "cell_type": "code",
   "execution_count": 3,
   "id": "20fbaf2c-b235-44c0-99da-a035f261e2d4",
   "metadata": {},
   "outputs": [],
   "source": [
    "l=[1,2,3,4]"
   ]
  },
  {
   "cell_type": "code",
   "execution_count": 4,
   "id": "ea35a7ff-a9ad-4809-8f29-a2f09dc4be31",
   "metadata": {},
   "outputs": [],
   "source": [
    "ar = np.array(l)"
   ]
  },
  {
   "cell_type": "code",
   "execution_count": 5,
   "id": "f8f3293d-4025-4c73-a2eb-46657d7167af",
   "metadata": {},
   "outputs": [
    {
     "data": {
      "text/plain": [
       "array([1, 2, 3, 4])"
      ]
     },
     "execution_count": 5,
     "metadata": {},
     "output_type": "execute_result"
    }
   ],
   "source": [
    "ar"
   ]
  },
  {
   "cell_type": "code",
   "execution_count": 6,
   "id": "51ec295d-c809-4164-8e4e-7d260c45e082",
   "metadata": {},
   "outputs": [
    {
     "data": {
      "text/plain": [
       "numpy.ndarray"
      ]
     },
     "execution_count": 6,
     "metadata": {},
     "output_type": "execute_result"
    }
   ],
   "source": [
    "type(ar)"
   ]
  },
  {
   "cell_type": "code",
   "execution_count": 7,
   "id": "42d2c333-e542-45f0-8cc6-d5c0103bb9a2",
   "metadata": {},
   "outputs": [
    {
     "data": {
      "text/plain": [
       "array([[1, 2, 3],\n",
       "       [4, 5, 6]])"
      ]
     },
     "execution_count": 7,
     "metadata": {},
     "output_type": "execute_result"
    }
   ],
   "source": [
    "np.array([[1,2,3],[4,5,6]])"
   ]
  },
  {
   "cell_type": "code",
   "execution_count": 9,
   "id": "86fa0e04-3e1e-48b6-b888-b01cb6d5fc13",
   "metadata": {},
   "outputs": [
    {
     "data": {
      "text/plain": [
       "array([1, 2, 3, 4])"
      ]
     },
     "execution_count": 9,
     "metadata": {},
     "output_type": "execute_result"
    }
   ],
   "source": [
    "np.asarray(l)  # asarray() This function is used to create an array by using the existing data in the form of lists, or tuples."
   ]
  },
  {
   "cell_type": "code",
   "execution_count": 10,
   "id": "6a649e1a-a749-4ccc-9d6a-26251a45fcc2",
   "metadata": {},
   "outputs": [
    {
     "data": {
      "text/plain": [
       "array([1, 2, 3, 4])"
      ]
     },
     "execution_count": 10,
     "metadata": {},
     "output_type": "execute_result"
    }
   ],
   "source": [
    "np.asanyarray(l)"
   ]
  },
  {
   "cell_type": "code",
   "execution_count": 11,
   "id": "0ee9de31-0d59-4f9d-85c2-0c2145292cee",
   "metadata": {},
   "outputs": [],
   "source": [
    "a=[1,2,3,4,5]"
   ]
  },
  {
   "cell_type": "code",
   "execution_count": 12,
   "id": "2159aef6-d476-4c59-a109-945666d4dee8",
   "metadata": {},
   "outputs": [
    {
     "data": {
      "text/plain": [
       "array([1, 2, 3, 4, 5])"
      ]
     },
     "execution_count": 12,
     "metadata": {},
     "output_type": "execute_result"
    }
   ],
   "source": [
    "np.asanyarray(a)  # it is use to change in array"
   ]
  },
  {
   "cell_type": "code",
   "execution_count": 13,
   "id": "8d01862a-8f78-46c0-9bcd-d311ad2a4285",
   "metadata": {},
   "outputs": [],
   "source": [
    "b = np.matrix(l)  # matrix always in 2D form .Matrix is subset of array"
   ]
  },
  {
   "cell_type": "code",
   "execution_count": 14,
   "id": "3eb83265-9738-4ef4-a217-990d52e07bc7",
   "metadata": {},
   "outputs": [
    {
     "data": {
      "text/plain": [
       "matrix([[1, 2, 3, 4]])"
      ]
     },
     "execution_count": 14,
     "metadata": {},
     "output_type": "execute_result"
    }
   ],
   "source": [
    "b"
   ]
  },
  {
   "cell_type": "code",
   "execution_count": 16,
   "id": "951983c1-958d-44c1-9484-36d0cf3957f8",
   "metadata": {},
   "outputs": [
    {
     "data": {
      "text/plain": [
       "matrix([[1, 2, 3, 4]])"
      ]
     },
     "execution_count": 16,
     "metadata": {},
     "output_type": "execute_result"
    }
   ],
   "source": [
    "np.asanyarray(b)  # It does not change into array because matrix is subset of array"
   ]
  },
  {
   "cell_type": "code",
   "execution_count": 17,
   "id": "a55ec2d8-d94a-4cf9-9754-b0fd5ddf99fe",
   "metadata": {},
   "outputs": [
    {
     "data": {
      "text/plain": [
       "[1, 2, 3, 4, 5]"
      ]
     },
     "execution_count": 17,
     "metadata": {},
     "output_type": "execute_result"
    }
   ],
   "source": [
    "a"
   ]
  },
  {
   "cell_type": "code",
   "execution_count": 18,
   "id": "583ead06-b4e5-4002-9a65-8e6ccf77aca2",
   "metadata": {},
   "outputs": [],
   "source": [
    "c = a"
   ]
  },
  {
   "cell_type": "code",
   "execution_count": 19,
   "id": "c775089e-512c-41de-a4bb-28c956d5364d",
   "metadata": {},
   "outputs": [
    {
     "data": {
      "text/plain": [
       "[1, 2, 3, 4, 5]"
      ]
     },
     "execution_count": 19,
     "metadata": {},
     "output_type": "execute_result"
    }
   ],
   "source": [
    "a"
   ]
  },
  {
   "cell_type": "code",
   "execution_count": 20,
   "id": "0893ebc9-6c65-45a8-acef-1b53ad65dec0",
   "metadata": {},
   "outputs": [
    {
     "data": {
      "text/plain": [
       "[1, 2, 3, 4, 5]"
      ]
     },
     "execution_count": 20,
     "metadata": {},
     "output_type": "execute_result"
    }
   ],
   "source": [
    "c"
   ]
  },
  {
   "cell_type": "code",
   "execution_count": 22,
   "id": "8219e8aa-6c9e-49f7-abe9-cb26c4737e23",
   "metadata": {},
   "outputs": [],
   "source": [
    "c[0] = 100"
   ]
  },
  {
   "cell_type": "code",
   "execution_count": 23,
   "id": "8cefe3dc-8c52-4c1d-a39a-48023f7b66ae",
   "metadata": {},
   "outputs": [
    {
     "data": {
      "text/plain": [
       "[100, 2, 3, 4, 5]"
      ]
     },
     "execution_count": 23,
     "metadata": {},
     "output_type": "execute_result"
    }
   ],
   "source": [
    "c"
   ]
  },
  {
   "cell_type": "code",
   "execution_count": 24,
   "id": "fbf576cc-80ef-42bc-b28d-2366621bfc3b",
   "metadata": {},
   "outputs": [
    {
     "data": {
      "text/plain": [
       "[100, 2, 3, 4, 5]"
      ]
     },
     "execution_count": 24,
     "metadata": {},
     "output_type": "execute_result"
    }
   ],
   "source": [
    "a"
   ]
  },
  {
   "cell_type": "code",
   "execution_count": 25,
   "id": "087b0512-24cf-4aef-8935-53730b9a0cda",
   "metadata": {},
   "outputs": [],
   "source": [
    "d=np.copy(a)"
   ]
  },
  {
   "cell_type": "code",
   "execution_count": 26,
   "id": "4930e28f-9523-400d-880a-2fac20f54c6a",
   "metadata": {},
   "outputs": [
    {
     "data": {
      "text/plain": [
       "array([100,   2,   3,   4,   5])"
      ]
     },
     "execution_count": 26,
     "metadata": {},
     "output_type": "execute_result"
    }
   ],
   "source": [
    "d"
   ]
  },
  {
   "cell_type": "code",
   "execution_count": 27,
   "id": "226969fb-40bb-4b61-b26d-1c84ff5f148c",
   "metadata": {},
   "outputs": [
    {
     "data": {
      "text/plain": [
       "[100, 2, 3, 4, 5]"
      ]
     },
     "execution_count": 27,
     "metadata": {},
     "output_type": "execute_result"
    }
   ],
   "source": [
    "a"
   ]
  },
  {
   "cell_type": "code",
   "execution_count": 28,
   "id": "db5b0037-e624-4ce8-8f0d-b9885068f774",
   "metadata": {},
   "outputs": [],
   "source": [
    "a[1]=400"
   ]
  },
  {
   "cell_type": "code",
   "execution_count": 29,
   "id": "6e121901-c0b7-473c-9c6f-d30ba20519c3",
   "metadata": {},
   "outputs": [
    {
     "data": {
      "text/plain": [
       "[100, 400, 3, 4, 5]"
      ]
     },
     "execution_count": 29,
     "metadata": {},
     "output_type": "execute_result"
    }
   ],
   "source": [
    "a"
   ]
  },
  {
   "cell_type": "code",
   "execution_count": 30,
   "id": "cb0dc9d0-1c73-4df0-b2d3-608fad1e8882",
   "metadata": {},
   "outputs": [
    {
     "data": {
      "text/plain": [
       "array([100,   2,   3,   4,   5])"
      ]
     },
     "execution_count": 30,
     "metadata": {},
     "output_type": "execute_result"
    }
   ],
   "source": [
    "d"
   ]
  },
  {
   "cell_type": "code",
   "execution_count": 31,
   "id": "3a96d8cd-6f20-44fa-b624-a75cc3c3192b",
   "metadata": {},
   "outputs": [
    {
     "data": {
      "text/plain": [
       "array([[ True, False, False],\n",
       "       [False,  True, False],\n",
       "       [False, False,  True]])"
      ]
     },
     "execution_count": 31,
     "metadata": {},
     "output_type": "execute_result"
    }
   ],
   "source": [
    "np.fromfunction(lambda i , j :i==j,(3,3))  #fromfunction() function construct an array by executing a function over each coordinate and the resulting array, "
   ]
  },
  {
   "cell_type": "code",
   "execution_count": 32,
   "id": "9b1b5a5a-dae6-458e-8c0e-742986ed0b92",
   "metadata": {},
   "outputs": [
    {
     "data": {
      "text/plain": [
       "array([[0., 0., 0.],\n",
       "       [0., 1., 2.],\n",
       "       [0., 2., 4.]])"
      ]
     },
     "execution_count": 32,
     "metadata": {},
     "output_type": "execute_result"
    }
   ],
   "source": [
    "np.fromfunction(lambda i , j :i*j,(3,3))"
   ]
  },
  {
   "cell_type": "code",
   "execution_count": 33,
   "id": "0447d5eb-e055-49b6-9283-aa2a089d48be",
   "metadata": {},
   "outputs": [],
   "source": [
    "iterable = (i*i for i in range(5))"
   ]
  },
  {
   "cell_type": "code",
   "execution_count": 34,
   "id": "ec90a011-b906-4d7c-86da-c7f087703168",
   "metadata": {},
   "outputs": [
    {
     "data": {
      "text/plain": [
       "array([ 0.,  1.,  4.,  9., 16.])"
      ]
     },
     "execution_count": 34,
     "metadata": {},
     "output_type": "execute_result"
    }
   ],
   "source": [
    "np.fromiter(iterable,float)"
   ]
  },
  {
   "cell_type": "code",
   "execution_count": 37,
   "id": "18dc73b0-e503-427f-b046-3dd04d7ef64a",
   "metadata": {},
   "outputs": [
    {
     "data": {
      "text/plain": [
       "array([234., 334.])"
      ]
     },
     "execution_count": 37,
     "metadata": {},
     "output_type": "execute_result"
    }
   ],
   "source": [
    "np.fromstring('234 334' , sep=\" \")"
   ]
  },
  {
   "cell_type": "code",
   "execution_count": 40,
   "id": "cffb7ca5-5a16-45e5-a148-3d3ef30b0cfa",
   "metadata": {},
   "outputs": [
    {
     "data": {
      "text/plain": [
       "array([2., 4.])"
      ]
     },
     "execution_count": 40,
     "metadata": {},
     "output_type": "execute_result"
    }
   ],
   "source": [
    "np.fromstring('2,4' , sep=',')"
   ]
  },
  {
   "cell_type": "code",
   "execution_count": null,
   "id": "05d2006d-b622-43ae-ab92-28b0618664ba",
   "metadata": {},
   "outputs": [],
   "source": []
  },
  {
   "cell_type": "code",
   "execution_count": null,
   "id": "93bea90d-278d-46c5-b346-ba66ddb1af63",
   "metadata": {},
   "outputs": [],
   "source": []
  },
  {
   "cell_type": "code",
   "execution_count": 41,
   "id": "8fa24917-b964-4778-8c55-71aabd51ddee",
   "metadata": {},
   "outputs": [],
   "source": [
    "# Numpy - DataType"
   ]
  },
  {
   "cell_type": "code",
   "execution_count": 42,
   "id": "0df69e0c-e572-4191-b449-8d36877c2e31",
   "metadata": {},
   "outputs": [],
   "source": [
    "l=[2,3,4,5,44,22]"
   ]
  },
  {
   "cell_type": "code",
   "execution_count": 43,
   "id": "7d76dd41-2ee1-48ab-8d04-8aafc6cbfee6",
   "metadata": {},
   "outputs": [],
   "source": [
    "ar = np.array(l)"
   ]
  },
  {
   "cell_type": "code",
   "execution_count": 44,
   "id": "1fd8c2b8-f95c-4d1a-877f-54b9233a1cec",
   "metadata": {},
   "outputs": [
    {
     "data": {
      "text/plain": [
       "array([ 2,  3,  4,  5, 44, 22])"
      ]
     },
     "execution_count": 44,
     "metadata": {},
     "output_type": "execute_result"
    }
   ],
   "source": [
    "ar"
   ]
  },
  {
   "cell_type": "code",
   "execution_count": 45,
   "id": "fcbc0ee0-da66-4542-a3c5-ff4084005ebd",
   "metadata": {},
   "outputs": [
    {
     "data": {
      "text/plain": [
       "1"
      ]
     },
     "execution_count": 45,
     "metadata": {},
     "output_type": "execute_result"
    }
   ],
   "source": [
    "ar.ndim"
   ]
  },
  {
   "cell_type": "code",
   "execution_count": 46,
   "id": "b9f68f1a-44ed-4b0d-97d8-cadaa45f12ce",
   "metadata": {},
   "outputs": [],
   "source": [
    "ar2 = np.array([[1,2,3],[22,33,44]])"
   ]
  },
  {
   "cell_type": "code",
   "execution_count": 47,
   "id": "b5d761ea-c1a3-4761-98df-9b5c0a7dcf49",
   "metadata": {},
   "outputs": [
    {
     "data": {
      "text/plain": [
       "array([[ 1,  2,  3],\n",
       "       [22, 33, 44]])"
      ]
     },
     "execution_count": 47,
     "metadata": {},
     "output_type": "execute_result"
    }
   ],
   "source": [
    "ar2"
   ]
  },
  {
   "cell_type": "code",
   "execution_count": 48,
   "id": "4f0865b9-05a3-4469-8ffe-820069032217",
   "metadata": {},
   "outputs": [
    {
     "data": {
      "text/plain": [
       "2"
      ]
     },
     "execution_count": 48,
     "metadata": {},
     "output_type": "execute_result"
    }
   ],
   "source": [
    "ar2.ndim   #It give dimension of array"
   ]
  },
  {
   "cell_type": "code",
   "execution_count": 49,
   "id": "130a1515-e59e-4eba-af92-cf7ecc407903",
   "metadata": {},
   "outputs": [
    {
     "data": {
      "text/plain": [
       "6"
      ]
     },
     "execution_count": 49,
     "metadata": {},
     "output_type": "execute_result"
    }
   ],
   "source": [
    "ar2.size  #It calculate the number of elelment in array"
   ]
  },
  {
   "cell_type": "code",
   "execution_count": 50,
   "id": "3cffe168-8bac-470f-ae23-5219ab91e54d",
   "metadata": {},
   "outputs": [
    {
     "data": {
      "text/plain": [
       "(2, 3)"
      ]
     },
     "execution_count": 50,
     "metadata": {},
     "output_type": "execute_result"
    }
   ],
   "source": [
    "ar2.shape  #Show row and col"
   ]
  },
  {
   "cell_type": "code",
   "execution_count": 52,
   "id": "c5f63004-5c19-4998-8fcc-efd6f7385ecf",
   "metadata": {},
   "outputs": [
    {
     "data": {
      "text/plain": [
       "dtype('int64')"
      ]
     },
     "execution_count": 52,
     "metadata": {},
     "output_type": "execute_result"
    }
   ],
   "source": [
    "ar2.dtype"
   ]
  },
  {
   "cell_type": "code",
   "execution_count": null,
   "id": "d2672bd8-20e4-4266-94c5-2f14f7abac3c",
   "metadata": {},
   "outputs": [],
   "source": []
  },
  {
   "cell_type": "code",
   "execution_count": null,
   "id": "50a98724-d089-4c32-ba68-ff35c6de7dec",
   "metadata": {},
   "outputs": [],
   "source": []
  },
  {
   "cell_type": "code",
   "execution_count": 62,
   "id": "eedb4222-e727-490e-8c1f-97b780b5287a",
   "metadata": {},
   "outputs": [],
   "source": [
    "ar22 = np.array([(1.7,2.,3),(22,33,11)])"
   ]
  },
  {
   "cell_type": "code",
   "execution_count": 65,
   "id": "4a8fca5b-58e8-418c-bfae-81a45593409c",
   "metadata": {},
   "outputs": [
    {
     "data": {
      "text/plain": [
       "array([[ 1.7,  2. ,  3. ],\n",
       "       [22. , 33. , 11. ]])"
      ]
     },
     "execution_count": 65,
     "metadata": {},
     "output_type": "execute_result"
    }
   ],
   "source": [
    "ar22"
   ]
  },
  {
   "cell_type": "code",
   "execution_count": 66,
   "id": "86c4ec49-157e-4690-b8b4-c55f87b2df2e",
   "metadata": {},
   "outputs": [
    {
     "data": {
      "text/plain": [
       "dtype('float64')"
      ]
     },
     "execution_count": 66,
     "metadata": {},
     "output_type": "execute_result"
    }
   ],
   "source": [
    "ar22.dtype"
   ]
  },
  {
   "cell_type": "code",
   "execution_count": 67,
   "id": "b557ef11-2fc8-464e-84f3-ee0fd6bb3925",
   "metadata": {},
   "outputs": [
    {
     "data": {
      "text/plain": [
       "[0, 1, 2, 3, 4]"
      ]
     },
     "execution_count": 67,
     "metadata": {},
     "output_type": "execute_result"
    }
   ],
   "source": [
    "list(range(5))     #range always is in Integer"
   ]
  },
  {
   "cell_type": "code",
   "execution_count": 68,
   "id": "90a76cbf-0b40-465b-8be1-f24c79dc7ee3",
   "metadata": {},
   "outputs": [
    {
     "data": {
      "text/plain": [
       "array([2.3, 3.3, 4.3, 5.3])"
      ]
     },
     "execution_count": 68,
     "metadata": {},
     "output_type": "execute_result"
    }
   ],
   "source": [
    "np.arange(2.3,5.6) #arange value is in float"
   ]
  },
  {
   "cell_type": "code",
   "execution_count": 69,
   "id": "ad4c8c77-4b69-4272-ab13-1f80224cf699",
   "metadata": {},
   "outputs": [
    {
     "data": {
      "text/plain": [
       "array([2.3, 2.6, 2.9, 3.2, 3.5, 3.8, 4.1, 4.4, 4.7, 5. , 5.3])"
      ]
     },
     "execution_count": 69,
     "metadata": {},
     "output_type": "execute_result"
    }
   ],
   "source": [
    "np.arange(2.3,5.6,0.3)  #0.3 is jump value"
   ]
  },
  {
   "cell_type": "code",
   "execution_count": 70,
   "id": "7a45f18b-533e-4bb0-bc7f-c5471122ae2a",
   "metadata": {},
   "outputs": [
    {
     "data": {
      "text/plain": [
       "[2.3,\n",
       " 2.5999999999999996,\n",
       " 2.8999999999999995,\n",
       " 3.1999999999999993,\n",
       " 3.499999999999999,\n",
       " 3.799999999999999,\n",
       " 4.099999999999999,\n",
       " 4.399999999999999,\n",
       " 4.699999999999998,\n",
       " 4.999999999999998,\n",
       " 5.299999999999998]"
      ]
     },
     "execution_count": 70,
     "metadata": {},
     "output_type": "execute_result"
    }
   ],
   "source": [
    "list(np.arange(2.3,5.6,0.3) )"
   ]
  },
  {
   "cell_type": "code",
   "execution_count": 71,
   "id": "9b5ee368-db8a-4691-affd-c04c7c5e7a3f",
   "metadata": {},
   "outputs": [
    {
     "data": {
      "text/plain": [
       "array([1.        , 1.44444444, 1.88888889, 2.33333333, 2.77777778,\n",
       "       3.22222222, 3.66666667, 4.11111111, 4.55555556, 5.        ])"
      ]
     },
     "execution_count": 71,
     "metadata": {},
     "output_type": "execute_result"
    }
   ],
   "source": [
    "np.linspace(1,5,10)  #The numpy.linspace() function returns number spaces evenly w.r.t interval."
   ]
  },
  {
   "cell_type": "code",
   "execution_count": null,
   "id": "19e3ebc7-8cf5-4a2d-8491-141ee8063677",
   "metadata": {},
   "outputs": [],
   "source": []
  },
  {
   "cell_type": "code",
   "execution_count": null,
   "id": "3cd22eca-b6cf-4b0f-a70d-7b8343c41df4",
   "metadata": {},
   "outputs": [],
   "source": []
  },
  {
   "cell_type": "code",
   "execution_count": 72,
   "id": "cb111f73-b76f-4742-b6b1-ccb30a60e525",
   "metadata": {},
   "outputs": [
    {
     "data": {
      "text/plain": [
       "array([0., 0., 0., 0., 0.])"
      ]
     },
     "execution_count": 72,
     "metadata": {},
     "output_type": "execute_result"
    }
   ],
   "source": [
    "np.zeros(5)"
   ]
  },
  {
   "cell_type": "code",
   "execution_count": 74,
   "id": "dfd2e2ac-136d-4bc2-89ce-2a99959f1233",
   "metadata": {},
   "outputs": [
    {
     "data": {
      "text/plain": [
       "array([[0., 0., 0., 0.],\n",
       "       [0., 0., 0., 0.],\n",
       "       [0., 0., 0., 0.]])"
      ]
     },
     "execution_count": 74,
     "metadata": {},
     "output_type": "execute_result"
    }
   ],
   "source": [
    "np.zeros((3,4)) #2D"
   ]
  },
  {
   "cell_type": "code",
   "execution_count": 75,
   "id": "c1547373-cb53-41f4-9fb5-e96f867e7f93",
   "metadata": {},
   "outputs": [
    {
     "data": {
      "text/plain": [
       "array([[[0., 0.],\n",
       "        [0., 0.],\n",
       "        [0., 0.],\n",
       "        [0., 0.]],\n",
       "\n",
       "       [[0., 0.],\n",
       "        [0., 0.],\n",
       "        [0., 0.],\n",
       "        [0., 0.]],\n",
       "\n",
       "       [[0., 0.],\n",
       "        [0., 0.],\n",
       "        [0., 0.],\n",
       "        [0., 0.]]])"
      ]
     },
     "execution_count": 75,
     "metadata": {},
     "output_type": "execute_result"
    }
   ],
   "source": [
    "np.zeros((3,4,2))  #3D"
   ]
  },
  {
   "cell_type": "code",
   "execution_count": 2,
   "id": "cfafe698-570e-4ced-acb7-a33f69f67033",
   "metadata": {},
   "outputs": [],
   "source": [
    "import numpy as np"
   ]
  },
  {
   "cell_type": "code",
   "execution_count": 3,
   "id": "83708cac-a318-48b4-b9ba-aecbc6bb21e6",
   "metadata": {},
   "outputs": [
    {
     "data": {
      "text/plain": [
       "array([1., 1., 1., 1.])"
      ]
     },
     "execution_count": 3,
     "metadata": {},
     "output_type": "execute_result"
    }
   ],
   "source": [
    "np.ones(4)"
   ]
  },
  {
   "cell_type": "code",
   "execution_count": 4,
   "id": "9de45acb-2b2d-4609-a6da-336ac0a69b92",
   "metadata": {},
   "outputs": [
    {
     "data": {
      "text/plain": [
       "array([[1., 1., 1.],\n",
       "       [1., 1., 1.]])"
      ]
     },
     "execution_count": 4,
     "metadata": {},
     "output_type": "execute_result"
    }
   ],
   "source": [
    "np.ones((2,3))"
   ]
  },
  {
   "cell_type": "code",
   "execution_count": 5,
   "id": "926b704e-b440-4bd5-b782-6e8dacc7fe73",
   "metadata": {},
   "outputs": [],
   "source": [
    "on = np.ones((2,3,2))"
   ]
  },
  {
   "cell_type": "code",
   "execution_count": 6,
   "id": "9b9d325f-0cca-4d70-8c1e-92194d201728",
   "metadata": {},
   "outputs": [
    {
     "data": {
      "text/plain": [
       "array([[[1., 1.],\n",
       "        [1., 1.],\n",
       "        [1., 1.]],\n",
       "\n",
       "       [[1., 1.],\n",
       "        [1., 1.],\n",
       "        [1., 1.]]])"
      ]
     },
     "execution_count": 6,
     "metadata": {},
     "output_type": "execute_result"
    }
   ],
   "source": [
    "on\n"
   ]
  },
  {
   "cell_type": "code",
   "execution_count": 7,
   "id": "d2c78037-c611-4716-8bfc-74b7c5e5633c",
   "metadata": {},
   "outputs": [
    {
     "data": {
      "text/plain": [
       "array([[[6., 6.],\n",
       "        [6., 6.],\n",
       "        [6., 6.]],\n",
       "\n",
       "       [[6., 6.],\n",
       "        [6., 6.],\n",
       "        [6., 6.]]])"
      ]
     },
     "execution_count": 7,
     "metadata": {},
     "output_type": "execute_result"
    }
   ],
   "source": [
    "on + 5"
   ]
  },
  {
   "cell_type": "code",
   "execution_count": null,
   "id": "5ee54e4a-823f-495c-a51f-73e65ff6b3a7",
   "metadata": {},
   "outputs": [],
   "source": []
  },
  {
   "cell_type": "code",
   "execution_count": null,
   "id": "f4163d6d-4d33-4a49-a923-102971b050f6",
   "metadata": {},
   "outputs": [],
   "source": []
  },
  {
   "cell_type": "code",
   "execution_count": 8,
   "id": "f69cd870-5799-4e39-9e88-abec81f5bc68",
   "metadata": {},
   "outputs": [
    {
     "data": {
      "text/plain": [
       "array([[4.65852803e-310, 0.00000000e+000, 6.93005950e-310,\n",
       "        6.93005859e-310, 6.93005858e-310, 6.93005859e-310],\n",
       "       [6.93005859e-310, 6.93005970e-310, 6.93005950e-310,\n",
       "        6.93005951e-310, 6.93005951e-310, 6.93005951e-310],\n",
       "       [6.93005950e-310, 6.93005951e-310, 6.93005950e-310,\n",
       "        6.93005950e-310, 6.93005950e-310, 6.93005879e-310]])"
      ]
     },
     "execution_count": 8,
     "metadata": {},
     "output_type": "execute_result"
    }
   ],
   "source": [
    "np.empty((3,6))"
   ]
  },
  {
   "cell_type": "code",
   "execution_count": null,
   "id": "de55ced1-44bc-4481-ad0e-ff1faa53a2e3",
   "metadata": {},
   "outputs": [],
   "source": []
  },
  {
   "cell_type": "code",
   "execution_count": null,
   "id": "48ff42e4-baff-48cf-85c2-0b5ae457aed7",
   "metadata": {},
   "outputs": [],
   "source": []
  },
  {
   "cell_type": "code",
   "execution_count": 9,
   "id": "e5e03887-d175-486b-b1ad-327711794855",
   "metadata": {},
   "outputs": [
    {
     "data": {
      "text/plain": [
       "array([[1., 0., 0., 0.],\n",
       "       [0., 1., 0., 0.],\n",
       "       [0., 0., 1., 0.],\n",
       "       [0., 0., 0., 1.]])"
      ]
     },
     "execution_count": 9,
     "metadata": {},
     "output_type": "execute_result"
    }
   ],
   "source": [
    "np.eye(4)  # eye is use for create identity matrix"
   ]
  },
  {
   "cell_type": "code",
   "execution_count": 10,
   "id": "0cb4af1c-5966-419f-a480-9fea73cb96ed",
   "metadata": {},
   "outputs": [
    {
     "data": {
      "text/plain": [
       "array([2.        , 2.10526316, 2.21052632, 2.31578947, 2.42105263,\n",
       "       2.52631579, 2.63157895, 2.73684211, 2.84210526, 2.94736842,\n",
       "       3.05263158, 3.15789474, 3.26315789, 3.36842105, 3.47368421,\n",
       "       3.57894737, 3.68421053, 3.78947368, 3.89473684, 4.        ])"
      ]
     },
     "execution_count": 10,
     "metadata": {},
     "output_type": "execute_result"
    }
   ],
   "source": [
    "np.linspace(2,4,20)"
   ]
  },
  {
   "cell_type": "code",
   "execution_count": 11,
   "id": "b6e241d9-1c45-4f21-a342-ef3d3e4dc062",
   "metadata": {},
   "outputs": [
    {
     "data": {
      "text/plain": [
       "array([ 4.        ,  4.66611616,  5.44316   ,  6.34960421,  7.4069977 ,\n",
       "        8.64047791, 10.0793684 , 11.75787594, 13.71590373, 16.        ])"
      ]
     },
     "execution_count": 11,
     "metadata": {},
     "output_type": "execute_result"
    }
   ],
   "source": [
    "np.logspace(2,4,10, base=2)"
   ]
  },
  {
   "cell_type": "code",
   "execution_count": 12,
   "id": "607f5bc2-16ad-4682-9059-7f66bbc1c55a",
   "metadata": {},
   "outputs": [],
   "source": [
    "arr = np.random.randn(3,4)  #The random. randn() is a numpy library function that returns an array of random samples from the standard normal distribution."
   ]
  },
  {
   "cell_type": "code",
   "execution_count": 13,
   "id": "dcee2b24-cd2f-4d28-932a-17fe5a6f7c2a",
   "metadata": {},
   "outputs": [
    {
     "data": {
      "text/plain": [
       "array([[ 0.83845296,  0.24662526, -0.49215337, -2.03731378],\n",
       "       [ 1.1068411 ,  1.82793748,  1.16224824,  1.17900945],\n",
       "       [-0.78271674,  1.92820774,  0.68197873,  1.63388617]])"
      ]
     },
     "execution_count": 13,
     "metadata": {},
     "output_type": "execute_result"
    }
   ],
   "source": [
    "arr"
   ]
  },
  {
   "cell_type": "code",
   "execution_count": 14,
   "id": "8f45a46a-2d78-44d5-b3d2-3c4469cfe35a",
   "metadata": {},
   "outputs": [],
   "source": [
    "import pandas as pd"
   ]
  },
  {
   "cell_type": "code",
   "execution_count": 15,
   "id": "36e84d94-4de4-41d8-bba8-bf26e5723ee0",
   "metadata": {},
   "outputs": [
    {
     "data": {
      "text/html": [
       "<div>\n",
       "<style scoped>\n",
       "    .dataframe tbody tr th:only-of-type {\n",
       "        vertical-align: middle;\n",
       "    }\n",
       "\n",
       "    .dataframe tbody tr th {\n",
       "        vertical-align: top;\n",
       "    }\n",
       "\n",
       "    .dataframe thead th {\n",
       "        text-align: right;\n",
       "    }\n",
       "</style>\n",
       "<table border=\"1\" class=\"dataframe\">\n",
       "  <thead>\n",
       "    <tr style=\"text-align: right;\">\n",
       "      <th></th>\n",
       "      <th>0</th>\n",
       "      <th>1</th>\n",
       "      <th>2</th>\n",
       "      <th>3</th>\n",
       "    </tr>\n",
       "  </thead>\n",
       "  <tbody>\n",
       "    <tr>\n",
       "      <th>0</th>\n",
       "      <td>0.838453</td>\n",
       "      <td>0.246625</td>\n",
       "      <td>-0.492153</td>\n",
       "      <td>-2.037314</td>\n",
       "    </tr>\n",
       "    <tr>\n",
       "      <th>1</th>\n",
       "      <td>1.106841</td>\n",
       "      <td>1.827937</td>\n",
       "      <td>1.162248</td>\n",
       "      <td>1.179009</td>\n",
       "    </tr>\n",
       "    <tr>\n",
       "      <th>2</th>\n",
       "      <td>-0.782717</td>\n",
       "      <td>1.928208</td>\n",
       "      <td>0.681979</td>\n",
       "      <td>1.633886</td>\n",
       "    </tr>\n",
       "  </tbody>\n",
       "</table>\n",
       "</div>"
      ],
      "text/plain": [
       "          0         1         2         3\n",
       "0  0.838453  0.246625 -0.492153 -2.037314\n",
       "1  1.106841  1.827937  1.162248  1.179009\n",
       "2 -0.782717  1.928208  0.681979  1.633886"
      ]
     },
     "execution_count": 15,
     "metadata": {},
     "output_type": "execute_result"
    }
   ],
   "source": [
    "pd.DataFrame(arr)"
   ]
  },
  {
   "cell_type": "code",
   "execution_count": 16,
   "id": "fdd803f4-bfeb-4516-9b62-50d233106b04",
   "metadata": {},
   "outputs": [
    {
     "data": {
      "text/plain": [
       "array([[0.32795447, 0.15188295, 0.66455785, 0.69650094],\n",
       "       [0.06871662, 0.04174072, 0.37147923, 0.49716452],\n",
       "       [0.66458536, 0.88382351, 0.82955781, 0.79168658]])"
      ]
     },
     "execution_count": 16,
     "metadata": {},
     "output_type": "execute_result"
    }
   ],
   "source": [
    "np.random.rand(3,4)  # numpy. random. rand from a uniform distribution (in the range [0,1))."
   ]
  },
  {
   "cell_type": "code",
   "execution_count": 18,
   "id": "90b27cd9-a9ed-4281-a5db-6689e4a78b8b",
   "metadata": {},
   "outputs": [
    {
     "data": {
      "text/plain": [
       "array([[94, 49, 68, 87],\n",
       "       [48, 33, 89, 13],\n",
       "       [46, 72, 72, 67]])"
      ]
     },
     "execution_count": 18,
     "metadata": {},
     "output_type": "execute_result"
    }
   ],
   "source": [
    "np.random.randint(1,110,(3,4))  #It retuen only integer value "
   ]
  },
  {
   "cell_type": "code",
   "execution_count": 19,
   "id": "ef0b8079-3f47-4b34-84e4-bbee35336926",
   "metadata": {},
   "outputs": [
    {
     "data": {
      "text/html": [
       "<div>\n",
       "<style scoped>\n",
       "    .dataframe tbody tr th:only-of-type {\n",
       "        vertical-align: middle;\n",
       "    }\n",
       "\n",
       "    .dataframe tbody tr th {\n",
       "        vertical-align: top;\n",
       "    }\n",
       "\n",
       "    .dataframe thead th {\n",
       "        text-align: right;\n",
       "    }\n",
       "</style>\n",
       "<table border=\"1\" class=\"dataframe\">\n",
       "  <thead>\n",
       "    <tr style=\"text-align: right;\">\n",
       "      <th></th>\n",
       "      <th>0</th>\n",
       "      <th>1</th>\n",
       "      <th>2</th>\n",
       "      <th>3</th>\n",
       "    </tr>\n",
       "  </thead>\n",
       "  <tbody>\n",
       "    <tr>\n",
       "      <th>0</th>\n",
       "      <td>69</td>\n",
       "      <td>84</td>\n",
       "      <td>21</td>\n",
       "      <td>48</td>\n",
       "    </tr>\n",
       "    <tr>\n",
       "      <th>1</th>\n",
       "      <td>25</td>\n",
       "      <td>95</td>\n",
       "      <td>25</td>\n",
       "      <td>10</td>\n",
       "    </tr>\n",
       "    <tr>\n",
       "      <th>2</th>\n",
       "      <td>71</td>\n",
       "      <td>69</td>\n",
       "      <td>13</td>\n",
       "      <td>26</td>\n",
       "    </tr>\n",
       "  </tbody>\n",
       "</table>\n",
       "</div>"
      ],
      "text/plain": [
       "    0   1   2   3\n",
       "0  69  84  21  48\n",
       "1  25  95  25  10\n",
       "2  71  69  13  26"
      ]
     },
     "execution_count": 19,
     "metadata": {},
     "output_type": "execute_result"
    }
   ],
   "source": [
    "pd.DataFrame(np.random.randint(1,100,(3,4)))"
   ]
  },
  {
   "cell_type": "code",
   "execution_count": 20,
   "id": "baa2d439-4574-45b4-a534-872d058618cc",
   "metadata": {},
   "outputs": [],
   "source": [
    "pd.DataFrame(np.random.randint(1,100,(3,4))).to_csv('test.csv')"
   ]
  },
  {
   "cell_type": "code",
   "execution_count": 21,
   "id": "47fd531b-7f7a-4908-9666-3b15e0023589",
   "metadata": {},
   "outputs": [],
   "source": [
    "#change into other shape\n",
    "arr = np.random.rand(3,4)"
   ]
  },
  {
   "cell_type": "code",
   "execution_count": 22,
   "id": "36d4d800-02a9-403f-a438-7add9e99f7c0",
   "metadata": {},
   "outputs": [
    {
     "data": {
      "text/plain": [
       "array([[0.6302234 , 0.88943564, 0.96193606, 0.09551514],\n",
       "       [0.37884024, 0.17219042, 0.0438734 , 0.8733645 ],\n",
       "       [0.06767807, 0.35815703, 0.77527816, 0.42256216]])"
      ]
     },
     "execution_count": 22,
     "metadata": {},
     "output_type": "execute_result"
    }
   ],
   "source": [
    "arr"
   ]
  },
  {
   "cell_type": "code",
   "execution_count": 23,
   "id": "ecbbf900-034c-4f60-8c69-c0b61f87acd7",
   "metadata": {},
   "outputs": [
    {
     "data": {
      "text/plain": [
       "array([[0.6302234 , 0.88943564],\n",
       "       [0.96193606, 0.09551514],\n",
       "       [0.37884024, 0.17219042],\n",
       "       [0.0438734 , 0.8733645 ],\n",
       "       [0.06767807, 0.35815703],\n",
       "       [0.77527816, 0.42256216]])"
      ]
     },
     "execution_count": 23,
     "metadata": {},
     "output_type": "execute_result"
    }
   ],
   "source": [
    "arr.reshape(6,2)"
   ]
  },
  {
   "cell_type": "code",
   "execution_count": 24,
   "id": "b07522a9-6e16-4ef5-9985-97fa11bb2e7f",
   "metadata": {},
   "outputs": [
    {
     "data": {
      "text/plain": [
       "array([[0.6302234 , 0.88943564],\n",
       "       [0.96193606, 0.09551514],\n",
       "       [0.37884024, 0.17219042],\n",
       "       [0.0438734 , 0.8733645 ],\n",
       "       [0.06767807, 0.35815703],\n",
       "       [0.77527816, 0.42256216]])"
      ]
     },
     "execution_count": 24,
     "metadata": {},
     "output_type": "execute_result"
    }
   ],
   "source": [
    "arr.reshape(6,-1)   #Negative value auto complte the second value"
   ]
  },
  {
   "cell_type": "code",
   "execution_count": null,
   "id": "1764c200-df09-4101-81c4-67a2fd7a0af3",
   "metadata": {},
   "outputs": [],
   "source": []
  },
  {
   "cell_type": "code",
   "execution_count": null,
   "id": "ce9f468b-f514-47d2-9d2c-0898c1f778bc",
   "metadata": {},
   "outputs": [],
   "source": []
  },
  {
   "cell_type": "code",
   "execution_count": 25,
   "id": "f89fd90a-a6c0-406e-a670-8d05571fa2bf",
   "metadata": {},
   "outputs": [],
   "source": [
    "arr1 = arr.reshape(6,-134456)"
   ]
  },
  {
   "cell_type": "code",
   "execution_count": 26,
   "id": "e46e1d5e-5d22-4d5f-9565-74b88ec1b565",
   "metadata": {},
   "outputs": [
    {
     "data": {
      "text/plain": [
       "array([[0.6302234 , 0.88943564],\n",
       "       [0.96193606, 0.09551514],\n",
       "       [0.37884024, 0.17219042],\n",
       "       [0.0438734 , 0.8733645 ],\n",
       "       [0.06767807, 0.35815703],\n",
       "       [0.77527816, 0.42256216]])"
      ]
     },
     "execution_count": 26,
     "metadata": {},
     "output_type": "execute_result"
    }
   ],
   "source": [
    "arr1"
   ]
  },
  {
   "cell_type": "code",
   "execution_count": 27,
   "id": "c6042ebe-2106-470c-b2f5-74ae929e66c6",
   "metadata": {},
   "outputs": [
    {
     "data": {
      "text/plain": [
       "0.09551513585757199"
      ]
     },
     "execution_count": 27,
     "metadata": {},
     "output_type": "execute_result"
    }
   ],
   "source": [
    "arr1[1][1]"
   ]
  },
  {
   "cell_type": "code",
   "execution_count": 28,
   "id": "c9c97892-9bdb-425b-a4d8-08051ec80694",
   "metadata": {},
   "outputs": [
    {
     "data": {
      "text/plain": [
       "array([0.17219042, 0.8733645 , 0.35815703])"
      ]
     },
     "execution_count": 28,
     "metadata": {},
     "output_type": "execute_result"
    }
   ],
   "source": [
    "arr1[2:5,1]"
   ]
  },
  {
   "cell_type": "code",
   "execution_count": 31,
   "id": "043a6ce1-7570-4eb6-8fb1-bf37a3fdfaaf",
   "metadata": {},
   "outputs": [],
   "source": [
    "arr = np.random.randint(1,100,(5,5))   #Number range is 1 to 100 and it is in 5x5 matrix\n"
   ]
  },
  {
   "cell_type": "code",
   "execution_count": 30,
   "id": "99486640-9c30-4219-baaa-b64f3b5055bb",
   "metadata": {},
   "outputs": [
    {
     "data": {
      "text/plain": [
       "array([[50, 80, 68, 61, 59],\n",
       "       [70,  6, 47, 47, 82],\n",
       "       [96, 91, 73, 23, 63],\n",
       "       [34, 21, 91, 98, 41],\n",
       "       [76, 17, 81, 84,  8]])"
      ]
     },
     "execution_count": 30,
     "metadata": {},
     "output_type": "execute_result"
    }
   ],
   "source": [
    "arr"
   ]
  },
  {
   "cell_type": "code",
   "execution_count": 33,
   "id": "7200afc3-cda6-4d62-8ff1-98cf37c13f45",
   "metadata": {},
   "outputs": [
    {
     "data": {
      "text/plain": [
       "array([87, 99, 86, 57, 68, 90, 67, 79, 65, 87, 65])"
      ]
     },
     "execution_count": 33,
     "metadata": {},
     "output_type": "execute_result"
    }
   ],
   "source": [
    "arr[arr>50]"
   ]
  },
  {
   "cell_type": "code",
   "execution_count": 34,
   "id": "8c09faa2-3280-49ec-bf18-e0a1f3121afc",
   "metadata": {},
   "outputs": [
    {
     "data": {
      "text/plain": [
       "array([[87, 99, 86, 57,  4],\n",
       "       [ 6, 29, 68, 90, 67],\n",
       "       [79,  6, 50, 19, 65],\n",
       "       [48, 87, 48, 50, 18],\n",
       "       [ 7,  3, 65,  9, 46]])"
      ]
     },
     "execution_count": 34,
     "metadata": {},
     "output_type": "execute_result"
    }
   ],
   "source": [
    "arr"
   ]
  },
  {
   "cell_type": "code",
   "execution_count": 35,
   "id": "dfb99e06-6239-4937-b0b2-29badce6af4b",
   "metadata": {},
   "outputs": [
    {
     "data": {
      "text/plain": [
       "array([[ 6, 50],\n",
       "       [87, 48]])"
      ]
     },
     "execution_count": 35,
     "metadata": {},
     "output_type": "execute_result"
    }
   ],
   "source": [
    "arr[2:4 ,[1,2]]    #slicing and indexing"
   ]
  },
  {
   "cell_type": "code",
   "execution_count": 36,
   "id": "5f2da1f2-e127-44dd-a5f0-c7c71829a38d",
   "metadata": {},
   "outputs": [
    {
     "data": {
      "text/plain": [
       "87"
      ]
     },
     "execution_count": 36,
     "metadata": {},
     "output_type": "execute_result"
    }
   ],
   "source": [
    "arr[0][0]"
   ]
  },
  {
   "cell_type": "code",
   "execution_count": 37,
   "id": "5c62bad8-6b05-4136-9f43-19ab98db28ea",
   "metadata": {},
   "outputs": [],
   "source": [
    "arr[0][0]=5000"
   ]
  },
  {
   "cell_type": "code",
   "execution_count": 38,
   "id": "031c3039-7066-4b36-a93b-b11637c1ce62",
   "metadata": {},
   "outputs": [
    {
     "data": {
      "text/plain": [
       "array([[5000,   99,   86,   57,    4],\n",
       "       [   6,   29,   68,   90,   67],\n",
       "       [  79,    6,   50,   19,   65],\n",
       "       [  48,   87,   48,   50,   18],\n",
       "       [   7,    3,   65,    9,   46]])"
      ]
     },
     "execution_count": 38,
     "metadata": {},
     "output_type": "execute_result"
    }
   ],
   "source": [
    "arr"
   ]
  },
  {
   "cell_type": "code",
   "execution_count": null,
   "id": "b00c6bf8-948d-40c4-a1d9-25baf230fa33",
   "metadata": {},
   "outputs": [],
   "source": []
  },
  {
   "cell_type": "code",
   "execution_count": null,
   "id": "466f75f2-c8a0-493f-a6d5-39950a7a5eb5",
   "metadata": {},
   "outputs": [],
   "source": []
  },
  {
   "cell_type": "code",
   "execution_count": 39,
   "id": "276ea383-9217-4ced-9509-8cb803548c7d",
   "metadata": {},
   "outputs": [],
   "source": [
    "arr1=np.random.randint(1,3,(3,3))\n",
    "\n",
    "arr2 = np.random.randint(1,3,(3,3))"
   ]
  },
  {
   "cell_type": "code",
   "execution_count": 40,
   "id": "52ce0e9d-df5f-4d87-8993-5aee3327e35c",
   "metadata": {},
   "outputs": [
    {
     "data": {
      "text/plain": [
       "array([[1, 1, 2],\n",
       "       [1, 2, 1],\n",
       "       [2, 2, 2]])"
      ]
     },
     "execution_count": 40,
     "metadata": {},
     "output_type": "execute_result"
    }
   ],
   "source": [
    "arr1"
   ]
  },
  {
   "cell_type": "code",
   "execution_count": 41,
   "id": "4f3cb3cc-c4d2-4826-8789-cec37f67443d",
   "metadata": {},
   "outputs": [
    {
     "data": {
      "text/plain": [
       "array([[2, 2, 1],\n",
       "       [2, 1, 1],\n",
       "       [1, 2, 1]])"
      ]
     },
     "execution_count": 41,
     "metadata": {},
     "output_type": "execute_result"
    }
   ],
   "source": [
    "arr2"
   ]
  },
  {
   "cell_type": "code",
   "execution_count": 42,
   "id": "d042299b-5c35-443b-9b95-2ba557936b65",
   "metadata": {},
   "outputs": [
    {
     "data": {
      "text/plain": [
       "array([[3, 3, 3],\n",
       "       [3, 3, 2],\n",
       "       [3, 4, 3]])"
      ]
     },
     "execution_count": 42,
     "metadata": {},
     "output_type": "execute_result"
    }
   ],
   "source": [
    "arr1+arr2   # Add index by index element"
   ]
  },
  {
   "cell_type": "code",
   "execution_count": 43,
   "id": "f24d6476-7014-4627-b5b1-38dc1def94da",
   "metadata": {},
   "outputs": [
    {
     "data": {
      "text/plain": [
       "array([[-1, -1,  1],\n",
       "       [-1,  1,  0],\n",
       "       [ 1,  0,  1]])"
      ]
     },
     "execution_count": 43,
     "metadata": {},
     "output_type": "execute_result"
    }
   ],
   "source": [
    "arr1-arr2"
   ]
  },
  {
   "cell_type": "code",
   "execution_count": 44,
   "id": "396580df-f548-4057-a8b3-21fe9c5b0fb7",
   "metadata": {},
   "outputs": [
    {
     "data": {
      "text/plain": [
       "array([[0.5, 0.5, 2. ],\n",
       "       [0.5, 2. , 1. ],\n",
       "       [2. , 1. , 2. ]])"
      ]
     },
     "execution_count": 44,
     "metadata": {},
     "output_type": "execute_result"
    }
   ],
   "source": [
    "arr1/arr2"
   ]
  },
  {
   "cell_type": "code",
   "execution_count": 45,
   "id": "c02c7a32-4c5b-4666-acd6-58c54680a6a6",
   "metadata": {},
   "outputs": [
    {
     "data": {
      "text/plain": [
       "array([[2, 2, 2],\n",
       "       [2, 2, 1],\n",
       "       [2, 4, 2]])"
      ]
     },
     "execution_count": 45,
     "metadata": {},
     "output_type": "execute_result"
    }
   ],
   "source": [
    "arr1*arr2  # it gives index by multiplication"
   ]
  },
  {
   "cell_type": "code",
   "execution_count": 46,
   "id": "a5c16b49-9abe-40e0-8a70-a829f702c595",
   "metadata": {},
   "outputs": [
    {
     "data": {
      "text/plain": [
       "array([[ 6,  7,  4],\n",
       "       [ 7,  6,  4],\n",
       "       [10, 10,  6]])"
      ]
     },
     "execution_count": 46,
     "metadata": {},
     "output_type": "execute_result"
    }
   ],
   "source": [
    "arr1@arr2    #  @  It gives a matrix multiplication"
   ]
  },
  {
   "cell_type": "code",
   "execution_count": 47,
   "id": "d9aa7439-e9ce-4801-9934-08912e33bb9f",
   "metadata": {},
   "outputs": [
    {
     "name": "stderr",
     "output_type": "stream",
     "text": [
      "/tmp/ipykernel_1127/1510032488.py:1: RuntimeWarning: divide by zero encountered in divide\n",
      "  arr1/0\n"
     ]
    },
    {
     "data": {
      "text/plain": [
       "array([[inf, inf, inf],\n",
       "       [inf, inf, inf],\n",
       "       [inf, inf, inf]])"
      ]
     },
     "execution_count": 47,
     "metadata": {},
     "output_type": "execute_result"
    }
   ],
   "source": [
    "arr1/0   #it gives infinite not an error"
   ]
  },
  {
   "cell_type": "code",
   "execution_count": 48,
   "id": "6de8da35-49f3-475f-ab39-fe83c1d0d7a6",
   "metadata": {},
   "outputs": [
    {
     "data": {
      "text/plain": [
       "array([[101, 101, 102],\n",
       "       [101, 102, 101],\n",
       "       [102, 102, 102]])"
      ]
     },
     "execution_count": 48,
     "metadata": {},
     "output_type": "execute_result"
    }
   ],
   "source": [
    " arr1 +100"
   ]
  },
  {
   "cell_type": "code",
   "execution_count": 49,
   "id": "1cc0ef60-1a8f-4410-9905-22920753fc9e",
   "metadata": {},
   "outputs": [
    {
     "data": {
      "text/plain": [
       "array([[1, 1, 4],\n",
       "       [1, 4, 1],\n",
       "       [4, 4, 4]])"
      ]
     },
     "execution_count": 49,
     "metadata": {},
     "output_type": "execute_result"
    }
   ],
   "source": [
    "arr1**2"
   ]
  },
  {
   "cell_type": "code",
   "execution_count": null,
   "id": "57abf9e2-a50e-449f-ae2d-2462fb7ac974",
   "metadata": {},
   "outputs": [],
   "source": []
  },
  {
   "cell_type": "code",
   "execution_count": null,
   "id": "567fc741-63d2-4cd6-86ad-ad600c759fb8",
   "metadata": {},
   "outputs": [],
   "source": []
  },
  {
   "cell_type": "code",
   "execution_count": null,
   "id": "fe5aebaf-f685-429e-9680-4aa14a7de1da",
   "metadata": {},
   "outputs": [],
   "source": [
    "#Numpy - Broadcasting"
   ]
  },
  {
   "cell_type": "code",
   "execution_count": 50,
   "id": "03101bf4-a73a-498c-9b50-cfe73f962c25",
   "metadata": {},
   "outputs": [],
   "source": [
    "arr = np.zeros((4,4))"
   ]
  },
  {
   "cell_type": "code",
   "execution_count": 51,
   "id": "de113fe8-4f47-4f28-a8e0-f0a00db8f0ce",
   "metadata": {},
   "outputs": [
    {
     "data": {
      "text/plain": [
       "array([[0., 0., 0., 0.],\n",
       "       [0., 0., 0., 0.],\n",
       "       [0., 0., 0., 0.],\n",
       "       [0., 0., 0., 0.]])"
      ]
     },
     "execution_count": 51,
     "metadata": {},
     "output_type": "execute_result"
    }
   ],
   "source": [
    "arr"
   ]
  },
  {
   "cell_type": "code",
   "execution_count": 52,
   "id": "445f6441-7070-4a88-a8e4-93207462f9fd",
   "metadata": {},
   "outputs": [],
   "source": [
    "row = np.array([1,2,3,4])"
   ]
  },
  {
   "cell_type": "code",
   "execution_count": 53,
   "id": "1bef2ad2-5670-462c-b7fe-fc88f8140fea",
   "metadata": {},
   "outputs": [
    {
     "data": {
      "text/plain": [
       "array([1, 2, 3, 4])"
      ]
     },
     "execution_count": 53,
     "metadata": {},
     "output_type": "execute_result"
    }
   ],
   "source": [
    "row"
   ]
  },
  {
   "cell_type": "code",
   "execution_count": 54,
   "id": "af7a9fb8-e499-4abf-ae8d-bc655da66b5f",
   "metadata": {},
   "outputs": [
    {
     "data": {
      "text/plain": [
       "array([[1., 2., 3., 4.],\n",
       "       [1., 2., 3., 4.],\n",
       "       [1., 2., 3., 4.],\n",
       "       [1., 2., 3., 4.]])"
      ]
     },
     "execution_count": 54,
     "metadata": {},
     "output_type": "execute_result"
    }
   ],
   "source": [
    "arr+row         #In which add element in each row by row"
   ]
  },
  {
   "cell_type": "code",
   "execution_count": 55,
   "id": "070aaa35-e272-435a-91d5-4cffc89b9446",
   "metadata": {},
   "outputs": [],
   "source": [
    "#For add each element in col by col"
   ]
  },
  {
   "cell_type": "code",
   "execution_count": 59,
   "id": "658747d9-36c8-41e4-9484-cb39b1794cdd",
   "metadata": {},
   "outputs": [
    {
     "data": {
      "text/plain": [
       "array([1, 2, 3, 4])"
      ]
     },
     "execution_count": 59,
     "metadata": {},
     "output_type": "execute_result"
    }
   ],
   "source": [
    "row.T                #Transpose  . It is 1 D  so it is not transposes"
   ]
  },
  {
   "cell_type": "code",
   "execution_count": 61,
   "id": "bf1e2168-011c-4ca3-b763-98325084c29a",
   "metadata": {},
   "outputs": [],
   "source": [
    "col = np.array([[1,2,3,4]])"
   ]
  },
  {
   "cell_type": "code",
   "execution_count": 62,
   "id": "b304384c-7836-48f6-b4ef-0baf6bf81a82",
   "metadata": {},
   "outputs": [
    {
     "data": {
      "text/plain": [
       "array([[1, 2, 3, 4]])"
      ]
     },
     "execution_count": 62,
     "metadata": {},
     "output_type": "execute_result"
    }
   ],
   "source": [
    "col"
   ]
  },
  {
   "cell_type": "code",
   "execution_count": 65,
   "id": "d7b144b7-8e8e-4a05-9049-6671e89fc527",
   "metadata": {},
   "outputs": [
    {
     "data": {
      "text/plain": [
       "array([[1],\n",
       "       [2],\n",
       "       [3],\n",
       "       [4]])"
      ]
     },
     "execution_count": 65,
     "metadata": {},
     "output_type": "execute_result"
    }
   ],
   "source": [
    "col.T"
   ]
  },
  {
   "cell_type": "code",
   "execution_count": 66,
   "id": "7be6b255-de30-4c20-b107-fba09f4a251e",
   "metadata": {},
   "outputs": [
    {
     "data": {
      "text/plain": [
       "array([[1., 1., 1., 1.],\n",
       "       [2., 2., 2., 2.],\n",
       "       [3., 3., 3., 3.],\n",
       "       [4., 4., 4., 4.]])"
      ]
     },
     "execution_count": 66,
     "metadata": {},
     "output_type": "execute_result"
    }
   ],
   "source": [
    "col.T+arr"
   ]
  },
  {
   "cell_type": "code",
   "execution_count": 64,
   "id": "4ad28635-7e20-4df9-8bd9-fb4c6685ebfd",
   "metadata": {},
   "outputs": [
    {
     "data": {
      "text/plain": [
       "array([[1, 2, 3, 4]])"
      ]
     },
     "execution_count": 64,
     "metadata": {},
     "output_type": "execute_result"
    }
   ],
   "source": [
    "col"
   ]
  },
  {
   "cell_type": "code",
   "execution_count": 67,
   "id": "01e1c895-d4ac-434d-9268-4eecc9d812d5",
   "metadata": {},
   "outputs": [
    {
     "data": {
      "text/plain": [
       "array([[0., 0., 0., 0.],\n",
       "       [0., 0., 0., 0.],\n",
       "       [0., 0., 0., 0.],\n",
       "       [0., 0., 0., 0.]])"
      ]
     },
     "execution_count": 67,
     "metadata": {},
     "output_type": "execute_result"
    }
   ],
   "source": [
    "arr"
   ]
  },
  {
   "cell_type": "code",
   "execution_count": null,
   "id": "9a2cfcd3-2c53-4dcb-bbc0-7075b7258013",
   "metadata": {},
   "outputs": [],
   "source": []
  },
  {
   "cell_type": "code",
   "execution_count": null,
   "id": "e725c7f4-56eb-4879-a066-590e3139796f",
   "metadata": {},
   "outputs": [],
   "source": []
  },
  {
   "cell_type": "code",
   "execution_count": 69,
   "id": "3308a149-04b3-4491-8df3-f5c8cce855fe",
   "metadata": {},
   "outputs": [],
   "source": [
    "arr1=np.random.randint(1,4,(3,4))"
   ]
  },
  {
   "cell_type": "code",
   "execution_count": 70,
   "id": "208f03b2-e70d-45d5-aca6-280603ebabac",
   "metadata": {},
   "outputs": [
    {
     "data": {
      "text/plain": [
       "array([[2, 1, 2, 3],\n",
       "       [2, 2, 3, 3],\n",
       "       [2, 1, 1, 2]])"
      ]
     },
     "execution_count": 70,
     "metadata": {},
     "output_type": "execute_result"
    }
   ],
   "source": [
    "arr1"
   ]
  },
  {
   "cell_type": "code",
   "execution_count": 71,
   "id": "7da76a9c-8401-4bc4-a80f-f3fd1afe02b8",
   "metadata": {},
   "outputs": [
    {
     "data": {
      "text/plain": [
       "array([[1.41421356, 1.        , 1.41421356, 1.73205081],\n",
       "       [1.41421356, 1.41421356, 1.73205081, 1.73205081],\n",
       "       [1.41421356, 1.        , 1.        , 1.41421356]])"
      ]
     },
     "execution_count": 71,
     "metadata": {},
     "output_type": "execute_result"
    }
   ],
   "source": [
    "np.sqrt(arr1)"
   ]
  },
  {
   "cell_type": "code",
   "execution_count": 72,
   "id": "b1f77f9b-8806-45ba-83d2-37ebdad79cb0",
   "metadata": {},
   "outputs": [
    {
     "data": {
      "text/plain": [
       "array([[ 7.3890561 ,  2.71828183,  7.3890561 , 20.08553692],\n",
       "       [ 7.3890561 ,  7.3890561 , 20.08553692, 20.08553692],\n",
       "       [ 7.3890561 ,  2.71828183,  2.71828183,  7.3890561 ]])"
      ]
     },
     "execution_count": 72,
     "metadata": {},
     "output_type": "execute_result"
    }
   ],
   "source": [
    "np.exp(arr1)"
   ]
  },
  {
   "cell_type": "code",
   "execution_count": 73,
   "id": "0cca1fed-4547-4616-b050-adb0666de908",
   "metadata": {},
   "outputs": [
    {
     "data": {
      "text/plain": [
       "array([[0.30103   , 0.        , 0.30103   , 0.47712125],\n",
       "       [0.30103   , 0.30103   , 0.47712125, 0.47712125],\n",
       "       [0.30103   , 0.        , 0.        , 0.30103   ]])"
      ]
     },
     "execution_count": 73,
     "metadata": {},
     "output_type": "execute_result"
    }
   ],
   "source": [
    "np.log10(arr1)"
   ]
  },
  {
   "cell_type": "code",
   "execution_count": null,
   "id": "0489803c-2889-4e83-a59c-e19e568e7f97",
   "metadata": {},
   "outputs": [],
   "source": []
  },
  {
   "cell_type": "code",
   "execution_count": null,
   "id": "adfcb2db-b767-4232-a07d-b1b4081e94fa",
   "metadata": {},
   "outputs": [],
   "source": []
  },
  {
   "cell_type": "markdown",
   "id": "8b18b661-e63d-4c98-82d4-771b4f69415a",
   "metadata": {},
   "source": [
    "# Part -2"
   ]
  },
  {
   "cell_type": "code",
   "execution_count": 74,
   "id": "039a81aa-d71d-48e9-bfaa-986013924627",
   "metadata": {},
   "outputs": [],
   "source": [
    "#Numpy - Array Manipulation"
   ]
  },
  {
   "cell_type": "code",
   "execution_count": 1,
   "id": "58107750-3248-47d7-97b4-17349700a297",
   "metadata": {},
   "outputs": [],
   "source": [
    "import numpy as np"
   ]
  },
  {
   "cell_type": "code",
   "execution_count": 2,
   "id": "d51d1354-3079-4d10-8237-31e76f9f5ddc",
   "metadata": {},
   "outputs": [],
   "source": [
    "arr = np.random.randint(1,10,(3,4))"
   ]
  },
  {
   "cell_type": "code",
   "execution_count": 3,
   "id": "719629df-2117-42ab-96be-9aa6393a4998",
   "metadata": {},
   "outputs": [
    {
     "data": {
      "text/plain": [
       "array([[6, 6, 9, 3],\n",
       "       [2, 4, 1, 4],\n",
       "       [1, 6, 8, 5]])"
      ]
     },
     "execution_count": 3,
     "metadata": {},
     "output_type": "execute_result"
    }
   ],
   "source": [
    "arr"
   ]
  },
  {
   "cell_type": "code",
   "execution_count": 4,
   "id": "0c2171ef-8f7b-4c47-9983-7a6669b98833",
   "metadata": {},
   "outputs": [
    {
     "data": {
      "text/plain": [
       "array([[6, 6],\n",
       "       [9, 3],\n",
       "       [2, 4],\n",
       "       [1, 4],\n",
       "       [1, 6],\n",
       "       [8, 5]])"
      ]
     },
     "execution_count": 4,
     "metadata": {},
     "output_type": "execute_result"
    }
   ],
   "source": [
    "arr.reshape(6,2)"
   ]
  },
  {
   "cell_type": "code",
   "execution_count": 5,
   "id": "595cd337-702b-414f-afa6-4b589e368388",
   "metadata": {},
   "outputs": [
    {
     "data": {
      "text/plain": [
       "array([[6, 6, 9, 3, 2, 4],\n",
       "       [1, 4, 1, 6, 8, 5]])"
      ]
     },
     "execution_count": 5,
     "metadata": {},
     "output_type": "execute_result"
    }
   ],
   "source": [
    "arr.reshape(2,6)"
   ]
  },
  {
   "cell_type": "code",
   "execution_count": 6,
   "id": "d9434b56-6e4a-4033-9193-bae71c3c95ae",
   "metadata": {},
   "outputs": [
    {
     "data": {
      "text/plain": [
       "array([[6, 2, 1],\n",
       "       [6, 4, 6],\n",
       "       [9, 1, 8],\n",
       "       [3, 4, 5]])"
      ]
     },
     "execution_count": 6,
     "metadata": {},
     "output_type": "execute_result"
    }
   ],
   "source": [
    "arr.T"
   ]
  },
  {
   "cell_type": "code",
   "execution_count": 7,
   "id": "7a5bc00e-a137-40ef-8150-40dd07cee542",
   "metadata": {},
   "outputs": [
    {
     "data": {
      "text/plain": [
       "array([[6, 6, 9, 3],\n",
       "       [2, 4, 1, 4],\n",
       "       [1, 6, 8, 5]])"
      ]
     },
     "execution_count": 7,
     "metadata": {},
     "output_type": "execute_result"
    }
   ],
   "source": [
    "arr"
   ]
  },
  {
   "cell_type": "code",
   "execution_count": 8,
   "id": "f55e4b8a-59d1-4417-acd1-58590a99158e",
   "metadata": {},
   "outputs": [
    {
     "data": {
      "text/plain": [
       "array([6, 6, 9, 3, 2, 4, 1, 4, 1, 6, 8, 5])"
      ]
     },
     "execution_count": 8,
     "metadata": {},
     "output_type": "execute_result"
    }
   ],
   "source": [
    "arr.flatten()  #It change any array in 1 Dimension "
   ]
  },
  {
   "cell_type": "code",
   "execution_count": 9,
   "id": "92cfde55-7329-4e17-a7eb-cdb6bc3d4116",
   "metadata": {},
   "outputs": [],
   "source": [
    "arr1 = np.array([1,2,3,4])"
   ]
  },
  {
   "cell_type": "code",
   "execution_count": 10,
   "id": "1d6ae4d8-ceff-46d4-89ba-30c78c0d5b03",
   "metadata": {},
   "outputs": [
    {
     "data": {
      "text/plain": [
       "1"
      ]
     },
     "execution_count": 10,
     "metadata": {},
     "output_type": "execute_result"
    }
   ],
   "source": [
    "arr1.ndim"
   ]
  },
  {
   "cell_type": "code",
   "execution_count": 11,
   "id": "5c163a81-c0d7-4a77-a568-1225e1573a49",
   "metadata": {},
   "outputs": [
    {
     "data": {
      "text/plain": [
       "array([[1],\n",
       "       [2],\n",
       "       [3],\n",
       "       [4]])"
      ]
     },
     "execution_count": 11,
     "metadata": {},
     "output_type": "execute_result"
    }
   ],
   "source": [
    "np.expand_dims(arr1,axis=1)        #It expand dim from 1D to 2D array"
   ]
  },
  {
   "cell_type": "code",
   "execution_count": 12,
   "id": "f05c5816-3b50-4007-8014-76d4433bec16",
   "metadata": {},
   "outputs": [
    {
     "data": {
      "text/plain": [
       "array([[1, 2, 3, 4]])"
      ]
     },
     "execution_count": 12,
     "metadata": {},
     "output_type": "execute_result"
    }
   ],
   "source": [
    "np.expand_dims(arr1,axis=0) "
   ]
  },
  {
   "cell_type": "code",
   "execution_count": null,
   "id": "0a92e2a2-3cde-4c9b-a907-ae4d1160b629",
   "metadata": {},
   "outputs": [],
   "source": []
  },
  {
   "cell_type": "code",
   "execution_count": null,
   "id": "133193a0-d93f-4da8-868e-122cf3aa3dac",
   "metadata": {},
   "outputs": [],
   "source": []
  },
  {
   "cell_type": "code",
   "execution_count": null,
   "id": "9ff812cb-fff8-4741-ab9d-de919f90a6f6",
   "metadata": {},
   "outputs": [],
   "source": []
  },
  {
   "cell_type": "code",
   "execution_count": 87,
   "id": "9fb23507-f67d-4a1b-b896-697dbac99646",
   "metadata": {},
   "outputs": [
    {
     "data": {
      "text/plain": [
       "array([[1, 2, 4, 9],\n",
       "       [8, 5, 3, 8],\n",
       "       [9, 3, 4, 9]])"
      ]
     },
     "execution_count": 87,
     "metadata": {},
     "output_type": "execute_result"
    }
   ],
   "source": [
    "arr\n"
   ]
  },
  {
   "cell_type": "code",
   "execution_count": null,
   "id": "990d8b1a-d765-40b3-9cc5-f264984886cf",
   "metadata": {},
   "outputs": [],
   "source": []
  },
  {
   "cell_type": "code",
   "execution_count": null,
   "id": "37574fb3-e3b7-4ee4-948d-17cfd676c8ae",
   "metadata": {},
   "outputs": [],
   "source": []
  },
  {
   "cell_type": "code",
   "execution_count": 88,
   "id": "ebb1ff60-d452-48a8-8bb9-92c4f758420f",
   "metadata": {},
   "outputs": [],
   "source": [
    "data = np.array([[1], [2], [3]])"
   ]
  },
  {
   "cell_type": "code",
   "execution_count": 89,
   "id": "2b791711-819a-45e2-ba10-d6ff590097e3",
   "metadata": {},
   "outputs": [
    {
     "data": {
      "text/plain": [
       "array([[1],\n",
       "       [2],\n",
       "       [3]])"
      ]
     },
     "execution_count": 89,
     "metadata": {},
     "output_type": "execute_result"
    }
   ],
   "source": [
    "data"
   ]
  },
  {
   "cell_type": "code",
   "execution_count": 90,
   "id": "ae59857c-df3a-4e77-aacc-6bb6f9034166",
   "metadata": {},
   "outputs": [
    {
     "data": {
      "text/plain": [
       "array([1, 2, 3])"
      ]
     },
     "execution_count": 90,
     "metadata": {},
     "output_type": "execute_result"
    }
   ],
   "source": [
    "np.squeeze(data)   #squeeze() function is used when we want to remove single-dimensional entries from the shape of an array"
   ]
  },
  {
   "cell_type": "code",
   "execution_count": null,
   "id": "d7fbef9c-a980-4e8f-9b0f-911b47437e12",
   "metadata": {},
   "outputs": [],
   "source": [
    "arr1"
   ]
  },
  {
   "cell_type": "code",
   "execution_count": 13,
   "id": "6ce83050-d7c7-4283-b8f5-76ec41bc0d92",
   "metadata": {},
   "outputs": [
    {
     "data": {
      "text/plain": [
       "array([1, 1, 1, 2, 2, 2, 3, 3, 3, 4, 4, 4])"
      ]
     },
     "execution_count": 13,
     "metadata": {},
     "output_type": "execute_result"
    }
   ],
   "source": [
    "np.repeat(arr1,3)"
   ]
  },
  {
   "cell_type": "code",
   "execution_count": 14,
   "id": "228a6253-57ff-489d-9308-94a3a1567110",
   "metadata": {},
   "outputs": [
    {
     "data": {
      "text/plain": [
       "array([2, 3, 4, 1])"
      ]
     },
     "execution_count": 14,
     "metadata": {},
     "output_type": "execute_result"
    }
   ],
   "source": [
    "np.roll(arr1 , 3)   #The roll() function is used to roll array elements along a given axis"
   ]
  },
  {
   "cell_type": "code",
   "execution_count": 15,
   "id": "a15e66bb-c5f4-4ba6-b528-f89641825be0",
   "metadata": {},
   "outputs": [
    {
     "data": {
      "text/plain": [
       "array([1, 2, 3, 4])"
      ]
     },
     "execution_count": 15,
     "metadata": {},
     "output_type": "execute_result"
    }
   ],
   "source": [
    "arr1"
   ]
  },
  {
   "cell_type": "code",
   "execution_count": 16,
   "id": "e3f08131-2e81-46d2-88ad-9a0b205741fe",
   "metadata": {},
   "outputs": [
    {
     "data": {
      "text/plain": [
       "array([[1, 0, 0, 0],\n",
       "       [0, 2, 0, 0],\n",
       "       [0, 0, 3, 0],\n",
       "       [0, 0, 0, 4]])"
      ]
     },
     "execution_count": 16,
     "metadata": {},
     "output_type": "execute_result"
    }
   ],
   "source": [
    "np.diag(arr1)  #The diag() function is used to extract a diagonal or construct a diagonal array."
   ]
  },
  {
   "cell_type": "code",
   "execution_count": null,
   "id": "6c0e29db-b325-4dd2-8236-9dc9a609e70b",
   "metadata": {},
   "outputs": [],
   "source": []
  },
  {
   "cell_type": "code",
   "execution_count": 17,
   "id": "c77c6531-b25e-4ccd-9a20-c3c6d0aec594",
   "metadata": {},
   "outputs": [],
   "source": [
    "#Numpy - Binary Operation"
   ]
  },
  {
   "cell_type": "code",
   "execution_count": 18,
   "id": "57b4754c-a406-4093-9ac1-ae4e8952b650",
   "metadata": {},
   "outputs": [],
   "source": [
    "arr1  = np.random.randint(1,10,(3,4))"
   ]
  },
  {
   "cell_type": "code",
   "execution_count": 19,
   "id": "b38a1eba-4451-4027-ba59-faed7bdcc834",
   "metadata": {},
   "outputs": [],
   "source": [
    "arr2 = np.random.randint(1,10,(3,4))"
   ]
  },
  {
   "cell_type": "code",
   "execution_count": 20,
   "id": "ced2c9d3-9c8b-43aa-869a-02ac396b21cf",
   "metadata": {},
   "outputs": [
    {
     "data": {
      "text/plain": [
       "array([[1, 1, 8, 7],\n",
       "       [6, 5, 3, 8],\n",
       "       [9, 7, 2, 4]])"
      ]
     },
     "execution_count": 20,
     "metadata": {},
     "output_type": "execute_result"
    }
   ],
   "source": [
    "arr1"
   ]
  },
  {
   "cell_type": "code",
   "execution_count": 21,
   "id": "43d8d81d-d621-4d6a-8c72-1cd4f0442238",
   "metadata": {},
   "outputs": [
    {
     "data": {
      "text/plain": [
       "array([[6, 2, 6, 5],\n",
       "       [9, 2, 3, 6],\n",
       "       [8, 8, 9, 2]])"
      ]
     },
     "execution_count": 21,
     "metadata": {},
     "output_type": "execute_result"
    }
   ],
   "source": [
    "arr2"
   ]
  },
  {
   "cell_type": "code",
   "execution_count": 22,
   "id": "27e4585f-c3a0-476f-b262-4c6a7d144f02",
   "metadata": {},
   "outputs": [
    {
     "data": {
      "text/plain": [
       "array([[ 7,  3, 14, 12],\n",
       "       [15,  7,  6, 14],\n",
       "       [17, 15, 11,  6]])"
      ]
     },
     "execution_count": 22,
     "metadata": {},
     "output_type": "execute_result"
    }
   ],
   "source": [
    "arr1+arr2        #Add element index by index"
   ]
  },
  {
   "cell_type": "code",
   "execution_count": 23,
   "id": "5cd4be4c-2ad2-4619-a9a0-aac9d08dcfb9",
   "metadata": {},
   "outputs": [
    {
     "data": {
      "text/plain": [
       "array([[ 6,  2, 48, 35],\n",
       "       [54, 10,  9, 48],\n",
       "       [72, 56, 18,  8]])"
      ]
     },
     "execution_count": 23,
     "metadata": {},
     "output_type": "execute_result"
    }
   ],
   "source": [
    "arr1*arr2"
   ]
  },
  {
   "cell_type": "code",
   "execution_count": 24,
   "id": "ee76242e-3e11-4b3b-9a99-5e1395bd54a9",
   "metadata": {},
   "outputs": [
    {
     "data": {
      "text/plain": [
       "array([[       1,        1,   262144,    16807],\n",
       "       [10077696,       25,       27,   262144],\n",
       "       [43046721,  5764801,      512,       16]])"
      ]
     },
     "execution_count": 24,
     "metadata": {},
     "output_type": "execute_result"
    }
   ],
   "source": [
    "arr1 ** arr2"
   ]
  },
  {
   "cell_type": "code",
   "execution_count": 25,
   "id": "a4ef151c-af88-4f8d-ba05-3a27252b24fc",
   "metadata": {},
   "outputs": [
    {
     "data": {
      "text/plain": [
       "array([[0, 0, 0, 5],\n",
       "       [0, 0, 3, 0],\n",
       "       [8, 0, 0, 0]])"
      ]
     },
     "execution_count": 25,
     "metadata": {},
     "output_type": "execute_result"
    }
   ],
   "source": [
    "arr1 & arr2"
   ]
  },
  {
   "cell_type": "code",
   "execution_count": 26,
   "id": "0328e16b-caca-4847-a595-dd748581c408",
   "metadata": {},
   "outputs": [
    {
     "data": {
      "text/plain": [
       "array([[1, 1, 8, 7],\n",
       "       [6, 5, 3, 8],\n",
       "       [9, 7, 2, 4]])"
      ]
     },
     "execution_count": 26,
     "metadata": {},
     "output_type": "execute_result"
    }
   ],
   "source": [
    "arr1"
   ]
  },
  {
   "cell_type": "code",
   "execution_count": 27,
   "id": "d1b32861-c776-441c-8d16-8c7cbdb1bb19",
   "metadata": {},
   "outputs": [
    {
     "data": {
      "text/plain": [
       "array([[6, 2, 6, 5],\n",
       "       [9, 2, 3, 6],\n",
       "       [8, 8, 9, 2]])"
      ]
     },
     "execution_count": 27,
     "metadata": {},
     "output_type": "execute_result"
    }
   ],
   "source": [
    "arr2"
   ]
  },
  {
   "cell_type": "code",
   "execution_count": 29,
   "id": "f3fe06a3-e4e9-4b19-b5ac-02322fdab5bb",
   "metadata": {},
   "outputs": [
    {
     "data": {
      "text/plain": [
       "array([[ -2,  -2,  -9,  -8],\n",
       "       [ -7,  -6,  -4,  -9],\n",
       "       [-10,  -8,  -3,  -5]])"
      ]
     },
     "execution_count": 29,
     "metadata": {},
     "output_type": "execute_result"
    }
   ],
   "source": [
    "~arr1"
   ]
  },
  {
   "cell_type": "code",
   "execution_count": 30,
   "id": "e4460bb5-fd1e-4eb1-936b-d1d93cfe42f3",
   "metadata": {},
   "outputs": [
    {
     "data": {
      "text/plain": [
       "array([[ 7,  3, 14,  7],\n",
       "       [15,  7,  3, 14],\n",
       "       [ 9, 15, 11,  6]])"
      ]
     },
     "execution_count": 30,
     "metadata": {},
     "output_type": "execute_result"
    }
   ],
   "source": [
    "arr1 | arr2"
   ]
  },
  {
   "cell_type": "code",
   "execution_count": 31,
   "id": "9f655242-5083-419b-93c5-5cc771e840fd",
   "metadata": {},
   "outputs": [
    {
     "data": {
      "text/plain": [
       "array([[False, False,  True,  True],\n",
       "       [False,  True, False,  True],\n",
       "       [ True, False, False,  True]])"
      ]
     },
     "execution_count": 31,
     "metadata": {},
     "output_type": "execute_result"
    }
   ],
   "source": [
    "arr1>arr2"
   ]
  },
  {
   "cell_type": "code",
   "execution_count": null,
   "id": "a4d2f3cb-e998-44e3-b025-803d093d8a3f",
   "metadata": {},
   "outputs": [],
   "source": []
  },
  {
   "cell_type": "code",
   "execution_count": null,
   "id": "6be49631-0782-41d1-8925-314718b1f777",
   "metadata": {},
   "outputs": [],
   "source": []
  },
  {
   "cell_type": "code",
   "execution_count": 32,
   "id": "2a2b9a9c-aa18-4c4a-9131-5ffc36af0fa2",
   "metadata": {},
   "outputs": [],
   "source": [
    "#Numpy - String Function"
   ]
  },
  {
   "cell_type": "code",
   "execution_count": 33,
   "id": "cd96a6f7-e4bd-42e2-8c10-55900c6c5466",
   "metadata": {},
   "outputs": [],
   "source": [
    "arr = np.array([\"mk\",\"kumar\"])"
   ]
  },
  {
   "cell_type": "code",
   "execution_count": 34,
   "id": "759b1c14-d2f0-41d1-bcf8-71827cb727e7",
   "metadata": {},
   "outputs": [
    {
     "data": {
      "text/plain": [
       "array(['mk', 'kumar'], dtype='<U5')"
      ]
     },
     "execution_count": 34,
     "metadata": {},
     "output_type": "execute_result"
    }
   ],
   "source": [
    "arr"
   ]
  },
  {
   "cell_type": "code",
   "execution_count": 35,
   "id": "12735c69-6b37-4e37-925a-a797ba6845f1",
   "metadata": {},
   "outputs": [
    {
     "data": {
      "text/plain": [
       "array(['MK', 'KUMAR'], dtype='<U5')"
      ]
     },
     "execution_count": 35,
     "metadata": {},
     "output_type": "execute_result"
    }
   ],
   "source": [
    "np.char.upper(arr)"
   ]
  },
  {
   "cell_type": "code",
   "execution_count": 36,
   "id": "532e7dbb-a072-4de6-922f-bc29155b359c",
   "metadata": {},
   "outputs": [
    {
     "data": {
      "text/plain": [
       "array(['Mk', 'Kumar'], dtype='<U5')"
      ]
     },
     "execution_count": 36,
     "metadata": {},
     "output_type": "execute_result"
    }
   ],
   "source": [
    "np.char.title(arr)"
   ]
  },
  {
   "cell_type": "code",
   "execution_count": 37,
   "id": "e75a38a1-879c-4126-acea-d310c87fd523",
   "metadata": {},
   "outputs": [
    {
     "data": {
      "text/plain": [
       "array(['Mk', 'Kumar'], dtype='<U5')"
      ]
     },
     "execution_count": 37,
     "metadata": {},
     "output_type": "execute_result"
    }
   ],
   "source": [
    "np.char.capitalize(arr)"
   ]
  },
  {
   "cell_type": "code",
   "execution_count": null,
   "id": "bc68a6de-96d2-462e-a75e-4e611e9ae3ee",
   "metadata": {},
   "outputs": [],
   "source": []
  },
  {
   "cell_type": "code",
   "execution_count": null,
   "id": "255c0b89-9fae-4351-8c4d-c5f9da3f6fb1",
   "metadata": {},
   "outputs": [],
   "source": []
  },
  {
   "cell_type": "code",
   "execution_count": 38,
   "id": "a93a0e55-b1f2-4486-87b2-75988bfca93f",
   "metadata": {},
   "outputs": [],
   "source": [
    "# Numpy - Mathematical Function"
   ]
  },
  {
   "cell_type": "code",
   "execution_count": 39,
   "id": "c87858dd-e8aa-464b-ba92-15d45294c3b6",
   "metadata": {},
   "outputs": [],
   "source": [
    "import numpy as np"
   ]
  },
  {
   "cell_type": "code",
   "execution_count": 40,
   "id": "7ed963ab-16c7-4336-be93-e4ac0eab13ca",
   "metadata": {},
   "outputs": [
    {
     "data": {
      "text/plain": [
       "array([[1, 1, 8, 7],\n",
       "       [6, 5, 3, 8],\n",
       "       [9, 7, 2, 4]])"
      ]
     },
     "execution_count": 40,
     "metadata": {},
     "output_type": "execute_result"
    }
   ],
   "source": [
    "arr1\n"
   ]
  },
  {
   "cell_type": "code",
   "execution_count": 41,
   "id": "55f6bf7e-e03a-410e-a764-e61d5cb7172f",
   "metadata": {},
   "outputs": [
    {
     "data": {
      "text/plain": [
       "array([[ 0.84147098,  0.84147098,  0.98935825,  0.6569866 ],\n",
       "       [-0.2794155 , -0.95892427,  0.14112001,  0.98935825],\n",
       "       [ 0.41211849,  0.6569866 ,  0.90929743, -0.7568025 ]])"
      ]
     },
     "execution_count": 41,
     "metadata": {},
     "output_type": "execute_result"
    }
   ],
   "source": [
    "np.sin(arr1)"
   ]
  },
  {
   "cell_type": "code",
   "execution_count": 42,
   "id": "2bd4fa7d-bbe6-4afd-b626-c59c767e3149",
   "metadata": {},
   "outputs": [
    {
     "data": {
      "text/plain": [
       "array([[ 0.54030231,  0.54030231, -0.14550003,  0.75390225],\n",
       "       [ 0.96017029,  0.28366219, -0.9899925 , -0.14550003],\n",
       "       [-0.91113026,  0.75390225, -0.41614684, -0.65364362]])"
      ]
     },
     "execution_count": 42,
     "metadata": {},
     "output_type": "execute_result"
    }
   ],
   "source": [
    "np.cos(arr1)"
   ]
  },
  {
   "cell_type": "code",
   "execution_count": 44,
   "id": "5c4d4008-f9c5-4727-bab4-aa7dbc536d76",
   "metadata": {},
   "outputs": [
    {
     "data": {
      "text/plain": [
       "array([[ 1.55740772,  1.55740772, -6.79971146,  0.87144798],\n",
       "       [-0.29100619, -3.38051501, -0.14254654, -6.79971146],\n",
       "       [-0.45231566,  0.87144798, -2.18503986,  1.15782128]])"
      ]
     },
     "execution_count": 44,
     "metadata": {},
     "output_type": "execute_result"
    }
   ],
   "source": [
    "np.tan(arr1)"
   ]
  },
  {
   "cell_type": "code",
   "execution_count": 45,
   "id": "94c45217-b8df-4407-b7d4-bb89d67ff1a7",
   "metadata": {},
   "outputs": [
    {
     "data": {
      "text/plain": [
       "array([[0.76159416, 0.76159416, 0.99999977, 0.99999834],\n",
       "       [0.99998771, 0.9999092 , 0.99505475, 0.99999977],\n",
       "       [0.99999997, 0.99999834, 0.96402758, 0.9993293 ]])"
      ]
     },
     "execution_count": 45,
     "metadata": {},
     "output_type": "execute_result"
    }
   ],
   "source": [
    "np.tanh(arr1)  # It is used to calculate the hyperbolic tangent for all the elements of the array passed as the argument."
   ]
  },
  {
   "cell_type": "code",
   "execution_count": 46,
   "id": "7db9d54f-32e6-4e68-ab21-a1a60aad857d",
   "metadata": {},
   "outputs": [
    {
     "data": {
      "text/plain": [
       "array([[0.        , 0.        , 0.90308999, 0.84509804],\n",
       "       [0.77815125, 0.69897   , 0.47712125, 0.90308999],\n",
       "       [0.95424251, 0.84509804, 0.30103   , 0.60205999]])"
      ]
     },
     "execution_count": 46,
     "metadata": {},
     "output_type": "execute_result"
    }
   ],
   "source": [
    "np.log10(arr1)"
   ]
  },
  {
   "cell_type": "code",
   "execution_count": 47,
   "id": "56746403-88ea-41b2-bcfa-40a837155c5f",
   "metadata": {},
   "outputs": [
    {
     "data": {
      "text/plain": [
       "array([[2.71828183e+00, 2.71828183e+00, 2.98095799e+03, 1.09663316e+03],\n",
       "       [4.03428793e+02, 1.48413159e+02, 2.00855369e+01, 2.98095799e+03],\n",
       "       [8.10308393e+03, 1.09663316e+03, 7.38905610e+00, 5.45981500e+01]])"
      ]
     },
     "execution_count": 47,
     "metadata": {},
     "output_type": "execute_result"
    }
   ],
   "source": [
    "np.exp(arr1)"
   ]
  },
  {
   "cell_type": "code",
   "execution_count": 48,
   "id": "f58430b3-d32b-4021-ad4f-87daf936c57a",
   "metadata": {},
   "outputs": [
    {
     "data": {
      "text/plain": [
       "array([[1.        , 1.        , 2.82842712, 2.64575131],\n",
       "       [2.44948974, 2.23606798, 1.73205081, 2.82842712],\n",
       "       [3.        , 2.64575131, 1.41421356, 2.        ]])"
      ]
     },
     "execution_count": 48,
     "metadata": {},
     "output_type": "execute_result"
    }
   ],
   "source": [
    "np.sqrt(arr1)"
   ]
  },
  {
   "cell_type": "code",
   "execution_count": 49,
   "id": "3e6c9863-2978-477b-875e-924e4e167c06",
   "metadata": {},
   "outputs": [
    {
     "data": {
      "text/plain": [
       "array([[ 1,  1, 64, 49],\n",
       "       [36, 25,  9, 64],\n",
       "       [81, 49,  4, 16]])"
      ]
     },
     "execution_count": 49,
     "metadata": {},
     "output_type": "execute_result"
    }
   ],
   "source": [
    "np.power(arr1,2)"
   ]
  },
  {
   "cell_type": "code",
   "execution_count": 50,
   "id": "2d039c0a-e843-40e3-be13-a3dddceb0dba",
   "metadata": {},
   "outputs": [
    {
     "data": {
      "text/plain": [
       "5.083333333333333"
      ]
     },
     "execution_count": 50,
     "metadata": {},
     "output_type": "execute_result"
    }
   ],
   "source": [
    "np.mean(arr1)"
   ]
  },
  {
   "cell_type": "code",
   "execution_count": 51,
   "id": "32f62cdd-5640-4a51-99bc-cd8ed791d850",
   "metadata": {},
   "outputs": [
    {
     "data": {
      "text/plain": [
       "5.5"
      ]
     },
     "execution_count": 51,
     "metadata": {},
     "output_type": "execute_result"
    }
   ],
   "source": [
    "np.median(arr1)"
   ]
  },
  {
   "cell_type": "code",
   "execution_count": 52,
   "id": "a9f9aebe-0780-4aef-a7e8-bf3253eee867",
   "metadata": {},
   "outputs": [
    {
     "data": {
      "text/plain": [
       "2.722080495176846"
      ]
     },
     "execution_count": 52,
     "metadata": {},
     "output_type": "execute_result"
    }
   ],
   "source": [
    "np.std(arr1)"
   ]
  },
  {
   "cell_type": "code",
   "execution_count": 53,
   "id": "90e8f1c9-e394-4e18-8c29-9dd3dfc80040",
   "metadata": {},
   "outputs": [
    {
     "data": {
      "text/plain": [
       "9"
      ]
     },
     "execution_count": 53,
     "metadata": {},
     "output_type": "execute_result"
    }
   ],
   "source": [
    "np.max(arr1)"
   ]
  },
  {
   "cell_type": "markdown",
   "id": "d774ce54-a4f0-4fa5-b415-2579d48f74fc",
   "metadata": {},
   "source": [
    "# Part - 3"
   ]
  },
  {
   "cell_type": "code",
   "execution_count": 54,
   "id": "524e184e-94bf-4add-b8ef-3ebb41900240",
   "metadata": {},
   "outputs": [],
   "source": [
    "# Sort , Search and Counting Function"
   ]
  },
  {
   "cell_type": "code",
   "execution_count": 55,
   "id": "c7554ef8-a683-4e9f-b226-2ad5dc63c9cc",
   "metadata": {},
   "outputs": [],
   "source": [
    "import numpy as np"
   ]
  },
  {
   "cell_type": "code",
   "execution_count": 56,
   "id": "377938ce-267a-4ea1-bb3d-a7eb431fc6a4",
   "metadata": {},
   "outputs": [],
   "source": [
    "arr = np.array([1,2,3,4,5,6,778,9])"
   ]
  },
  {
   "cell_type": "code",
   "execution_count": 57,
   "id": "a720cd07-1bb0-4a81-a729-c835f8d18d08",
   "metadata": {},
   "outputs": [
    {
     "data": {
      "text/plain": [
       "array([  1,   2,   3,   4,   5,   6, 778,   9])"
      ]
     },
     "execution_count": 57,
     "metadata": {},
     "output_type": "execute_result"
    }
   ],
   "source": [
    "arr"
   ]
  },
  {
   "cell_type": "code",
   "execution_count": 58,
   "id": "984235ee-6417-4c58-8f6f-5f380dc0f9d9",
   "metadata": {},
   "outputs": [
    {
     "data": {
      "text/plain": [
       "array([  1,   2,   3,   4,   5,   6,   9, 778])"
      ]
     },
     "execution_count": 58,
     "metadata": {},
     "output_type": "execute_result"
    }
   ],
   "source": [
    "np.sort(arr)"
   ]
  },
  {
   "cell_type": "code",
   "execution_count": 59,
   "id": "52f439b0-f6b6-4632-b975-5a30da82e4e9",
   "metadata": {},
   "outputs": [
    {
     "data": {
      "text/plain": [
       "6"
      ]
     },
     "execution_count": 59,
     "metadata": {},
     "output_type": "execute_result"
    }
   ],
   "source": [
    "np.searchsorted(arr,34)"
   ]
  },
  {
   "cell_type": "code",
   "execution_count": 60,
   "id": "9b379e1a-ec82-49ca-8a6a-78809abd0905",
   "metadata": {},
   "outputs": [],
   "source": [
    "arr1=np.array([0,1,2,3,4,0,0,0,0,0])"
   ]
  },
  {
   "cell_type": "code",
   "execution_count": 61,
   "id": "8122889b-85c7-484a-bb98-865fcda488e1",
   "metadata": {},
   "outputs": [
    {
     "data": {
      "text/plain": [
       "array([0, 1, 2, 3, 4, 0, 0, 0, 0, 0])"
      ]
     },
     "execution_count": 61,
     "metadata": {},
     "output_type": "execute_result"
    }
   ],
   "source": [
    "arr1"
   ]
  },
  {
   "cell_type": "code",
   "execution_count": 62,
   "id": "b328778f-fcfb-423f-962a-d250a241bb5d",
   "metadata": {},
   "outputs": [
    {
     "data": {
      "text/plain": [
       "4"
      ]
     },
     "execution_count": 62,
     "metadata": {},
     "output_type": "execute_result"
    }
   ],
   "source": [
    "np.count_nonzero(arr1)"
   ]
  },
  {
   "cell_type": "code",
   "execution_count": null,
   "id": "c3924813-ec7e-451e-9669-21d7ebdbd2d2",
   "metadata": {},
   "outputs": [],
   "source": []
  },
  {
   "cell_type": "code",
   "execution_count": 63,
   "id": "b92caa48-cb26-4495-93af-a5aaa52d3193",
   "metadata": {},
   "outputs": [
    {
     "data": {
      "text/plain": [
       "array([  1,   2,   3,   4,   5,   6, 778,   9])"
      ]
     },
     "execution_count": 63,
     "metadata": {},
     "output_type": "execute_result"
    }
   ],
   "source": [
    "arr"
   ]
  },
  {
   "cell_type": "code",
   "execution_count": 64,
   "id": "d85df0de-1957-4ff9-8548-03c6d39704c7",
   "metadata": {},
   "outputs": [
    {
     "data": {
      "text/plain": [
       "(array([6, 7]),)"
      ]
     },
     "execution_count": 64,
     "metadata": {},
     "output_type": "execute_result"
    }
   ],
   "source": [
    "np.where(arr>6)"
   ]
  },
  {
   "cell_type": "code",
   "execution_count": 65,
   "id": "ca1ea6c2-3687-4b78-8dad-391f278b5064",
   "metadata": {},
   "outputs": [
    {
     "data": {
      "text/plain": [
       "array([778,   9])"
      ]
     },
     "execution_count": 65,
     "metadata": {},
     "output_type": "execute_result"
    }
   ],
   "source": [
    "np.extract(arr>6,arr)"
   ]
  },
  {
   "cell_type": "code",
   "execution_count": null,
   "id": "1de39b31-b27b-48ea-a1c5-386a09fb3f92",
   "metadata": {},
   "outputs": [],
   "source": []
  },
  {
   "cell_type": "code",
   "execution_count": 66,
   "id": "0be6ebb2-c191-4003-8c9f-d5e08b516e1a",
   "metadata": {},
   "outputs": [],
   "source": [
    "#Numpy - Byte Swapping"
   ]
  },
  {
   "cell_type": "code",
   "execution_count": 67,
   "id": "a7fad87f-4fcc-48d8-8d8e-dfa6aa3a6ba2",
   "metadata": {},
   "outputs": [
    {
     "data": {
      "text/plain": [
       "array([  1,   2,   3,   4,   5,   6, 778,   9])"
      ]
     },
     "execution_count": 67,
     "metadata": {},
     "output_type": "execute_result"
    }
   ],
   "source": [
    "arr"
   ]
  },
  {
   "cell_type": "code",
   "execution_count": 68,
   "id": "89446b75-3c91-4202-bc34-9a33ac110cb9",
   "metadata": {},
   "outputs": [
    {
     "data": {
      "text/plain": [
       "array([ 72057594037927936, 144115188075855872, 216172782113783808,\n",
       "       288230376151711744, 360287970189639680, 432345564227567616,\n",
       "       721420365309411328, 648518346341351424])"
      ]
     },
     "execution_count": 68,
     "metadata": {},
     "output_type": "execute_result"
    }
   ],
   "source": [
    "arr.byteswap()"
   ]
  },
  {
   "cell_type": "code",
   "execution_count": null,
   "id": "525a9774-8df2-42fa-b93e-f5e90dbf7fe5",
   "metadata": {},
   "outputs": [],
   "source": []
  },
  {
   "cell_type": "code",
   "execution_count": 69,
   "id": "41adeae3-3300-4451-9289-31e7977f9a9a",
   "metadata": {},
   "outputs": [],
   "source": [
    "#Numpy - Copies and views"
   ]
  },
  {
   "cell_type": "code",
   "execution_count": 70,
   "id": "4bdf3a9b-aba8-4197-9115-b2fbba243aa2",
   "metadata": {},
   "outputs": [
    {
     "data": {
      "text/plain": [
       "array([  1,   2,   3,   4,   5,   6, 778,   9])"
      ]
     },
     "execution_count": 70,
     "metadata": {},
     "output_type": "execute_result"
    }
   ],
   "source": [
    "arr"
   ]
  },
  {
   "cell_type": "code",
   "execution_count": 71,
   "id": "09a354f4-8040-4056-a5ad-60d4e555b4fe",
   "metadata": {},
   "outputs": [],
   "source": [
    "a=np.copy(arr) #The copy owns the data and any changes made to the copy will not affect original array, and any changes made to the original array will not affect the copy"
   ]
  },
  {
   "cell_type": "code",
   "execution_count": 72,
   "id": "eedba0ed-0199-42ad-b6b4-48a1e2de0ecb",
   "metadata": {},
   "outputs": [
    {
     "data": {
      "text/plain": [
       "array([  1,   2,   3,   4,   5,   6, 778,   9])"
      ]
     },
     "execution_count": 72,
     "metadata": {},
     "output_type": "execute_result"
    }
   ],
   "source": [
    "a"
   ]
  },
  {
   "cell_type": "code",
   "execution_count": 73,
   "id": "c9d91c76-b8cc-4d82-8192-aacafa907ea0",
   "metadata": {},
   "outputs": [],
   "source": [
    "b=arr.view()   #The view does not own the data and any changes made to the view will affect the original array, and any changes made to the original array will affect the view."
   ]
  },
  {
   "cell_type": "code",
   "execution_count": 74,
   "id": "c026f60d-026c-496f-99c7-43243a3cfe17",
   "metadata": {},
   "outputs": [
    {
     "data": {
      "text/plain": [
       "array([  1,   2,   3,   4,   5,   6, 778,   9])"
      ]
     },
     "execution_count": 74,
     "metadata": {},
     "output_type": "execute_result"
    }
   ],
   "source": [
    "b"
   ]
  },
  {
   "cell_type": "code",
   "execution_count": 75,
   "id": "30af2961-a231-4811-bdb7-857db5486e1c",
   "metadata": {},
   "outputs": [
    {
     "data": {
      "text/plain": [
       "array([  1,   2,   3,   4,   5,   6, 778,   9])"
      ]
     },
     "execution_count": 75,
     "metadata": {},
     "output_type": "execute_result"
    }
   ],
   "source": [
    "arr"
   ]
  },
  {
   "cell_type": "code",
   "execution_count": 76,
   "id": "3ab1bb3a-1f6b-4dac-9d03-24abb1f10385",
   "metadata": {},
   "outputs": [],
   "source": [
    "b[0]=67"
   ]
  },
  {
   "cell_type": "code",
   "execution_count": 77,
   "id": "93bceb8d-a1de-43ec-ab27-afaada5f92c4",
   "metadata": {},
   "outputs": [
    {
     "data": {
      "text/plain": [
       "array([ 67,   2,   3,   4,   5,   6, 778,   9])"
      ]
     },
     "execution_count": 77,
     "metadata": {},
     "output_type": "execute_result"
    }
   ],
   "source": [
    "b"
   ]
  },
  {
   "cell_type": "code",
   "execution_count": 78,
   "id": "1de7782c-50ae-4498-a8d1-8506371b2114",
   "metadata": {},
   "outputs": [
    {
     "data": {
      "text/plain": [
       "array([ 67,   2,   3,   4,   5,   6, 778,   9])"
      ]
     },
     "execution_count": 78,
     "metadata": {},
     "output_type": "execute_result"
    }
   ],
   "source": [
    "arr"
   ]
  },
  {
   "cell_type": "code",
   "execution_count": 79,
   "id": "08758c43-5213-42a8-be5d-7de6b8be5b70",
   "metadata": {},
   "outputs": [
    {
     "data": {
      "text/plain": [
       "array([ 67,   2,   3,   4,   5,   6, 778,   9])"
      ]
     },
     "execution_count": 79,
     "metadata": {},
     "output_type": "execute_result"
    }
   ],
   "source": [
    "b"
   ]
  },
  {
   "cell_type": "code",
   "execution_count": null,
   "id": "0fd26aa1-5916-41dd-9ff8-558757878cb0",
   "metadata": {},
   "outputs": [],
   "source": []
  },
  {
   "cell_type": "code",
   "execution_count": null,
   "id": "b85b811a-8abd-4bc7-97ba-2768addb0c0a",
   "metadata": {},
   "outputs": [],
   "source": []
  },
  {
   "cell_type": "code",
   "execution_count": 80,
   "id": "fd52c364-12f0-403b-87ec-8569acc0d50b",
   "metadata": {},
   "outputs": [],
   "source": [
    "# Numpy - Matrix Library"
   ]
  },
  {
   "cell_type": "code",
   "execution_count": 82,
   "id": "8eb926b2-25b5-4c75-a30d-1259b68cdf09",
   "metadata": {},
   "outputs": [],
   "source": [
    "import numpy.matlib as nm"
   ]
  },
  {
   "cell_type": "code",
   "execution_count": 83,
   "id": "6cf1bfcc-b824-45f0-a409-e54725fdd688",
   "metadata": {},
   "outputs": [
    {
     "data": {
      "text/plain": [
       "matrix([[0., 0., 0., 0., 0.]])"
      ]
     },
     "execution_count": 83,
     "metadata": {},
     "output_type": "execute_result"
    }
   ],
   "source": [
    "nm.zeros(5)"
   ]
  },
  {
   "cell_type": "code",
   "execution_count": 84,
   "id": "fea4edc6-6df3-4f34-8d1c-7b4b70a3739d",
   "metadata": {},
   "outputs": [
    {
     "data": {
      "text/plain": [
       "matrix([[1., 1., 1., 1.],\n",
       "        [1., 1., 1., 1.],\n",
       "        [1., 1., 1., 1.]])"
      ]
     },
     "execution_count": 84,
     "metadata": {},
     "output_type": "execute_result"
    }
   ],
   "source": [
    "nm.ones((3,4))"
   ]
  },
  {
   "cell_type": "code",
   "execution_count": 85,
   "id": "17b6720a-d9f0-4a4e-9a08-001b9a28a856",
   "metadata": {},
   "outputs": [
    {
     "data": {
      "text/plain": [
       "matrix([[1., 0., 0., 0., 0.],\n",
       "        [0., 1., 0., 0., 0.],\n",
       "        [0., 0., 1., 0., 0.],\n",
       "        [0., 0., 0., 1., 0.],\n",
       "        [0., 0., 0., 0., 1.]])"
      ]
     },
     "execution_count": 85,
     "metadata": {},
     "output_type": "execute_result"
    }
   ],
   "source": [
    "nm.eye(5)"
   ]
  },
  {
   "cell_type": "code",
   "execution_count": null,
   "id": "ddd013ef-5544-484b-8b02-89a8a5878d27",
   "metadata": {},
   "outputs": [],
   "source": []
  },
  {
   "cell_type": "code",
   "execution_count": null,
   "id": "ed28df45-3ca2-44ac-8376-3e2e559151d7",
   "metadata": {},
   "outputs": [],
   "source": []
  },
  {
   "cell_type": "code",
   "execution_count": 86,
   "id": "dec0c0ad-ae73-420a-ab61-dfedd8a67f53",
   "metadata": {},
   "outputs": [],
   "source": [
    "#Numpy - Linear Algebra"
   ]
  },
  {
   "cell_type": "code",
   "execution_count": 87,
   "id": "d496705c-f0b8-421a-8722-c9bb1633488c",
   "metadata": {},
   "outputs": [],
   "source": [
    "arr1 = np.random.randint([[2,3], [4,5]])"
   ]
  },
  {
   "cell_type": "code",
   "execution_count": 88,
   "id": "754865a0-8b92-4be0-b9e7-883ca64e393e",
   "metadata": {},
   "outputs": [],
   "source": [
    "arr2 = np.random.randint([[2,3], [4,5]])"
   ]
  },
  {
   "cell_type": "code",
   "execution_count": 89,
   "id": "6509d575-4903-4414-b686-18bdd9d5404e",
   "metadata": {},
   "outputs": [
    {
     "data": {
      "text/plain": [
       "array([[1, 1],\n",
       "       [0, 4]])"
      ]
     },
     "execution_count": 89,
     "metadata": {},
     "output_type": "execute_result"
    }
   ],
   "source": [
    "arr1"
   ]
  },
  {
   "cell_type": "code",
   "execution_count": 90,
   "id": "17aa4f5b-1fff-4cd6-81a5-428d7e34473e",
   "metadata": {},
   "outputs": [
    {
     "data": {
      "text/plain": [
       "array([[0, 2],\n",
       "       [2, 3]])"
      ]
     },
     "execution_count": 90,
     "metadata": {},
     "output_type": "execute_result"
    }
   ],
   "source": [
    "arr2"
   ]
  },
  {
   "cell_type": "code",
   "execution_count": 91,
   "id": "cd02c5a9-1f1b-4443-ac2c-e10d18b0f347",
   "metadata": {},
   "outputs": [
    {
     "data": {
      "text/plain": [
       "array([[ 2,  5],\n",
       "       [ 8, 12]])"
      ]
     },
     "execution_count": 91,
     "metadata": {},
     "output_type": "execute_result"
    }
   ],
   "source": [
    "np.dot(arr1,arr2)"
   ]
  },
  {
   "cell_type": "code",
   "execution_count": 92,
   "id": "571f3710-5085-47ca-90d7-c1984f86d966",
   "metadata": {},
   "outputs": [
    {
     "data": {
      "text/plain": [
       "array([[ 2,  5],\n",
       "       [ 8, 12]])"
      ]
     },
     "execution_count": 92,
     "metadata": {},
     "output_type": "execute_result"
    }
   ],
   "source": [
    "arr1@arr2"
   ]
  },
  {
   "cell_type": "code",
   "execution_count": null,
   "id": "320cecdb-3352-44c1-a2b2-25221bb9e178",
   "metadata": {},
   "outputs": [],
   "source": []
  }
 ],
 "metadata": {
  "kernelspec": {
   "display_name": "Python 3 (ipykernel)",
   "language": "python",
   "name": "python3"
  },
  "language_info": {
   "codemirror_mode": {
    "name": "ipython",
    "version": 3
   },
   "file_extension": ".py",
   "mimetype": "text/x-python",
   "name": "python",
   "nbconvert_exporter": "python",
   "pygments_lexer": "ipython3",
   "version": "3.10.8"
  }
 },
 "nbformat": 4,
 "nbformat_minor": 5
}
