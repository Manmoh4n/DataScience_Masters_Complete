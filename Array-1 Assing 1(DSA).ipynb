{
 "cells": [
  {
   "cell_type": "markdown",
   "id": "d6f0442b-331f-4582-984c-2f5b23f4b8c2",
   "metadata": {},
   "source": [
    "\n",
    "# Q1.Given an array of integers nums and an integer target, return indices of the two numbers such that they add up to target.\n",
    "# You may assume that each input would have exactly one solution, and you may not use the same element twice.\n",
    "# You can return the answer in any order.\n",
    "# Example:\n",
    "# Input: nums = [2,7,11,15], target = 9\n",
    "# Output0 [0,1]\n",
    "# Explanation:Because nums[0] + nums[1] == 9, we return [0, 1]["
   ]
  },
  {
   "cell_type": "code",
   "execution_count": 1,
   "id": "0cc8b0ec-d56a-417a-a223-80991f566ce6",
   "metadata": {},
   "outputs": [
    {
     "name": "stdout",
     "output_type": "stream",
     "text": [
      "[0, 1]\n"
     ]
    }
   ],
   "source": [
    "def twoSum(nums, target):\n",
    "    complement_map = {}\n",
    "    \n",
    "    for i, num in enumerate(nums):\n",
    "        complement = target - num\n",
    "        if complement in complement_map:\n",
    "            return [complement_map[complement], i]\n",
    "        complement_map[num] = i\n",
    "    \n",
    "    return []  # No two numbers found that add up to the target\n",
    "\n",
    "# Example usage\n",
    "nums = [2, 7, 11, 15]\n",
    "target = 9\n",
    "result = twoSum(nums, target)\n",
    "print(result)\n"
   ]
  },
  {
   "cell_type": "markdown",
   "id": "d974b5f0-39ce-4c34-b4ef-15786565aad7",
   "metadata": {},
   "source": [
    "# Q2.Given an integer array nums and an integer val, remove all occurrences of val in nums in-place. The order of the elements may be changed. Then return the number of elements in nums which are not equal to val.\n",
    "\n",
    "# Consider the number of elements in nums which are not equal to val be k, to get accepted, you need to do the following things:\n",
    "\n",
    "# Change the array nums such that the first k elements of nums contain the elements which are not equal to val. The remaining elements of nums are not important as well as the size of nums.\n",
    " # Return k.\n",
    "# Example :\n",
    "# Input: nums = [3,2,2,3], val = 3\n",
    "# Output: 2, nums = [2,2,_*,_*]\n",
    "# Explanation:Your function should return k = 2, with the first two elements of nums being 2. It does not matter what you leave beyond the returned k (hence they are underscores)["
   ]
  },
  {
   "cell_type": "code",
   "execution_count": 1,
   "id": "7ae5f84e-ad6f-47f3-91d7-bbacac9206e4",
   "metadata": {},
   "outputs": [
    {
     "name": "stdout",
     "output_type": "stream",
     "text": [
      "2 [2, 2]\n"
     ]
    }
   ],
   "source": [
    "def removeElement(nums, val):\n",
    "    k = 0  # Pointer for the next non-val element\n",
    "    n = len(nums)  # Length of the original array\n",
    "    \n",
    "    for i in range(n):\n",
    "        if nums[i] != val:\n",
    "            nums[k] = nums[i]\n",
    "            k += 1\n",
    "    \n",
    "    return k\n",
    "\n",
    "# Example usage\n",
    "nums = [3, 2, 2, 3]\n",
    "val = 3\n",
    "k = removeElement(nums, val)\n",
    "print(k, nums[:k])\n"
   ]
  },
  {
   "cell_type": "markdown",
   "id": "8c532f72-b942-4dba-b5ed-b17459099de3",
   "metadata": {},
   "source": [
    "# Q3. Given a sorted array of distinct integers and a target value, return the index if the target is found. If not, return the index where it would be if it were inserted in order.\n",
    "\n",
    "# You must write an algorithm with O(log n) runtime complexity.\n",
    "# Example 1:\n",
    "# Input: nums = [1,3,5,6], target = 5\n",
    "\n",
    "# Output: 2\n"
   ]
  },
  {
   "cell_type": "code",
   "execution_count": 2,
   "id": "dcf6f332-2560-4924-8c6c-0c9662863186",
   "metadata": {},
   "outputs": [
    {
     "name": "stdout",
     "output_type": "stream",
     "text": [
      "2\n"
     ]
    }
   ],
   "source": [
    "def searchInsert(nums, target):\n",
    "    left = 0\n",
    "    right = len(nums) - 1\n",
    "\n",
    "    while left <= right:\n",
    "        mid = (left + right) // 2\n",
    "        \n",
    "        if nums[mid] == target:\n",
    "            return mid\n",
    "        elif nums[mid] < target:\n",
    "            left = mid + 1\n",
    "        else:\n",
    "            right = mid - 1\n",
    "    \n",
    "    # If the loop ends, the target was not found\n",
    "    return left\n",
    "\n",
    "# Example usage\n",
    "nums = [1, 3, 5, 6]\n",
    "target = 5\n",
    "index = searchInsert(nums, target)\n",
    "print(index)\n"
   ]
  },
  {
   "cell_type": "markdown",
   "id": "fb61e22c-0bc0-4d20-8e60-bb066f065c77",
   "metadata": {},
   "source": [
    "# Q4.You are given a large integer represented as an integer array digits, where each digits[i] is the ith digit of the integer. The digits are ordered from most significant to least significant in left-to-right order. The large integer does not contain any leading 0's.\n",
    "\n",
    "# Increment the large integer by one and return the resulting array of digits.\n",
    "# Example 1:\n",
    "# Input: digits = [1,2,3]\n",
    "# Output: [1,2,4]\n",
    "# Explanation:The array represents the integer 123.\n",
    "# Incrementing by one gives 123 + 1 = 124.\n",
    "# Thus, the result should be [1,2,4]."
   ]
  },
  {
   "cell_type": "code",
   "execution_count": 3,
   "id": "42148614-5204-43b1-b9da-6c641358a662",
   "metadata": {},
   "outputs": [
    {
     "name": "stdout",
     "output_type": "stream",
     "text": [
      "[1, 2, 4]\n"
     ]
    }
   ],
   "source": [
    "def plusOne(digits):\n",
    "    n = len(digits)\n",
    "    \n",
    "    # Add 1 to the least significant digit\n",
    "    digits[n - 1] += 1\n",
    "    \n",
    "    # Carry over any resulting carry\n",
    "    carry = 0\n",
    "    for i in range(n - 1, -1, -1):\n",
    "        digits[i] += carry\n",
    "        carry = digits[i] // 10\n",
    "        digits[i] %= 10\n",
    "    \n",
    "    # If there is still a carry after the loop, insert it at the beginning\n",
    "    if carry > 0:\n",
    "        digits.insert(0, carry)\n",
    "    \n",
    "    return digits\n",
    "\n",
    "# Example usage\n",
    "digits = [1, 2, 3]\n",
    "result = plusOne(digits)\n",
    "print(result)\n"
   ]
  },
  {
   "cell_type": "markdown",
   "id": "df122bdf-546a-4f2d-8855-f33d330811a3",
   "metadata": {},
   "source": [
    "# Q5.You are given two integer arrays nums1 and nums2, sorted in non-decreasing order, and two integers m and n, representing the number of elements in nums1 and nums2 respectively.\n",
    "\n",
    "# Merge nums1 and nums2 into a single array sorted in non-decreasing order.\n",
    "\n",
    "# The final sorted array should not be returned by the function, but instead be stored inside the array nums1. To accommodate this, nums1 has a length of m + n, where the first m elements denote the elements that should be merged, and the last n elements are set to 0 and should be ignored. nums2 has a length of n.\n",
    "\n",
    "# Example 1:\n",
    "# Input: nums1 = [1,2,3,0,0,0], m = 3, nums2 = [2,5,6], n = 3\n",
    "# Output: [1,2,2,3,5,6]\n",
    "\n",
    "# Explanation:The arrays we are merging are [1,2,3] and [2,5,6].\n",
    "# The result of the merge is [1,2,2,3,5,6] with the underlined elements coming from nums1.\n"
   ]
  },
  {
   "cell_type": "code",
   "execution_count": 4,
   "id": "59bb09b6-e918-4e0f-854a-42ced85a325e",
   "metadata": {},
   "outputs": [
    {
     "name": "stdout",
     "output_type": "stream",
     "text": [
      "[1, 2, 2, 3, 5, 6]\n"
     ]
    }
   ],
   "source": [
    "def merge(nums1, m, nums2, n):\n",
    "    # Start from the end of both arrays\n",
    "    p1 = m - 1\n",
    "    p2 = n - 1\n",
    "    \n",
    "    # Merge the arrays from right to left\n",
    "    p = m + n - 1\n",
    "    \n",
    "    while p1 >= 0 and p2 >= 0:\n",
    "        if nums1[p1] >= nums2[p2]:\n",
    "            nums1[p] = nums1[p1]\n",
    "            p1 -= 1\n",
    "        else:\n",
    "            nums1[p] = nums2[p2]\n",
    "            p2 -= 1\n",
    "        p -= 1\n",
    "    \n",
    "    # Copy any remaining elements from nums2 to nums1\n",
    "    if p2 >= 0:\n",
    "        nums1[:p2 + 1] = nums2[:p2 + 1]\n",
    "    \n",
    "    return nums1\n",
    "\n",
    "# Example usage\n",
    "nums1 = [1, 2, 3, 0, 0, 0]\n",
    "m = 3\n",
    "nums2 = [2, 5, 6]\n",
    "n = 3\n",
    "\n",
    "result = merge(nums1, m, nums2, n)\n",
    "print(result)\n"
   ]
  },
  {
   "cell_type": "markdown",
   "id": "62012eaf-18ac-45b7-a236-a03c5e0c0185",
   "metadata": {},
   "source": [
    "# Q6.Given an integer array nums, return true if any value appears at least twice in the array, and return false if every element is distinct.\n",
    "# Example 1:\n",
    "# Input: nums = [1,2,3,1]\n",
    "# Output: true"
   ]
  },
  {
   "cell_type": "code",
   "execution_count": 5,
   "id": "45be536d-7cfc-4ca6-b809-e45be0026511",
   "metadata": {},
   "outputs": [
    {
     "name": "stdout",
     "output_type": "stream",
     "text": [
      "True\n"
     ]
    }
   ],
   "source": [
    "def containsDuplicate(nums):\n",
    "    num_set = set()\n",
    "    \n",
    "    for num in nums:\n",
    "        if num in num_set:\n",
    "            return True\n",
    "        num_set.add(num)\n",
    "    \n",
    "    return False\n",
    "\n",
    "# Example usage\n",
    "nums = [1, 2, 3, 1]\n",
    "result = containsDuplicate(nums)\n",
    "print(result)\n"
   ]
  },
  {
   "cell_type": "markdown",
   "id": "91890f28-e8df-4622-b202-fcd012866d56",
   "metadata": {},
   "source": [
    "# Q7.Given an integer array nums, move all 0's to the end of it while maintaining the relative order of the nonzero elements.\n",
    "\n",
    "# Note that you must do this in-place without making a copy of the array.\n",
    "\n",
    "# Example 1:\n",
    "# Input: nums = [0,1,0,3,12]\n",
    "# Output: [1,3,12,0,0]\n",
    "\n"
   ]
  },
  {
   "cell_type": "code",
   "execution_count": 1,
   "id": "fae9d50b-321d-49ad-a61c-a3bc95b6dc02",
   "metadata": {},
   "outputs": [
    {
     "name": "stdout",
     "output_type": "stream",
     "text": [
      "[1, 3, 12, 0, 0]\n"
     ]
    }
   ],
   "source": [
    "def moveZeroes(nums):\n",
    "    i = 0\n",
    "    j = 0\n",
    "\n",
    "    # Move non-zero elements to the front\n",
    "    while i < len(nums):\n",
    "        if nums[i] != 0:\n",
    "            nums[i], nums[j] = nums[j], nums[i]\n",
    "            j += 1\n",
    "        i += 1\n",
    "\n",
    "    # Set remaining elements to zero\n",
    "    while j < len(nums):\n",
    "        nums[j] = 0\n",
    "        j += 1\n",
    "\n",
    "    return nums\n",
    "\n",
    "# Test the function\n",
    "nums = [0, 1, 0, 3, 12]\n",
    "result = moveZeroes(nums)\n",
    "print(result)\n"
   ]
  },
  {
   "cell_type": "markdown",
   "id": "2618fa53-d946-415e-ab37-4aca555ed7c4",
   "metadata": {},
   "source": [
    "# Q8.You have a set of integers s, which originally contains all the numbers from 1 to n. Unfortunately, due to some error, one of the numbers in s got duplicated to another number in the set, which results in repetition of one number and loss of another number.\n",
    "\n",
    "# You are given an integer array nums representing the data status of this set after the error.\n",
    "\n",
    " # Find the number that occurs twice and the number that is missing and return them in the form of an array.\n",
    "\n",
    "# Example 1:\n",
    "# Input: nums = [1,2,2,4]\n",
    "# Output: [2,3]\n"
   ]
  },
  {
   "cell_type": "code",
   "execution_count": 2,
   "id": "c803f8a3-4806-4e42-b712-f31a6306601a",
   "metadata": {},
   "outputs": [
    {
     "name": "stdout",
     "output_type": "stream",
     "text": [
      "[2, 3]\n"
     ]
    }
   ],
   "source": [
    "def findErrorNums(nums):\n",
    "    numSet = set()\n",
    "    duplicate = 0\n",
    "    missing = 0\n",
    "\n",
    "    for num in nums:\n",
    "        if num in numSet:\n",
    "            duplicate = num\n",
    "        numSet.add(num)\n",
    "\n",
    "    for i in range(1, len(nums) + 1):\n",
    "        if i not in numSet:\n",
    "            missing = i\n",
    "\n",
    "    return [duplicate, missing]\n",
    "\n",
    "# Test the function\n",
    "nums = [1, 2, 2, 4]\n",
    "result = findErrorNums(nums)\n",
    "print(result)\n"
   ]
  }
 ],
 "metadata": {
  "kernelspec": {
   "display_name": "Python 3 (ipykernel)",
   "language": "python",
   "name": "python3"
  },
  "language_info": {
   "codemirror_mode": {
    "name": "ipython",
    "version": 3
   },
   "file_extension": ".py",
   "mimetype": "text/x-python",
   "name": "python",
   "nbconvert_exporter": "python",
   "pygments_lexer": "ipython3",
   "version": "3.10.8"
  }
 },
 "nbformat": 4,
 "nbformat_minor": 5
}
