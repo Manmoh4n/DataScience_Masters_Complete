{
 "cells": [
  {
   "cell_type": "markdown",
   "id": "1248c872-b17f-4aad-a3a5-66a651d27f79",
   "metadata": {},
   "source": [
    "# OOPS Part 1"
   ]
  },
  {
   "cell_type": "markdown",
   "id": "0116243b-eb44-4aa3-ae31-1150fad410db",
   "metadata": {},
   "source": [
    "# Object Oriented Programming System"
   ]
  },
  {
   "cell_type": "code",
   "execution_count": 2,
   "id": "348be17a-a44f-48a5-b62c-a3cac0228218",
   "metadata": {},
   "outputs": [],
   "source": [
    "a=1"
   ]
  },
  {
   "cell_type": "code",
   "execution_count": 5,
   "id": "0e294485-0dae-4a43-ac95-105aca088ab6",
   "metadata": {},
   "outputs": [
    {
     "name": "stdout",
     "output_type": "stream",
     "text": [
      "<class 'int'>\n"
     ]
    }
   ],
   "source": [
    "print(type(a))"
   ]
  },
  {
   "cell_type": "code",
   "execution_count": 6,
   "id": "f93f986f-b33a-4388-9848-79b67c1b4c7a",
   "metadata": {},
   "outputs": [],
   "source": [
    "b=\"manmohan\""
   ]
  },
  {
   "cell_type": "code",
   "execution_count": 8,
   "id": "5acdadbc-eea5-470d-916c-0d7d822b1f5d",
   "metadata": {},
   "outputs": [
    {
     "name": "stdout",
     "output_type": "stream",
     "text": [
      "<class 'str'>\n"
     ]
    }
   ],
   "source": [
    "print(type(b))"
   ]
  },
  {
   "cell_type": "code",
   "execution_count": 9,
   "id": "95b461b3-7368-4332-9053-5a4f3d91c464",
   "metadata": {},
   "outputs": [
    {
     "data": {
      "text/plain": [
       "str"
      ]
     },
     "execution_count": 9,
     "metadata": {},
     "output_type": "execute_result"
    }
   ],
   "source": [
    "type(b)"
   ]
  },
  {
   "cell_type": "code",
   "execution_count": 10,
   "id": "14f1ea13-e2c7-40ec-b520-08af7789a106",
   "metadata": {},
   "outputs": [],
   "source": [
    "class test():\n",
    "    pass"
   ]
  },
  {
   "cell_type": "code",
   "execution_count": 11,
   "id": "33e9ba69-71e4-4f13-a6a1-958b0b36d64d",
   "metadata": {},
   "outputs": [],
   "source": [
    "a=test()"
   ]
  },
  {
   "cell_type": "code",
   "execution_count": 12,
   "id": "2d53a2a0-7c08-4d17-8863-ab52352b266b",
   "metadata": {},
   "outputs": [
    {
     "data": {
      "text/plain": [
       "__main__.test"
      ]
     },
     "execution_count": 12,
     "metadata": {},
     "output_type": "execute_result"
    }
   ],
   "source": [
    "type(a)"
   ]
  },
  {
   "cell_type": "code",
   "execution_count": 14,
   "id": "afffeeff-9f99-489e-ba2e-647617f8467a",
   "metadata": {},
   "outputs": [
    {
     "name": "stdout",
     "output_type": "stream",
     "text": [
      "<class '__main__.test'>\n"
     ]
    }
   ],
   "source": [
    "print(type(a))"
   ]
  },
  {
   "cell_type": "code",
   "execution_count": 19,
   "id": "1ea3b2e6-3c0a-4b7c-9739-25c59f3ff742",
   "metadata": {},
   "outputs": [],
   "source": [
    "class pwskills:\n",
    "    def welcome_msg(self):\n",
    "        print(\"Hello python\")"
   ]
  },
  {
   "cell_type": "code",
   "execution_count": 20,
   "id": "e039c26e-1ca9-4010-982f-b8933c00cd12",
   "metadata": {},
   "outputs": [],
   "source": [
    "rohan = pwskills()"
   ]
  },
  {
   "cell_type": "code",
   "execution_count": 21,
   "id": "88bb2077-206a-4baa-8724-3642cca93bca",
   "metadata": {},
   "outputs": [
    {
     "name": "stdout",
     "output_type": "stream",
     "text": [
      "<class '__main__.pwskills'>\n"
     ]
    }
   ],
   "source": [
    "print(type(rohan))"
   ]
  },
  {
   "cell_type": "code",
   "execution_count": 22,
   "id": "fffe54f8-7e36-4555-8ae6-3ba82df5c062",
   "metadata": {},
   "outputs": [
    {
     "name": "stdout",
     "output_type": "stream",
     "text": [
      "Hello python\n"
     ]
    }
   ],
   "source": [
    "rohan.welcome_msg()"
   ]
  },
  {
   "cell_type": "code",
   "execution_count": 41,
   "id": "e463b33b-6d46-4b08-b1f7-de85563638ed",
   "metadata": {},
   "outputs": [],
   "source": [
    "class pwskills1:\n",
    "    def __init__(self , phone_no , email_id , student_id):    #__init__ is constructor\n",
    "        self.phone_no = phone_no\n",
    "        self.email_id = email_id\n",
    "        self.student_id = student_id\n",
    "        \n",
    "    def student_detail(self):\n",
    "        return self.student_id,self.phone_no, self.email_id"
   ]
  },
  {
   "cell_type": "code",
   "execution_count": null,
   "id": "fc5077d6-4ef7-45fd-b5e1-38cde01f8a38",
   "metadata": {},
   "outputs": [],
   "source": [
    "# self is a pointer we can use any variable name at place self"
   ]
  },
  {
   "cell_type": "code",
   "execution_count": 42,
   "id": "a4345f9e-9e4d-49f2-b0e8-9d86676bac23",
   "metadata": {},
   "outputs": [],
   "source": [
    "var1 = pwskills1(9799787778,\"suraj@gmsil.com\",23)"
   ]
  },
  {
   "cell_type": "code",
   "execution_count": 43,
   "id": "abf5ce15-d44b-4c05-b1f6-0b52c0d8ed4d",
   "metadata": {},
   "outputs": [
    {
     "data": {
      "text/plain": [
       "(23, 9799787778, 'suraj@gmsil.com')"
      ]
     },
     "execution_count": 43,
     "metadata": {},
     "output_type": "execute_result"
    }
   ],
   "source": [
    "var.student_detail()"
   ]
  },
  {
   "cell_type": "code",
   "execution_count": 44,
   "id": "c81ae3ff-17a1-4837-b223-43a84a724a18",
   "metadata": {},
   "outputs": [],
   "source": [
    "var2 = pwskills1(4567890987,\"gav@gamil.com\", 32)"
   ]
  },
  {
   "cell_type": "code",
   "execution_count": 45,
   "id": "37832e13-fe03-4110-bfdc-a378df5aca93",
   "metadata": {},
   "outputs": [
    {
     "data": {
      "text/plain": [
       "(23, 9799787778, 'suraj@gmsil.com')"
      ]
     },
     "execution_count": 45,
     "metadata": {},
     "output_type": "execute_result"
    }
   ],
   "source": [
    "var.student_detail()"
   ]
  },
  {
   "cell_type": "code",
   "execution_count": 47,
   "id": "c51894c4-534e-47db-a530-c0c305feb0b5",
   "metadata": {},
   "outputs": [
    {
     "data": {
      "text/plain": [
       "9799787778"
      ]
     },
     "execution_count": 47,
     "metadata": {},
     "output_type": "execute_result"
    }
   ],
   "source": [
    "var1.phone_no"
   ]
  },
  {
   "cell_type": "code",
   "execution_count": 48,
   "id": "8cf3ec7d-0daa-445d-af9b-fc7c2f7c7622",
   "metadata": {},
   "outputs": [
    {
     "data": {
      "text/plain": [
       "'suraj@gmsil.com'"
      ]
     },
     "execution_count": 48,
     "metadata": {},
     "output_type": "execute_result"
    }
   ],
   "source": [
    "var1.email_id"
   ]
  },
  {
   "cell_type": "code",
   "execution_count": 49,
   "id": "bea0f797-18af-4417-9ce7-d299bbb10ad3",
   "metadata": {},
   "outputs": [
    {
     "data": {
      "text/plain": [
       "23"
      ]
     },
     "execution_count": 49,
     "metadata": {},
     "output_type": "execute_result"
    }
   ],
   "source": [
    "var1.student_id"
   ]
  },
  {
   "cell_type": "code",
   "execution_count": 51,
   "id": "2d5f728a-b007-4599-aae1-6d178ce6474d",
   "metadata": {},
   "outputs": [],
   "source": [
    "class pwskills1:\n",
    "    def __init__(sudh , phone_no , email_id , student_id):    #__init__ is constructor\n",
    "         sudh.phone_no = phone_no\n",
    "         sudh.email_id = email_id\n",
    "         sudh.student_id = student_id\n",
    "        \n",
    "    def student_detail(sudh):\n",
    "        return sudh.student_id,sudh.phone_no, sudh.email_id"
   ]
  },
  {
   "cell_type": "code",
   "execution_count": 53,
   "id": "9df54713-a245-4daf-8867-08baa6c5dbae",
   "metadata": {},
   "outputs": [],
   "source": [
    "var1 = pwskills1(9799787778,\"suraj@gmsil.com\",23)"
   ]
  },
  {
   "cell_type": "code",
   "execution_count": 55,
   "id": "01776f8d-37ff-4532-9ba4-8592b2124e0c",
   "metadata": {},
   "outputs": [
    {
     "data": {
      "text/plain": [
       "9799787778"
      ]
     },
     "execution_count": 55,
     "metadata": {},
     "output_type": "execute_result"
    }
   ],
   "source": [
    "var1.phone_no"
   ]
  },
  {
   "cell_type": "markdown",
   "id": "40151558-66a7-4a60-afee-d6d4daad08b0",
   "metadata": {},
   "source": [
    "# Polymorphism"
   ]
  },
  {
   "cell_type": "markdown",
   "id": "aeca27e2-b5ef-4729-9255-4c30318234df",
   "metadata": {},
   "source": [
    "Polymorphism is a programming term that refers to the use of the same function name, but with different signatures, for multiple types."
   ]
  },
  {
   "cell_type": "code",
   "execution_count": 1,
   "id": "b7410110-4ce4-4c8a-ac12-0a5529b83733",
   "metadata": {},
   "outputs": [],
   "source": [
    "def test(a,b):\n",
    "    return a+b\n"
   ]
  },
  {
   "cell_type": "code",
   "execution_count": 2,
   "id": "01cd85a6-d261-4dcf-843b-f8764ede8d84",
   "metadata": {},
   "outputs": [
    {
     "data": {
      "text/plain": [
       "5"
      ]
     },
     "execution_count": 2,
     "metadata": {},
     "output_type": "execute_result"
    }
   ],
   "source": [
    "test(2,3)"
   ]
  },
  {
   "cell_type": "code",
   "execution_count": 6,
   "id": "c69a9f5f-1e90-47cc-ba85-ffe8f7a391c5",
   "metadata": {},
   "outputs": [
    {
     "data": {
      "text/plain": [
       "'Manmohan Kumar'"
      ]
     },
     "execution_count": 6,
     "metadata": {},
     "output_type": "execute_result"
    }
   ],
   "source": [
    "test(\"Manmohan\" , \" Kumar\")"
   ]
  },
  {
   "cell_type": "code",
   "execution_count": 7,
   "id": "4f21a470-d123-4e5d-80c4-056e98ede61b",
   "metadata": {},
   "outputs": [
    {
     "data": {
      "text/plain": [
       "[1, 2, 3, 4, 5, 6]"
      ]
     },
     "execution_count": 7,
     "metadata": {},
     "output_type": "execute_result"
    }
   ],
   "source": [
    "test([1,2,3] , [4,5,6])"
   ]
  },
  {
   "cell_type": "code",
   "execution_count": 18,
   "id": "a13e3f71-aaf3-4f3b-8b5c-e9742faa972d",
   "metadata": {},
   "outputs": [],
   "source": [
    "class Datascience:\n",
    "    def syllabus(self):\n",
    "        print(\"This is datascience course \")\n",
    "        "
   ]
  },
  {
   "cell_type": "code",
   "execution_count": 19,
   "id": "95a9d6c2-3c7b-4ef1-a95d-9affba1925b8",
   "metadata": {},
   "outputs": [],
   "source": [
    "class Webdev:\n",
    "    def syllabus(self):\n",
    "        print(\"This is webdev course \")"
   ]
  },
  {
   "cell_type": "code",
   "execution_count": 26,
   "id": "815a6220-5073-482a-986d-cd7560aaf890",
   "metadata": {},
   "outputs": [],
   "source": [
    "def parse(class_obj):\n",
    "    for i in class_obj:\n",
    "        i.syllabus()"
   ]
  },
  {
   "cell_type": "code",
   "execution_count": 27,
   "id": "80012b58-69ca-4c66-872b-5dcbf8f4244a",
   "metadata": {},
   "outputs": [],
   "source": [
    "datascience = Datascience()"
   ]
  },
  {
   "cell_type": "code",
   "execution_count": 28,
   "id": "c2315898-9083-4a4c-a48a-34bd5cfa34f0",
   "metadata": {},
   "outputs": [],
   "source": [
    "webdev = Webdev()"
   ]
  },
  {
   "cell_type": "code",
   "execution_count": 29,
   "id": "619c1e47-0b79-4481-9b8d-9a8d14668c42",
   "metadata": {},
   "outputs": [],
   "source": [
    "class_obj = [datascience,webdev]"
   ]
  },
  {
   "cell_type": "code",
   "execution_count": 31,
   "id": "30e8c529-6035-4f82-9b00-83d65b86f2fc",
   "metadata": {},
   "outputs": [
    {
     "name": "stdout",
     "output_type": "stream",
     "text": [
      "This is datascience course \n",
      "This is webdev course \n"
     ]
    }
   ],
   "source": [
    "parse(class_obj)"
   ]
  },
  {
   "cell_type": "markdown",
   "id": "3d60dad2-b554-4238-b1ec-4b3939c40684",
   "metadata": {},
   "source": [
    "# Encapsulation"
   ]
  },
  {
   "cell_type": "markdown",
   "id": "64ae6319-b552-4917-b4f9-57c687703f79",
   "metadata": {},
   "source": [
    "Encapsulation is a mechanism of wrapping the data (variables) and code acting on the data (methods) together as a single unit. In encapsulation, the variables of a class will be hidden from other classes, and can be accessed only through the methods of their current class."
   ]
  },
  {
   "cell_type": "code",
   "execution_count": 1,
   "id": "0646d2c3-7a75-452a-8b59-b5f5a4b4d165",
   "metadata": {},
   "outputs": [],
   "source": [
    "class test:\n",
    "    \n",
    "    def __init__(self , a , b):\n",
    "        self.a=a\n",
    "        self.b=b"
   ]
  },
  {
   "cell_type": "code",
   "execution_count": 2,
   "id": "c136acb8-b164-466d-8c96-69d9436ef8ea",
   "metadata": {},
   "outputs": [],
   "source": [
    "t = test(2,4)"
   ]
  },
  {
   "cell_type": "code",
   "execution_count": 3,
   "id": "7eda46e5-1e2a-4ff7-954d-22ea2d2d5c86",
   "metadata": {},
   "outputs": [],
   "source": [
    "t.a=567"
   ]
  },
  {
   "cell_type": "code",
   "execution_count": 5,
   "id": "e391726a-713d-4f6f-bfb2-2ffa51720a66",
   "metadata": {},
   "outputs": [
    {
     "data": {
      "text/plain": [
       "567"
      ]
     },
     "execution_count": 5,
     "metadata": {},
     "output_type": "execute_result"
    }
   ],
   "source": [
    "t.a  #it is not encapsulated because user can change the value externally"
   ]
  },
  {
   "cell_type": "code",
   "execution_count": 7,
   "id": "ad67b9c4-82dd-4ff1-b786-37fb4099301c",
   "metadata": {},
   "outputs": [],
   "source": [
    "class Car:\n",
    "    \n",
    "    def __init__(self , year , make , model , speed):     # __ is use to make private the model \n",
    "        self.__year=year\n",
    "        self.__make=make\n",
    "        self.__model = model\n",
    "        self.__speed=speed"
   ]
  },
  {
   "cell_type": "code",
   "execution_count": 9,
   "id": "91d7f94b-c1d3-4a76-91b5-cad9f0caac2c",
   "metadata": {},
   "outputs": [],
   "source": [
    "c1 = Car(2023,\"toyata\",\"innova\",100)"
   ]
  },
  {
   "cell_type": "code",
   "execution_count": 13,
   "id": "dde37491-4326-42e4-bf6f-d1e93961445f",
   "metadata": {},
   "outputs": [
    {
     "data": {
      "text/plain": [
       "2023"
      ]
     },
     "execution_count": 13,
     "metadata": {},
     "output_type": "execute_result"
    }
   ],
   "source": [
    "c1._Car__year"
   ]
  },
  {
   "cell_type": "code",
   "execution_count": 15,
   "id": "a435ae63-6bd7-4713-a90b-8505b15aa3f2",
   "metadata": {},
   "outputs": [],
   "source": [
    "class Car:\n",
    "    \n",
    "    def __init__(self , year , make , model , speed):     # __ is use to make private the model \n",
    "        self.__year=year\n",
    "        self.__make=make\n",
    "        self.__model = model\n",
    "        self.__speed=speed\n",
    "        \n",
    "    def set_speed(self,speed):\n",
    "        self.__speed = 0 if speed<0 else speed\n",
    "    def get_speed(self):\n",
    "        return self.__speed\n",
    "        "
   ]
  },
  {
   "cell_type": "code",
   "execution_count": 16,
   "id": "3c233657-1085-4978-92d0-dae69fdf88f9",
   "metadata": {},
   "outputs": [],
   "source": [
    "c1 = Car(2023,\"toyata\",\"innova\",100)"
   ]
  },
  {
   "cell_type": "code",
   "execution_count": 17,
   "id": "a6adaec6-81e0-4872-9c48-a5f15eb0743d",
   "metadata": {},
   "outputs": [
    {
     "data": {
      "text/plain": [
       "2023"
      ]
     },
     "execution_count": 17,
     "metadata": {},
     "output_type": "execute_result"
    }
   ],
   "source": [
    "c1._Car__year"
   ]
  },
  {
   "cell_type": "code",
   "execution_count": 18,
   "id": "a5028b70-5bb0-4bf6-b72d-897f10066d92",
   "metadata": {},
   "outputs": [],
   "source": [
    "c1.set_speed(33)"
   ]
  },
  {
   "cell_type": "code",
   "execution_count": 19,
   "id": "ab9d019b-7441-42f1-a4d2-5b897ca06913",
   "metadata": {},
   "outputs": [
    {
     "data": {
      "text/plain": [
       "33"
      ]
     },
     "execution_count": 19,
     "metadata": {},
     "output_type": "execute_result"
    }
   ],
   "source": [
    "c1.get_speed()"
   ]
  },
  {
   "cell_type": "code",
   "execution_count": 2,
   "id": "cbca236e-4211-4e3d-bb7a-0b052e5425b1",
   "metadata": {},
   "outputs": [],
   "source": [
    "class bank_account:\n",
    "    \n",
    "    def __init__(self,balance):\n",
    "        self.__balance=balance\n",
    "        \n",
    "    def deposit(self,amount):\n",
    "        self.__balance = self.__balance + amount\n",
    "        \n",
    "    def withdraw(self,amount):\n",
    "        if self.__balance >= amount:\n",
    "            self.__balance = self.__balance-amount\n",
    "            return True\n",
    "        else:\n",
    "            return False\n",
    "    def get_balance(self):\n",
    "        return self.__balance"
   ]
  },
  {
   "cell_type": "code",
   "execution_count": 3,
   "id": "0a2479ca-97da-4b89-837d-6316ca8f0c2e",
   "metadata": {},
   "outputs": [],
   "source": [
    "sudh = bank_account(1000)"
   ]
  },
  {
   "cell_type": "code",
   "execution_count": 4,
   "id": "8351d41b-59de-4d25-a9fe-871ba4547802",
   "metadata": {},
   "outputs": [
    {
     "data": {
      "text/plain": [
       "1000"
      ]
     },
     "execution_count": 4,
     "metadata": {},
     "output_type": "execute_result"
    }
   ],
   "source": [
    "sudh.get_balance()"
   ]
  },
  {
   "cell_type": "code",
   "execution_count": 5,
   "id": "390815a7-046b-4c5b-b5d9-ed00e373bb31",
   "metadata": {},
   "outputs": [],
   "source": [
    "sudh.deposit(2000)"
   ]
  },
  {
   "cell_type": "code",
   "execution_count": 6,
   "id": "50602020-2b11-48dc-85ca-349c06b798da",
   "metadata": {},
   "outputs": [
    {
     "data": {
      "text/plain": [
       "3000"
      ]
     },
     "execution_count": 6,
     "metadata": {},
     "output_type": "execute_result"
    }
   ],
   "source": [
    "sudh.get_balance()"
   ]
  },
  {
   "cell_type": "code",
   "execution_count": 7,
   "id": "1c88f74d-f656-49a4-a325-2bddcdad3faf",
   "metadata": {},
   "outputs": [
    {
     "data": {
      "text/plain": [
       "True"
      ]
     },
     "execution_count": 7,
     "metadata": {},
     "output_type": "execute_result"
    }
   ],
   "source": [
    "sudh.withdraw(200)"
   ]
  },
  {
   "cell_type": "code",
   "execution_count": 9,
   "id": "c2ba5639-89c1-4c94-9a8a-21b36b8e03ce",
   "metadata": {},
   "outputs": [
    {
     "data": {
      "text/plain": [
       "2800"
      ]
     },
     "execution_count": 9,
     "metadata": {},
     "output_type": "execute_result"
    }
   ],
   "source": [
    "sudh.get_balance()"
   ]
  },
  {
   "cell_type": "markdown",
   "id": "ff34b9e1-e0dd-4039-a68d-4839b284d57d",
   "metadata": {},
   "source": [
    "# Inheritance"
   ]
  },
  {
   "cell_type": "markdown",
   "id": "dc7a8dea-9d8a-42ab-be36-868186b4355a",
   "metadata": {},
   "source": [
    "Inheritance allows us to define a class that inherits all the methods and properties from another class. Parent class is the class being inherited from, also called base class. Child class is the class that inherits from another class, also called derived class."
   ]
  },
  {
   "cell_type": "code",
   "execution_count": 1,
   "id": "7f8f0c79-da70-4beb-bbbd-88c406f0dd5b",
   "metadata": {},
   "outputs": [],
   "source": [
    "class test:\n",
    "    \n",
    "    def math(self):\n",
    "        return \"this is parent class\""
   ]
  },
  {
   "cell_type": "code",
   "execution_count": 2,
   "id": "17bf2341-81c4-4ced-86a3-0a8c7ea59fcc",
   "metadata": {},
   "outputs": [],
   "source": [
    "class child_test(test):\n",
    "    pass"
   ]
  },
  {
   "cell_type": "code",
   "execution_count": 3,
   "id": "80daf802-1ffa-424d-b1c1-d9829cf4263a",
   "metadata": {},
   "outputs": [],
   "source": [
    "ch_obj = child_test()\n"
   ]
  },
  {
   "cell_type": "code",
   "execution_count": 5,
   "id": "e1fed2bd-6c24-45f4-aa4e-e0d44ce673f9",
   "metadata": {},
   "outputs": [
    {
     "data": {
      "text/plain": [
       "'this is parent class'"
      ]
     },
     "execution_count": 5,
     "metadata": {},
     "output_type": "execute_result"
    }
   ],
   "source": [
    "ch_obj.math()"
   ]
  },
  {
   "cell_type": "code",
   "execution_count": 1,
   "id": "95d601bb-619e-4e34-b601-8b0e05dde2fd",
   "metadata": {},
   "outputs": [],
   "source": [
    "#Multi Level Inheritance"
   ]
  },
  {
   "cell_type": "code",
   "execution_count": 2,
   "id": "0744fb60-5b23-4ddc-a1c2-0e3795184071",
   "metadata": {},
   "outputs": [],
   "source": [
    "class class1:\n",
    "    def test_class1(self):\n",
    "        return \"this is first class \""
   ]
  },
  {
   "cell_type": "code",
   "execution_count": 3,
   "id": "808fb1c2-7987-4386-82d3-058164f56692",
   "metadata": {},
   "outputs": [],
   "source": [
    "class class2(class1):\n",
    "    def test_class2(self):\n",
    "        return \"this is second class \""
   ]
  },
  {
   "cell_type": "code",
   "execution_count": 5,
   "id": "44b207c3-fe65-4f76-a02f-79663a50e67a",
   "metadata": {},
   "outputs": [],
   "source": [
    "class class3(class2):\n",
    "    pass"
   ]
  },
  {
   "cell_type": "code",
   "execution_count": 6,
   "id": "0776a228-f25f-4c24-9a28-0bec224a392d",
   "metadata": {},
   "outputs": [],
   "source": [
    "obj_class3 = class3()"
   ]
  },
  {
   "cell_type": "code",
   "execution_count": 7,
   "id": "30608368-4c02-4ed0-8ecf-f0c33618b3c4",
   "metadata": {},
   "outputs": [
    {
     "data": {
      "text/plain": [
       "'this is first class '"
      ]
     },
     "execution_count": 7,
     "metadata": {},
     "output_type": "execute_result"
    }
   ],
   "source": [
    "obj_class3.test_class1()"
   ]
  },
  {
   "cell_type": "code",
   "execution_count": 9,
   "id": "e2d49529-39a8-49d9-8398-99ded25703f6",
   "metadata": {},
   "outputs": [
    {
     "data": {
      "text/plain": [
       "'this is second class '"
      ]
     },
     "execution_count": 9,
     "metadata": {},
     "output_type": "execute_result"
    }
   ],
   "source": [
    "obj_class3.test_class2()"
   ]
  },
  {
   "cell_type": "code",
   "execution_count": 11,
   "id": "54172216-6c96-4604-bbc0-b212cb9d5fe4",
   "metadata": {},
   "outputs": [],
   "source": [
    "#Multiple Inheritance"
   ]
  },
  {
   "cell_type": "code",
   "execution_count": 12,
   "id": "7f39b2bc-3310-4fd5-b111-8b814a178494",
   "metadata": {},
   "outputs": [],
   "source": [
    "class class1:\n",
    "    def test_class1(self):\n",
    "        return \"this is parent 1\"\n",
    "    "
   ]
  },
  {
   "cell_type": "code",
   "execution_count": 13,
   "id": "b3230818-aa76-4335-859e-3a4536f59a5e",
   "metadata": {},
   "outputs": [],
   "source": [
    "class class2:\n",
    "    def test_class2(self):\n",
    "        return \"this is parent 2\""
   ]
  },
  {
   "cell_type": "code",
   "execution_count": 19,
   "id": "142f3811-838e-4a60-9b60-96de2941dcf0",
   "metadata": {},
   "outputs": [],
   "source": [
    "class class3(class1,class2):\n",
    "    pass"
   ]
  },
  {
   "cell_type": "code",
   "execution_count": 20,
   "id": "e5876095-4732-4dab-b289-136037484ca7",
   "metadata": {},
   "outputs": [],
   "source": [
    "class_obj = class3()"
   ]
  },
  {
   "cell_type": "code",
   "execution_count": 21,
   "id": "4fdf7f68-9d7a-4127-ae1a-ea7e75c42dbe",
   "metadata": {},
   "outputs": [
    {
     "data": {
      "text/plain": [
       "'this is parent 1'"
      ]
     },
     "execution_count": 21,
     "metadata": {},
     "output_type": "execute_result"
    }
   ],
   "source": [
    "class_obj.test_class1()"
   ]
  },
  {
   "cell_type": "code",
   "execution_count": 22,
   "id": "671cdf0b-ca61-497c-be93-1b0e5de50272",
   "metadata": {},
   "outputs": [
    {
     "data": {
      "text/plain": [
       "'this is parent 2'"
      ]
     },
     "execution_count": 22,
     "metadata": {},
     "output_type": "execute_result"
    }
   ],
   "source": [
    "class_obj.test_class2()"
   ]
  },
  {
   "cell_type": "markdown",
   "id": "d14dd902-a480-4aec-b90c-ccafb5a67aaf",
   "metadata": {},
   "source": [
    "# Decorators"
   ]
  },
  {
   "cell_type": "code",
   "execution_count": 11,
   "id": "953fd67c-1755-43de-bf5f-1e7b014ac2b8",
   "metadata": {},
   "outputs": [],
   "source": [
    "def test():\n",
    "    print(\"This is start of my function \")\n",
    "    print(6+7)\n",
    "    print(\"This is end of my function\")"
   ]
  },
  {
   "cell_type": "code",
   "execution_count": 12,
   "id": "1f9dd03a-1637-4d39-8e70-8d00e71285c6",
   "metadata": {},
   "outputs": [
    {
     "name": "stdout",
     "output_type": "stream",
     "text": [
      "This is start of my function \n",
      "13\n",
      "This is end of my function\n"
     ]
    }
   ],
   "source": [
    "test()"
   ]
  },
  {
   "cell_type": "code",
   "execution_count": 27,
   "id": "71ca8064-99a2-4bf0-a7a8-235ffaf579b6",
   "metadata": {},
   "outputs": [],
   "source": [
    "def test1(func):\n",
    "    def inner_dec():\n",
    "        print(\"this is my first function \")\n",
    "        func()\n",
    "        print(\"This is my end function\")\n",
    "    return inner_dec\n",
    "    "
   ]
  },
  {
   "cell_type": "code",
   "execution_count": 28,
   "id": "ffa07c82-452d-4d46-b01a-5b9c88b75943",
   "metadata": {},
   "outputs": [],
   "source": [
    "@deco\n",
    "def test2():\n",
    "    print(6+7)"
   ]
  },
  {
   "cell_type": "code",
   "execution_count": 29,
   "id": "b4e8c63e-8aec-453f-804f-7ce0616271e9",
   "metadata": {},
   "outputs": [
    {
     "name": "stdout",
     "output_type": "stream",
     "text": [
      "this is my first function \n",
      "13\n",
      "This is my end function\n"
     ]
    }
   ],
   "source": [
    "test2()"
   ]
  },
  {
   "cell_type": "code",
   "execution_count": 42,
   "id": "9cf3c9f8-139f-45c9-abb5-f6af40b79a4d",
   "metadata": {},
   "outputs": [],
   "source": [
    "import time\n",
    "def timer_test(func):\n",
    "    def inner_test():\n",
    "        start = time.time()\n",
    "        func()\n",
    "        end = time.time()\n",
    "        print(start)\n",
    "        print()\n",
    "        print(end-start)\n",
    "    return inner_test"
   ]
  },
  {
   "cell_type": "code",
   "execution_count": 43,
   "id": "0b537dbd-05f8-471d-ab23-5320a93dc130",
   "metadata": {},
   "outputs": [],
   "source": [
    "def test1():\n",
    "    print(6+7)"
   ]
  },
  {
   "cell_type": "code",
   "execution_count": 44,
   "id": "2768e8ef-d7a3-4e4d-a226-a6a8807a5aff",
   "metadata": {},
   "outputs": [
    {
     "name": "stdout",
     "output_type": "stream",
     "text": [
      "13\n"
     ]
    }
   ],
   "source": [
    "test1()"
   ]
  },
  {
   "cell_type": "code",
   "execution_count": 54,
   "id": "fb204176-342d-46d2-8ea9-c80a1dc4b3dd",
   "metadata": {},
   "outputs": [],
   "source": [
    "@timer_test\n",
    "def test2():\n",
    "    print(9+7)"
   ]
  },
  {
   "cell_type": "code",
   "execution_count": 55,
   "id": "68b103fc-0d42-4899-bd79-021bbe6135ba",
   "metadata": {},
   "outputs": [
    {
     "name": "stdout",
     "output_type": "stream",
     "text": [
      "16\n",
      "1676021295.8037405\n",
      "1676021295.8037868\n",
      "4.6253204345703125e-05\n"
     ]
    }
   ],
   "source": [
    "test2()"
   ]
  },
  {
   "cell_type": "markdown",
   "id": "ba2ab2ca-1721-476a-9dda-e8d437cad947",
   "metadata": {},
   "source": [
    "# Class Method"
   ]
  },
  {
   "cell_type": "code",
   "execution_count": 10,
   "id": "dbedd26f-578a-41c7-81ad-8f2ab6cfc6f9",
   "metadata": {},
   "outputs": [],
   "source": [
    "class pwskills:\n",
    "    def __init__(self, name, email):\n",
    "        self.name=name\n",
    "        self.email=email\n",
    "    def student_detail(self):\n",
    "        print(self.name,self.email)"
   ]
  },
  {
   "cell_type": "code",
   "execution_count": 11,
   "id": "17bfda47-01ab-431f-a57a-57b3fdcab7c4",
   "metadata": {},
   "outputs": [],
   "source": [
    "pw=pwskills(\"mammohan\" , \"manmohan@gmail.com\")"
   ]
  },
  {
   "cell_type": "code",
   "execution_count": 12,
   "id": "3ceae34d-4c1e-4830-b3c3-8c3a5aeae4c9",
   "metadata": {},
   "outputs": [
    {
     "data": {
      "text/plain": [
       "'mammohan'"
      ]
     },
     "execution_count": 12,
     "metadata": {},
     "output_type": "execute_result"
    }
   ],
   "source": [
    "pw.name"
   ]
  },
  {
   "cell_type": "code",
   "execution_count": 13,
   "id": "74d9fb1c-c757-4365-9a32-472c85f22373",
   "metadata": {},
   "outputs": [
    {
     "name": "stdout",
     "output_type": "stream",
     "text": [
      "mammohan manmohan@gmail.com\n"
     ]
    }
   ],
   "source": [
    "pw.student_detail()"
   ]
  },
  {
   "cell_type": "code",
   "execution_count": 22,
   "id": "32eb8cff-d458-4853-b9cb-ee4647f21d00",
   "metadata": {},
   "outputs": [],
   "source": [
    "class pwskills1:\n",
    "    def __init__(self,name,email):\n",
    "        self.name=name\n",
    "        self.email=email\n",
    "    @classmethod                          #without creating object of a class we can access all the data \n",
    "    def detail(cls,name,email):\n",
    "        return cls(name,email)\n",
    "        \n",
    "    def student_detail(self):\n",
    "        print(self.name,self.email)"
   ]
  },
  {
   "cell_type": "code",
   "execution_count": 23,
   "id": "d30f0391-d4bb-4a22-8b1e-4f038f576762",
   "metadata": {},
   "outputs": [],
   "source": [
    "pw = pwskills1.detail(\"sam\",\"sam@gmail.com\")"
   ]
  },
  {
   "cell_type": "code",
   "execution_count": 24,
   "id": "79747502-d699-41e8-84c1-3408578f4494",
   "metadata": {},
   "outputs": [
    {
     "data": {
      "text/plain": [
       "'sam'"
      ]
     },
     "execution_count": 24,
     "metadata": {},
     "output_type": "execute_result"
    }
   ],
   "source": [
    "pw.name"
   ]
  },
  {
   "cell_type": "code",
   "execution_count": 25,
   "id": "fee539f5-2a17-44d2-b47a-88ac8b715d4e",
   "metadata": {},
   "outputs": [
    {
     "name": "stdout",
     "output_type": "stream",
     "text": [
      "sam sam@gmail.com\n"
     ]
    }
   ],
   "source": [
    "pw.student_detail()"
   ]
  },
  {
   "cell_type": "code",
   "execution_count": 50,
   "id": "f0846696-8cd5-4f50-adf8-fe1add701efc",
   "metadata": {},
   "outputs": [],
   "source": [
    "class pwskills3:\n",
    "    \n",
    "    mobile_num=567899876;\n",
    "    \n",
    "    def __init__(self,name,email):\n",
    "        self.name=name\n",
    "        self.email=email\n",
    "    @classmethod\n",
    "    def change_mobile_num(cls,mobile):\n",
    "        pwskills2.mobile_num=mobile\n",
    "    @classmethod                          #without creating object of a class we can access all the data \n",
    "    def detail(cls,name,email):\n",
    "        return cls(name,email)\n",
    "        \n",
    "    def student_detail(self):\n",
    "        print(self.name,self.email)"
   ]
  },
  {
   "cell_type": "code",
   "execution_count": 51,
   "id": "6816473c-38e2-4bd1-a21e-abf15fb4ee4e",
   "metadata": {},
   "outputs": [],
   "source": [
    "pwskills3.change_mobile_num(87654321)"
   ]
  },
  {
   "cell_type": "code",
   "execution_count": 53,
   "id": "fd031a73-f394-4db6-aa6f-ad104e3a3385",
   "metadata": {},
   "outputs": [
    {
     "data": {
      "text/plain": [
       "87654321"
      ]
     },
     "execution_count": 53,
     "metadata": {},
     "output_type": "execute_result"
    }
   ],
   "source": [
    " pwskills2.mobile_num"
   ]
  },
  {
   "cell_type": "code",
   "execution_count": 54,
   "id": "0449ca74-9320-486a-99dd-48620c6c6ab0",
   "metadata": {},
   "outputs": [],
   "source": [
    "pw=pwskills3.detail(\"man\" , \"man@gmail\")"
   ]
  },
  {
   "cell_type": "code",
   "execution_count": 56,
   "id": "2e19cc81-9751-4c5a-8e18-22690d6865b1",
   "metadata": {},
   "outputs": [
    {
     "name": "stdout",
     "output_type": "stream",
     "text": [
      "man man@gmail\n"
     ]
    }
   ],
   "source": [
    "pw.student_detail()"
   ]
  },
  {
   "cell_type": "code",
   "execution_count": 57,
   "id": "5b6b0e64-2076-4a4b-8d78-b4b62e6c656a",
   "metadata": {},
   "outputs": [],
   "source": [
    "class pwskills3:\n",
    "    \n",
    "    mobile_num=567899876;\n",
    "    \n",
    "    def __init__(self,name,email):\n",
    "        self.name=name\n",
    "        self.email=email\n",
    "    @classmethod\n",
    "    def change_mobile_num(cls,mobile):\n",
    "        pwskills2.mobile_num=mobile\n",
    "    @classmethod                          #without creating object of a class we can access all the data \n",
    "    def detail(cls,name,email):\n",
    "        return cls(name,email)\n",
    "        \n",
    "    def student_detail(self):\n",
    "        print(self.name,self.email)"
   ]
  },
  {
   "cell_type": "code",
   "execution_count": 58,
   "id": "aebfe7dd-b0b8-40fa-866e-65dfa500701c",
   "metadata": {},
   "outputs": [],
   "source": [
    "#attach external function \n",
    "def course(self,course_name):\n",
    "    print(\"course name is \",course_name)"
   ]
  },
  {
   "cell_type": "code",
   "execution_count": 61,
   "id": "6aee22f5-f04a-4f04-9d88-fe3308c87327",
   "metadata": {},
   "outputs": [],
   "source": [
    "pwskills3.course = classmethod(course)"
   ]
  },
  {
   "cell_type": "code",
   "execution_count": 62,
   "id": "ff021e75-5aaa-4a4e-8b80-09c07b5a3afd",
   "metadata": {},
   "outputs": [
    {
     "name": "stdout",
     "output_type": "stream",
     "text": [
      "course name is  java\n"
     ]
    }
   ],
   "source": [
    "pwskills3.course(\"java\")"
   ]
  },
  {
   "cell_type": "code",
   "execution_count": 63,
   "id": "770b5caf-aac7-4f92-af9b-c17c6f9634f5",
   "metadata": {},
   "outputs": [],
   "source": [
    "def mentor(cls, list1):\n",
    "    print(\"list of mentor\", list1)"
   ]
  },
  {
   "cell_type": "code",
   "execution_count": 64,
   "id": "65f32576-b62c-4971-8f56-8ff9fd487697",
   "metadata": {},
   "outputs": [],
   "source": [
    "pwskills3.mentor= classmethod(mentor)"
   ]
  },
  {
   "cell_type": "code",
   "execution_count": 66,
   "id": "7ff3cc1d-f030-40f8-90d2-7b8cefb0a9c7",
   "metadata": {},
   "outputs": [
    {
     "name": "stdout",
     "output_type": "stream",
     "text": [
      "list of mentor ['sam', 'man']\n"
     ]
    }
   ],
   "source": [
    "pwskills3.mentor([\"sam\",\"man\"])"
   ]
  },
  {
   "cell_type": "code",
   "execution_count": 69,
   "id": "e90c9e4c-73e9-40e2-b3ce-1cf1493bc197",
   "metadata": {},
   "outputs": [],
   "source": [
    "class pwskills4:\n",
    "    \n",
    "    mobile_num=567899876;\n",
    "    \n",
    "    def __init__(self,name,email):\n",
    "        self.name=name\n",
    "        self.email=email\n",
    "    @classmethod\n",
    "    def change_mobile_num(cls,mobile):\n",
    "        pwskills2.mobile_num=mobile\n",
    "    @classmethod                          #without creating object of a class we can access all the data \n",
    "    def detail(cls,name,email):\n",
    "        return cls(name,email)\n",
    "        \n",
    "    def student_detail(self):\n",
    "        print(self.name,self.email)"
   ]
  },
  {
   "cell_type": "code",
   "execution_count": 70,
   "id": "afdefce7-1560-44dc-abac-f9e100e99c8c",
   "metadata": {},
   "outputs": [],
   "source": [
    "#delete class function\n",
    "del pwskills4.change_mobile_num"
   ]
  },
  {
   "cell_type": "code",
   "execution_count": 71,
   "id": "124745b5-2810-4735-9910-9ef770421dfd",
   "metadata": {},
   "outputs": [],
   "source": [
    "delattr(pwskills4,\"detail\")"
   ]
  },
  {
   "cell_type": "markdown",
   "id": "fb4c1c89-bb10-4023-adf8-65979f0164b3",
   "metadata": {},
   "source": [
    "# Static Method"
   ]
  },
  {
   "cell_type": "code",
   "execution_count": 73,
   "id": "c31485c0-bb5f-45aa-a391-8128cc131d8c",
   "metadata": {},
   "outputs": [],
   "source": [
    "class pwskills:\n",
    "    def student(self,name,email,mobile):\n",
    "        print(name,email,mobile)"
   ]
  },
  {
   "cell_type": "code",
   "execution_count": 77,
   "id": "c36c27e4-b412-46af-a907-d7ee6dd5847e",
   "metadata": {},
   "outputs": [],
   "source": [
    "pw = pwskills()\n"
   ]
  },
  {
   "cell_type": "code",
   "execution_count": 78,
   "id": "aeebe4a2-a739-41e8-b6f4-15720fd8f183",
   "metadata": {},
   "outputs": [
    {
     "name": "stdout",
     "output_type": "stream",
     "text": [
      "manmohan mohan@gmail.com 9876543\n"
     ]
    }
   ],
   "source": [
    "pw.student(\"manmohan\",\"mohan@gmail.com\",9876543)"
   ]
  },
  {
   "cell_type": "code",
   "execution_count": 84,
   "id": "1babb57c-22eb-4a74-adb5-be67ce766806",
   "metadata": {},
   "outputs": [],
   "source": [
    "class pwskills:\n",
    "    def student(self,name,email,mobile):\n",
    "        print(name,email,mobile)\n",
    "    @staticmethod\n",
    "    def mentor(mentor_list):\n",
    "        print(mentor_list)"
   ]
  },
  {
   "cell_type": "code",
   "execution_count": 85,
   "id": "e2fe6177-e697-417f-8175-2e5a60a9150e",
   "metadata": {},
   "outputs": [
    {
     "name": "stdout",
     "output_type": "stream",
     "text": [
      "['man', 'sam', 'jam', 'Ram']\n"
     ]
    }
   ],
   "source": [
    "pwskills.mentor([\"man\",\"sam\",\"jam\",\"Ram\"])   #for static method no need to create object"
   ]
  },
  {
   "cell_type": "code",
   "execution_count": 95,
   "id": "ede5e691-2a4b-4412-b132-1983a2b4c128",
   "metadata": {},
   "outputs": [],
   "source": [
    "class pwskills:\n",
    "    def student(self,name,email,mobile):\n",
    "        print(name,email,mobile)\n",
    "    @staticmethod\n",
    "    def mentor(mentor_list):\n",
    "        print(mentor_list)\n",
    "    @classmethod\n",
    "    def name(cls):\n",
    "        cls.mentor([\"sudh\",\"kr\"])    #call static mehod under the class method"
   ]
  },
  {
   "cell_type": "code",
   "execution_count": 92,
   "id": "9f427ece-e708-4832-8e42-e13c7e2b9061",
   "metadata": {},
   "outputs": [
    {
     "name": "stdout",
     "output_type": "stream",
     "text": [
      "['sudh', 'kr']\n"
     ]
    }
   ],
   "source": [
    "pwskills.name()"
   ]
  },
  {
   "cell_type": "code",
   "execution_count": 93,
   "id": "ee83c2af-1742-4c77-9732-5271d7e24763",
   "metadata": {},
   "outputs": [],
   "source": [
    "#call static under static \n",
    "class pwskills:\n",
    "    def student(self,name,email,mobile):\n",
    "        print(name,email,mobile)\n",
    "        \n",
    "    @staticmethod\n",
    "    def mentor_email(email):\n",
    "        print(email)\n",
    "    @staticmethod             \n",
    "    def mentor(mentor_list):\n",
    "        pwskills.mentor_email([\"man@gmail\",\"sam@gmail\"])              #one static under other static function\n",
    "        print(mentor_list)\n",
    "    @classmethod\n",
    "    def name(cls):\n",
    "        cls.mentor([\"sudh\",\"kr\"])"
   ]
  },
  {
   "cell_type": "code",
   "execution_count": 94,
   "id": "a4afebc8-d761-4041-864f-3dd3e8af1516",
   "metadata": {},
   "outputs": [
    {
     "name": "stdout",
     "output_type": "stream",
     "text": [
      "['man@gmail', 'sam@gmail']\n",
      "['ram@gmail']\n"
     ]
    }
   ],
   "source": [
    "pwskills.mentor([\"ram@gmail\"])"
   ]
  },
  {
   "cell_type": "code",
   "execution_count": 111,
   "id": "ad9e902c-3e39-4f16-862f-07fad73ac0f6",
   "metadata": {},
   "outputs": [],
   "source": [
    "#call static under static \n",
    "class pwskills:\n",
    "    def student(self,name,email,mobile):\n",
    "        print(name,email,mobile)\n",
    "        \n",
    "    @staticmethod             \n",
    "    def mentor(mentor_list):\n",
    "        print(mentor_list)\n",
    "        \n",
    "    def test(self,mentor_class):\n",
    "        print(mentor_class)\n",
    "        self.mentor([\"agg@gmail\",\"sam@gmail\"])        #static method call in instance method"
   ]
  },
  {
   "cell_type": "code",
   "execution_count": 109,
   "id": "a4cd246b-2382-4481-8d32-0bef1771b37c",
   "metadata": {},
   "outputs": [],
   "source": [
    "pw=pwskills()"
   ]
  },
  {
   "cell_type": "code",
   "execution_count": 110,
   "id": "08c8b434-e5c1-482e-9bbc-26aee9b8c686",
   "metadata": {},
   "outputs": [
    {
     "name": "stdout",
     "output_type": "stream",
     "text": [
      "['list2@gmail']\n",
      "['agg@gmail', 'sam@gmail']\n"
     ]
    }
   ],
   "source": [
    "pw.test([\"list2@gmail\"])"
   ]
  },
  {
   "cell_type": "markdown",
   "id": "1f65b1d6-4d11-42f7-b3f4-c0c8493d2231",
   "metadata": {},
   "source": [
    "# Magic Method"
   ]
  },
  {
   "cell_type": "code",
   "execution_count": 112,
   "id": "da829aca-b5a6-4be8-b1d5-685e22fdc037",
   "metadata": {},
   "outputs": [
    {
     "data": {
      "text/plain": [
       "['__abs__',\n",
       " '__add__',\n",
       " '__and__',\n",
       " '__bool__',\n",
       " '__ceil__',\n",
       " '__class__',\n",
       " '__delattr__',\n",
       " '__dir__',\n",
       " '__divmod__',\n",
       " '__doc__',\n",
       " '__eq__',\n",
       " '__float__',\n",
       " '__floor__',\n",
       " '__floordiv__',\n",
       " '__format__',\n",
       " '__ge__',\n",
       " '__getattribute__',\n",
       " '__getnewargs__',\n",
       " '__gt__',\n",
       " '__hash__',\n",
       " '__index__',\n",
       " '__init__',\n",
       " '__init_subclass__',\n",
       " '__int__',\n",
       " '__invert__',\n",
       " '__le__',\n",
       " '__lshift__',\n",
       " '__lt__',\n",
       " '__mod__',\n",
       " '__mul__',\n",
       " '__ne__',\n",
       " '__neg__',\n",
       " '__new__',\n",
       " '__or__',\n",
       " '__pos__',\n",
       " '__pow__',\n",
       " '__radd__',\n",
       " '__rand__',\n",
       " '__rdivmod__',\n",
       " '__reduce__',\n",
       " '__reduce_ex__',\n",
       " '__repr__',\n",
       " '__rfloordiv__',\n",
       " '__rlshift__',\n",
       " '__rmod__',\n",
       " '__rmul__',\n",
       " '__ror__',\n",
       " '__round__',\n",
       " '__rpow__',\n",
       " '__rrshift__',\n",
       " '__rshift__',\n",
       " '__rsub__',\n",
       " '__rtruediv__',\n",
       " '__rxor__',\n",
       " '__setattr__',\n",
       " '__sizeof__',\n",
       " '__str__',\n",
       " '__sub__',\n",
       " '__subclasshook__',\n",
       " '__truediv__',\n",
       " '__trunc__',\n",
       " '__xor__',\n",
       " 'as_integer_ratio',\n",
       " 'bit_count',\n",
       " 'bit_length',\n",
       " 'conjugate',\n",
       " 'denominator',\n",
       " 'from_bytes',\n",
       " 'imag',\n",
       " 'numerator',\n",
       " 'real',\n",
       " 'to_bytes']"
      ]
     },
     "execution_count": 112,
     "metadata": {},
     "output_type": "execute_result"
    }
   ],
   "source": [
    "dir(int)"
   ]
  },
  {
   "cell_type": "code",
   "execution_count": 113,
   "id": "76bb9e63-3564-49c1-aeef-53a5b6530853",
   "metadata": {},
   "outputs": [
    {
     "data": {
      "text/plain": [
       "['__add__',\n",
       " '__class__',\n",
       " '__contains__',\n",
       " '__delattr__',\n",
       " '__dir__',\n",
       " '__doc__',\n",
       " '__eq__',\n",
       " '__format__',\n",
       " '__ge__',\n",
       " '__getattribute__',\n",
       " '__getitem__',\n",
       " '__getnewargs__',\n",
       " '__gt__',\n",
       " '__hash__',\n",
       " '__init__',\n",
       " '__init_subclass__',\n",
       " '__iter__',\n",
       " '__le__',\n",
       " '__len__',\n",
       " '__lt__',\n",
       " '__mod__',\n",
       " '__mul__',\n",
       " '__ne__',\n",
       " '__new__',\n",
       " '__reduce__',\n",
       " '__reduce_ex__',\n",
       " '__repr__',\n",
       " '__rmod__',\n",
       " '__rmul__',\n",
       " '__setattr__',\n",
       " '__sizeof__',\n",
       " '__str__',\n",
       " '__subclasshook__',\n",
       " 'capitalize',\n",
       " 'casefold',\n",
       " 'center',\n",
       " 'count',\n",
       " 'encode',\n",
       " 'endswith',\n",
       " 'expandtabs',\n",
       " 'find',\n",
       " 'format',\n",
       " 'format_map',\n",
       " 'index',\n",
       " 'isalnum',\n",
       " 'isalpha',\n",
       " 'isascii',\n",
       " 'isdecimal',\n",
       " 'isdigit',\n",
       " 'isidentifier',\n",
       " 'islower',\n",
       " 'isnumeric',\n",
       " 'isprintable',\n",
       " 'isspace',\n",
       " 'istitle',\n",
       " 'isupper',\n",
       " 'join',\n",
       " 'ljust',\n",
       " 'lower',\n",
       " 'lstrip',\n",
       " 'maketrans',\n",
       " 'partition',\n",
       " 'removeprefix',\n",
       " 'removesuffix',\n",
       " 'replace',\n",
       " 'rfind',\n",
       " 'rindex',\n",
       " 'rjust',\n",
       " 'rpartition',\n",
       " 'rsplit',\n",
       " 'rstrip',\n",
       " 'split',\n",
       " 'splitlines',\n",
       " 'startswith',\n",
       " 'strip',\n",
       " 'swapcase',\n",
       " 'title',\n",
       " 'translate',\n",
       " 'upper',\n",
       " 'zfill']"
      ]
     },
     "execution_count": 113,
     "metadata": {},
     "output_type": "execute_result"
    }
   ],
   "source": [
    "dir(str)"
   ]
  },
  {
   "cell_type": "code",
   "execution_count": 119,
   "id": "0e626a49-8211-4cbb-8fa0-dccdcb79ad88",
   "metadata": {},
   "outputs": [],
   "source": [
    "a=10"
   ]
  },
  {
   "cell_type": "code",
   "execution_count": 120,
   "id": "5caba279-fb58-4694-a88b-f5f58d417f74",
   "metadata": {},
   "outputs": [
    {
     "data": {
      "text/plain": [
       "15"
      ]
     },
     "execution_count": 120,
     "metadata": {},
     "output_type": "execute_result"
    }
   ],
   "source": [
    "a+5"
   ]
  },
  {
   "cell_type": "code",
   "execution_count": 121,
   "id": "c9102663-4594-43d2-8ebc-c972b368cf52",
   "metadata": {},
   "outputs": [
    {
     "data": {
      "text/plain": [
       "15"
      ]
     },
     "execution_count": 121,
     "metadata": {},
     "output_type": "execute_result"
    }
   ],
   "source": [
    "#By magic method/function\n",
    "\n",
    "a.__add__(5)"
   ]
  },
  {
   "cell_type": "code",
   "execution_count": 131,
   "id": "c1020b05-ab6a-43d9-9c6c-f6bbb546a318",
   "metadata": {},
   "outputs": [],
   "source": [
    "class pwskills:\n",
    "    # def __new__(cls):\n",
    "    #     print(\"this is magic function it print first\")\n",
    "    def __init__(self):\n",
    "        print(\"this is my init\")\n",
    "        self.mobile_no=234556666;"
   ]
  },
  {
   "cell_type": "code",
   "execution_count": 132,
   "id": "aeb701c6-fc8f-47b7-9e6a-6b8fbcb75845",
   "metadata": {},
   "outputs": [
    {
     "name": "stdout",
     "output_type": "stream",
     "text": [
      "this is my init\n"
     ]
    }
   ],
   "source": [
    "pw = pwskills()"
   ]
  },
  {
   "cell_type": "code",
   "execution_count": 133,
   "id": "3852df83-567a-407c-ae6d-65cf2c7b64bb",
   "metadata": {},
   "outputs": [
    {
     "data": {
      "text/plain": [
       "234556666"
      ]
     },
     "execution_count": 133,
     "metadata": {},
     "output_type": "execute_result"
    }
   ],
   "source": [
    "pw.mobile_no"
   ]
  },
  {
   "cell_type": "code",
   "execution_count": 138,
   "id": "42008535-0d13-4fc1-9c8a-22c100dfbe81",
   "metadata": {},
   "outputs": [],
   "source": [
    "class pwskills:\n",
    "    \n",
    "    def __init__(self):\n",
    "\n",
    "        self.mobile_no=234556666;\n",
    "        \n",
    "    def __str__(self):\n",
    "        return \"it is magic function and it print the string\""
   ]
  },
  {
   "cell_type": "code",
   "execution_count": 139,
   "id": "f6a64966-a76f-4088-a96c-51e0c571111d",
   "metadata": {},
   "outputs": [],
   "source": [
    "pw = pwskills()"
   ]
  },
  {
   "cell_type": "code",
   "execution_count": 140,
   "id": "b784add6-d1ca-453f-82c6-e8dfab2f6a7d",
   "metadata": {},
   "outputs": [
    {
     "data": {
      "text/plain": [
       "<__main__.pwskills at 0x7fcbf413b550>"
      ]
     },
     "execution_count": 140,
     "metadata": {},
     "output_type": "execute_result"
    }
   ],
   "source": [
    "pw"
   ]
  },
  {
   "cell_type": "code",
   "execution_count": 141,
   "id": "7c9439eb-5407-453c-b97d-b4c850dd8880",
   "metadata": {},
   "outputs": [
    {
     "name": "stdout",
     "output_type": "stream",
     "text": [
      "it is magic function and it print the string\n"
     ]
    }
   ],
   "source": [
    "print(pw)"
   ]
  },
  {
   "cell_type": "markdown",
   "id": "01a95eef-a373-4058-85c4-d731667831d7",
   "metadata": {},
   "source": [
    "# Property Decorator"
   ]
  },
  {
   "cell_type": "code",
   "execution_count": 142,
   "id": "983dc135-cd46-4562-8cf1-7aedc49cfbf6",
   "metadata": {},
   "outputs": [],
   "source": [
    "class pwskills:\n",
    "    def __init__(self, price , name):\n",
    "        self.__price = price\n",
    "        self.name= name"
   ]
  },
  {
   "cell_type": "code",
   "execution_count": 144,
   "id": "a4222894-96d6-41b0-83d3-50f147321311",
   "metadata": {},
   "outputs": [],
   "source": [
    "pw = pwskills(3000,\"DSA\")"
   ]
  },
  {
   "cell_type": "code",
   "execution_count": 147,
   "id": "4a503ef1-aa0b-4432-a4b0-51fe6ba6c210",
   "metadata": {},
   "outputs": [
    {
     "data": {
      "text/plain": [
       "3000"
      ]
     },
     "execution_count": 147,
     "metadata": {},
     "output_type": "execute_result"
    }
   ],
   "source": [
    "pw._pwskills__price        #it is protected"
   ]
  },
  {
   "cell_type": "code",
   "execution_count": 148,
   "id": "fe0461f0-1227-47cc-9a01-0f29b479b42a",
   "metadata": {},
   "outputs": [
    {
     "data": {
      "text/plain": [
       "'DSA'"
      ]
     },
     "execution_count": 148,
     "metadata": {},
     "output_type": "execute_result"
    }
   ],
   "source": [
    "pw.name"
   ]
  },
  {
   "cell_type": "code",
   "execution_count": 163,
   "id": "5a7dfe85-d7eb-4336-9589-4bc3f02f5ad7",
   "metadata": {},
   "outputs": [],
   "source": [
    "class pwskills:\n",
    "    def __init__(self, price , name):\n",
    "        self.__price = price\n",
    "        self.name= name\n",
    "        \n",
    "    @property\n",
    "    def price_access(self):\n",
    "        return self.__price\n",
    "    \n",
    "    @price_access.setter\n",
    "    def course_price_set(self,price):\n",
    "        if price<=3500:\n",
    "            pass\n",
    "        else:\n",
    "            self.__course_price=price\n",
    "    "
   ]
  },
  {
   "cell_type": "code",
   "execution_count": 159,
   "id": "f01f4dd2-21f3-4ce7-8610-1f24c84423d4",
   "metadata": {},
   "outputs": [],
   "source": [
    "pw = pwskills(3000,\"DSA\")"
   ]
  },
  {
   "cell_type": "code",
   "execution_count": 160,
   "id": "3184615c-e516-42fa-97d7-b75ca87d2ba7",
   "metadata": {},
   "outputs": [
    {
     "data": {
      "text/plain": [
       "3000"
      ]
     },
     "execution_count": 160,
     "metadata": {},
     "output_type": "execute_result"
    }
   ],
   "source": [
    "pw.price_access"
   ]
  },
  {
   "cell_type": "code",
   "execution_count": 190,
   "id": "024eaa04-aed2-42c7-a086-2be2427f5d4b",
   "metadata": {},
   "outputs": [],
   "source": [
    "class pwskills:\n",
    "    def __init__(self, course_price , course_name):\n",
    "        self.__course_price =course_price\n",
    "        self.course_name= course_name\n",
    "        \n",
    "    @property\n",
    "    def course_price_access(self):\n",
    "        return self.__course_price\n",
    "    \n",
    "    @course_price_access.setter\n",
    "    def course_price_set(self,price):\n",
    "        if price<=3500:\n",
    "            pass\n",
    "        else:\n",
    "            self.__course_price=price\n",
    "    "
   ]
  },
  {
   "cell_type": "code",
   "execution_count": 191,
   "id": "669d45b3-564e-460d-8577-22c85685f734",
   "metadata": {},
   "outputs": [],
   "source": [
    "pw = pwskills(3000,\"DSA\")"
   ]
  },
  {
   "cell_type": "code",
   "execution_count": 193,
   "id": "bb9202b9-4f0c-4b8a-ade9-bb1b98425553",
   "metadata": {},
   "outputs": [
    {
     "data": {
      "text/plain": [
       "3000"
      ]
     },
     "execution_count": 193,
     "metadata": {},
     "output_type": "execute_result"
    }
   ],
   "source": [
    "pw.course_price_access"
   ]
  },
  {
   "cell_type": "code",
   "execution_count": 194,
   "id": "c132d3fd-fa35-4431-9fb3-87cd3d97d128",
   "metadata": {},
   "outputs": [],
   "source": [
    "pw.course_price_set=4500"
   ]
  },
  {
   "cell_type": "code",
   "execution_count": 196,
   "id": "1b4391dd-3407-4ae9-a86d-e41087f821a3",
   "metadata": {},
   "outputs": [
    {
     "data": {
      "text/plain": [
       "4500"
      ]
     },
     "execution_count": 196,
     "metadata": {},
     "output_type": "execute_result"
    }
   ],
   "source": [
    "pw.course_price_access"
   ]
  },
  {
   "cell_type": "code",
   "execution_count": 197,
   "id": "1c16852b-e68b-4ada-97a7-cbceb29571f3",
   "metadata": {},
   "outputs": [],
   "source": [
    "class pwskills:\n",
    "    def __init__(self, course_price , course_name):\n",
    "        self.__course_price =course_price\n",
    "        self.course_name= course_name\n",
    "        \n",
    "    @property\n",
    "    def course_price_access(self):\n",
    "        return self.__course_price\n",
    "    \n",
    "    @course_price_access.setter\n",
    "    def course_price_set(self,price):\n",
    "        if price<=3500:\n",
    "            pass\n",
    "        else:\n",
    "            self.__course_price=price\n",
    "            \n",
    "    @course_price_access.deleter\n",
    "    def delete_course_price(self):\n",
    "        del self.__course_price\n",
    "    "
   ]
  },
  {
   "cell_type": "code",
   "execution_count": 198,
   "id": "e1d0e410-0b26-43c4-897f-2198f8a3164d",
   "metadata": {},
   "outputs": [],
   "source": [
    "pw = pwskills(3000,\"DSA\")"
   ]
  },
  {
   "cell_type": "code",
   "execution_count": 200,
   "id": "a473b6e8-1d15-4a8b-97ce-dd4fc5095bd6",
   "metadata": {},
   "outputs": [],
   "source": [
    "del pw.delete_course_price"
   ]
  },
  {
   "cell_type": "code",
   "execution_count": 202,
   "id": "1e76afd6-c680-43a1-992a-cbca15252be3",
   "metadata": {},
   "outputs": [
    {
     "ename": "AttributeError",
     "evalue": "'pwskills' object has no attribute '_pwskills__course_price'",
     "output_type": "error",
     "traceback": [
      "\u001b[0;31m---------------------------------------------------------------------------\u001b[0m",
      "\u001b[0;31mAttributeError\u001b[0m                            Traceback (most recent call last)",
      "Cell \u001b[0;32mIn[202], line 1\u001b[0m\n\u001b[0;32m----> 1\u001b[0m \u001b[43mpw\u001b[49m\u001b[38;5;241;43m.\u001b[39;49m\u001b[43mcourse_price_access\u001b[49m\n",
      "Cell \u001b[0;32mIn[197], line 8\u001b[0m, in \u001b[0;36mpwskills.course_price_access\u001b[0;34m(self)\u001b[0m\n\u001b[1;32m      6\u001b[0m \u001b[38;5;129m@property\u001b[39m\n\u001b[1;32m      7\u001b[0m \u001b[38;5;28;01mdef\u001b[39;00m \u001b[38;5;21mcourse_price_access\u001b[39m(\u001b[38;5;28mself\u001b[39m):\n\u001b[0;32m----> 8\u001b[0m     \u001b[38;5;28;01mreturn\u001b[39;00m \u001b[38;5;28;43mself\u001b[39;49m\u001b[38;5;241;43m.\u001b[39;49m\u001b[43m__course_price\u001b[49m\n",
      "\u001b[0;31mAttributeError\u001b[0m: 'pwskills' object has no attribute '_pwskills__course_price'"
     ]
    }
   ],
   "source": [
    "pw.course_price_access"
   ]
  },
  {
   "cell_type": "code",
   "execution_count": null,
   "id": "044722f4-0ec9-4f52-a320-d229c2eb6ad7",
   "metadata": {},
   "outputs": [],
   "source": []
  }
 ],
 "metadata": {
  "kernelspec": {
   "display_name": "Python 3 (ipykernel)",
   "language": "python",
   "name": "python3"
  },
  "language_info": {
   "codemirror_mode": {
    "name": "ipython",
    "version": 3
   },
   "file_extension": ".py",
   "mimetype": "text/x-python",
   "name": "python",
   "nbconvert_exporter": "python",
   "pygments_lexer": "ipython3",
   "version": "3.10.8"
  }
 },
 "nbformat": 4,
 "nbformat_minor": 5
}
